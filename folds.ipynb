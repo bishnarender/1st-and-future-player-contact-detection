{
 "cells": [
  {
   "cell_type": "code",
   "execution_count": 1,
   "id": "8e7585c0",
   "metadata": {},
   "outputs": [],
   "source": [
    "import os, cv2\n",
    "from tqdm import tqdm \n",
    "import pandas as pd \n",
    "from sklearn.model_selection import GroupKFold\n",
    "import numpy as np \n"
   ]
  },
  {
   "cell_type": "markdown",
   "id": "4b82b2df",
   "metadata": {},
   "source": [
    "## Functions"
   ]
  },
  {
   "cell_type": "code",
   "execution_count": null,
   "id": "e644838b",
   "metadata": {},
   "outputs": [],
   "source": []
  },
  {
   "cell_type": "code",
   "execution_count": null,
   "id": "d64e7d49",
   "metadata": {},
   "outputs": [],
   "source": []
  },
  {
   "cell_type": "code",
   "execution_count": 2,
   "id": "78e9caa5",
   "metadata": {},
   "outputs": [],
   "source": [
    "def compute_distance(df_l, tr_tracking, merge_col=\"datetime\", use_cols=[\"x_position\", \"y_position\"]):\n",
    "    \"\"\"\n",
    "    Merges tracking data on player1 and 2 and computes the distance.\n",
    "    \"\"\"\n",
    "    # df_l.columns => ['contact_id', 'game_play', 'datetime', 'step', 'nfl_player_id_1','nfl_player_id_2', 'contact']\n",
    "    # tr_tracking.columns =>\n",
    "    # ['game_play', 'game_key', 'play_id', 'nfl_player_id', 'datetime', 'step','team', 'position', 'jersey_number',\n",
    "    # 'x_position', 'y_position','speed', 'distance', 'direction', 'orientation', 'acceleration', 'sa']\n",
    "    # use_cols => \n",
    "    # ['x_position', 'y_position', 'speed', 'distance', 'direction', 'orientation', 'acceleration', 'sa']\n",
    "    \n",
    "    df_combo = df_l.astype({\"nfl_player_id_1\": \"str\"}).merge(\n",
    "            tr_tracking.astype({\"nfl_player_id\": \"str\"})[[\"game_play\", merge_col, \"nfl_player_id\",] + use_cols],\n",
    "            left_on=[\"game_play\", merge_col, \"nfl_player_id_1\"],# left dataframe columns\n",
    "            right_on=[\"game_play\", merge_col, \"nfl_player_id\"],# right dataframe columns\n",
    "            how=\"left\",\n",
    "        ).rename(columns={c: c+\"_1\" for c in use_cols}).drop(\"nfl_player_id\", axis=1)\n",
    "        \n",
    "    # df_combo.columns => ['contact_id', 'game_play', 'datetime', 'step', 'nfl_player_id_1', 'nfl_player_id_2', 'contact', \n",
    "    # 'x_position_1', 'y_position_1', 'speed_1', 'distance_1', 'direction_1', 'orientation_1', 'acceleration_1', 'sa_1']\n",
    "    \n",
    "    df_combo = df_combo.merge(\n",
    "            tr_tracking.astype({\"nfl_player_id\": \"str\"})[[\"game_play\", merge_col, \"nfl_player_id\"] +  use_cols],\n",
    "            left_on=[\"game_play\", merge_col, \"nfl_player_id_2\"],# left dataframe columns\n",
    "            right_on=[\"game_play\", merge_col, \"nfl_player_id\"],# right dataframe columns\n",
    "            how=\"left\",).drop(\"nfl_player_id\", axis=1).rename(columns={c: c+\"_2\" for c in use_cols})#.copy()\n",
    "\n",
    "    # df_combo.columns => ['contact_id', 'game_play', 'datetime', 'step', 'nfl_player_id_1', 'nfl_player_id_2', 'contact', \n",
    "    # 'x_position_1', 'y_position_1', 'speed_1', 'distance_1', 'direction_1', 'orientation_1', 'acceleration_1', 'sa_1', \n",
    "    # 'x_position_2', 'y_position_2', 'speed_2', 'distance_2', 'direction_2', 'orientation_2', 'acceleration_2', 'sa_2'] \n",
    "    \n",
    "    \n",
    "    df_combo[\"distance\"] = np.sqrt(\n",
    "        np.square(df_combo[\"x_position_1\"] - df_combo[\"x_position_2\"])\n",
    "        + np.square(df_combo[\"y_position_1\"] - df_combo[\"y_position_2\"])\n",
    "    )\n",
    "    return df_combo"
   ]
  },
  {
   "cell_type": "code",
   "execution_count": null,
   "id": "63aaa87f",
   "metadata": {},
   "outputs": [],
   "source": []
  },
  {
   "cell_type": "code",
   "execution_count": null,
   "id": "f36113e3",
   "metadata": {},
   "outputs": [],
   "source": []
  },
  {
   "cell_type": "markdown",
   "id": "ee546149",
   "metadata": {},
   "source": [
    "## Operation"
   ]
  },
  {
   "cell_type": "code",
   "execution_count": 3,
   "id": "26413296",
   "metadata": {},
   "outputs": [
    {
     "data": {
      "text/html": [
       "<div>\n",
       "<style scoped>\n",
       "    .dataframe tbody tr th:only-of-type {\n",
       "        vertical-align: middle;\n",
       "    }\n",
       "\n",
       "    .dataframe tbody tr th {\n",
       "        vertical-align: top;\n",
       "    }\n",
       "\n",
       "    .dataframe thead th {\n",
       "        text-align: right;\n",
       "    }\n",
       "</style>\n",
       "<table border=\"1\" class=\"dataframe\">\n",
       "  <thead>\n",
       "    <tr style=\"text-align: right;\">\n",
       "      <th></th>\n",
       "      <th>contact_id</th>\n",
       "      <th>game_play</th>\n",
       "      <th>datetime</th>\n",
       "      <th>step</th>\n",
       "      <th>nfl_player_id_1</th>\n",
       "      <th>nfl_player_id_2</th>\n",
       "      <th>contact</th>\n",
       "    </tr>\n",
       "  </thead>\n",
       "  <tbody>\n",
       "    <tr>\n",
       "      <th>0</th>\n",
       "      <td>58168_003392_0_38590_43854</td>\n",
       "      <td>58168_003392</td>\n",
       "      <td>2020-09-11T03:01:48.100Z</td>\n",
       "      <td>0</td>\n",
       "      <td>38590</td>\n",
       "      <td>43854</td>\n",
       "      <td>0</td>\n",
       "    </tr>\n",
       "    <tr>\n",
       "      <th>1</th>\n",
       "      <td>58168_003392_0_38590_41257</td>\n",
       "      <td>58168_003392</td>\n",
       "      <td>2020-09-11T03:01:48.100Z</td>\n",
       "      <td>0</td>\n",
       "      <td>38590</td>\n",
       "      <td>41257</td>\n",
       "      <td>0</td>\n",
       "    </tr>\n",
       "    <tr>\n",
       "      <th>2</th>\n",
       "      <td>58168_003392_0_38590_41944</td>\n",
       "      <td>58168_003392</td>\n",
       "      <td>2020-09-11T03:01:48.100Z</td>\n",
       "      <td>0</td>\n",
       "      <td>38590</td>\n",
       "      <td>41944</td>\n",
       "      <td>0</td>\n",
       "    </tr>\n",
       "  </tbody>\n",
       "</table>\n",
       "</div>"
      ],
      "text/plain": [
       "                   contact_id     game_play                  datetime  step  \\\n",
       "0  58168_003392_0_38590_43854  58168_003392  2020-09-11T03:01:48.100Z     0   \n",
       "1  58168_003392_0_38590_41257  58168_003392  2020-09-11T03:01:48.100Z     0   \n",
       "2  58168_003392_0_38590_41944  58168_003392  2020-09-11T03:01:48.100Z     0   \n",
       "\n",
       "   nfl_player_id_1 nfl_player_id_2  contact  \n",
       "0            38590           43854        0  \n",
       "1            38590           41257        0  \n",
       "2            38590           41944        0  "
      ]
     },
     "execution_count": 3,
     "metadata": {},
     "output_type": "execute_result"
    }
   ],
   "source": [
    "df_l = pd.read_csv('data/train_labels.csv')\n",
    "df_l.head(3)"
   ]
  },
  {
   "cell_type": "code",
   "execution_count": 6,
   "id": "c83bfb8a",
   "metadata": {},
   "outputs": [
    {
     "data": {
      "text/html": [
       "<div>\n",
       "<style scoped>\n",
       "    .dataframe tbody tr th:only-of-type {\n",
       "        vertical-align: middle;\n",
       "    }\n",
       "\n",
       "    .dataframe tbody tr th {\n",
       "        vertical-align: top;\n",
       "    }\n",
       "\n",
       "    .dataframe thead th {\n",
       "        text-align: right;\n",
       "    }\n",
       "</style>\n",
       "<table border=\"1\" class=\"dataframe\">\n",
       "  <thead>\n",
       "    <tr style=\"text-align: right;\">\n",
       "      <th></th>\n",
       "      <th>contact_id</th>\n",
       "      <th>game_play</th>\n",
       "      <th>datetime</th>\n",
       "      <th>step</th>\n",
       "      <th>nfl_player_id_1</th>\n",
       "      <th>nfl_player_id_2</th>\n",
       "      <th>contact</th>\n",
       "    </tr>\n",
       "  </thead>\n",
       "  <tbody>\n",
       "  </tbody>\n",
       "</table>\n",
       "</div>"
      ],
      "text/plain": [
       "Empty DataFrame\n",
       "Columns: [contact_id, game_play, datetime, step, nfl_player_id_1, nfl_player_id_2, contact]\n",
       "Index: []"
      ]
     },
     "execution_count": 6,
     "metadata": {},
     "output_type": "execute_result"
    }
   ],
   "source": [
    "df_l[df_l.step==-172].head()"
   ]
  },
  {
   "cell_type": "code",
   "execution_count": 7,
   "id": "e5fe002e",
   "metadata": {},
   "outputs": [
    {
     "data": {
      "text/html": [
       "<div>\n",
       "<style scoped>\n",
       "    .dataframe tbody tr th:only-of-type {\n",
       "        vertical-align: middle;\n",
       "    }\n",
       "\n",
       "    .dataframe tbody tr th {\n",
       "        vertical-align: top;\n",
       "    }\n",
       "\n",
       "    .dataframe thead th {\n",
       "        text-align: right;\n",
       "    }\n",
       "</style>\n",
       "<table border=\"1\" class=\"dataframe\">\n",
       "  <thead>\n",
       "    <tr style=\"text-align: right;\">\n",
       "      <th></th>\n",
       "      <th>contact_id</th>\n",
       "      <th>game_play</th>\n",
       "      <th>datetime</th>\n",
       "      <th>step</th>\n",
       "      <th>nfl_player_id_1</th>\n",
       "      <th>nfl_player_id_2</th>\n",
       "      <th>contact</th>\n",
       "    </tr>\n",
       "  </thead>\n",
       "  <tbody>\n",
       "    <tr>\n",
       "      <th>0</th>\n",
       "      <td>58168_003392_0_38590_43854</td>\n",
       "      <td>58168_003392</td>\n",
       "      <td>2020-09-11T03:01:48.100Z</td>\n",
       "      <td>0</td>\n",
       "      <td>38590</td>\n",
       "      <td>43854</td>\n",
       "      <td>0</td>\n",
       "    </tr>\n",
       "    <tr>\n",
       "      <th>1</th>\n",
       "      <td>58168_003392_0_38590_41257</td>\n",
       "      <td>58168_003392</td>\n",
       "      <td>2020-09-11T03:01:48.100Z</td>\n",
       "      <td>0</td>\n",
       "      <td>38590</td>\n",
       "      <td>41257</td>\n",
       "      <td>0</td>\n",
       "    </tr>\n",
       "    <tr>\n",
       "      <th>2</th>\n",
       "      <td>58168_003392_0_38590_41944</td>\n",
       "      <td>58168_003392</td>\n",
       "      <td>2020-09-11T03:01:48.100Z</td>\n",
       "      <td>0</td>\n",
       "      <td>38590</td>\n",
       "      <td>41944</td>\n",
       "      <td>0</td>\n",
       "    </tr>\n",
       "    <tr>\n",
       "      <th>3</th>\n",
       "      <td>58168_003392_0_38590_42386</td>\n",
       "      <td>58168_003392</td>\n",
       "      <td>2020-09-11T03:01:48.100Z</td>\n",
       "      <td>0</td>\n",
       "      <td>38590</td>\n",
       "      <td>42386</td>\n",
       "      <td>0</td>\n",
       "    </tr>\n",
       "    <tr>\n",
       "      <th>4</th>\n",
       "      <td>58168_003392_0_38590_47944</td>\n",
       "      <td>58168_003392</td>\n",
       "      <td>2020-09-11T03:01:48.100Z</td>\n",
       "      <td>0</td>\n",
       "      <td>38590</td>\n",
       "      <td>47944</td>\n",
       "      <td>0</td>\n",
       "    </tr>\n",
       "  </tbody>\n",
       "</table>\n",
       "</div>"
      ],
      "text/plain": [
       "                   contact_id     game_play                  datetime  step  \\\n",
       "0  58168_003392_0_38590_43854  58168_003392  2020-09-11T03:01:48.100Z     0   \n",
       "1  58168_003392_0_38590_41257  58168_003392  2020-09-11T03:01:48.100Z     0   \n",
       "2  58168_003392_0_38590_41944  58168_003392  2020-09-11T03:01:48.100Z     0   \n",
       "3  58168_003392_0_38590_42386  58168_003392  2020-09-11T03:01:48.100Z     0   \n",
       "4  58168_003392_0_38590_47944  58168_003392  2020-09-11T03:01:48.100Z     0   \n",
       "\n",
       "   nfl_player_id_1 nfl_player_id_2  contact  \n",
       "0            38590           43854        0  \n",
       "1            38590           41257        0  \n",
       "2            38590           41944        0  \n",
       "3            38590           42386        0  \n",
       "4            38590           47944        0  "
      ]
     },
     "execution_count": 7,
     "metadata": {},
     "output_type": "execute_result"
    }
   ],
   "source": [
    "df_l[df_l.step==0].head()"
   ]
  },
  {
   "cell_type": "code",
   "execution_count": 8,
   "id": "f5320526",
   "metadata": {},
   "outputs": [
    {
     "data": {
      "text/html": [
       "<div>\n",
       "<style scoped>\n",
       "    .dataframe tbody tr th:only-of-type {\n",
       "        vertical-align: middle;\n",
       "    }\n",
       "\n",
       "    .dataframe tbody tr th {\n",
       "        vertical-align: top;\n",
       "    }\n",
       "\n",
       "    .dataframe thead th {\n",
       "        text-align: right;\n",
       "    }\n",
       "</style>\n",
       "<table border=\"1\" class=\"dataframe\">\n",
       "  <thead>\n",
       "    <tr style=\"text-align: right;\">\n",
       "      <th></th>\n",
       "      <th>game_play</th>\n",
       "      <th>game_key</th>\n",
       "      <th>play_id</th>\n",
       "      <th>nfl_player_id</th>\n",
       "      <th>datetime</th>\n",
       "      <th>step</th>\n",
       "      <th>team</th>\n",
       "      <th>position</th>\n",
       "      <th>jersey_number</th>\n",
       "      <th>x_position</th>\n",
       "      <th>y_position</th>\n",
       "      <th>speed</th>\n",
       "      <th>distance</th>\n",
       "      <th>direction</th>\n",
       "      <th>orientation</th>\n",
       "      <th>acceleration</th>\n",
       "      <th>sa</th>\n",
       "    </tr>\n",
       "  </thead>\n",
       "  <tbody>\n",
       "    <tr>\n",
       "      <th>0</th>\n",
       "      <td>58580_001136</td>\n",
       "      <td>58580</td>\n",
       "      <td>1136</td>\n",
       "      <td>44830</td>\n",
       "      <td>2021-10-10T21:08:20.900Z</td>\n",
       "      <td>-108</td>\n",
       "      <td>away</td>\n",
       "      <td>CB</td>\n",
       "      <td>22</td>\n",
       "      <td>61.59</td>\n",
       "      <td>42.60</td>\n",
       "      <td>1.11</td>\n",
       "      <td>0.11</td>\n",
       "      <td>320.33</td>\n",
       "      <td>263.93</td>\n",
       "      <td>0.71</td>\n",
       "      <td>-0.64</td>\n",
       "    </tr>\n",
       "    <tr>\n",
       "      <th>1</th>\n",
       "      <td>58580_001136</td>\n",
       "      <td>58580</td>\n",
       "      <td>1136</td>\n",
       "      <td>47800</td>\n",
       "      <td>2021-10-10T21:08:20.900Z</td>\n",
       "      <td>-108</td>\n",
       "      <td>away</td>\n",
       "      <td>DE</td>\n",
       "      <td>97</td>\n",
       "      <td>59.48</td>\n",
       "      <td>26.81</td>\n",
       "      <td>0.23</td>\n",
       "      <td>0.01</td>\n",
       "      <td>346.84</td>\n",
       "      <td>247.16</td>\n",
       "      <td>1.29</td>\n",
       "      <td>0.90</td>\n",
       "    </tr>\n",
       "    <tr>\n",
       "      <th>2</th>\n",
       "      <td>58580_001136</td>\n",
       "      <td>58580</td>\n",
       "      <td>1136</td>\n",
       "      <td>52444</td>\n",
       "      <td>2021-10-10T21:08:20.900Z</td>\n",
       "      <td>-108</td>\n",
       "      <td>away</td>\n",
       "      <td>FS</td>\n",
       "      <td>29</td>\n",
       "      <td>72.19</td>\n",
       "      <td>31.46</td>\n",
       "      <td>0.61</td>\n",
       "      <td>0.06</td>\n",
       "      <td>11.77</td>\n",
       "      <td>247.69</td>\n",
       "      <td>0.63</td>\n",
       "      <td>-0.33</td>\n",
       "    </tr>\n",
       "  </tbody>\n",
       "</table>\n",
       "</div>"
      ],
      "text/plain": [
       "      game_play  game_key  play_id  nfl_player_id                  datetime  \\\n",
       "0  58580_001136     58580     1136          44830  2021-10-10T21:08:20.900Z   \n",
       "1  58580_001136     58580     1136          47800  2021-10-10T21:08:20.900Z   \n",
       "2  58580_001136     58580     1136          52444  2021-10-10T21:08:20.900Z   \n",
       "\n",
       "   step  team position  jersey_number  x_position  y_position  speed  \\\n",
       "0  -108  away       CB             22       61.59       42.60   1.11   \n",
       "1  -108  away       DE             97       59.48       26.81   0.23   \n",
       "2  -108  away       FS             29       72.19       31.46   0.61   \n",
       "\n",
       "   distance  direction  orientation  acceleration    sa  \n",
       "0      0.11     320.33       263.93          0.71 -0.64  \n",
       "1      0.01     346.84       247.16          1.29  0.90  \n",
       "2      0.06      11.77       247.69          0.63 -0.33  "
      ]
     },
     "execution_count": 8,
     "metadata": {},
     "output_type": "execute_result"
    }
   ],
   "source": [
    "tr_tracking = pd.read_csv(\"data/train_player_tracking.csv\")\n",
    "tr_tracking.head(3)"
   ]
  },
  {
   "cell_type": "code",
   "execution_count": null,
   "id": "e9b8d904",
   "metadata": {},
   "outputs": [],
   "source": []
  },
  {
   "cell_type": "code",
   "execution_count": 9,
   "id": "3bbb5001",
   "metadata": {},
   "outputs": [],
   "source": [
    "use_cols = ['x_position', 'y_position', 'speed', 'distance', 'direction', 'orientation', 'acceleration', 'sa']\n",
    "df_l = compute_distance(df_l, tr_tracking, use_cols=use_cols)"
   ]
  },
  {
   "cell_type": "code",
   "execution_count": 10,
   "id": "ade3f7df",
   "metadata": {},
   "outputs": [],
   "source": [
    "df_m = pd.read_csv('data/train_video_metadata.csv')\n",
    "df_m = df_m[df_m['view']=='Endzone'][['game_play', 'start_time']]"
   ]
  },
  {
   "cell_type": "code",
   "execution_count": 11,
   "id": "63a3c9e6",
   "metadata": {},
   "outputs": [],
   "source": [
    "df_l = df_l.merge(df_m, on=['game_play'])\n",
    "df_l['datetime'] = pd.to_datetime(df_l[\"datetime\"], utc=True)\n",
    "df_l['start_time'] = pd.to_datetime(df_l[\"start_time\"], utc=True)\n",
    "    # df_l['datetime'][0] => Timestamp('2020-09-11 03:01:48.100000+0000', tz='UTC')\n",
    "    # df_l['datetime'][0].value => 1599793308100000000\n",
    "    # df_l['start_time'][0] => Timestamp('2020-09-11 03:01:43.134000+0000', tz='UTC')\n",
    "    # pd.to_timedelta(50, \"ms\") => Timedelta('0 days 00:00:00.050000')\n",
    "    # df_l['datetime'][0] - df_l['start_time'][0] => Timedelta('0 days 00:00:04.966000')\n",
    "    # df_l['datetime'][0] - df_l['start_time'][0] - pd.to_timedelta(50, \"ms\") => Timedelta('0 days 00:00:04.916000')    \n",
    "    # (df_l['datetime'][0] - df_l['start_time'][0] - pd.to_timedelta(50, \"ms\"))*59.94/1000 => Timedelta('0 days 00:00:00.294665040')"
   ]
  },
  {
   "cell_type": "code",
   "execution_count": 45,
   "id": "1f45f2a7",
   "metadata": {},
   "outputs": [
    {
     "data": {
      "text/plain": [
       "0   2020-09-11 03:01:48.100000+00:00\n",
       "1   2020-09-11 03:01:48.100000+00:00\n",
       "Name: datetime, dtype: datetime64[ns, UTC]"
      ]
     },
     "execution_count": 45,
     "metadata": {},
     "output_type": "execute_result"
    }
   ],
   "source": [
    "df_l['datetime'][0:2]"
   ]
  },
  {
   "cell_type": "code",
   "execution_count": 12,
   "id": "6bc3177e",
   "metadata": {},
   "outputs": [],
   "source": [
    "# ['frame']: frame at the contact.\n",
    "# ['frame'] => \"contact time\" -  \"video start time\"- \"3 frames\"\n",
    "# adding 3 frames to \"video start time\" as these frames are 2 or 3 frames more than frames present in \"train_baseline_helmets.csv\".\n",
    "df_l['frame'] = (df_l['datetime'] - df_l['start_time'] - pd.to_timedelta(50, \"ms\")).astype('timedelta64[ms]')*59.94/1000\n",
    "    # .astype('timedelta64[ms]') => convert to ms\n",
    "    # .astype('timedelta64[ms]')/1000 => ms/1000 => convert to sec\n",
    "    # sec * 59.94 (59.94 frames per second, standard frame rate) => 294.66 frames\n",
    "    # \"59.94/1000 = 0.0594 frames per ms\" => frames in 50ms = 50*0.0594 = 3 frames"
   ]
  },
  {
   "cell_type": "code",
   "execution_count": 13,
   "id": "a27f3dcb",
   "metadata": {},
   "outputs": [
    {
     "data": {
      "text/html": [
       "<div>\n",
       "<style scoped>\n",
       "    .dataframe tbody tr th:only-of-type {\n",
       "        vertical-align: middle;\n",
       "    }\n",
       "\n",
       "    .dataframe tbody tr th {\n",
       "        vertical-align: top;\n",
       "    }\n",
       "\n",
       "    .dataframe thead th {\n",
       "        text-align: right;\n",
       "    }\n",
       "</style>\n",
       "<table border=\"1\" class=\"dataframe\">\n",
       "  <thead>\n",
       "    <tr style=\"text-align: right;\">\n",
       "      <th></th>\n",
       "      <th>contact_id</th>\n",
       "      <th>game_play</th>\n",
       "      <th>datetime</th>\n",
       "      <th>step</th>\n",
       "      <th>nfl_player_id_1</th>\n",
       "      <th>nfl_player_id_2</th>\n",
       "      <th>contact</th>\n",
       "      <th>x_position_1</th>\n",
       "      <th>y_position_1</th>\n",
       "      <th>speed_1</th>\n",
       "      <th>...</th>\n",
       "      <th>y_position_2</th>\n",
       "      <th>speed_2</th>\n",
       "      <th>distance_2</th>\n",
       "      <th>direction_2</th>\n",
       "      <th>orientation_2</th>\n",
       "      <th>acceleration_2</th>\n",
       "      <th>sa_2</th>\n",
       "      <th>distance</th>\n",
       "      <th>start_time</th>\n",
       "      <th>frame</th>\n",
       "    </tr>\n",
       "  </thead>\n",
       "  <tbody>\n",
       "    <tr>\n",
       "      <th>0</th>\n",
       "      <td>58168_003392_0_38590_43854</td>\n",
       "      <td>58168_003392</td>\n",
       "      <td>2020-09-11 03:01:48.100000+00:00</td>\n",
       "      <td>0</td>\n",
       "      <td>38590</td>\n",
       "      <td>43854</td>\n",
       "      <td>0</td>\n",
       "      <td>40.33</td>\n",
       "      <td>25.28</td>\n",
       "      <td>0.52</td>\n",
       "      <td>...</td>\n",
       "      <td>16.79</td>\n",
       "      <td>0.74</td>\n",
       "      <td>0.06</td>\n",
       "      <td>263.92</td>\n",
       "      <td>294.74</td>\n",
       "      <td>1.74</td>\n",
       "      <td>1.74</td>\n",
       "      <td>8.650763</td>\n",
       "      <td>2020-09-11 03:01:43.134000+00:00</td>\n",
       "      <td>294.66504</td>\n",
       "    </tr>\n",
       "    <tr>\n",
       "      <th>1</th>\n",
       "      <td>58168_003392_0_38590_41257</td>\n",
       "      <td>58168_003392</td>\n",
       "      <td>2020-09-11 03:01:48.100000+00:00</td>\n",
       "      <td>0</td>\n",
       "      <td>38590</td>\n",
       "      <td>41257</td>\n",
       "      <td>0</td>\n",
       "      <td>40.33</td>\n",
       "      <td>25.28</td>\n",
       "      <td>0.52</td>\n",
       "      <td>...</td>\n",
       "      <td>15.59</td>\n",
       "      <td>0.67</td>\n",
       "      <td>0.07</td>\n",
       "      <td>180.38</td>\n",
       "      <td>270.88</td>\n",
       "      <td>0.34</td>\n",
       "      <td>0.08</td>\n",
       "      <td>11.112592</td>\n",
       "      <td>2020-09-11 03:01:43.134000+00:00</td>\n",
       "      <td>294.66504</td>\n",
       "    </tr>\n",
       "    <tr>\n",
       "      <th>2</th>\n",
       "      <td>58168_003392_0_38590_41944</td>\n",
       "      <td>58168_003392</td>\n",
       "      <td>2020-09-11 03:01:48.100000+00:00</td>\n",
       "      <td>0</td>\n",
       "      <td>38590</td>\n",
       "      <td>41944</td>\n",
       "      <td>0</td>\n",
       "      <td>40.33</td>\n",
       "      <td>25.28</td>\n",
       "      <td>0.52</td>\n",
       "      <td>...</td>\n",
       "      <td>22.85</td>\n",
       "      <td>0.68</td>\n",
       "      <td>0.08</td>\n",
       "      <td>234.17</td>\n",
       "      <td>282.07</td>\n",
       "      <td>0.81</td>\n",
       "      <td>0.81</td>\n",
       "      <td>2.948525</td>\n",
       "      <td>2020-09-11 03:01:43.134000+00:00</td>\n",
       "      <td>294.66504</td>\n",
       "    </tr>\n",
       "  </tbody>\n",
       "</table>\n",
       "<p>3 rows × 26 columns</p>\n",
       "</div>"
      ],
      "text/plain": [
       "                   contact_id     game_play                         datetime  \\\n",
       "0  58168_003392_0_38590_43854  58168_003392 2020-09-11 03:01:48.100000+00:00   \n",
       "1  58168_003392_0_38590_41257  58168_003392 2020-09-11 03:01:48.100000+00:00   \n",
       "2  58168_003392_0_38590_41944  58168_003392 2020-09-11 03:01:48.100000+00:00   \n",
       "\n",
       "   step nfl_player_id_1 nfl_player_id_2  contact  x_position_1  y_position_1  \\\n",
       "0     0           38590           43854        0         40.33         25.28   \n",
       "1     0           38590           41257        0         40.33         25.28   \n",
       "2     0           38590           41944        0         40.33         25.28   \n",
       "\n",
       "   speed_1  ...  y_position_2  speed_2  distance_2  direction_2  \\\n",
       "0     0.52  ...         16.79     0.74        0.06       263.92   \n",
       "1     0.52  ...         15.59     0.67        0.07       180.38   \n",
       "2     0.52  ...         22.85     0.68        0.08       234.17   \n",
       "\n",
       "   orientation_2  acceleration_2  sa_2   distance  \\\n",
       "0         294.74            1.74  1.74   8.650763   \n",
       "1         270.88            0.34  0.08  11.112592   \n",
       "2         282.07            0.81  0.81   2.948525   \n",
       "\n",
       "                        start_time      frame  \n",
       "0 2020-09-11 03:01:43.134000+00:00  294.66504  \n",
       "1 2020-09-11 03:01:43.134000+00:00  294.66504  \n",
       "2 2020-09-11 03:01:43.134000+00:00  294.66504  \n",
       "\n",
       "[3 rows x 26 columns]"
      ]
     },
     "execution_count": 13,
     "metadata": {},
     "output_type": "execute_result"
    }
   ],
   "source": [
    "df_l.head(3)"
   ]
  },
  {
   "cell_type": "code",
   "execution_count": 44,
   "id": "747d67f9",
   "metadata": {},
   "outputs": [
    {
     "data": {
      "text/plain": [
       "0    294.66504\n",
       "1    294.66504\n",
       "Name: frame, dtype: float64"
      ]
     },
     "execution_count": 44,
     "metadata": {},
     "output_type": "execute_result"
    }
   ],
   "source": [
    "df_l['frame'][0:2]"
   ]
  },
  {
   "cell_type": "code",
   "execution_count": 74,
   "id": "57b3c863",
   "metadata": {},
   "outputs": [
    {
     "name": "stdout",
     "output_type": "stream",
     "text": [
      "(4721618, 27)\n"
     ]
    }
   ],
   "source": [
    "print(df_l.shape)"
   ]
  },
  {
   "cell_type": "code",
   "execution_count": 48,
   "id": "91b96fb8",
   "metadata": {},
   "outputs": [
    {
     "data": {
      "text/plain": [
       "0    58168_003392\n",
       "1    58168_003392\n",
       "Name: game_play, dtype: object"
      ]
     },
     "execution_count": 48,
     "metadata": {},
     "output_type": "execute_result"
    }
   ],
   "source": [
    "df_l['game_play'][0:2]"
   ]
  },
  {
   "cell_type": "code",
   "execution_count": 49,
   "id": "e6ada865",
   "metadata": {},
   "outputs": [],
   "source": [
    "df_l['game_key'] = df_l['game_play'].apply(lambda x: x.split('_')[0])"
   ]
  },
  {
   "cell_type": "code",
   "execution_count": null,
   "id": "1b05edf8",
   "metadata": {},
   "outputs": [],
   "source": []
  },
  {
   "cell_type": "code",
   "execution_count": 52,
   "id": "9472bfe9",
   "metadata": {},
   "outputs": [
    {
     "data": {
      "text/plain": [
       "0    58168\n",
       "1    58168\n",
       "Name: game_key, dtype: object"
      ]
     },
     "execution_count": 52,
     "metadata": {},
     "output_type": "execute_result"
    }
   ],
   "source": [
    "df_l['game_key'][0:2]"
   ]
  },
  {
   "cell_type": "code",
   "execution_count": 75,
   "id": "b60f9ec1",
   "metadata": {},
   "outputs": [],
   "source": [
    "df_l['fold'] = -1\n",
    "group_kfold = GroupKFold(n_splits=5)\n",
    "# create folds in accordance to ['game_key'] values. Many different game keys would be in same fold becuase unique game keys are >5.\n",
    "for fold_id, (train_index, val_index) in enumerate(group_kfold.split(df_l, df_l, df_l['game_key'].values)):    \n",
    "    df_l.iloc[val_index, -1] = fold_id\n",
    "        # -1; pick last column of frame.\n",
    "        # df_l.iloc[0,-1] => '58168'"
   ]
  },
  {
   "cell_type": "code",
   "execution_count": 76,
   "id": "7569b40f",
   "metadata": {},
   "outputs": [],
   "source": [
    "df_l = df_l[['contact_id', 'nfl_player_id_1',\n",
    "       'nfl_player_id_2', 'x_position_1', 'y_position_1', 'speed_1',\n",
    "       'distance_1', 'direction_1', 'orientation_1', 'acceleration_1', 'sa_1',\n",
    "       'x_position_2', 'y_position_2', 'speed_2', 'distance_2', 'direction_2',\n",
    "       'orientation_2', 'acceleration_2', 'sa_2', 'contact', 'frame', 'distance', 'fold']]"
   ]
  },
  {
   "cell_type": "code",
   "execution_count": 77,
   "id": "58be64a0",
   "metadata": {},
   "outputs": [
    {
     "name": "stdout",
     "output_type": "stream",
     "text": [
      "0    933661\n",
      "1     12053\n",
      "Name: contact, dtype: int64\n",
      "0    931485\n",
      "1     13976\n",
      "Name: contact, dtype: int64\n",
      "0    934228\n",
      "1     11365\n",
      "Name: contact, dtype: int64\n",
      "0    932929\n",
      "1     15821\n",
      "Name: contact, dtype: int64\n",
      "0    924793\n",
      "1     11307\n",
      "Name: contact, dtype: int64\n"
     ]
    }
   ],
   "source": [
    "# %.3f; float values upto 3 decimal\n",
    "df_l.to_csv('data/train_folds.csv', index=False, float_format='%.3f')\n",
    "\n",
    "for i in [0,1,2,3,4]:\n",
    "    print(df_l[df_l.fold==i].contact.value_counts())"
   ]
  },
  {
   "cell_type": "code",
   "execution_count": null,
   "id": "0d71fa78",
   "metadata": {},
   "outputs": [],
   "source": []
  }
 ],
 "metadata": {
  "kernelspec": {
   "display_name": "Python 3 (ipykernel)",
   "language": "python",
   "name": "python3"
  },
  "language_info": {
   "codemirror_mode": {
    "name": "ipython",
    "version": 3
   },
   "file_extension": ".py",
   "mimetype": "text/x-python",
   "name": "python",
   "nbconvert_exporter": "python",
   "pygments_lexer": "ipython3",
   "version": "3.7.12"
  }
 },
 "nbformat": 4,
 "nbformat_minor": 5
}
