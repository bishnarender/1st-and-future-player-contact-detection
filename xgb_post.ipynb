{
 "cells": [
  {
   "cell_type": "code",
   "execution_count": 1,
   "id": "ad2597b9",
   "metadata": {
    "execution": {
     "iopub.execute_input": "2023-03-22T12:45:20.458315Z",
     "iopub.status.busy": "2023-03-22T12:45:20.457920Z",
     "iopub.status.idle": "2023-03-22T12:45:23.468872Z",
     "shell.execute_reply": "2023-03-22T12:45:23.467643Z",
     "shell.execute_reply.started": "2023-03-22T12:45:20.458282Z"
    }
   },
   "outputs": [],
   "source": [
    "import os\n",
    "import gc\n",
    "\n",
    "\n",
    "import numpy as np\n",
    "import pandas as pd\n",
    "import cv2\n",
    "\n",
    "\n",
    "import math\n",
    "import xgboost as xgb\n",
    "import torch\n",
    "import scipy.stats as sss\n",
    "\n",
    "\n",
    "from sklearn.metrics import roc_auc_score, matthews_corrcoef\n",
    "from glob import glob\n",
    "from tqdm import tqdm\n",
    "from shutil import copyfile"
   ]
  },
  {
   "cell_type": "code",
   "execution_count": 2,
   "id": "7667f095",
   "metadata": {
    "execution": {
     "iopub.execute_input": "2023-03-22T12:45:23.471536Z",
     "iopub.status.busy": "2023-03-22T12:45:23.470728Z",
     "iopub.status.idle": "2023-03-22T12:45:23.476643Z",
     "shell.execute_reply": "2023-03-22T12:45:23.475500Z",
     "shell.execute_reply.started": "2023-03-22T12:45:23.471496Z"
    }
   },
   "outputs": [],
   "source": [
    "import random"
   ]
  },
  {
   "cell_type": "code",
   "execution_count": 3,
   "id": "4d7b3f6a",
   "metadata": {
    "execution": {
     "iopub.execute_input": "2023-03-22T12:45:23.477900Z",
     "iopub.status.busy": "2023-03-22T12:45:23.477572Z",
     "iopub.status.idle": "2023-03-22T12:45:23.487983Z",
     "shell.execute_reply": "2023-03-22T12:45:23.487055Z",
     "shell.execute_reply.started": "2023-03-22T12:45:23.477869Z"
    }
   },
   "outputs": [],
   "source": [
    "def seed_everything(random_seed):\n",
    "    random.seed(random_seed)\n",
    "    np.random.seed(random_seed)\n",
    "    torch.manual_seed(random_seed)\n",
    "    os.environ[\"PYTHONHASHSEED\"] = str(random_seed)\n",
    "#     if torch.cuda.is_available():\n",
    "    torch.cuda.manual_seed(random_seed)\n",
    "    torch.cuda.manual_seed_all(random_seed)\n",
    "    # torch.backends.cudnn.enabled = False\n",
    "    torch.backends.cudnn.benchmark = False        \n",
    "    torch.backends.cudnn.deterministic = True"
   ]
  },
  {
   "cell_type": "code",
   "execution_count": 4,
   "id": "3cbf9084",
   "metadata": {
    "execution": {
     "iopub.execute_input": "2023-03-22T12:45:23.491912Z",
     "iopub.status.busy": "2023-03-22T12:45:23.491520Z",
     "iopub.status.idle": "2023-03-22T12:45:23.500241Z",
     "shell.execute_reply": "2023-03-22T12:45:23.498883Z",
     "shell.execute_reply.started": "2023-03-22T12:45:23.491876Z"
    }
   },
   "outputs": [],
   "source": [
    "class Config:\n",
    "    NAME = \"xgb_post\"\n",
    "\n",
    "    seed = 42\n",
    "    num_fold = 5\n",
    "    \n",
    "    xgb_params = {\n",
    "        'objective': 'binary:logistic',\n",
    "        'eval_metric': 'auc',\n",
    "        'learning_rate':0.005,\n",
    "        'tree_method':'hist' if not torch.cuda.is_available() else 'gpu_hist'\n",
    "    }"
   ]
  },
  {
   "cell_type": "code",
   "execution_count": 5,
   "id": "c62fc9aa",
   "metadata": {
    "execution": {
     "iopub.execute_input": "2023-03-22T12:45:23.505666Z",
     "iopub.status.busy": "2023-03-22T12:45:23.501755Z",
     "iopub.status.idle": "2023-03-22T12:45:23.514649Z",
     "shell.execute_reply": "2023-03-22T12:45:23.513289Z",
     "shell.execute_reply.started": "2023-03-22T12:45:23.505609Z"
    }
   },
   "outputs": [],
   "source": [
    "def setup(cfg):\n",
    "    cfg.device = torch.device('cuda' if torch.cuda.is_available() else 'cpu')\n",
    "    \n",
    "    # set dirs\n",
    "    cfg.EXP = cfg.NAME\n",
    "\n",
    "    cfg.EXP_MODEL = os.path.join(cfg.EXP, 'model')\n",
    "    cfg.EXP_FIG = os.path.join(cfg.EXP, 'fig')\n",
    "    cfg.EXP_PREDS = os.path.join(cfg.EXP, 'preds')\n",
    "\n",
    "    # make dirs\n",
    "    for d in [cfg.EXP_MODEL, cfg.EXP_FIG, cfg.EXP_PREDS]:\n",
    "        os.makedirs(d, exist_ok=True)\n",
    "        \n",
    "    return cfg\n"
   ]
  },
  {
   "cell_type": "code",
   "execution_count": 6,
   "id": "254d6cc7",
   "metadata": {
    "execution": {
     "iopub.execute_input": "2023-03-22T12:45:23.519009Z",
     "iopub.status.busy": "2023-03-22T12:45:23.515994Z",
     "iopub.status.idle": "2023-03-22T12:45:23.525312Z",
     "shell.execute_reply": "2023-03-22T12:45:23.524212Z",
     "shell.execute_reply.started": "2023-03-22T12:45:23.518961Z"
    }
   },
   "outputs": [],
   "source": [
    "cfg = setup(Config)"
   ]
  },
  {
   "cell_type": "code",
   "execution_count": 7,
   "id": "0cfc2ecb",
   "metadata": {
    "execution": {
     "iopub.execute_input": "2023-03-22T12:45:23.527447Z",
     "iopub.status.busy": "2023-03-22T12:45:23.527042Z",
     "iopub.status.idle": "2023-03-22T12:45:23.539358Z",
     "shell.execute_reply": "2023-03-22T12:45:23.537678Z",
     "shell.execute_reply.started": "2023-03-22T12:45:23.527370Z"
    }
   },
   "outputs": [],
   "source": [
    "seed_everything(cfg.seed)"
   ]
  },
  {
   "cell_type": "code",
   "execution_count": null,
   "id": "63e8083f",
   "metadata": {},
   "outputs": [],
   "source": []
  },
  {
   "cell_type": "markdown",
   "id": "ddbc8875",
   "metadata": {},
   "source": [
    "### Pre folds setup"
   ]
  },
  {
   "cell_type": "code",
   "execution_count": 8,
   "id": "567cd3cb",
   "metadata": {
    "execution": {
     "iopub.execute_input": "2023-03-22T12:45:23.541023Z",
     "iopub.status.busy": "2023-03-22T12:45:23.540656Z",
     "iopub.status.idle": "2023-03-22T12:45:23.546639Z",
     "shell.execute_reply": "2023-03-22T12:45:23.545661Z",
     "shell.execute_reply.started": "2023-03-22T12:45:23.540985Z"
    }
   },
   "outputs": [],
   "source": [
    "df_train_df = pd.read_csv('./xgb_pre/model/xgb_G_oof.csv') \n",
    "    # train_df['contact_id'][:2] =>\n",
    "    # 0    58168_003392_0_38590_43854\n",
    "    # 1    58168_003392_0_38590_41257\n",
    "    # Name: contact_id, dtype: object\n",
    "df_train_df['step'] = df_train_df['contact_id'].apply(lambda x: int(x.split('_')[2]))\n",
    "    # train_df['step'][:2] =>    \n",
    "    # 0    0\n",
    "    # 1    0\n",
    "    # Name: contact_id, dtype: int64 \n",
    "\n",
    "df_train_df['vid'] = df_train_df['contact_id'].apply(lambda x: '_'.join(x.split('_')[:2]))\n",
    "    # train_df['vid'][:2] =>    \n",
    "    # 0    58168_003392\n",
    "    # 1    58168_003392\n",
    "    # Name: contact_id, dtype: object\n",
    "df_train_df['nfl_player_id_1'] = df_train_df['contact_id'].apply(lambda x: int(x.split('_')[3]))\n",
    "    # train_df['nfl_player_id_1'][:2] =>    \n",
    "    # 0    38590\n",
    "    # 1    38590\n",
    "    # Name: contact_id, dtype: int64    \n",
    "\n",
    "df_train_df['nfl_player_id_2'] = 'G'\n"
   ]
  },
  {
   "cell_type": "code",
   "execution_count": 14,
   "id": "5a5f2d9e",
   "metadata": {},
   "outputs": [
    {
     "data": {
      "text/html": [
       "<div>\n",
       "<style scoped>\n",
       "    .dataframe tbody tr th:only-of-type {\n",
       "        vertical-align: middle;\n",
       "    }\n",
       "\n",
       "    .dataframe tbody tr th {\n",
       "        vertical-align: top;\n",
       "    }\n",
       "\n",
       "    .dataframe thead th {\n",
       "        text-align: right;\n",
       "    }\n",
       "</style>\n",
       "<table border=\"1\" class=\"dataframe\">\n",
       "  <thead>\n",
       "    <tr style=\"text-align: right;\">\n",
       "      <th></th>\n",
       "      <th>contact_id</th>\n",
       "      <th>fold</th>\n",
       "      <th>contact</th>\n",
       "      <th>pred</th>\n",
       "      <th>frame</th>\n",
       "      <th>step</th>\n",
       "      <th>vid</th>\n",
       "      <th>nfl_player_id_1</th>\n",
       "      <th>nfl_player_id_2</th>\n",
       "    </tr>\n",
       "  </thead>\n",
       "  <tbody>\n",
       "    <tr>\n",
       "      <th>0</th>\n",
       "      <td>58188_001358_0_46075_G</td>\n",
       "      <td>2</td>\n",
       "      <td>0</td>\n",
       "      <td>0.001174</td>\n",
       "      <td>291.368</td>\n",
       "      <td>0</td>\n",
       "      <td>58188_001358</td>\n",
       "      <td>46075</td>\n",
       "      <td>G</td>\n",
       "    </tr>\n",
       "    <tr>\n",
       "      <th>1</th>\n",
       "      <td>58188_001358_0_46466_G</td>\n",
       "      <td>2</td>\n",
       "      <td>0</td>\n",
       "      <td>0.000684</td>\n",
       "      <td>291.368</td>\n",
       "      <td>0</td>\n",
       "      <td>58188_001358</td>\n",
       "      <td>46466</td>\n",
       "      <td>G</td>\n",
       "    </tr>\n",
       "    <tr>\n",
       "      <th>2</th>\n",
       "      <td>58188_001358_0_45215_G</td>\n",
       "      <td>2</td>\n",
       "      <td>0</td>\n",
       "      <td>0.000324</td>\n",
       "      <td>291.368</td>\n",
       "      <td>0</td>\n",
       "      <td>58188_001358</td>\n",
       "      <td>45215</td>\n",
       "      <td>G</td>\n",
       "    </tr>\n",
       "    <tr>\n",
       "      <th>3</th>\n",
       "      <td>58188_001358_0_42477_G</td>\n",
       "      <td>2</td>\n",
       "      <td>0</td>\n",
       "      <td>0.001358</td>\n",
       "      <td>291.368</td>\n",
       "      <td>0</td>\n",
       "      <td>58188_001358</td>\n",
       "      <td>42477</td>\n",
       "      <td>G</td>\n",
       "    </tr>\n",
       "    <tr>\n",
       "      <th>4</th>\n",
       "      <td>58188_001358_0_47973_G</td>\n",
       "      <td>2</td>\n",
       "      <td>0</td>\n",
       "      <td>0.001093</td>\n",
       "      <td>291.368</td>\n",
       "      <td>0</td>\n",
       "      <td>58188_001358</td>\n",
       "      <td>47973</td>\n",
       "      <td>G</td>\n",
       "    </tr>\n",
       "  </tbody>\n",
       "</table>\n",
       "</div>"
      ],
      "text/plain": [
       "               contact_id  fold  contact      pred    frame  step  \\\n",
       "0  58188_001358_0_46075_G     2        0  0.001174  291.368     0   \n",
       "1  58188_001358_0_46466_G     2        0  0.000684  291.368     0   \n",
       "2  58188_001358_0_45215_G     2        0  0.000324  291.368     0   \n",
       "3  58188_001358_0_42477_G     2        0  0.001358  291.368     0   \n",
       "4  58188_001358_0_47973_G     2        0  0.001093  291.368     0   \n",
       "\n",
       "            vid  nfl_player_id_1 nfl_player_id_2  \n",
       "0  58188_001358            46075               G  \n",
       "1  58188_001358            46466               G  \n",
       "2  58188_001358            45215               G  \n",
       "3  58188_001358            42477               G  \n",
       "4  58188_001358            47973               G  "
      ]
     },
     "execution_count": 14,
     "metadata": {},
     "output_type": "execute_result"
    }
   ],
   "source": [
    "df_train_df.head()"
   ]
  },
  {
   "cell_type": "markdown",
   "id": "48e4e254",
   "metadata": {},
   "source": [
    "### Train"
   ]
  },
  {
   "cell_type": "code",
   "execution_count": null,
   "id": "e7a3867a",
   "metadata": {},
   "outputs": [],
   "source": []
  },
  {
   "cell_type": "code",
   "execution_count": null,
   "id": "608ab5a5",
   "metadata": {},
   "outputs": [],
   "source": []
  },
  {
   "cell_type": "code",
   "execution_count": 9,
   "id": "8e0e0974",
   "metadata": {
    "execution": {
     "iopub.execute_input": "2023-03-22T12:45:23.548718Z",
     "iopub.status.busy": "2023-03-22T12:45:23.548039Z",
     "iopub.status.idle": "2023-03-22T12:45:23.564480Z",
     "shell.execute_reply": "2023-03-22T12:45:23.563041Z",
     "shell.execute_reply.started": "2023-03-22T12:45:23.548683Z"
    }
   },
   "outputs": [],
   "source": [
    "# https://www.kaggle.com/code/arjanso/reducing-dataframe-memory-size-by-65\n",
    "def reduce_mem_usage(props):\n",
    "#     start_mem_usg = props.memory_usage().sum() / 1024**2 \n",
    "#     print(\"Memory usage of properties dataframe is :\",start_mem_usg,\" MB\")\n",
    "#     NAlist = [] # Keeps track of columns that have missing values filled in. \n",
    "    for col in props.columns:\n",
    "        if props[col].dtype != object:  # Exclude strings\n",
    "            \n",
    "#             # Print current column type\n",
    "#             print(\"******************************\")\n",
    "#             print(\"Column: \",col)\n",
    "#             print(\"dtype before: \",props[col].dtype)\n",
    "            \n",
    "            # make variables for Int, max and min\n",
    "            IsInt = False\n",
    "            mx = props[col].max()\n",
    "            mn = props[col].min()\n",
    "            \n",
    "#             # Integer does not support NA, therefore, NA needs to be filled\n",
    "#             if not np.isfinite(props[col]).all(): \n",
    "#                 NAlist.append(col)\n",
    "#                 props[col].fillna(mn-1,inplace=True)  \n",
    "                   \n",
    "            # test if column dtype is int.\n",
    "            if 'int' in props[col].dtype.name:\n",
    "                IsInt = True\n",
    "\n",
    "            \n",
    "            # Make Integer/unsigned Integer datatypes\n",
    "            if IsInt:\n",
    "                if mn >= 0:\n",
    "                    if mx < 255:\n",
    "                        props[col] = props[col].astype(np.uint8)\n",
    "                    elif mx < 65535:\n",
    "                        props[col] = props[col].astype(np.uint16)\n",
    "                    elif mx < 4294967295:\n",
    "                        props[col] = props[col].astype(np.uint32)\n",
    "                    else:\n",
    "                        props[col] = props[col].astype(np.uint64)\n",
    "                else:\n",
    "                    if mn > np.iinfo(np.int8).min and mx < np.iinfo(np.int8).max:\n",
    "                        props[col] = props[col].astype(np.int8)\n",
    "                    elif mn > np.iinfo(np.int16).min and mx < np.iinfo(np.int16).max:\n",
    "                        props[col] = props[col].astype(np.int16)\n",
    "                    elif mn > np.iinfo(np.int32).min and mx < np.iinfo(np.int32).max:\n",
    "                        props[col] = props[col].astype(np.int32)\n",
    "                    elif mn > np.iinfo(np.int64).min and mx < np.iinfo(np.int64).max:\n",
    "                        props[col] = props[col].astype(np.int64)    \n",
    "            \n",
    "            # Make float datatypes 32 bit\n",
    "            else:\n",
    "                props[col] = props[col].astype(np.float32)\n",
    "            \n",
    "#             # Print new column type\n",
    "#             print(\"dtype after: \",props[col].dtype)\n",
    "#             print(\"******************************\")\n",
    "    \n",
    "#     # Print final result\n",
    "#     print(\"___MEMORY USAGE AFTER COMPLETION:___\")\n",
    "#     mem_usg = props.memory_usage().sum() / 1024**2 \n",
    "#     print(\"Memory usage is: \",mem_usg,\" MB\")\n",
    "#     print(\"This is \",100*mem_usg/start_mem_usg,\"% of the initial size\")\n",
    "#     return props, NAlist\n",
    "    return props"
   ]
  },
  {
   "cell_type": "code",
   "execution_count": 10,
   "id": "159feaa6",
   "metadata": {},
   "outputs": [],
   "source": [
    "def get_oof(config_name):\n",
    "    dfs = []\n",
    "    for i in [0,1,2]:# [0,1,2,3,4]\n",
    "#         df_pred = pd.read_csv(f'../cnn/outputs/{config_name}/oof_f{i}.csv')\n",
    "        df_pred = pd.read_csv(f'val_results/oof_{config_name}_f{i}.csv')        \n",
    "        dfs.append(df_pred)\n",
    "    df_pred = pd.concat(dfs).reset_index(drop=True)\n",
    "\n",
    "    # df_pred.columns => \n",
    "    # Index(['path', 'fold', 'contact', 'distance', 'step', 'e_empty', 's_empty', 'pred'],  dtype='object')\n",
    "    # df_pred[['path'][0] => slicing_g/58506_001241_53443_G_0294_0\n",
    "    \n",
    "    pred_step_dict = {}\n",
    "    for i, row in df_pred.iterrows():\n",
    "        idx = row['path'].split('/')[-1]\n",
    "        step = int(idx.split('_')[-1])\n",
    "        root = '_'.join(idx.split('_')[:-2])\n",
    "        idx = f'{root}_{step}'\n",
    "        pred_step_dict[idx] = row['pred']        \n",
    "\n",
    "    # pred_step_dict =>\n",
    "    # {'58506_001241_53443_G_0': 0.2598580420017242,\n",
    "    #  '58506_001241_52419_G_0': 0.166795015335083,\n",
    "    #  '58506_001241_53431_G_0': 0.1642752438783645}    \n",
    "    # ...\n",
    "        \n",
    "    return pred_step_dict"
   ]
  },
  {
   "cell_type": "code",
   "execution_count": 15,
   "id": "8a617c04",
   "metadata": {
    "execution": {
     "iopub.execute_input": "2023-03-22T12:45:23.569540Z",
     "iopub.status.busy": "2023-03-22T12:45:23.569157Z",
     "iopub.status.idle": "2023-03-22T12:45:23.595286Z",
     "shell.execute_reply": "2023-03-22T12:45:23.593486Z",
     "shell.execute_reply.started": "2023-03-22T12:45:23.569508Z"
    }
   },
   "outputs": [],
   "source": [
    "def feature_engineering(train_df):    \n",
    "    \n",
    "    pred_step_dict = get_oof('r50ir_csn_c11_m1_d2_G_all')\n",
    "    pred_step_dict2 = get_oof('r50ir_csn_c15_m1_d2_G_all')    \n",
    "    \n",
    "    \n",
    "    pred_step_dict1 = {}\n",
    "    for i, row in train_df.iterrows():\n",
    "        c_id = row['contact_id']\n",
    "        fr_id = int(row['frame'])\n",
    "        pred = row['pred']\n",
    "        gk, gp, st, idx1, idx2 = c_id.split('_')\n",
    "        # gk, gp, st, idx1, idx2 => 58188, 001358, 0, 46075, G\n",
    "        \n",
    "        idx = f'{gk}_{gp}_{idx1}_{idx2}_{st}'\n",
    "        # idx => 58188_001358_46075_G_0\n",
    "        \n",
    "        pred_step_dict1[idx] = row['pred']    \n",
    "    \n",
    "    results = []\n",
    "    for i, row in tqdm(train_df.iterrows()):\n",
    "        \n",
    "        vid = row['vid']\n",
    "        idx1 = row['nfl_player_id_1']\n",
    "        idx2 = row['nfl_player_id_2']        \n",
    "        step = row['step']\n",
    "        # step => 0\n",
    "        \n",
    "        ## row['frame'] => 291.368\n",
    "        # fr_id = int(row['frame'])\n",
    "        ## f'{fr_id:04d}' => 0291\n",
    "        # idx = f'{vid}_{idx1}_{idx2}_{fr_id:04d}_{step}'        \n",
    "        ## idx => 58188_001358_46075_G_0291_0\n",
    "        contact = row['contact']        \n",
    "        \n",
    "        \n",
    "        item = {'contact_id':row['contact_id'], 'contact':contact, 'step':row['step'], 'frame': row['frame'], 'fold':row['fold']}\n",
    "        item['nfl_player_id_1'] = row['nfl_player_id_1']\n",
    "        item['nfl_player_id_2'] = row['nfl_player_id_2']\n",
    "        item['prob1'] = row['pred'] # xgb_pre probability\n",
    "        item['vid'] = row['vid']\n",
    "        \n",
    "        for j in range(-15,15):\n",
    "            this_idx = f'{vid}_{idx1}_{idx2}_{step+j}'\n",
    "            # this_idx => 58188_001358_46075_G_-15\n",
    "\n",
    "            prob = 0\n",
    "            weight = 0\n",
    "            if this_idx in pred_step_dict:\n",
    "                prob += pred_step_dict[this_idx]\n",
    "                weight += 1\n",
    "\n",
    "            if this_idx in pred_step_dict2:\n",
    "                prob += pred_step_dict2[this_idx]\n",
    "                weight += 1\n",
    "\n",
    "            if weight > 0:\n",
    "                item[f'prob_{j}'] = prob/weight\n",
    "            else:\n",
    "                item[f'prob_{j}'] = np.nan\n",
    "\n",
    "            if this_idx in pred_step_dict1:\n",
    "                item[f'prob1_{j}'] = pred_step_dict1[this_idx]\n",
    "            else:\n",
    "                item[f'prob1_{j}'] = np.nan\n",
    "            \n",
    "            # item =>\n",
    "            # {'contact_id': '58188_001358_0_46075_G', 'contact': 0, 'step': 0, 'frame': 291.368, 'fold': 2, \n",
    "            #  'nfl_player_id_1': 46075, 'nfl_player_id_2': 'G', 'prob1': 0.0011736668, 'vid': '58188_001358', \n",
    "            #  'prob_-15': nan, 'prob1_-15': nan}\n",
    "            \n",
    "        results.append(item) \n",
    "\n",
    "    train_df = pd.DataFrame(results)        \n",
    "\n",
    "    k=0\n",
    "    for i, row in tqdm(train_df.iterrows()):\n",
    "        vid = row['vid']\n",
    "        idx = row['nfl_player_id_1']\n",
    "        idx = f'{vid}_{idx}'\n",
    "        # step = row['step']\n",
    "\n",
    "        item = {}\n",
    "\n",
    "        for j in range(-15,15):\n",
    "            # the cnn_prob and pre_xgb_prob from the 20 neighboring steps.\n",
    "            if j>-10 and j < 10:\n",
    "                item[f'prob_{j}'] = row[f'prob_{j}']\n",
    "                item[f'prob1_{j}'] = row[f'prob1_{j}']\n",
    "            # the ensemble probability from the 30 neighboring steps.\n",
    "            item[f'prob3_{j}'] = 0.85*row[f'prob_{j}']  + 0.15*row[f'prob1_{j}']\n",
    "\n",
    "        if k==0: \n",
    "            feature_cols = list(item.keys()) \n",
    "            # feature_cols => ['prob3_-15', 'prob3_-14', 'prob3_-13', 'prob3_-12', 'prob3_-11', ..., 'prob3_11', 'prob3_12', 'prob3_13', 'prob3_14']\n",
    "            k+=1\n",
    "\n",
    "        item['fold'] = row['fold']\n",
    "        item['contact'] = row['contact']\n",
    "        item['contact_id'] = row['contact_id']\n",
    "        item['frame'] = row['frame']\n",
    "\n",
    "        results.append(item)\n",
    "        \n",
    "    train_df = pd.DataFrame(results)        \n",
    "    \n",
    "    return train_df, feature_cols"
   ]
  },
  {
   "cell_type": "code",
   "execution_count": null,
   "id": "d2ab29dc",
   "metadata": {},
   "outputs": [],
   "source": []
  },
  {
   "cell_type": "code",
   "execution_count": null,
   "id": "b89fc706",
   "metadata": {},
   "outputs": [],
   "source": []
  },
  {
   "cell_type": "code",
   "execution_count": 16,
   "id": "684e57fc",
   "metadata": {
    "execution": {
     "iopub.execute_input": "2023-03-22T12:45:23.597495Z",
     "iopub.status.busy": "2023-03-22T12:45:23.596688Z",
     "iopub.status.idle": "2023-03-22T12:45:23.610024Z",
     "shell.execute_reply": "2023-03-22T12:45:23.608283Z",
     "shell.execute_reply.started": "2023-03-22T12:45:23.597444Z"
    }
   },
   "outputs": [],
   "source": [
    "# shutil.copyfile(src, dst, *, follow_symlinks=True) => \n",
    "# Copy the contents (no metadata) of the file named src to a file named dst and return dst in the most efficient way possible. \n",
    "# copyfile(os.path.basename(__file__), os.path.join(cfg.EXP_MODEL, os.path.basename(__file__)))"
   ]
  },
  {
   "cell_type": "code",
   "execution_count": 17,
   "id": "5e765ac4",
   "metadata": {
    "execution": {
     "iopub.execute_input": "2023-03-22T12:45:26.906606Z",
     "iopub.status.busy": "2023-03-22T12:45:26.905455Z",
     "iopub.status.idle": "2023-03-22T12:49:05.294386Z",
     "shell.execute_reply": "2023-03-22T12:49:05.293014Z",
     "shell.execute_reply.started": "2023-03-22T12:45:26.906516Z"
    }
   },
   "outputs": [
    {
     "name": "stderr",
     "output_type": "stream",
     "text": [
      "410633it [01:40, 4094.39it/s]\n",
      "410633it [06:57, 982.77it/s] \n"
     ]
    }
   ],
   "source": [
    "df_train_df, feature_cols = feature_engineering(df_train_df)\n"
   ]
  },
  {
   "cell_type": "code",
   "execution_count": 18,
   "id": "1cdc8247",
   "metadata": {
    "execution": {
     "iopub.execute_input": "2023-03-22T12:49:15.851236Z",
     "iopub.status.busy": "2023-03-22T12:49:15.850743Z",
     "iopub.status.idle": "2023-03-22T12:49:15.863214Z",
     "shell.execute_reply": "2023-03-22T12:49:15.861644Z",
     "shell.execute_reply.started": "2023-03-22T12:49:15.851194Z"
    }
   },
   "outputs": [],
   "source": [
    "# len(feature_cols)\n",
    "# ## 68"
   ]
  },
  {
   "cell_type": "code",
   "execution_count": 19,
   "id": "829888ad",
   "metadata": {
    "execution": {
     "iopub.execute_input": "2023-03-20T13:34:37.566095Z",
     "iopub.status.busy": "2023-03-20T13:34:37.565753Z",
     "iopub.status.idle": "2023-03-20T13:34:37.576712Z",
     "shell.execute_reply": "2023-03-20T13:34:37.575294Z",
     "shell.execute_reply.started": "2023-03-20T13:34:37.566063Z"
    }
   },
   "outputs": [],
   "source": [
    "# 58200_003925_61_42352_43388"
   ]
  },
  {
   "cell_type": "code",
   "execution_count": 20,
   "id": "a8c48ce9",
   "metadata": {
    "execution": {
     "iopub.execute_input": "2023-03-20T13:34:37.592077Z",
     "iopub.status.busy": "2023-03-20T13:34:37.591455Z",
     "iopub.status.idle": "2023-03-20T13:34:37.611107Z",
     "shell.execute_reply": "2023-03-20T13:34:37.609775Z",
     "shell.execute_reply.started": "2023-03-20T13:34:37.592027Z"
    }
   },
   "outputs": [],
   "source": [
    "def fit_xgboost(cfg, params, add_suffix=''):\n",
    "    oof_pred = []\n",
    "    for fold in [2,1,0,3,4]:\n",
    "        if fold == -1: continue\n",
    "\n",
    "        x_train = df_train_df[df_train_df.fold!=fold][feature_cols]\n",
    "        y_train = df_train_df[df_train_df.fold!=fold]['contact']\n",
    "\n",
    "        x_val = df_train_df[df_train_df.fold==fold]\n",
    "\n",
    "        x_valid = x_val[feature_cols]\n",
    "\n",
    "        y_valid = df_train_df[df_train_df.fold==fold]['contact']\n",
    "\n",
    "        print(x_train.shape, x_valid.shape)\n",
    "\n",
    "        xgb_train = xgb.DMatrix(x_train, label=y_train)\n",
    "        xgb_valid = xgb.DMatrix(x_valid, label=y_valid)\n",
    "        evals = [(xgb_train,'train'),(xgb_valid,'eval')]\n",
    "        \n",
    "        model = xgb.train(\n",
    "            params,\n",
    "            xgb_train,\n",
    "            num_boost_round=10_000,\n",
    "            \n",
    "            # validation metric needs to improve at least once in every early_stopping_rounds round(s) to continue training.\n",
    "            early_stopping_rounds=200,\n",
    "            evals=evals,\n",
    "            verbose_eval=100,\n",
    "#             xgb_model='../input/dk-1st-data-1/kaggle_data_1/xgb_fold1_xgb_1st.model'\n",
    "        )\n",
    "\n",
    "#         model_path = os.path.join(cfg.EXP_MODEL, f'xgb_fold{fold}{add_suffix}.model')\n",
    "        model_path = f'xgb_fold{fold}{add_suffix}.model'\n",
    "        model.save_model(model_path)\n",
    "        model = xgb.Booster()\n",
    "        model.load_model(model_path)\n",
    "\n",
    "        dvalid = xgb.DMatrix(x_valid)\n",
    "\n",
    "        pred_i = model.predict(dvalid) \n",
    "        print(pred_i.shape)\n",
    "        # print(pred_i[:10], y_valid[:10])\n",
    "\n",
    "        x_val['pred'] = pred_i\n",
    "        x_val = x_val[['contact_id', 'fold', 'contact', 'pred', 'frame']]\n",
    "        oof_pred.append(x_val)\n",
    "\n",
    "        gt = y_valid.values\n",
    "        all_pos = np.sum(gt==1)\n",
    "\n",
    "        for thres in [0.0002,0.001, 0.003, 0.005, 0.01, 0.02, 0.03, 0.04, 0.05,0.1,0.2,0.3, 0.4, 0.5]:\n",
    "            pred = 1*(pred_i > thres)\n",
    "            tp = np.sum((gt==1)*(pred==1))\n",
    "            pred_pos = np.sum(pred==1)\n",
    "\n",
    "            score = matthews_corrcoef(gt, pred > thres)\n",
    "\n",
    "            print(f'thres {thres:.4f} tp {tp} all_pos {all_pos:.4f} pred_pos {pred_pos:.4f}, score {score:.4f}')\n",
    "\n",
    "        score = round(roc_auc_score(y_valid, pred_i), 5)\n",
    "        print(f'Performance of the prediction: {score}\\n')\n",
    "        del model; gc.collect()\n",
    "\n",
    "    oof_df = pd.concat(oof_pred)\n",
    "#     oof_df.to_csv(f'{cfg.EXP_MODEL}/xgb_G_oof.csv', index=False)\n",
    "    oof_df.to_csv(f'xgb_post_G_oof.csv', index=False)    \n",
    "\n",
    "\n",
    "    gt = oof_df.contact.values\n",
    "    all_pos = np.sum(gt==1)\n",
    "    for thres in range(20,50):\n",
    "        thres = thres*0.01\n",
    "        pred = 1*(oof_df.pred.values > thres)\n",
    "        tp = np.sum((gt==1)*(pred==1))\n",
    "        pred_pos = np.sum(pred==1)\n",
    "\n",
    "        score = matthews_corrcoef(gt, pred > thres)\n",
    "\n",
    "        print(f'thres {thres:.4f} tp {tp} all_pos {all_pos:.4f} pred_pos {pred_pos:.4f}, score {score:.4f}')\n",
    "    return oof_df\n"
   ]
  },
  {
   "cell_type": "code",
   "execution_count": null,
   "id": "6956d8ad",
   "metadata": {
    "execution": {
     "iopub.execute_input": "2023-03-20T13:34:37.612808Z",
     "iopub.status.busy": "2023-03-20T13:34:37.612458Z",
     "iopub.status.idle": "2023-03-20T13:34:37.628323Z",
     "shell.execute_reply": "2023-03-20T13:34:37.627270Z",
     "shell.execute_reply.started": "2023-03-20T13:34:37.612774Z"
    }
   },
   "outputs": [],
   "source": []
  },
  {
   "cell_type": "code",
   "execution_count": 21,
   "id": "13f32e80",
   "metadata": {
    "execution": {
     "iopub.execute_input": "2023-03-20T13:34:37.630190Z",
     "iopub.status.busy": "2023-03-20T13:34:37.629701Z"
    }
   },
   "outputs": [
    {
     "name": "stdout",
     "output_type": "stream",
     "text": [
      "(656700, 68) (164566, 68)\n",
      "[0]\ttrain-auc:0.95069\teval-auc:0.97882\n",
      "[100]\ttrain-auc:0.96341\teval-auc:0.98800\n",
      "[200]\ttrain-auc:0.96476\teval-auc:0.98874\n",
      "[300]\ttrain-auc:0.96556\teval-auc:0.98895\n",
      "[400]\ttrain-auc:0.96674\teval-auc:0.98906\n",
      "[500]\ttrain-auc:0.96810\teval-auc:0.98888\n",
      "[596]\ttrain-auc:0.96968\teval-auc:0.98867\n",
      "(164566,)\n",
      "thres 0.0002 tp 5238 all_pos 5238.0000 pred_pos 164566.0000, score 0.0000\n"
     ]
    },
    {
     "name": "stderr",
     "output_type": "stream",
     "text": [
      "C:\\Users\\AI_python\\Documents\\miniconda3\\envs\\base_1\\lib\\site-packages\\ipykernel_launcher.py:43: SettingWithCopyWarning: \n",
      "A value is trying to be set on a copy of a slice from a DataFrame.\n",
      "Try using .loc[row_indexer,col_indexer] = value instead\n",
      "\n",
      "See the caveats in the documentation: https://pandas.pydata.org/pandas-docs/stable/user_guide/indexing.html#returning-a-view-versus-a-copy\n"
     ]
    },
    {
     "name": "stdout",
     "output_type": "stream",
     "text": [
      "thres 0.0010 tp 5238 all_pos 5238.0000 pred_pos 164566.0000, score 0.0000\n",
      "thres 0.0030 tp 5238 all_pos 5238.0000 pred_pos 164566.0000, score 0.0000\n",
      "thres 0.0050 tp 5238 all_pos 5238.0000 pred_pos 164566.0000, score 0.0000\n",
      "thres 0.0100 tp 5238 all_pos 5238.0000 pred_pos 164566.0000, score 0.0000\n",
      "thres 0.0200 tp 5238 all_pos 5238.0000 pred_pos 164566.0000, score 0.0000\n",
      "thres 0.0300 tp 5228 all_pos 5238.0000 pred_pos 63582.0000, score 0.2278\n",
      "thres 0.0400 tp 5207 all_pos 5238.0000 pred_pos 36885.0000, score 0.3348\n",
      "thres 0.0500 tp 5150 all_pos 5238.0000 pred_pos 29909.0000, score 0.3768\n",
      "thres 0.1000 tp 4967 all_pos 5238.0000 pred_pos 12629.0000, score 0.5937\n",
      "thres 0.2000 tp 4583 all_pos 5238.0000 pred_pos 7768.0000, score 0.7077\n",
      "thres 0.3000 tp 4191 all_pos 5238.0000 pred_pos 5940.0000, score 0.7427\n",
      "thres 0.4000 tp 3921 all_pos 5238.0000 pred_pos 5080.0000, score 0.7524\n",
      "thres 0.5000 tp 3583 all_pos 5238.0000 pred_pos 4285.0000, score 0.7492\n",
      "Performance of the prediction: 0.98867\n",
      "\n",
      "(656838, 68) (164428, 68)\n",
      "[0]\ttrain-auc:0.94477\teval-auc:0.98005\n",
      "[100]\ttrain-auc:0.96027\teval-auc:0.98702\n",
      "[200]\ttrain-auc:0.96227\teval-auc:0.98831\n",
      "[300]\ttrain-auc:0.96362\teval-auc:0.98863\n",
      "[400]\ttrain-auc:0.96451\teval-auc:0.98878\n",
      "[500]\ttrain-auc:0.96584\teval-auc:0.98907\n",
      "[600]\ttrain-auc:0.96732\teval-auc:0.98932\n",
      "[700]\ttrain-auc:0.96845\teval-auc:0.98940\n",
      "[800]\ttrain-auc:0.96994\teval-auc:0.98947\n",
      "[900]\ttrain-auc:0.97119\teval-auc:0.98955\n",
      "[1000]\ttrain-auc:0.97250\teval-auc:0.98963\n",
      "[1100]\ttrain-auc:0.97354\teval-auc:0.98962\n",
      "[1200]\ttrain-auc:0.97439\teval-auc:0.98958\n",
      "[1264]\ttrain-auc:0.97489\teval-auc:0.98957\n",
      "(164428,)\n",
      "thres 0.0002 tp 7984 all_pos 7984.0000 pred_pos 164428.0000, score 0.0000\n"
     ]
    },
    {
     "name": "stderr",
     "output_type": "stream",
     "text": [
      "C:\\Users\\AI_python\\Documents\\miniconda3\\envs\\base_1\\lib\\site-packages\\ipykernel_launcher.py:43: SettingWithCopyWarning: \n",
      "A value is trying to be set on a copy of a slice from a DataFrame.\n",
      "Try using .loc[row_indexer,col_indexer] = value instead\n",
      "\n",
      "See the caveats in the documentation: https://pandas.pydata.org/pandas-docs/stable/user_guide/indexing.html#returning-a-view-versus-a-copy\n"
     ]
    },
    {
     "name": "stdout",
     "output_type": "stream",
     "text": [
      "thres 0.0010 tp 7984 all_pos 7984.0000 pred_pos 128726.0000, score 0.1190\n",
      "thres 0.0030 tp 7984 all_pos 7984.0000 pred_pos 70517.0000, score 0.2607\n",
      "thres 0.0050 tp 7984 all_pos 7984.0000 pred_pos 56296.0000, score 0.3131\n",
      "thres 0.0100 tp 7972 all_pos 7984.0000 pred_pos 41601.0000, score 0.3874\n",
      "thres 0.0200 tp 7946 all_pos 7984.0000 pred_pos 31780.0000, score 0.4588\n",
      "thres 0.0300 tp 7868 all_pos 7984.0000 pred_pos 25288.0000, score 0.5208\n",
      "thres 0.0400 tp 7784 all_pos 7984.0000 pred_pos 20811.0000, score 0.5764\n",
      "thres 0.0500 tp 7719 all_pos 7984.0000 pred_pos 18220.0000, score 0.6161\n",
      "thres 0.1000 tp 7524 all_pos 7984.0000 pred_pos 13903.0000, score 0.6965\n",
      "thres 0.2000 tp 7193 all_pos 7984.0000 pred_pos 11116.0000, score 0.7498\n",
      "thres 0.3000 tp 6847 all_pos 7984.0000 pred_pos 9667.0000, score 0.7671\n",
      "thres 0.4000 tp 6512 all_pos 7984.0000 pred_pos 8716.0000, score 0.7689\n",
      "thres 0.5000 tp 6187 all_pos 7984.0000 pred_pos 7938.0000, score 0.7658\n",
      "Performance of the prediction: 0.98957\n",
      "\n",
      "(656794, 68) (164472, 68)\n",
      "[0]\ttrain-auc:0.94988\teval-auc:0.95782\n",
      "[100]\ttrain-auc:0.96113\teval-auc:0.97172\n",
      "[200]\ttrain-auc:0.96562\teval-auc:0.97578\n",
      "[300]\ttrain-auc:0.96738\teval-auc:0.97610\n",
      "[400]\ttrain-auc:0.96799\teval-auc:0.97644\n",
      "[500]\ttrain-auc:0.96972\teval-auc:0.97714\n",
      "[600]\ttrain-auc:0.97144\teval-auc:0.97739\n",
      "[700]\ttrain-auc:0.97270\teval-auc:0.97726\n",
      "[800]\ttrain-auc:0.97368\teval-auc:0.97727\n",
      "[803]\ttrain-auc:0.97372\teval-auc:0.97726\n",
      "(164472,)\n",
      "thres 0.0002 tp 5104 all_pos 5104.0000 pred_pos 164472.0000, score 0.0000\n"
     ]
    },
    {
     "name": "stderr",
     "output_type": "stream",
     "text": [
      "C:\\Users\\AI_python\\Documents\\miniconda3\\envs\\base_1\\lib\\site-packages\\ipykernel_launcher.py:43: SettingWithCopyWarning: \n",
      "A value is trying to be set on a copy of a slice from a DataFrame.\n",
      "Try using .loc[row_indexer,col_indexer] = value instead\n",
      "\n",
      "See the caveats in the documentation: https://pandas.pydata.org/pandas-docs/stable/user_guide/indexing.html#returning-a-view-versus-a-copy\n"
     ]
    },
    {
     "name": "stdout",
     "output_type": "stream",
     "text": [
      "thres 0.0010 tp 5104 all_pos 5104.0000 pred_pos 164472.0000, score 0.0000\n",
      "thres 0.0030 tp 5104 all_pos 5104.0000 pred_pos 164472.0000, score 0.0000\n",
      "thres 0.0050 tp 5104 all_pos 5104.0000 pred_pos 164472.0000, score 0.0000\n",
      "thres 0.0100 tp 5104 all_pos 5104.0000 pred_pos 108860.0000, score 0.1279\n",
      "thres 0.0200 tp 4922 all_pos 5104.0000 pred_pos 31907.0000, score 0.3486\n",
      "thres 0.0300 tp 4780 all_pos 5104.0000 pred_pos 24292.0000, score 0.3979\n",
      "thres 0.0400 tp 4696 all_pos 5104.0000 pred_pos 19672.0000, score 0.4414\n",
      "thres 0.0500 tp 4646 all_pos 5104.0000 pred_pos 16619.0000, score 0.4805\n",
      "thres 0.1000 tp 4435 all_pos 5104.0000 pred_pos 10681.0000, score 0.5839\n",
      "thres 0.2000 tp 4228 all_pos 5104.0000 pred_pos 7457.0000, score 0.6736\n",
      "thres 0.3000 tp 4072 all_pos 5104.0000 pred_pos 6102.0000, score 0.7203\n",
      "thres 0.4000 tp 3887 all_pos 5104.0000 pred_pos 5408.0000, score 0.7313\n",
      "thres 0.5000 tp 3658 all_pos 5104.0000 pred_pos 4715.0000, score 0.7379\n",
      "Performance of the prediction: 0.97725\n",
      "\n",
      "(656266, 68) (165000, 68)\n",
      "[0]\ttrain-auc:0.95965\teval-auc:0.89495\n",
      "[100]\ttrain-auc:0.97493\teval-auc:0.93108\n",
      "[200]\ttrain-auc:0.97637\teval-auc:0.93517\n",
      "[300]\ttrain-auc:0.97937\teval-auc:0.94314\n",
      "[400]\ttrain-auc:0.98033\teval-auc:0.94654\n",
      "[500]\ttrain-auc:0.98084\teval-auc:0.94675\n",
      "[600]\ttrain-auc:0.98138\teval-auc:0.94684\n",
      "[700]\ttrain-auc:0.98227\teval-auc:0.94743\n",
      "[800]\ttrain-auc:0.98343\teval-auc:0.94738\n",
      "[900]\ttrain-auc:0.98434\teval-auc:0.94875\n",
      "[1000]\ttrain-auc:0.98539\teval-auc:0.94895\n",
      "[1100]\ttrain-auc:0.98607\teval-auc:0.94942\n",
      "[1200]\ttrain-auc:0.98668\teval-auc:0.94969\n",
      "[1300]\ttrain-auc:0.98718\teval-auc:0.95068\n",
      "[1400]\ttrain-auc:0.98743\teval-auc:0.95074\n",
      "[1500]\ttrain-auc:0.98757\teval-auc:0.95086\n",
      "[1600]\ttrain-auc:0.98770\teval-auc:0.95089\n",
      "[1700]\ttrain-auc:0.98787\teval-auc:0.95102\n",
      "[1800]\ttrain-auc:0.98803\teval-auc:0.95094\n",
      "[1846]\ttrain-auc:0.98814\teval-auc:0.95091\n",
      "(165000,)\n",
      "thres 0.0002 tp 9442 all_pos 9520.0000 pred_pos 72966.0000, score 0.2738\n"
     ]
    },
    {
     "name": "stderr",
     "output_type": "stream",
     "text": [
      "C:\\Users\\AI_python\\Documents\\miniconda3\\envs\\base_1\\lib\\site-packages\\ipykernel_launcher.py:43: SettingWithCopyWarning: \n",
      "A value is trying to be set on a copy of a slice from a DataFrame.\n",
      "Try using .loc[row_indexer,col_indexer] = value instead\n",
      "\n",
      "See the caveats in the documentation: https://pandas.pydata.org/pandas-docs/stable/user_guide/indexing.html#returning-a-view-versus-a-copy\n"
     ]
    },
    {
     "name": "stdout",
     "output_type": "stream",
     "text": [
      "thres 0.0010 tp 9298 all_pos 9520.0000 pred_pos 52654.0000, score 0.3491\n",
      "thres 0.0030 tp 9066 all_pos 9520.0000 pred_pos 39844.0000, score 0.4110\n",
      "thres 0.0050 tp 8850 all_pos 9520.0000 pred_pos 33372.0000, score 0.4481\n",
      "thres 0.0100 tp 8500 all_pos 9520.0000 pred_pos 26566.0000, score 0.4927\n",
      "thres 0.0200 tp 7924 all_pos 9520.0000 pred_pos 20548.0000, score 0.5304\n",
      "thres 0.0300 tp 7592 all_pos 9520.0000 pred_pos 18014.0000, score 0.5461\n",
      "thres 0.0400 tp 7270 all_pos 9520.0000 pred_pos 16338.0000, score 0.5506\n",
      "thres 0.0500 tp 7038 all_pos 9520.0000 pred_pos 15270.0000, score 0.5522\n",
      "thres 0.1000 tp 6104 all_pos 9520.0000 pred_pos 12122.0000, score 0.5384\n",
      "thres 0.2000 tp 4758 all_pos 9520.0000 pred_pos 8600.0000, score 0.4984\n",
      "thres 0.3000 tp 4022 all_pos 9520.0000 pred_pos 6796.0000, score 0.4748\n",
      "thres 0.4000 tp 3346 all_pos 9520.0000 pred_pos 5408.0000, score 0.4429\n",
      "thres 0.5000 tp 2562 all_pos 9520.0000 pred_pos 3892.0000, score 0.4003\n",
      "Performance of the prediction: 0.95091\n",
      "\n",
      "(658466, 68) (162800, 68)\n",
      "[0]\ttrain-auc:0.95587\teval-auc:0.92127\n",
      "[100]\ttrain-auc:0.97254\teval-auc:0.93284\n",
      "[200]\ttrain-auc:0.97405\teval-auc:0.93332\n",
      "[300]\ttrain-auc:0.97556\teval-auc:0.93331\n",
      "[400]\ttrain-auc:0.97684\teval-auc:0.93428\n",
      "[500]\ttrain-auc:0.97769\teval-auc:0.93439\n",
      "[536]\ttrain-auc:0.97800\teval-auc:0.93448\n",
      "(162800,)\n",
      "thres 0.0002 tp 5782 all_pos 5782.0000 pred_pos 162800.0000, score 0.0000\n"
     ]
    },
    {
     "name": "stderr",
     "output_type": "stream",
     "text": [
      "C:\\Users\\AI_python\\Documents\\miniconda3\\envs\\base_1\\lib\\site-packages\\ipykernel_launcher.py:43: SettingWithCopyWarning: \n",
      "A value is trying to be set on a copy of a slice from a DataFrame.\n",
      "Try using .loc[row_indexer,col_indexer] = value instead\n",
      "\n",
      "See the caveats in the documentation: https://pandas.pydata.org/pandas-docs/stable/user_guide/indexing.html#returning-a-view-versus-a-copy\n"
     ]
    },
    {
     "name": "stdout",
     "output_type": "stream",
     "text": [
      "thres 0.0010 tp 5782 all_pos 5782.0000 pred_pos 162800.0000, score 0.0000\n",
      "thres 0.0030 tp 5782 all_pos 5782.0000 pred_pos 162800.0000, score 0.0000\n",
      "thres 0.0050 tp 5782 all_pos 5782.0000 pred_pos 162800.0000, score 0.0000\n",
      "thres 0.0100 tp 5782 all_pos 5782.0000 pred_pos 162800.0000, score 0.0000\n",
      "thres 0.0200 tp 5782 all_pos 5782.0000 pred_pos 162800.0000, score 0.0000\n",
      "thres 0.0300 tp 5782 all_pos 5782.0000 pred_pos 162800.0000, score 0.0000\n",
      "thres 0.0400 tp 5502 all_pos 5782.0000 pred_pos 59608.0000, score 0.2332\n",
      "thres 0.0500 tp 5410 all_pos 5782.0000 pred_pos 44012.0000, score 0.2875\n",
      "thres 0.1000 tp 4856 all_pos 5782.0000 pred_pos 19280.0000, score 0.4284\n",
      "thres 0.2000 tp 4174 all_pos 5782.0000 pred_pos 11690.0000, score 0.4832\n",
      "thres 0.3000 tp 3360 all_pos 5782.0000 pred_pos 7088.0000, score 0.5055\n",
      "thres 0.4000 tp 2352 all_pos 5782.0000 pred_pos 3856.0000, score 0.4834\n",
      "thres 0.5000 tp 1084 all_pos 5782.0000 pred_pos 1588.0000, score 0.3470\n",
      "Performance of the prediction: 0.93449\n",
      "\n",
      "thres 0.2000 tp 24936 all_pos 33628.0000 pred_pos 46631.0000, score 0.6114\n",
      "thres 0.2100 tp 24649 all_pos 33628.0000 pred_pos 45268.0000, score 0.6138\n",
      "thres 0.2200 tp 24409 all_pos 33628.0000 pred_pos 43950.0000, score 0.6173\n",
      "thres 0.2300 tp 24140 all_pos 33628.0000 pred_pos 42687.0000, score 0.6198\n",
      "thres 0.2400 tp 23885 all_pos 33628.0000 pred_pos 41489.0000, score 0.6224\n",
      "thres 0.2500 tp 23608 all_pos 33628.0000 pred_pos 40375.0000, score 0.6239\n",
      "thres 0.2600 tp 23400 all_pos 33628.0000 pred_pos 39373.0000, score 0.6266\n",
      "thres 0.2700 tp 23154 all_pos 33628.0000 pred_pos 38300.0000, score 0.6290\n",
      "thres 0.2800 tp 22961 all_pos 33628.0000 pred_pos 37387.0000, score 0.6317\n",
      "thres 0.2900 tp 22727 all_pos 33628.0000 pred_pos 36511.0000, score 0.6330\n",
      "thres 0.3000 tp 22492 all_pos 33628.0000 pred_pos 35593.0000, score 0.6347\n",
      "thres 0.3100 tp 22258 all_pos 33628.0000 pred_pos 34672.0000, score 0.6367\n",
      "thres 0.3200 tp 22016 all_pos 33628.0000 pred_pos 33848.0000, score 0.6377\n",
      "thres 0.3300 tp 21765 all_pos 33628.0000 pred_pos 33116.0000, score 0.6375\n",
      "thres 0.3400 tp 21532 all_pos 33628.0000 pred_pos 32442.0000, score 0.6373\n",
      "thres 0.3500 tp 21301 all_pos 33628.0000 pred_pos 31788.0000, score 0.6371\n",
      "thres 0.3600 tp 21051 all_pos 33628.0000 pred_pos 31114.0000, score 0.6365\n",
      "thres 0.3700 tp 20784 all_pos 33628.0000 pred_pos 30463.0000, score 0.6352\n",
      "thres 0.3800 tp 20485 all_pos 33628.0000 pred_pos 29754.0000, score 0.6335\n",
      "thres 0.3900 tp 20254 all_pos 33628.0000 pred_pos 29090.0000, score 0.6337\n",
      "thres 0.4000 tp 20018 all_pos 33628.0000 pred_pos 28468.0000, score 0.6333\n",
      "thres 0.4100 tp 19722 all_pos 33628.0000 pred_pos 27806.0000, score 0.6313\n",
      "thres 0.4200 tp 19380 all_pos 33628.0000 pred_pos 27133.0000, score 0.6280\n",
      "thres 0.4300 tp 19039 all_pos 33628.0000 pred_pos 26440.0000, score 0.6251\n",
      "thres 0.4400 tp 18747 all_pos 33628.0000 pred_pos 25825.0000, score 0.6228\n",
      "thres 0.4500 tp 18484 all_pos 33628.0000 pred_pos 25234.0000, score 0.6213\n",
      "thres 0.4600 tp 18195 all_pos 33628.0000 pred_pos 24662.0000, score 0.6187\n",
      "thres 0.4700 tp 17937 all_pos 33628.0000 pred_pos 24097.0000, score 0.6172\n",
      "thres 0.4800 tp 17623 all_pos 33628.0000 pred_pos 23495.0000, score 0.6141\n",
      "thres 0.4900 tp 17354 all_pos 33628.0000 pred_pos 22975.0000, score 0.6116\n"
     ]
    }
   ],
   "source": [
    "oof_pred = fit_xgboost(cfg, cfg.xgb_params, add_suffix=\"_xgb_2nd\")"
   ]
  },
  {
   "cell_type": "code",
   "execution_count": null,
   "id": "9c12ec95",
   "metadata": {},
   "outputs": [],
   "source": []
  },
  {
   "cell_type": "code",
   "execution_count": null,
   "id": "c4cea28a",
   "metadata": {},
   "outputs": [],
   "source": []
  }
 ],
 "metadata": {
  "kernelspec": {
   "display_name": "Python 3 (ipykernel)",
   "language": "python",
   "name": "python3"
  },
  "language_info": {
   "codemirror_mode": {
    "name": "ipython",
    "version": 3
   },
   "file_extension": ".py",
   "mimetype": "text/x-python",
   "name": "python",
   "nbconvert_exporter": "python",
   "pygments_lexer": "ipython3",
   "version": "3.7.12"
  }
 },
 "nbformat": 4,
 "nbformat_minor": 5
}
