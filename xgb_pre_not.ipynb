{
 "cells": [
  {
   "cell_type": "code",
   "execution_count": 25,
   "id": "4dae7a8a",
   "metadata": {
    "execution": {
     "iopub.execute_input": "2023-03-21T06:30:36.273049Z",
     "iopub.status.busy": "2023-03-21T06:30:36.272505Z",
     "iopub.status.idle": "2023-03-21T06:30:36.280324Z",
     "shell.execute_reply": "2023-03-21T06:30:36.279138Z",
     "shell.execute_reply.started": "2023-03-21T06:30:36.273004Z"
    }
   },
   "outputs": [],
   "source": [
    "import os\n",
    "import gc\n",
    "\n",
    "\n",
    "import numpy as np\n",
    "import pandas as pd\n",
    "import cv2\n",
    "\n",
    "\n",
    "import math\n",
    "import xgboost as xgb\n",
    "import torch\n",
    "import scipy.stats as sss\n",
    "\n",
    "\n",
    "from sklearn.metrics import roc_auc_score, matthews_corrcoef\n",
    "from glob import glob\n",
    "from tqdm import tqdm\n",
    "from shutil import copyfile"
   ]
  },
  {
   "cell_type": "code",
   "execution_count": 26,
   "id": "1a342cdb",
   "metadata": {
    "execution": {
     "iopub.execute_input": "2023-03-21T06:30:36.287142Z",
     "iopub.status.busy": "2023-03-21T06:30:36.286739Z",
     "iopub.status.idle": "2023-03-21T06:30:36.294112Z",
     "shell.execute_reply": "2023-03-21T06:30:36.292757Z",
     "shell.execute_reply.started": "2023-03-21T06:30:36.287108Z"
    }
   },
   "outputs": [],
   "source": [
    "import random"
   ]
  },
  {
   "cell_type": "code",
   "execution_count": 27,
   "id": "51cacad4",
   "metadata": {
    "execution": {
     "iopub.execute_input": "2023-03-21T06:30:36.300300Z",
     "iopub.status.busy": "2023-03-21T06:30:36.299577Z",
     "iopub.status.idle": "2023-03-21T06:30:36.307763Z",
     "shell.execute_reply": "2023-03-21T06:30:36.306929Z",
     "shell.execute_reply.started": "2023-03-21T06:30:36.300260Z"
    }
   },
   "outputs": [],
   "source": [
    "def seed_everything(random_seed):\n",
    "    random.seed(random_seed)\n",
    "    np.random.seed(random_seed)\n",
    "    torch.manual_seed(random_seed)\n",
    "    os.environ[\"PYTHONHASHSEED\"] = str(random_seed)\n",
    "#     if torch.cuda.is_available():\n",
    "    torch.cuda.manual_seed(random_seed)\n",
    "    torch.cuda.manual_seed_all(random_seed)\n",
    "    # torch.backends.cudnn.enabled = False\n",
    "    torch.backends.cudnn.benchmark = False        \n",
    "    torch.backends.cudnn.deterministic = True"
   ]
  },
  {
   "cell_type": "code",
   "execution_count": 28,
   "id": "e9b0f7ca",
   "metadata": {
    "execution": {
     "iopub.execute_input": "2023-03-21T06:30:36.313643Z",
     "iopub.status.busy": "2023-03-21T06:30:36.312915Z",
     "iopub.status.idle": "2023-03-21T06:30:36.321801Z",
     "shell.execute_reply": "2023-03-21T06:30:36.320542Z",
     "shell.execute_reply.started": "2023-03-21T06:30:36.313602Z"
    }
   },
   "outputs": [],
   "source": [
    "class Config:\n",
    "    NAME = \"xgb_pre_not_g\"\n",
    "\n",
    "    seed = 42\n",
    "    num_fold = 5\n",
    "    \n",
    "    xgb_params = {\n",
    "        'objective': 'binary:logistic',\n",
    "        'eval_metric': 'auc',\n",
    "        'learning_rate':0.005,\n",
    "        'tree_method':'hist' if not torch.cuda.is_available() else 'gpu_hist'\n",
    "    }"
   ]
  },
  {
   "cell_type": "code",
   "execution_count": 29,
   "id": "9594dd37",
   "metadata": {
    "execution": {
     "iopub.execute_input": "2023-03-21T06:30:36.324629Z",
     "iopub.status.busy": "2023-03-21T06:30:36.323906Z",
     "iopub.status.idle": "2023-03-21T06:30:36.339119Z",
     "shell.execute_reply": "2023-03-21T06:30:36.337686Z",
     "shell.execute_reply.started": "2023-03-21T06:30:36.324591Z"
    }
   },
   "outputs": [],
   "source": [
    "def setup(cfg):\n",
    "    cfg.device = torch.device('cuda' if torch.cuda.is_available() else 'cpu')\n",
    "    \n",
    "    # set dirs\n",
    "    cfg.EXP = cfg.NAME\n",
    "\n",
    "    cfg.EXP_MODEL = os.path.join(cfg.EXP, 'model')\n",
    "    cfg.EXP_FIG = os.path.join(cfg.EXP, 'fig')\n",
    "    cfg.EXP_PREDS = os.path.join(cfg.EXP, 'preds')\n",
    "\n",
    "    # make dirs\n",
    "    for d in [cfg.EXP_MODEL, cfg.EXP_FIG, cfg.EXP_PREDS]:\n",
    "        os.makedirs(d, exist_ok=True)\n",
    "        \n",
    "    return cfg\n"
   ]
  },
  {
   "cell_type": "code",
   "execution_count": 30,
   "id": "3424dab2",
   "metadata": {
    "execution": {
     "iopub.execute_input": "2023-03-21T06:30:36.342757Z",
     "iopub.status.busy": "2023-03-21T06:30:36.341540Z",
     "iopub.status.idle": "2023-03-21T06:30:36.352427Z",
     "shell.execute_reply": "2023-03-21T06:30:36.351334Z",
     "shell.execute_reply.started": "2023-03-21T06:30:36.342699Z"
    }
   },
   "outputs": [],
   "source": [
    "cfg = setup(Config)"
   ]
  },
  {
   "cell_type": "code",
   "execution_count": 31,
   "id": "d8357b82",
   "metadata": {
    "execution": {
     "iopub.execute_input": "2023-03-21T06:30:36.355714Z",
     "iopub.status.busy": "2023-03-21T06:30:36.354834Z",
     "iopub.status.idle": "2023-03-21T06:30:36.366795Z",
     "shell.execute_reply": "2023-03-21T06:30:36.365485Z",
     "shell.execute_reply.started": "2023-03-21T06:30:36.355635Z"
    }
   },
   "outputs": [],
   "source": [
    "seed_everything(cfg.seed)"
   ]
  },
  {
   "cell_type": "code",
   "execution_count": null,
   "id": "53a204d7",
   "metadata": {},
   "outputs": [],
   "source": []
  },
  {
   "cell_type": "markdown",
   "id": "ca6e9667",
   "metadata": {},
   "source": [
    "### Pre folds setup"
   ]
  },
  {
   "cell_type": "code",
   "execution_count": 32,
   "id": "8967f7ac",
   "metadata": {
    "execution": {
     "iopub.execute_input": "2023-03-21T06:30:36.372787Z",
     "iopub.status.busy": "2023-03-21T06:30:36.372421Z",
     "iopub.status.idle": "2023-03-21T06:30:36.378336Z",
     "shell.execute_reply": "2023-03-21T06:30:36.377088Z",
     "shell.execute_reply.started": "2023-03-21T06:30:36.372753Z"
    }
   },
   "outputs": [],
   "source": [
    "# df_train_df = pd.read_csv('../input/dk-1st-data/kaggle_data/train_folds.csv') \n",
    "# df_train_df = df_train_df[df_train_df['nfl_player_id_2'] != 'G']\n",
    "#     # train_df['contact_id'][:2] =>\n",
    "#     # 0    58168_003392_0_38590_43854\n",
    "#     # 1    58168_003392_0_38590_41257\n",
    "#     # Name: contact_id, dtype: object\n",
    "# df_train_df['step'] = df_train_df['contact_id'].apply(lambda x: int(x.split('_')[2]))\n",
    "#     # train_df['step'][:2] =>    \n",
    "#     # 0    0\n",
    "#     # 1    0\n",
    "#     # Name: contact_id, dtype: int64 \n",
    "# df_train_df['vid'] = df_train_df['contact_id'].apply(lambda x: '_'.join(x.split('_')[:2]))\n",
    "#     # train_df['vid'][:2] =>    \n",
    "#     # 0    58168_003392\n",
    "#     # 1    58168_003392\n",
    "#     # Name: contact_id, dtype: object\n",
    "# df_train_df = df_train_df[df_train_df['distance']<4.0]\n",
    "\n",
    "# df_train_df['game_play'] = df_train_df['vid']\n",
    "\n",
    "# df_train_df.to_parquet(\"train_folds_not_G\", compression=\"gzip\", index=False)"
   ]
  },
  {
   "cell_type": "code",
   "execution_count": null,
   "id": "060528de",
   "metadata": {},
   "outputs": [],
   "source": []
  },
  {
   "cell_type": "markdown",
   "id": "e1b01a95",
   "metadata": {},
   "source": [
    "### Train"
   ]
  },
  {
   "cell_type": "code",
   "execution_count": null,
   "id": "806cc6f2",
   "metadata": {},
   "outputs": [],
   "source": []
  },
  {
   "cell_type": "code",
   "execution_count": null,
   "id": "2cd78728",
   "metadata": {},
   "outputs": [],
   "source": []
  },
  {
   "cell_type": "code",
   "execution_count": 33,
   "id": "12d2cee0",
   "metadata": {
    "execution": {
     "iopub.execute_input": "2023-03-21T06:30:36.398972Z",
     "iopub.status.busy": "2023-03-21T06:30:36.398041Z",
     "iopub.status.idle": "2023-03-21T06:30:36.415350Z",
     "shell.execute_reply": "2023-03-21T06:30:36.414294Z",
     "shell.execute_reply.started": "2023-03-21T06:30:36.398907Z"
    }
   },
   "outputs": [],
   "source": [
    "# https://www.kaggle.com/code/arjanso/reducing-dataframe-memory-size-by-65\n",
    "def reduce_mem_usage(props):\n",
    "#     start_mem_usg = props.memory_usage().sum() / 1024**2 \n",
    "#     print(\"Memory usage of properties dataframe is :\",start_mem_usg,\" MB\")\n",
    "#     NAlist = [] # Keeps track of columns that have missing values filled in. \n",
    "    for col in props.columns:\n",
    "        if props[col].dtype != object:  # Exclude strings\n",
    "            \n",
    "#             # Print current column type\n",
    "#             print(\"******************************\")\n",
    "#             print(\"Column: \",col)\n",
    "#             print(\"dtype before: \",props[col].dtype)\n",
    "            \n",
    "            # make variables for Int, max and min\n",
    "            IsInt = False\n",
    "            mx = props[col].max()\n",
    "            mn = props[col].min()\n",
    "            \n",
    "#             # Integer does not support NA, therefore, NA needs to be filled\n",
    "#             if not np.isfinite(props[col]).all(): \n",
    "#                 NAlist.append(col)\n",
    "#                 props[col].fillna(mn-1,inplace=True)  \n",
    "                   \n",
    "            # test if column dtype is int.\n",
    "            if 'int' in props[col].dtype.name:\n",
    "                IsInt = True\n",
    "\n",
    "            \n",
    "            # Make Integer/unsigned Integer datatypes\n",
    "            if IsInt:\n",
    "                if mn >= 0:\n",
    "                    if mx < 255:\n",
    "                        props[col] = props[col].astype(np.uint8)\n",
    "                    elif mx < 65535:\n",
    "                        props[col] = props[col].astype(np.uint16)\n",
    "                    elif mx < 4294967295:\n",
    "                        props[col] = props[col].astype(np.uint32)\n",
    "                    else:\n",
    "                        props[col] = props[col].astype(np.uint64)\n",
    "                else:\n",
    "                    if mn > np.iinfo(np.int8).min and mx < np.iinfo(np.int8).max:\n",
    "                        props[col] = props[col].astype(np.int8)\n",
    "                    elif mn > np.iinfo(np.int16).min and mx < np.iinfo(np.int16).max:\n",
    "                        props[col] = props[col].astype(np.int16)\n",
    "                    elif mn > np.iinfo(np.int32).min and mx < np.iinfo(np.int32).max:\n",
    "                        props[col] = props[col].astype(np.int32)\n",
    "                    elif mn > np.iinfo(np.int64).min and mx < np.iinfo(np.int64).max:\n",
    "                        props[col] = props[col].astype(np.int64)    \n",
    "            \n",
    "            # Make float datatypes 32 bit\n",
    "            else:\n",
    "                props[col] = props[col].astype(np.float32)\n",
    "            \n",
    "#             # Print new column type\n",
    "#             print(\"dtype after: \",props[col].dtype)\n",
    "#             print(\"******************************\")\n",
    "    \n",
    "#     # Print final result\n",
    "#     print(\"___MEMORY USAGE AFTER COMPLETION:___\")\n",
    "#     mem_usg = props.memory_usage().sum() / 1024**2 \n",
    "#     print(\"Memory usage is: \",mem_usg,\" MB\")\n",
    "#     print(\"This is \",100*mem_usg/start_mem_usg,\"% of the initial size\")\n",
    "#     return props, NAlist\n",
    "    return props"
   ]
  },
  {
   "cell_type": "code",
   "execution_count": 34,
   "id": "63e35c4b",
   "metadata": {
    "execution": {
     "iopub.execute_input": "2023-03-21T06:30:36.418360Z",
     "iopub.status.busy": "2023-03-21T06:30:36.417559Z",
     "iopub.status.idle": "2023-03-21T06:30:36.433615Z",
     "shell.execute_reply": "2023-03-21T06:30:36.432226Z",
     "shell.execute_reply.started": "2023-03-21T06:30:36.418308Z"
    }
   },
   "outputs": [],
   "source": [
    "def extract_feat(idx, trk_dict, step, nan_val=0, window_size=10):\n",
    "#     pos_code = {'CB':1, 'DE':2, 'FS':3, 'TE':4, 'ILB':5, 'OLB':6, 'T':7, 'G':8, 'C':9, 'QB':10, 'WR':11, 'RB':12, 'NT':13, 'DT':14,\n",
    "#         'MLB':15, 'SS':16, 'OT':17, 'LB':18, 'OG':19, 'SAF':20, 'DB':21, 'LS':22, 'K':23, 'P':24, 'FB':25, 'S':26, 'DL':27, 'HB':28}\n",
    "\n",
    "    if idx not in trk_dict:\n",
    "        item = {'s': nan_val, 'dis': nan_val, 'dir': nan_val, 'o': nan_val, 'a': nan_val, 'sa': nan_val, 'x': nan_val, 'y': nan_val, 't': nan_val}\n",
    "        # item[f'pos'] = nan_val\n",
    "    else:\n",
    "        if step in trk_dict[idx]:\n",
    "            item = {'s': trk_dict[idx][step]['s'], 'dis': trk_dict[idx][step]['dis'], 'dir': trk_dict[idx][step]['dir'], 'o': trk_dict[idx][step]['o']} \n",
    "            item['a'] = trk_dict[idx][step]['a']\n",
    "            item['sa'] = trk_dict[idx][step]['sa']\n",
    "            item['x'] = trk_dict[idx][step]['x']\n",
    "            item['y'] = trk_dict[idx][step]['y'] \n",
    "            item['t'] = trk_dict[idx][step]['t'] \n",
    "        else:\n",
    "            item = {'s': nan_val, 'dis': nan_val, 'dir': nan_val, 'o': nan_val, 'a': nan_val, 'sa': nan_val, 'x': nan_val, 'y': nan_val, 't': nan_val}\n",
    "\n",
    "    return item"
   ]
  },
  {
   "cell_type": "code",
   "execution_count": 35,
   "id": "e41d9ac1",
   "metadata": {
    "execution": {
     "iopub.execute_input": "2023-03-21T06:30:36.440067Z",
     "iopub.status.busy": "2023-03-21T06:30:36.439240Z",
     "iopub.status.idle": "2023-03-21T06:30:36.449306Z",
     "shell.execute_reply": "2023-03-21T06:30:36.447950Z",
     "shell.execute_reply.started": "2023-03-21T06:30:36.440023Z"
    }
   },
   "outputs": [],
   "source": [
    "def calc_dist(idx1, idx2, trk_dict, step, nan_val=0):\n",
    "    if idx1 not in trk_dict or idx2 not in trk_dict:\n",
    "        return nan_val, nan_val, nan_val\n",
    "    else:\n",
    "        if step not in trk_dict[idx1] or step not in trk_dict[idx2]:\n",
    "            return nan_val, nan_val, nan_val\n",
    "\n",
    "        x1 = trk_dict[idx1][step]['x']\n",
    "        y1 = trk_dict[idx1][step]['y'] \n",
    "\n",
    "        x2 = trk_dict[idx2][step]['x']\n",
    "        y2 = trk_dict[idx2][step]['y'] \n",
    "\n",
    "        dist = math.sqrt((x1-x2)*(x1-x2) + (y1-y2)*(y1-y2))\n",
    "\n",
    "        sa_dif = trk_dict[idx1][step]['sa'] - trk_dict[idx2][step]['sa'] \n",
    "        a_dif = trk_dict[idx1][step]['a'] - trk_dict[idx2][step]['a'] \n",
    "\n",
    "        return dist, a_dif, sa_dif\n"
   ]
  },
  {
   "cell_type": "code",
   "execution_count": null,
   "id": "4018e812",
   "metadata": {},
   "outputs": [],
   "source": []
  },
  {
   "cell_type": "code",
   "execution_count": 36,
   "id": "8a040942",
   "metadata": {
    "execution": {
     "iopub.execute_input": "2023-03-21T06:30:36.489949Z",
     "iopub.status.busy": "2023-03-21T06:30:36.489493Z",
     "iopub.status.idle": "2023-03-21T06:30:36.523467Z",
     "shell.execute_reply": "2023-03-21T06:30:36.521900Z",
     "shell.execute_reply.started": "2023-03-21T06:30:36.489903Z"
    }
   },
   "outputs": [],
   "source": [
    "def feature_engineering(train_df, trk_dict, det_dict):    \n",
    "    results = []\n",
    "    nan_val = 0\n",
    "    window_size = 2 # 2  \n",
    "    m = 0\n",
    "    n = 0    \n",
    "    for i, row in tqdm(train_df.iterrows()):\n",
    "        \n",
    "        vid = row['vid']\n",
    "        idx = row['nfl_player_id_1']\n",
    "        idx = f'{vid}_{idx}'\n",
    "        idx2 = row['nfl_player_id_2']\n",
    "        idx2 = f'{vid}_{idx2}'        \n",
    "        step = row['step']\n",
    "\n",
    "        agg_dict = {'s': [], 'dis': [], 'dir': [], 'o': [], 'a': [], 'sa': [], 'x': [], 'y': []}\n",
    "        \n",
    "        item1 = extract_feat(idx, trk_dict, step, nan_val=nan_val, window_size=window_size)\n",
    "        item2 = extract_feat(idx2, trk_dict, step, nan_val=nan_val, window_size=window_size) \n",
    "        # item1 =>\n",
    "        # {'s': 0.52, 'dis': 0.06, 'dir': 141.08, 'o': 100.37, 'a': 0.59, 'sa': 0.58, 'x': 40.33, 'y': 25.28, 't': 'home'}\n",
    "        # item2 =>\n",
    "        # {'s': 0.68, 'dis': 0.08, 'dir': 234.17, 'o': 282.07, 'a': 0.81, 'sa': 0.81, 'x': 42.0, 'y': 22.85, 't': 'away'} \n",
    "        item = {}\n",
    "        for k, val in item1.items():\n",
    "            if k in ['t']:                \n",
    "                if val == item2[k]:\n",
    "                    # if home == home or away == away:\n",
    "                    item[k] = 0\n",
    "                        # item[t] = 0\n",
    "                else:\n",
    "                    item[k] = 1\n",
    "                        # item[t] = 1\n",
    "                continue\n",
    "                \n",
    "\n",
    "            item[k] = val \n",
    "            item[f'{k}_2'] = item2[k]\n",
    "\n",
    "            if k not in ['pos']:\n",
    "                item[f'{k}_dif'] = val - item2[k]\n",
    "\n",
    "            if k in ['o', 'dir']:\n",
    "                item[f'{k}_s'] = math.sin(val)\n",
    "                item[f'{k}_c'] = math.cos(val)\n",
    "                item[f'{k}_s2'] = math.sin(item2[k])\n",
    "                item[f'{k}_c2'] = math.cos(item2[k])\n",
    "                item[f'{k}_sd'] = math.sin(val - item2[k])\n",
    "                item[f'{k}_cd'] = math.cos(val - item2[k])\n",
    "\n",
    "            if k in ['o', 'dir']:\n",
    "                item[f'{k}_s'] = math.sin(math.pi*val/180)\n",
    "                item[f'{k}_c'] = math.cos(math.pi*val/180)\n",
    "                item[f'{k}_s2'] = math.sin(math.pi*item2[k]/180)\n",
    "                item[f'{k}_c2'] = math.cos(math.pi*item2[k]/180)\n",
    "                item[f'{k}_sd'] = math.sin(math.pi*(val - item2[k])/180)\n",
    "                item[f'{k}_cd'] = math.cos(math.pi*(val - item2[k])/180)\n",
    "\n",
    "        item['distance'] = row['distance']\n",
    "        item['step'] = row['step']\n",
    "\n",
    "        # item =>        \n",
    "        # {'s': 0.52, 's_2': 0.68, 's_dif': -0.16, 'dis': 0.06, 'dis_2': 0.08, 'dis_dif': -0.02, \n",
    "        #  'dir': 141.08, 'dir_2': 234.17, 'dir_dif': -93.08, 'dir_s': 0.62, 'dir_c': -0.77, 'dir_s2': -0.81, 'dir_c2': -0.58, \n",
    "        #  'dir_sd': -0.99, 'dir_cd': -0.053, 'o': 100.37, 'o_2': 282.07, 'o_dif': -181.7, 'o_s': 0.98, 'o_c': -0.18, 'o_s2': -0.97, 'o_c2': 0.20, \n",
    "        #  'o_sd': 0.029, 'o_cd': -0.99, 'a': 0.59, 'a_2': 0.81, 'a_dif': -0.22, 'sa': 0.58, 'sa_2': 0.81, 'sa_dif': -0.23, 'x': 40.33, 'x_2': 42.0, 'x_dif': -1.67, \n",
    "        #  'y': 25.28,  'y_2': 22.85, 'y_dif': 2.42, 't': 1, 'distance': 2.949, 'step': 0}\n",
    "        \n",
    "        # idx, idx2, step => 58168_003392_38590, 58168_003392_41944, 0\n",
    "        for j in range(20):\n",
    "            dist, a_dif, sa_dif = calc_dist(idx, idx2, trk_dict, step+1+j, nan_val=np.nan)\n",
    "                # dist, a_dif, sa_dif => 2.8876461001999507, -0.15000000000000002, -0.14\n",
    "            item[f'dist_{j}'] = dist\n",
    "            if j<20:\n",
    "                item[f'a_{j}'] = a_dif\n",
    "                item[f'sa_{j}'] = sa_dif\n",
    "                                \n",
    "                \n",
    "        for j in range(20):\n",
    "            dist, a_dif, sa_dif = calc_dist(idx, idx2, trk_dict, step-1-j, nan_val=np.nan)\n",
    "            item[f'dist_p{j}'] = dist\n",
    "            if j<20:\n",
    "                item[f'a_p{j}'] = a_dif\n",
    "                item[f'sa_p{j}'] = sa_dif\n",
    "\n",
    "        idx1 = int(row['nfl_player_id_1'])\n",
    "        idx2 = int(row['nfl_player_id_2'])\n",
    "        step = row['step']\n",
    "        frame = int(row['frame'])+6                \n",
    "        \n",
    "        for view in ['Sideline', 'Endzone']:\n",
    "            v_vid = vid + '_' + view\n",
    "            area1_list = []\n",
    "            area2_list = []\n",
    "            for ff in range(-30,30,2):\n",
    "                fr = frame + ff\n",
    "                if fr in det_dict[v_vid] and idx1 in det_dict[v_vid][fr] and idx2 in det_dict[v_vid][fr]: \n",
    "                    # v_vid, fr, idx1 => 58168_003392_Sideline, 290, 38590\n",
    "                    x1, y1, w1, h1 = det_dict[v_vid][fr][idx1]['box']\n",
    "                    x2, y2, w2, h2 = det_dict[v_vid][fr][idx2]['box']\n",
    "                    \n",
    "                    # prepairing center co-ordinates of helmets\n",
    "                    x1 = x1 + w1/2\n",
    "                    y1 = y1 + h1/2\n",
    "                    x2 = x2 + w2/2\n",
    "                    y2 = y2 + h2/2\n",
    "                    dist = math.sqrt((x1 - x2)*(x1 - x2) + (y1 - y2)*(y1 - y2))\n",
    "                    \n",
    "                    # f'{view}_{ff}_dist' => Sideline_-10_dist\n",
    "                    item[f'{view}_{ff}_dist'] = dist\n",
    "                    area1_list.append(w1*h1)\n",
    "                    area2_list.append(w2*h2)\n",
    "                else:\n",
    "                    item[f'{view}_{ff}_dist'] = np.nan    \n",
    "\n",
    "            if len(area2_list)>0:\n",
    "                item[f'{view}_area1'] = np.mean(area1_list)\n",
    "                item[f'{view}_area2'] = np.mean(area2_list)\n",
    "            else:\n",
    "                item[f'{view}_area1'] = np.nan\n",
    "                item[f'{view}_area2'] = np.nan\n",
    "\n",
    "        if m==0: feature_cols = list(item.keys())\n",
    "        m+=1\n",
    "\n",
    "        item['fold'] = row['fold']\n",
    "        item['contact'] = row['contact']\n",
    "        item['contact_id'] = row['contact_id']\n",
    "        item['frame'] = row['frame']\n",
    "        item['nfl_player_id_1'] = row['nfl_player_id_1']\n",
    "        item['nfl_player_id_2'] = row['nfl_player_id_2']\n",
    "\n",
    "        results.append(item)\n",
    "        \n",
    "        if m==300000: \n",
    "            tmp = pd.DataFrame(results)\n",
    "            tmp = reduce_mem_usage(tmp) \n",
    "            tmp.to_parquet(\"tmp_{}\".format(n), compression=\"gzip\", index=False)            \n",
    "            results = []\n",
    "            tmp = np.NaN\n",
    "            _ = gc.collect()            \n",
    "            m=1\n",
    "            n += 1        \n",
    "            \n",
    "    tmp = pd.DataFrame(results)\n",
    "    tmp = reduce_mem_usage(tmp) \n",
    "    tmp.to_parquet(\"tmp_{}\".format(n), compression=\"gzip\", index=False)            \n",
    "    results = []\n",
    "    tmp = np.NaN\n",
    "    _ = gc.collect()             \n",
    "\n",
    "    return feature_cols"
   ]
  },
  {
   "cell_type": "code",
   "execution_count": null,
   "id": "a629f7ea",
   "metadata": {},
   "outputs": [],
   "source": []
  },
  {
   "cell_type": "code",
   "execution_count": 37,
   "id": "c51e05db",
   "metadata": {
    "execution": {
     "iopub.execute_input": "2023-03-21T06:30:36.526289Z",
     "iopub.status.busy": "2023-03-21T06:30:36.525758Z",
     "iopub.status.idle": "2023-03-21T06:30:36.532853Z",
     "shell.execute_reply": "2023-03-21T06:30:36.531599Z",
     "shell.execute_reply.started": "2023-03-21T06:30:36.526249Z"
    }
   },
   "outputs": [],
   "source": [
    "# shutil.copyfile(src, dst, *, follow_symlinks=True) => \n",
    "# Copy the contents (no metadata) of the file named src to a file named dst and return dst in the most efficient way possible. \n",
    "# copyfile(os.path.basename(__file__), os.path.join(cfg.EXP_MODEL, os.path.basename(__file__)))"
   ]
  },
  {
   "cell_type": "code",
   "execution_count": 38,
   "id": "cfcee27c",
   "metadata": {
    "execution": {
     "iopub.execute_input": "2023-03-21T06:30:36.534680Z",
     "iopub.status.busy": "2023-03-21T06:30:36.534340Z",
     "iopub.status.idle": "2023-03-21T06:30:36.546344Z",
     "shell.execute_reply": "2023-03-21T06:30:36.545374Z",
     "shell.execute_reply.started": "2023-03-21T06:30:36.534649Z"
    }
   },
   "outputs": [],
   "source": [
    "# df_train_df = pd.read_parquet('../input/dk-1st-data/kaggle_data/train_folds_not_G').reset_index(drop=True)\n",
    "# np_trk_dict = np.load('../input/dk-1st-data/kaggle_data/trk_dict.npy', allow_pickle=True).item()\n",
    "# #     # allow_pickle=True; allow loading pickled object arrays stored in npy files.\n",
    "# #     # .item(); Copy an element of an array to a standard Python scalar and return it.\n",
    "# #     # .item() is necessary for loading dictionary type items.\n",
    "# np_det_dict = np.load('../input/dk-1st-data/kaggle_data/det_dict.npy', allow_pickle=True).item()"
   ]
  },
  {
   "cell_type": "code",
   "execution_count": null,
   "id": "a39f9e6c",
   "metadata": {},
   "outputs": [],
   "source": []
  },
  {
   "cell_type": "code",
   "execution_count": 39,
   "id": "ff9b1ecd",
   "metadata": {
    "execution": {
     "iopub.execute_input": "2023-03-21T06:30:36.548809Z",
     "iopub.status.busy": "2023-03-21T06:30:36.548418Z",
     "iopub.status.idle": "2023-03-21T06:30:36.560350Z",
     "shell.execute_reply": "2023-03-21T06:30:36.559044Z",
     "shell.execute_reply.started": "2023-03-21T06:30:36.548772Z"
    }
   },
   "outputs": [],
   "source": [
    "# df_train_df.info()\n",
    "# 4721617-302556"
   ]
  },
  {
   "cell_type": "code",
   "execution_count": null,
   "id": "75045283",
   "metadata": {},
   "outputs": [],
   "source": []
  },
  {
   "cell_type": "code",
   "execution_count": 40,
   "id": "d04182c8",
   "metadata": {
    "execution": {
     "iopub.execute_input": "2023-03-21T06:30:36.563124Z",
     "iopub.status.busy": "2023-03-21T06:30:36.562251Z",
     "iopub.status.idle": "2023-03-21T06:30:36.572885Z",
     "shell.execute_reply": "2023-03-21T06:30:36.571621Z",
     "shell.execute_reply.started": "2023-03-21T06:30:36.563069Z"
    }
   },
   "outputs": [],
   "source": [
    "# np.info(np_trk_dict)\n",
    "#     # dict() -> new empty dictionary\n",
    "#     # dict(mapping) -> new dictionary initialized from a mapping object's\n",
    "#     #     (key, value) pairs\n",
    "#     # dict(iterable) -> new dictionary initialized as if via:\n",
    "#     #     d = {}\n",
    "#     #     for k, v in iterable:\n",
    "#     #         d[k] = v\n",
    "#     # dict(**kwargs) -> new dictionary initialized with the name=value pairs\n",
    "#     #     in the keyword argument list.  For example:  dict(one=1, two=2)"
   ]
  },
  {
   "cell_type": "code",
   "execution_count": 41,
   "id": "a9cd26ff",
   "metadata": {
    "execution": {
     "iopub.execute_input": "2023-03-21T06:30:36.575674Z",
     "iopub.status.busy": "2023-03-21T06:30:36.575337Z",
     "iopub.status.idle": "2023-03-21T06:30:36.589516Z",
     "shell.execute_reply": "2023-03-21T06:30:36.588199Z",
     "shell.execute_reply.started": "2023-03-21T06:30:36.575642Z"
    }
   },
   "outputs": [],
   "source": [
    "# feature_cols = feature_engineering(df_train_df, np_trk_dict, np_det_dict)\n"
   ]
  },
  {
   "cell_type": "code",
   "execution_count": 42,
   "id": "c7263fd8",
   "metadata": {
    "execution": {
     "iopub.execute_input": "2023-03-21T06:30:36.591419Z",
     "iopub.status.busy": "2023-03-21T06:30:36.591048Z",
     "iopub.status.idle": "2023-03-21T06:30:36.601748Z",
     "shell.execute_reply": "2023-03-21T06:30:36.600572Z",
     "shell.execute_reply.started": "2023-03-21T06:30:36.591383Z"
    }
   },
   "outputs": [],
   "source": [
    "# len(feature_cols)\n",
    "##221"
   ]
  },
  {
   "cell_type": "code",
   "execution_count": 43,
   "id": "09cc18af",
   "metadata": {
    "execution": {
     "iopub.execute_input": "2023-03-21T06:30:36.604681Z",
     "iopub.status.busy": "2023-03-21T06:30:36.603806Z",
     "iopub.status.idle": "2023-03-21T06:30:36.615211Z",
     "shell.execute_reply": "2023-03-21T06:30:36.613737Z",
     "shell.execute_reply.started": "2023-03-21T06:30:36.604639Z"
    }
   },
   "outputs": [],
   "source": [
    "# np.save('feature_cols_not_g.npy',feature_cols)"
   ]
  },
  {
   "cell_type": "code",
   "execution_count": 44,
   "id": "9b34b3f2",
   "metadata": {
    "execution": {
     "iopub.execute_input": "2023-03-21T06:30:36.617960Z",
     "iopub.status.busy": "2023-03-21T06:30:36.616711Z",
     "iopub.status.idle": "2023-03-21T06:30:36.627135Z",
     "shell.execute_reply": "2023-03-21T06:30:36.625400Z",
     "shell.execute_reply.started": "2023-03-21T06:30:36.617910Z"
    }
   },
   "outputs": [],
   "source": [
    "# 58200_003925_61_42352_43388"
   ]
  },
  {
   "cell_type": "code",
   "execution_count": 45,
   "id": "e3f4f75e",
   "metadata": {
    "execution": {
     "iopub.execute_input": "2023-03-21T06:30:36.629473Z",
     "iopub.status.busy": "2023-03-21T06:30:36.629066Z",
     "iopub.status.idle": "2023-03-21T06:30:36.639266Z",
     "shell.execute_reply": "2023-03-21T06:30:36.637914Z",
     "shell.execute_reply.started": "2023-03-21T06:30:36.629434Z"
    }
   },
   "outputs": [],
   "source": [
    "# df_train_df = pd.read_parquet(f'/kaggle/working/tmp_0')\n",
    "# for i in [1,2]:\n",
    "#     df_train_df = pd.concat([df_train_df,pd.read_parquet('/kaggle/working/tmp_{}'.format(i))])\n",
    "# df_train_df.to_parquet(f\"df_xgb_pre_not_g\", compression=\"gzip\", index=False)"
   ]
  },
  {
   "cell_type": "code",
   "execution_count": null,
   "id": "91816470",
   "metadata": {},
   "outputs": [],
   "source": []
  },
  {
   "cell_type": "code",
   "execution_count": 46,
   "id": "7ce8ff53",
   "metadata": {
    "execution": {
     "iopub.execute_input": "2023-03-21T06:30:36.642569Z",
     "iopub.status.busy": "2023-03-21T06:30:36.642097Z",
     "iopub.status.idle": "2023-03-21T06:30:36.661101Z",
     "shell.execute_reply": "2023-03-21T06:30:36.660047Z",
     "shell.execute_reply.started": "2023-03-21T06:30:36.642522Z"
    }
   },
   "outputs": [],
   "source": [
    "def fit_xgboost(cfg, params, add_suffix=''):\n",
    "    oof_pred = []\n",
    "    for fold in [0,1,2,3,4]:\n",
    "        if fold == -1: continue\n",
    "\n",
    "        x_train = df_train_df[df_train_df.fold!=fold][feature_cols]\n",
    "        y_train = df_train_df[df_train_df.fold!=fold]['contact']\n",
    "\n",
    "        x_val = df_train_df[df_train_df.fold==fold]\n",
    "\n",
    "        x_valid = x_val[feature_cols]\n",
    "\n",
    "        y_valid = df_train_df[df_train_df.fold==fold]['contact']\n",
    "\n",
    "        print(x_train.shape, x_valid.shape)\n",
    "\n",
    "        xgb_train = xgb.DMatrix(x_train, label=y_train)\n",
    "        xgb_valid = xgb.DMatrix(x_valid, label=y_valid)\n",
    "        evals = [(xgb_train,'train'),(xgb_valid,'eval')]\n",
    "        \n",
    "        model = xgb.train(\n",
    "            params,\n",
    "            xgb_train,\n",
    "            num_boost_round=10_000,#1000,\n",
    "            early_stopping_rounds=300,\n",
    "            evals=evals,\n",
    "            verbose_eval=100,\n",
    "#             xgb_model='../input/dk-1st-data-1/kaggle_data_1/xgb_fold1_xgb_1st.model'\n",
    "        )\n",
    "\n",
    "#         model_path = os.path.join(cfg.EXP_MODEL, f'xgb_fold{fold}{add_suffix}.model')\n",
    "        model_path = f'xgb_not_fold{fold}{add_suffix}.model'\n",
    "        model.save_model(model_path)\n",
    "        model = xgb.Booster()\n",
    "        model.load_model(model_path)\n",
    "\n",
    "        dvalid = xgb.DMatrix(x_valid)\n",
    "\n",
    "        pred_i = model.predict(dvalid) \n",
    "        print(pred_i.shape)\n",
    "        # print(pred_i[:10], y_valid[:10])\n",
    "\n",
    "        x_val['pred'] = pred_i\n",
    "#         x_val = x_val[['contact_id', 'fold', 'contact', 'pred', 'frame']]\n",
    "        x_val = x_val[['contact_id', 'fold', 'contact', 'pred', 'frame', 'nfl_player_id_1', 'nfl_player_id_2']]\n",
    "        \n",
    "        oof_pred.append(x_val)\n",
    "\n",
    "        gt = y_valid.values\n",
    "        all_pos = np.sum(gt==1)\n",
    "\n",
    "        for thres in [0.0002,0.001, 0.003, 0.005, 0.01, 0.02, 0.03, 0.04, 0.05,0.1,0.2,0.3, 0.4, 0.5]:\n",
    "            pred = 1*(pred_i > thres)\n",
    "            tp = np.sum((gt==1)*(pred==1))\n",
    "            pred_pos = np.sum(pred==1)\n",
    "\n",
    "            score = matthews_corrcoef(gt, pred > thres)\n",
    "\n",
    "            print(f'thres {thres:.4f} tp {tp} all_pos {all_pos:.4f} pred_pos {pred_pos:.4f}, score {score:.4f}')\n",
    "\n",
    "        score = round(roc_auc_score(y_valid, pred_i), 5)\n",
    "        print(f'Performance of the prediction: {score}\\n')\n",
    "        del model; gc.collect()\n",
    "\n",
    "    oof_df = pd.concat(oof_pred)\n",
    "#     oof_df.to_csv(f'{cfg.EXP_MODEL}/xgb_G_oof.csv', index=False)\n",
    "    oof_df.to_csv(f'xgb_not_G_oof.csv', index=False)    \n",
    "\n",
    "    gt = oof_df.contact.values\n",
    "    all_pos = np.sum(gt==1)\n",
    "    #for thres in [0.001, 0.002, 0.01, 0.02, 0.03, 0.04, 0.05,0.1,0.2,0.3,0.4,0.5,0.6,0.7]:\n",
    "    for thres in range(20,60):        \n",
    "        thres = thres*0.01        \n",
    "        pred = 1*(oof_df.pred.values > thres)\n",
    "        tp = np.sum((gt==1)*(pred==1))\n",
    "        pred_pos = np.sum(pred==1)\n",
    "\n",
    "        score = matthews_corrcoef(gt, pred > thres)\n",
    "\n",
    "        print(f'thres {thres:.4f} tp {tp} all_pos {all_pos:.4f} pred_pos {pred_pos:.4f}, score {score:.4f}')\n",
    "\n"
   ]
  },
  {
   "cell_type": "code",
   "execution_count": 47,
   "id": "12fc4523",
   "metadata": {
    "execution": {
     "iopub.execute_input": "2023-03-21T06:30:36.664261Z",
     "iopub.status.busy": "2023-03-21T06:30:36.663175Z",
     "iopub.status.idle": "2023-03-21T06:30:36.678630Z",
     "shell.execute_reply": "2023-03-21T06:30:36.677658Z",
     "shell.execute_reply.started": "2023-03-21T06:30:36.664057Z"
    }
   },
   "outputs": [],
   "source": [
    "def get_oof(config_name):\n",
    "    dfs = []\n",
    "    for i in [0,1,2,3,4]:\n",
    "#         df_pred = pd.read_csv(f'../cnn/outputs/{config_name}/oof_f{i}.csv')\n",
    "        df_pred = pd.read_csv(f'{config_name}_oof_f{i}.csv')        \n",
    "        dfs.append(df_pred)\n",
    "    df_pred = pd.concat(dfs).reset_index(drop=True)\n",
    "\n",
    "    pred_step_dict = {}\n",
    "    for i, row in df_pred.iterrows():\n",
    "        idx = row['path'].split('/')[-1]\n",
    "        step = int(idx.split('_')[-1])\n",
    "        root = '_'.join(idx.split('_')[:-2])\n",
    "        idx = f'{root}_{step}'\n",
    "        pred_step_dict[idx] = row['pred']\n",
    "\n",
    "    return pred_step_dict"
   ]
  },
  {
   "cell_type": "code",
   "execution_count": null,
   "id": "7868fadb",
   "metadata": {
    "execution": {
     "iopub.execute_input": "2023-03-21T06:30:36.681219Z",
     "iopub.status.busy": "2023-03-21T06:30:36.680457Z"
    }
   },
   "outputs": [
    {
     "name": "stdout",
     "output_type": "stream",
     "text": [
      "(574956, 221) (136427, 221)\n",
      "[0]\ttrain-auc:0.97445\teval-auc:0.97620\n"
     ]
    }
   ],
   "source": [
    "df_train_df = pd.read_parquet(\"../input/dk-1st-data-1/kaggle_data_1/df_xgb_pre_not_g\").reset_index(drop=True)\n",
    "feature_cols = np.load('../input/dk-1st-data-1/kaggle_data_1/feature_cols_not_g.npy', allow_pickle=True)#.item()\n",
    "oof_pred = fit_xgboost(cfg, cfg.xgb_params, add_suffix=\"_xgb_1st\")"
   ]
  },
  {
   "cell_type": "code",
   "execution_count": null,
   "id": "139e554f",
   "metadata": {},
   "outputs": [],
   "source": [
    "# fold0 =>\n",
    "# thres 0.3000 tp 8029 all_pos 9501.0000 pred_pos 11339.0000, score 0.7552\n",
    "# thres 0.4000 tp 7524 all_pos 9501.0000 pred_pos 9941.0000, score 0.7569\n",
    "# thres 0.5000 tp 6902 all_pos 9501.0000 pred_pos 8660.0000, score 0.7439\n",
    "\n",
    "# fold1 =>\n",
    "# thres 0.3000 tp 8239 all_pos 9984.0000 pred_pos 12388.0000, score 0.7219\n",
    "# thres 0.4000 tp 7715 all_pos 9984.0000 pred_pos 10807.0000, score 0.7250\n",
    "# thres 0.5000 tp 7169 all_pos 9984.0000 pred_pos 9540.0000, score 0.7174\n",
    "\n",
    "# fold2 =>\n",
    "# thres 0.3000 tp 7445 all_pos 8746.0000 pred_pos 10491.0000, score 0.7599\n",
    "# thres 0.4000 tp 6997 all_pos 8746.0000 pred_pos 9259.0000, score 0.7611\n",
    "# thres 0.5000 tp 6493 all_pos 8746.0000 pred_pos 8176.0000, score 0.7518\n",
    "\n",
    "# fold3 =>\n",
    "# thres 0.2000 tp 9606 all_pos 11053.0000 pred_pos 15470.0000, score 0.7122\n",
    "# thres 0.3000 tp 9006 all_pos 11053.0000 pred_pos 13202.0000, score 0.7252\n",
    "# thres 0.4000 tp 8342 all_pos 11053.0000 pred_pos 11425.0000, score 0.7231\n",
    "# thres 0.5000 tp 7665 all_pos 11053.0000 pred_pos 9951.0000, score 0.7122\n",
    "\n",
    "# fold4 =>\n",
    "# thres 0.2000 tp 7292 all_pos 8383.0000 pred_pos 10926.0000, score 0.7422\n",
    "# thres 0.3000 tp 6819 all_pos 8383.0000 pred_pos 9460.0000, score 0.7474\n",
    "# thres 0.4000 tp 6357 all_pos 8383.0000 pred_pos 8340.0000, score 0.7426\n",
    "# thres 0.5000 tp 5897 all_pos 8383.0000 pred_pos 7346.0000, score 0.7345"
   ]
  },
  {
   "cell_type": "code",
   "execution_count": null,
   "id": "af8d4a59",
   "metadata": {},
   "outputs": [],
   "source": []
  }
 ],
 "metadata": {
  "kernelspec": {
   "display_name": "Python 3 (ipykernel)",
   "language": "python",
   "name": "python3"
  },
  "language_info": {
   "codemirror_mode": {
    "name": "ipython",
    "version": 3
   },
   "file_extension": ".py",
   "mimetype": "text/x-python",
   "name": "python",
   "nbconvert_exporter": "python",
   "pygments_lexer": "ipython3",
   "version": "3.7.12"
  }
 },
 "nbformat": 4,
 "nbformat_minor": 5
}
