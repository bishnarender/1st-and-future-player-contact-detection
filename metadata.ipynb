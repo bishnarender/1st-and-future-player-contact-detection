{
 "cells": [
  {
   "cell_type": "code",
   "execution_count": 1,
   "id": "3f541575",
   "metadata": {},
   "outputs": [],
   "source": [
    "from tqdm import tqdm \n",
    "import pandas as pd \n",
    "import numpy as np \n"
   ]
  },
  {
   "cell_type": "code",
   "execution_count": null,
   "id": "53ea78e4",
   "metadata": {},
   "outputs": [],
   "source": []
  },
  {
   "cell_type": "code",
   "execution_count": 3,
   "id": "a0e4f2c6",
   "metadata": {},
   "outputs": [],
   "source": [
    "df = pd.read_csv('data/train_baseline_helmets.csv')"
   ]
  },
  {
   "cell_type": "code",
   "execution_count": 5,
   "id": "4a588fd5",
   "metadata": {},
   "outputs": [
    {
     "data": {
      "text/plain": [
       "game_play        0\n",
       "game_key         0\n",
       "play_id          0\n",
       "view             0\n",
       "video            0\n",
       "frame            0\n",
       "nfl_player_id    0\n",
       "player_label     0\n",
       "left             0\n",
       "width            0\n",
       "top              0\n",
       "height           0\n",
       "dtype: int64"
      ]
     },
     "execution_count": 5,
     "metadata": {},
     "output_type": "execute_result"
    }
   ],
   "source": [
    "df.isna().sum()"
   ]
  },
  {
   "cell_type": "code",
   "execution_count": 6,
   "id": "1980fd28",
   "metadata": {},
   "outputs": [],
   "source": [
    "# df = df.fillna(99)"
   ]
  },
  {
   "cell_type": "code",
   "execution_count": 7,
   "id": "f367f273",
   "metadata": {},
   "outputs": [
    {
     "data": {
      "text/html": [
       "<div>\n",
       "<style scoped>\n",
       "    .dataframe tbody tr th:only-of-type {\n",
       "        vertical-align: middle;\n",
       "    }\n",
       "\n",
       "    .dataframe tbody tr th {\n",
       "        vertical-align: top;\n",
       "    }\n",
       "\n",
       "    .dataframe thead th {\n",
       "        text-align: right;\n",
       "    }\n",
       "</style>\n",
       "<table border=\"1\" class=\"dataframe\">\n",
       "  <thead>\n",
       "    <tr style=\"text-align: right;\">\n",
       "      <th></th>\n",
       "      <th>game_play</th>\n",
       "      <th>game_key</th>\n",
       "      <th>play_id</th>\n",
       "      <th>view</th>\n",
       "      <th>video</th>\n",
       "      <th>frame</th>\n",
       "      <th>nfl_player_id</th>\n",
       "      <th>player_label</th>\n",
       "      <th>left</th>\n",
       "      <th>width</th>\n",
       "      <th>top</th>\n",
       "      <th>height</th>\n",
       "    </tr>\n",
       "  </thead>\n",
       "  <tbody>\n",
       "    <tr>\n",
       "      <th>0</th>\n",
       "      <td>58168_003392</td>\n",
       "      <td>58168</td>\n",
       "      <td>3392</td>\n",
       "      <td>Endzone</td>\n",
       "      <td>58168_003392_Endzone.mp4</td>\n",
       "      <td>290</td>\n",
       "      <td>39947</td>\n",
       "      <td>H72</td>\n",
       "      <td>946</td>\n",
       "      <td>25</td>\n",
       "      <td>293</td>\n",
       "      <td>34</td>\n",
       "    </tr>\n",
       "    <tr>\n",
       "      <th>1</th>\n",
       "      <td>58168_003392</td>\n",
       "      <td>58168</td>\n",
       "      <td>3392</td>\n",
       "      <td>Endzone</td>\n",
       "      <td>58168_003392_Endzone.mp4</td>\n",
       "      <td>290</td>\n",
       "      <td>37211</td>\n",
       "      <td>H42</td>\n",
       "      <td>151</td>\n",
       "      <td>25</td>\n",
       "      <td>267</td>\n",
       "      <td>33</td>\n",
       "    </tr>\n",
       "    <tr>\n",
       "      <th>2</th>\n",
       "      <td>58168_003392</td>\n",
       "      <td>58168</td>\n",
       "      <td>3392</td>\n",
       "      <td>Endzone</td>\n",
       "      <td>58168_003392_Endzone.mp4</td>\n",
       "      <td>290</td>\n",
       "      <td>38590</td>\n",
       "      <td>H70</td>\n",
       "      <td>810</td>\n",
       "      <td>25</td>\n",
       "      <td>293</td>\n",
       "      <td>35</td>\n",
       "    </tr>\n",
       "  </tbody>\n",
       "</table>\n",
       "</div>"
      ],
      "text/plain": [
       "      game_play  game_key  play_id     view                     video  frame  \\\n",
       "0  58168_003392     58168     3392  Endzone  58168_003392_Endzone.mp4    290   \n",
       "1  58168_003392     58168     3392  Endzone  58168_003392_Endzone.mp4    290   \n",
       "2  58168_003392     58168     3392  Endzone  58168_003392_Endzone.mp4    290   \n",
       "\n",
       "   nfl_player_id player_label  left  width  top  height  \n",
       "0          39947          H72   946     25  293      34  \n",
       "1          37211          H42   151     25  267      33  \n",
       "2          38590          H70   810     25  293      35  "
      ]
     },
     "execution_count": 7,
     "metadata": {},
     "output_type": "execute_result"
    }
   ],
   "source": [
    "df.head(3)"
   ]
  },
  {
   "cell_type": "code",
   "execution_count": null,
   "id": "66573bd5",
   "metadata": {},
   "outputs": [],
   "source": []
  },
  {
   "cell_type": "code",
   "execution_count": 9,
   "id": "b19a3338",
   "metadata": {},
   "outputs": [
    {
     "name": "stderr",
     "output_type": "stream",
     "text": [
      "3783616it [08:55, 7063.55it/s]\n"
     ]
    }
   ],
   "source": [
    "## cache baseline helmet bounding boxes\n",
    "det_dict = {}\n",
    "for i, row in tqdm(df.iterrows()):    \n",
    "    vid = row['game_play'] + '_' + row['view']\n",
    "    frame = row['frame']\n",
    "    p_id = row['nfl_player_id']\n",
    "        # vid => 58168_003392_Endzone\n",
    "    if vid not in det_dict:\n",
    "        det_dict[vid] = {}\n",
    "\n",
    "    if frame not in det_dict[vid]:\n",
    "        det_dict[vid][frame] = {}\n",
    "\n",
    "    if p_id not in det_dict[vid][frame]:\n",
    "        if 'H' in row['player_label']:\n",
    "            t = 'home'\n",
    "        else:\n",
    "            t = 'v'\n",
    "\n",
    "        det_dict[vid][frame][p_id] = {'box': [row['left'], row['top'], row['width'], row['height']], 'contact': [], 't': t}\n",
    "\n"
   ]
  },
  {
   "cell_type": "code",
   "execution_count": 13,
   "id": "b26bc277",
   "metadata": {},
   "outputs": [
    {
     "data": {
      "text/plain": [
       "{39947: {'box': [946, 293, 25, 34], 'contact': [], 't': 'home'},\n",
       " 37211: {'box': [151, 267, 25, 33], 'contact': [], 't': 'home'},\n",
       " 38590: {'box': [810, 293, 25, 35], 'contact': [], 't': 'home'},\n",
       " 44822: {'box': [681, 254, 26, 33], 'contact': [], 't': 'home'},\n",
       " 41944: {'box': [680, 303, 23, 33], 'contact': [], 't': 'v'},\n",
       " 46137: {'box': [588, 351, 25, 25], 'contact': [], 't': 'v'},\n",
       " 38556: {'box': [1215, 284, 27, 23], 'contact': [], 't': 'v'},\n",
       " 45695: {'box': [539, 291, 26, 34], 'contact': [], 't': 'home'},\n",
       " 40011: {'box': [1090, 262, 25, 31], 'contact': [], 't': 'home'},\n",
       " 46445: {'box': [244, 296, 25, 32], 'contact': [], 't': 'home'},\n",
       " 52440: {'box': [694, 180, 24, 32], 'contact': [], 't': 'home'},\n",
       " 43395: {'box': [1034, 388, 29, 25], 'contact': [], 't': 'v'},\n",
       " 42565: {'box': [627, 321, 22, 17], 'contact': [], 't': 'home'},\n",
       " 42386: {'box': [693, 333, 24, 20], 'contact': [], 't': 'v'},\n",
       " 37084: {'box': [394, 317, 22, 17], 'contact': [], 't': 'v'},\n",
       " 47944: {'box': [933, 317, 22, 18], 'contact': [], 't': 'v'},\n",
       " 44869: {'box': [244, 326, 23, 20], 'contact': [], 't': 'v'},\n",
       " 43854: {'box': [117, 278, 25, 21], 'contact': [], 't': 'v'},\n",
       " 38567: {'box': [384, 288, 25, 34], 'contact': [], 't': 'home'},\n",
       " 41257: {'box': [4, 333, 25, 23], 'contact': [], 't': 'v'}}"
      ]
     },
     "execution_count": 13,
     "metadata": {},
     "output_type": "execute_result"
    }
   ],
   "source": [
    "det_dict['58168_003392_Endzone'][290]"
   ]
  },
  {
   "cell_type": "code",
   "execution_count": 12,
   "id": "a8ed6059",
   "metadata": {},
   "outputs": [],
   "source": [
    "np.save('data/det_dict.npy', det_dict)"
   ]
  },
  {
   "cell_type": "code",
   "execution_count": null,
   "id": "6d637aa7",
   "metadata": {},
   "outputs": [],
   "source": []
  },
  {
   "cell_type": "code",
   "execution_count": null,
   "id": "d2992763",
   "metadata": {},
   "outputs": [],
   "source": []
  },
  {
   "cell_type": "code",
   "execution_count": null,
   "id": "c306534d",
   "metadata": {},
   "outputs": [],
   "source": []
  },
  {
   "cell_type": "code",
   "execution_count": null,
   "id": "713987f3",
   "metadata": {},
   "outputs": [],
   "source": []
  },
  {
   "cell_type": "code",
   "execution_count": 2,
   "id": "2b0ca831",
   "metadata": {},
   "outputs": [],
   "source": [
    "trk_df = pd.read_csv('data/train_player_tracking.csv')"
   ]
  },
  {
   "cell_type": "code",
   "execution_count": 3,
   "id": "beb13195",
   "metadata": {},
   "outputs": [
    {
     "data": {
      "text/html": [
       "<div>\n",
       "<style scoped>\n",
       "    .dataframe tbody tr th:only-of-type {\n",
       "        vertical-align: middle;\n",
       "    }\n",
       "\n",
       "    .dataframe tbody tr th {\n",
       "        vertical-align: top;\n",
       "    }\n",
       "\n",
       "    .dataframe thead th {\n",
       "        text-align: right;\n",
       "    }\n",
       "</style>\n",
       "<table border=\"1\" class=\"dataframe\">\n",
       "  <thead>\n",
       "    <tr style=\"text-align: right;\">\n",
       "      <th></th>\n",
       "      <th>game_play</th>\n",
       "      <th>game_key</th>\n",
       "      <th>play_id</th>\n",
       "      <th>nfl_player_id</th>\n",
       "      <th>datetime</th>\n",
       "      <th>step</th>\n",
       "      <th>team</th>\n",
       "      <th>position</th>\n",
       "      <th>jersey_number</th>\n",
       "      <th>x_position</th>\n",
       "      <th>y_position</th>\n",
       "      <th>speed</th>\n",
       "      <th>distance</th>\n",
       "      <th>direction</th>\n",
       "      <th>orientation</th>\n",
       "      <th>acceleration</th>\n",
       "      <th>sa</th>\n",
       "    </tr>\n",
       "  </thead>\n",
       "  <tbody>\n",
       "    <tr>\n",
       "      <th>0</th>\n",
       "      <td>58580_001136</td>\n",
       "      <td>58580</td>\n",
       "      <td>1136</td>\n",
       "      <td>44830</td>\n",
       "      <td>2021-10-10T21:08:20.900Z</td>\n",
       "      <td>-108</td>\n",
       "      <td>away</td>\n",
       "      <td>CB</td>\n",
       "      <td>22</td>\n",
       "      <td>61.59</td>\n",
       "      <td>42.60</td>\n",
       "      <td>1.11</td>\n",
       "      <td>0.11</td>\n",
       "      <td>320.33</td>\n",
       "      <td>263.93</td>\n",
       "      <td>0.71</td>\n",
       "      <td>-0.64</td>\n",
       "    </tr>\n",
       "    <tr>\n",
       "      <th>1</th>\n",
       "      <td>58580_001136</td>\n",
       "      <td>58580</td>\n",
       "      <td>1136</td>\n",
       "      <td>47800</td>\n",
       "      <td>2021-10-10T21:08:20.900Z</td>\n",
       "      <td>-108</td>\n",
       "      <td>away</td>\n",
       "      <td>DE</td>\n",
       "      <td>97</td>\n",
       "      <td>59.48</td>\n",
       "      <td>26.81</td>\n",
       "      <td>0.23</td>\n",
       "      <td>0.01</td>\n",
       "      <td>346.84</td>\n",
       "      <td>247.16</td>\n",
       "      <td>1.29</td>\n",
       "      <td>0.90</td>\n",
       "    </tr>\n",
       "    <tr>\n",
       "      <th>2</th>\n",
       "      <td>58580_001136</td>\n",
       "      <td>58580</td>\n",
       "      <td>1136</td>\n",
       "      <td>52444</td>\n",
       "      <td>2021-10-10T21:08:20.900Z</td>\n",
       "      <td>-108</td>\n",
       "      <td>away</td>\n",
       "      <td>FS</td>\n",
       "      <td>29</td>\n",
       "      <td>72.19</td>\n",
       "      <td>31.46</td>\n",
       "      <td>0.61</td>\n",
       "      <td>0.06</td>\n",
       "      <td>11.77</td>\n",
       "      <td>247.69</td>\n",
       "      <td>0.63</td>\n",
       "      <td>-0.33</td>\n",
       "    </tr>\n",
       "  </tbody>\n",
       "</table>\n",
       "</div>"
      ],
      "text/plain": [
       "      game_play  game_key  play_id  nfl_player_id                  datetime  \\\n",
       "0  58580_001136     58580     1136          44830  2021-10-10T21:08:20.900Z   \n",
       "1  58580_001136     58580     1136          47800  2021-10-10T21:08:20.900Z   \n",
       "2  58580_001136     58580     1136          52444  2021-10-10T21:08:20.900Z   \n",
       "\n",
       "   step  team position  jersey_number  x_position  y_position  speed  \\\n",
       "0  -108  away       CB             22       61.59       42.60   1.11   \n",
       "1  -108  away       DE             97       59.48       26.81   0.23   \n",
       "2  -108  away       FS             29       72.19       31.46   0.61   \n",
       "\n",
       "   distance  direction  orientation  acceleration    sa  \n",
       "0      0.11     320.33       263.93          0.71 -0.64  \n",
       "1      0.01     346.84       247.16          1.29  0.90  \n",
       "2      0.06      11.77       247.69          0.63 -0.33  "
      ]
     },
     "execution_count": 3,
     "metadata": {},
     "output_type": "execute_result"
    }
   ],
   "source": [
    "trk_df.head(3)"
   ]
  },
  {
   "cell_type": "code",
   "execution_count": 4,
   "id": "2e2926c7",
   "metadata": {},
   "outputs": [
    {
     "name": "stdout",
     "output_type": "stream",
     "text": [
      "(896069, 17)\n"
     ]
    }
   ],
   "source": [
    "trk_df = trk_df[trk_df['step']>-60]\n",
    "print(trk_df.shape)"
   ]
  },
  {
   "cell_type": "code",
   "execution_count": 11,
   "id": "500c0bf5",
   "metadata": {},
   "outputs": [
    {
     "name": "stderr",
     "output_type": "stream",
     "text": [
      "896069it [01:47, 8300.13it/s]\n"
     ]
    }
   ],
   "source": [
    "## cache tracking player position\n",
    "trk_dict = {}\n",
    "for i, row in tqdm(trk_df.iterrows()):\n",
    "    vid = row['game_play']\n",
    "    p_id = row['nfl_player_id']\n",
    "    step = row['step']\n",
    "    idx = f'{vid}_{step}'\n",
    "    if idx not in trk_dict:\n",
    "        trk_dict[idx] = {}\n",
    "\n",
    "    trk_dict[idx][p_id] = {'x': row['x_position'], 'y': row['y_position'], 't': row['team']}"
   ]
  },
  {
   "cell_type": "code",
   "execution_count": 12,
   "id": "a8c95743",
   "metadata": {},
   "outputs": [
    {
     "data": {
      "text/plain": [
       "{53479: {'x': 59.5, 'y': 29.45, 't': 'away'},\n",
       " 45532: {'x': 57.1, 'y': 31.0, 't': 'home'},\n",
       " 52554: {'x': 57.91, 'y': 26.31, 't': 'home'},\n",
       " 52663: {'x': 63.2, 'y': 27.15, 't': 'away'},\n",
       " 43293: {'x': 51.14, 'y': 26.38, 't': 'home'},\n",
       " 43424: {'x': 57.29, 'y': 26.33, 't': 'home'},\n",
       " 42355: {'x': 59.6, 'y': 24.4, 't': 'away'},\n",
       " 44830: {'x': 60.4, 'y': 43.51, 't': 'away'},\n",
       " 53876: {'x': 59.54, 'y': 22.68, 't': 'away'},\n",
       " 52425: {'x': 56.59, 'y': 42.83, 't': 'home'},\n",
       " 37082: {'x': 57.17, 'y': 29.57, 't': 'home'},\n",
       " 41242: {'x': 57.37, 'y': 24.76, 't': 'home'},\n",
       " 42347: {'x': 56.15, 'y': 10.61, 't': 'home'},\n",
       " 47800: {'x': 59.38, 'y': 26.9, 't': 'away'},\n",
       " 43330: {'x': 59.81, 'y': 32.83, 't': 'away'},\n",
       " 40031: {'x': 67.04, 'y': 22.3, 't': 'away'},\n",
       " 52444: {'x': 74.28, 'y': 30.95, 't': 'away'},\n",
       " 43351: {'x': 65.02, 'y': 10.78, 't': 'away'},\n",
       " 46135: {'x': 59.46, 'y': 20.84, 't': 'away'},\n",
       " 46206: {'x': 57.49, 'y': 22.04, 't': 'home'},\n",
       " 46119: {'x': 57.29, 'y': 28.1, 't': 'home'},\n",
       " 52938: {'x': 57.34, 'y': 23.44, 't': 'home'}}"
      ]
     },
     "execution_count": 12,
     "metadata": {},
     "output_type": "execute_result"
    }
   ],
   "source": [
    "trk_dict['58580_001136_-59']"
   ]
  },
  {
   "cell_type": "code",
   "execution_count": 13,
   "id": "015b512f",
   "metadata": {},
   "outputs": [],
   "source": [
    "np.save('data/trk_pos.npy', trk_dict)"
   ]
  },
  {
   "cell_type": "code",
   "execution_count": null,
   "id": "912dc356",
   "metadata": {},
   "outputs": [],
   "source": []
  },
  {
   "cell_type": "code",
   "execution_count": null,
   "id": "a902af45",
   "metadata": {},
   "outputs": [],
   "source": []
  },
  {
   "cell_type": "code",
   "execution_count": null,
   "id": "b1d27737",
   "metadata": {},
   "outputs": [],
   "source": []
  },
  {
   "cell_type": "code",
   "execution_count": 16,
   "id": "c808de61",
   "metadata": {},
   "outputs": [
    {
     "name": "stderr",
     "output_type": "stream",
     "text": [
      "0it [00:00, ?it/s]"
     ]
    },
    {
     "name": "stdout",
     "output_type": "stream",
     "text": [
      "58580_001136_53479\n"
     ]
    },
    {
     "name": "stderr",
     "output_type": "stream",
     "text": [
      "\n"
     ]
    }
   ],
   "source": [
    "## cache tracking player metadata\n",
    "trk_df = pd.read_csv('data/train_player_tracking.csv')\n",
    "trk_df = trk_df[trk_df.step>-60]\n",
    "# trk_dict = {}\n",
    "for i, row in tqdm(trk_df.iterrows()):\n",
    "    vid = row['game_play']\n",
    "    idx = row['nfl_player_id']\n",
    "    idx = f'{vid}_{idx}'\n",
    "    step = row['step']\n",
    "    if idx not in trk_dict:\n",
    "        trk_dict[idx] = {}\n",
    "\n",
    "    trk_dict[idx][step] = {'s': row['speed'], 'dis': row['distance'], 'dir': row['direction'], 'o': row['orientation'], 'a': row['acceleration'], 'sa': row['sa'], 'x': row['x_position'], 'y': row['y_position'], 't': row['team']}\n",
    "\n"
   ]
  },
  {
   "cell_type": "code",
   "execution_count": 19,
   "id": "6b4e3547",
   "metadata": {},
   "outputs": [
    {
     "data": {
      "text/plain": [
       "{'s': 0.15,\n",
       " 'dis': 0.02,\n",
       " 'dir': 61.79,\n",
       " 'o': 255.95,\n",
       " 'a': 0.62,\n",
       " 'sa': -0.15,\n",
       " 'x': 59.5,\n",
       " 'y': 29.45,\n",
       " 't': 'away'}"
      ]
     },
     "execution_count": 19,
     "metadata": {},
     "output_type": "execute_result"
    }
   ],
   "source": [
    "trk_dict['58580_001136_53479'][-59]"
   ]
  },
  {
   "cell_type": "code",
   "execution_count": 20,
   "id": "8e784d8a",
   "metadata": {},
   "outputs": [],
   "source": [
    "np.save('data/trk_dict.npy',trk_dict)"
   ]
  },
  {
   "cell_type": "code",
   "execution_count": null,
   "id": "e45bdf35",
   "metadata": {},
   "outputs": [],
   "source": []
  }
 ],
 "metadata": {
  "kernelspec": {
   "display_name": "Python 3 (ipykernel)",
   "language": "python",
   "name": "python3"
  },
  "language_info": {
   "codemirror_mode": {
    "name": "ipython",
    "version": 3
   },
   "file_extension": ".py",
   "mimetype": "text/x-python",
   "name": "python",
   "nbconvert_exporter": "python",
   "pygments_lexer": "ipython3",
   "version": "3.7.12"
  }
 },
 "nbformat": 4,
 "nbformat_minor": 5
}
