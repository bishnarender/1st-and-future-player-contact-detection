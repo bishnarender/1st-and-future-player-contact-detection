{
 "cells": [
  {
   "cell_type": "code",
   "execution_count": 12,
   "id": "ad2597b9",
   "metadata": {
    "execution": {
     "iopub.execute_input": "2023-03-22T12:45:20.458315Z",
     "iopub.status.busy": "2023-03-22T12:45:20.457920Z",
     "iopub.status.idle": "2023-03-22T12:45:23.468872Z",
     "shell.execute_reply": "2023-03-22T12:45:23.467643Z",
     "shell.execute_reply.started": "2023-03-22T12:45:20.458282Z"
    }
   },
   "outputs": [],
   "source": [
    "import os\n",
    "import gc\n",
    "\n",
    "\n",
    "import numpy as np\n",
    "import pandas as pd\n",
    "import cv2\n",
    "\n",
    "\n",
    "import math\n",
    "import xgboost as xgb\n",
    "import torch\n",
    "import scipy.stats as sss\n",
    "\n",
    "\n",
    "from sklearn.metrics import roc_auc_score, matthews_corrcoef\n",
    "from glob import glob\n",
    "from tqdm import tqdm\n",
    "from shutil import copyfile"
   ]
  },
  {
   "cell_type": "code",
   "execution_count": 13,
   "id": "7667f095",
   "metadata": {
    "execution": {
     "iopub.execute_input": "2023-03-22T12:45:23.471536Z",
     "iopub.status.busy": "2023-03-22T12:45:23.470728Z",
     "iopub.status.idle": "2023-03-22T12:45:23.476643Z",
     "shell.execute_reply": "2023-03-22T12:45:23.475500Z",
     "shell.execute_reply.started": "2023-03-22T12:45:23.471496Z"
    }
   },
   "outputs": [],
   "source": [
    "import random"
   ]
  },
  {
   "cell_type": "code",
   "execution_count": 14,
   "id": "4d7b3f6a",
   "metadata": {
    "execution": {
     "iopub.execute_input": "2023-03-22T12:45:23.477900Z",
     "iopub.status.busy": "2023-03-22T12:45:23.477572Z",
     "iopub.status.idle": "2023-03-22T12:45:23.487983Z",
     "shell.execute_reply": "2023-03-22T12:45:23.487055Z",
     "shell.execute_reply.started": "2023-03-22T12:45:23.477869Z"
    }
   },
   "outputs": [],
   "source": [
    "def seed_everything(random_seed):\n",
    "    random.seed(random_seed)\n",
    "    np.random.seed(random_seed)\n",
    "    torch.manual_seed(random_seed)\n",
    "    os.environ[\"PYTHONHASHSEED\"] = str(random_seed)\n",
    "#     if torch.cuda.is_available():\n",
    "    torch.cuda.manual_seed(random_seed)\n",
    "    torch.cuda.manual_seed_all(random_seed)\n",
    "    # torch.backends.cudnn.enabled = False\n",
    "    torch.backends.cudnn.benchmark = False        \n",
    "    torch.backends.cudnn.deterministic = True"
   ]
  },
  {
   "cell_type": "code",
   "execution_count": 15,
   "id": "3cbf9084",
   "metadata": {
    "execution": {
     "iopub.execute_input": "2023-03-22T12:45:23.491912Z",
     "iopub.status.busy": "2023-03-22T12:45:23.491520Z",
     "iopub.status.idle": "2023-03-22T12:45:23.500241Z",
     "shell.execute_reply": "2023-03-22T12:45:23.498883Z",
     "shell.execute_reply.started": "2023-03-22T12:45:23.491876Z"
    }
   },
   "outputs": [],
   "source": [
    "class Config:\n",
    "    NAME = \"xgb_post_not_g\"\n",
    "\n",
    "    seed = 42\n",
    "    num_fold = 5\n",
    "    \n",
    "    xgb_params = {\n",
    "        'objective': 'binary:logistic',\n",
    "        'eval_metric': 'auc',\n",
    "        'learning_rate':0.005,\n",
    "        'tree_method':'hist' if not torch.cuda.is_available() else 'gpu_hist'\n",
    "    }"
   ]
  },
  {
   "cell_type": "code",
   "execution_count": 16,
   "id": "c62fc9aa",
   "metadata": {
    "execution": {
     "iopub.execute_input": "2023-03-22T12:45:23.505666Z",
     "iopub.status.busy": "2023-03-22T12:45:23.501755Z",
     "iopub.status.idle": "2023-03-22T12:45:23.514649Z",
     "shell.execute_reply": "2023-03-22T12:45:23.513289Z",
     "shell.execute_reply.started": "2023-03-22T12:45:23.505609Z"
    }
   },
   "outputs": [],
   "source": [
    "def setup(cfg):\n",
    "    cfg.device = torch.device('cuda' if torch.cuda.is_available() else 'cpu')\n",
    "    \n",
    "    # set dirs\n",
    "    cfg.EXP = cfg.NAME\n",
    "\n",
    "    cfg.EXP_MODEL = os.path.join(cfg.EXP, 'model')\n",
    "    cfg.EXP_FIG = os.path.join(cfg.EXP, 'fig')\n",
    "    cfg.EXP_PREDS = os.path.join(cfg.EXP, 'preds')\n",
    "\n",
    "    # make dirs\n",
    "    for d in [cfg.EXP_MODEL, cfg.EXP_FIG, cfg.EXP_PREDS]:\n",
    "        os.makedirs(d, exist_ok=True)\n",
    "        \n",
    "    return cfg\n"
   ]
  },
  {
   "cell_type": "code",
   "execution_count": 17,
   "id": "254d6cc7",
   "metadata": {
    "execution": {
     "iopub.execute_input": "2023-03-22T12:45:23.519009Z",
     "iopub.status.busy": "2023-03-22T12:45:23.515994Z",
     "iopub.status.idle": "2023-03-22T12:45:23.525312Z",
     "shell.execute_reply": "2023-03-22T12:45:23.524212Z",
     "shell.execute_reply.started": "2023-03-22T12:45:23.518961Z"
    }
   },
   "outputs": [],
   "source": [
    "cfg = setup(Config)"
   ]
  },
  {
   "cell_type": "code",
   "execution_count": 18,
   "id": "0cfc2ecb",
   "metadata": {
    "execution": {
     "iopub.execute_input": "2023-03-22T12:45:23.527447Z",
     "iopub.status.busy": "2023-03-22T12:45:23.527042Z",
     "iopub.status.idle": "2023-03-22T12:45:23.539358Z",
     "shell.execute_reply": "2023-03-22T12:45:23.537678Z",
     "shell.execute_reply.started": "2023-03-22T12:45:23.527370Z"
    }
   },
   "outputs": [],
   "source": [
    "seed_everything(cfg.seed)"
   ]
  },
  {
   "cell_type": "code",
   "execution_count": null,
   "id": "63e8083f",
   "metadata": {},
   "outputs": [],
   "source": []
  },
  {
   "cell_type": "markdown",
   "id": "ddbc8875",
   "metadata": {},
   "source": [
    "### Pre folds setup"
   ]
  },
  {
   "cell_type": "code",
   "execution_count": 19,
   "id": "567cd3cb",
   "metadata": {
    "execution": {
     "iopub.execute_input": "2023-03-22T12:45:23.541023Z",
     "iopub.status.busy": "2023-03-22T12:45:23.540656Z",
     "iopub.status.idle": "2023-03-22T12:45:23.546639Z",
     "shell.execute_reply": "2023-03-22T12:45:23.545661Z",
     "shell.execute_reply.started": "2023-03-22T12:45:23.540985Z"
    }
   },
   "outputs": [
    {
     "name": "stdout",
     "output_type": "stream",
     "text": [
      "(711383, 9)\n"
     ]
    }
   ],
   "source": [
    "df_train_df = pd.read_csv('./xgb_pre_not_g/model/xgb_not_G_oof.csv') \n",
    "    # train_df['contact_id'][:2] =>\n",
    "    # 0    58168_003392_0_38590_43854\n",
    "    # 1    58168_003392_0_38590_41257\n",
    "    # Name: contact_id, dtype: object\n",
    "df_train_df['step'] = df_train_df['contact_id'].apply(lambda x: int(x.split('_')[2]))\n",
    "    # train_df['step'][:2] =>    \n",
    "    # 0    0\n",
    "    # 1    0\n",
    "    # Name: contact_id, dtype: int64 \n",
    "\n",
    "df_train_df['vid'] = df_train_df['contact_id'].apply(lambda x: '_'.join(x.split('_')[:2]))\n",
    "    # train_df['vid'][:2] =>    \n",
    "    # 0    58168_003392\n",
    "    # 1    58168_003392\n",
    "    # Name: contact_id, dtype: object\n",
    "    \n",
    "print(df_train_df.shape)"
   ]
  },
  {
   "cell_type": "code",
   "execution_count": 20,
   "id": "f5ecdb0d",
   "metadata": {},
   "outputs": [
    {
     "data": {
      "text/html": [
       "<div>\n",
       "<style scoped>\n",
       "    .dataframe tbody tr th:only-of-type {\n",
       "        vertical-align: middle;\n",
       "    }\n",
       "\n",
       "    .dataframe tbody tr th {\n",
       "        vertical-align: top;\n",
       "    }\n",
       "\n",
       "    .dataframe thead th {\n",
       "        text-align: right;\n",
       "    }\n",
       "</style>\n",
       "<table border=\"1\" class=\"dataframe\">\n",
       "  <thead>\n",
       "    <tr style=\"text-align: right;\">\n",
       "      <th></th>\n",
       "      <th>contact_id</th>\n",
       "      <th>fold</th>\n",
       "      <th>contact</th>\n",
       "      <th>pred</th>\n",
       "      <th>frame</th>\n",
       "      <th>nfl_player_id_1</th>\n",
       "      <th>nfl_player_id_2</th>\n",
       "      <th>step</th>\n",
       "      <th>vid</th>\n",
       "    </tr>\n",
       "  </thead>\n",
       "  <tbody>\n",
       "    <tr>\n",
       "      <th>0</th>\n",
       "      <td>58168_003392_0_38590_41944</td>\n",
       "      <td>0</td>\n",
       "      <td>0</td>\n",
       "      <td>0.000031</td>\n",
       "      <td>294.665</td>\n",
       "      <td>38590</td>\n",
       "      <td>41944</td>\n",
       "      <td>0</td>\n",
       "      <td>58168_003392</td>\n",
       "    </tr>\n",
       "    <tr>\n",
       "      <th>1</th>\n",
       "      <td>58168_003392_0_38590_47944</td>\n",
       "      <td>0</td>\n",
       "      <td>0</td>\n",
       "      <td>0.000087</td>\n",
       "      <td>294.665</td>\n",
       "      <td>38590</td>\n",
       "      <td>47944</td>\n",
       "      <td>0</td>\n",
       "      <td>58168_003392</td>\n",
       "    </tr>\n",
       "    <tr>\n",
       "      <th>2</th>\n",
       "      <td>58168_003392_0_38590_44822</td>\n",
       "      <td>0</td>\n",
       "      <td>0</td>\n",
       "      <td>0.000083</td>\n",
       "      <td>294.665</td>\n",
       "      <td>38590</td>\n",
       "      <td>44822</td>\n",
       "      <td>0</td>\n",
       "      <td>58168_003392</td>\n",
       "    </tr>\n",
       "    <tr>\n",
       "      <th>3</th>\n",
       "      <td>58168_003392_0_38590_39947</td>\n",
       "      <td>0</td>\n",
       "      <td>0</td>\n",
       "      <td>0.000234</td>\n",
       "      <td>294.665</td>\n",
       "      <td>38590</td>\n",
       "      <td>39947</td>\n",
       "      <td>0</td>\n",
       "      <td>58168_003392</td>\n",
       "    </tr>\n",
       "    <tr>\n",
       "      <th>4</th>\n",
       "      <td>58168_003392_0_38590_45695</td>\n",
       "      <td>0</td>\n",
       "      <td>0</td>\n",
       "      <td>0.000010</td>\n",
       "      <td>294.665</td>\n",
       "      <td>38590</td>\n",
       "      <td>45695</td>\n",
       "      <td>0</td>\n",
       "      <td>58168_003392</td>\n",
       "    </tr>\n",
       "  </tbody>\n",
       "</table>\n",
       "</div>"
      ],
      "text/plain": [
       "                   contact_id  fold  contact      pred    frame  \\\n",
       "0  58168_003392_0_38590_41944     0        0  0.000031  294.665   \n",
       "1  58168_003392_0_38590_47944     0        0  0.000087  294.665   \n",
       "2  58168_003392_0_38590_44822     0        0  0.000083  294.665   \n",
       "3  58168_003392_0_38590_39947     0        0  0.000234  294.665   \n",
       "4  58168_003392_0_38590_45695     0        0  0.000010  294.665   \n",
       "\n",
       "   nfl_player_id_1  nfl_player_id_2  step           vid  \n",
       "0            38590            41944     0  58168_003392  \n",
       "1            38590            47944     0  58168_003392  \n",
       "2            38590            44822     0  58168_003392  \n",
       "3            38590            39947     0  58168_003392  \n",
       "4            38590            45695     0  58168_003392  "
      ]
     },
     "execution_count": 20,
     "metadata": {},
     "output_type": "execute_result"
    }
   ],
   "source": [
    "df_train_df.head()"
   ]
  },
  {
   "cell_type": "markdown",
   "id": "48e4e254",
   "metadata": {},
   "source": [
    "### Train"
   ]
  },
  {
   "cell_type": "code",
   "execution_count": null,
   "id": "e7a3867a",
   "metadata": {},
   "outputs": [],
   "source": []
  },
  {
   "cell_type": "code",
   "execution_count": null,
   "id": "608ab5a5",
   "metadata": {},
   "outputs": [],
   "source": []
  },
  {
   "cell_type": "code",
   "execution_count": 21,
   "id": "8e0e0974",
   "metadata": {
    "execution": {
     "iopub.execute_input": "2023-03-22T12:45:23.548718Z",
     "iopub.status.busy": "2023-03-22T12:45:23.548039Z",
     "iopub.status.idle": "2023-03-22T12:45:23.564480Z",
     "shell.execute_reply": "2023-03-22T12:45:23.563041Z",
     "shell.execute_reply.started": "2023-03-22T12:45:23.548683Z"
    }
   },
   "outputs": [],
   "source": [
    "# https://www.kaggle.com/code/arjanso/reducing-dataframe-memory-size-by-65\n",
    "def reduce_mem_usage(props):\n",
    "#     start_mem_usg = props.memory_usage().sum() / 1024**2 \n",
    "#     print(\"Memory usage of properties dataframe is :\",start_mem_usg,\" MB\")\n",
    "#     NAlist = [] # Keeps track of columns that have missing values filled in. \n",
    "    for col in props.columns:\n",
    "        if props[col].dtype != object:  # Exclude strings\n",
    "            \n",
    "#             # Print current column type\n",
    "#             print(\"******************************\")\n",
    "#             print(\"Column: \",col)\n",
    "#             print(\"dtype before: \",props[col].dtype)\n",
    "            \n",
    "            # make variables for Int, max and min\n",
    "            IsInt = False\n",
    "            mx = props[col].max()\n",
    "            mn = props[col].min()\n",
    "            \n",
    "#             # Integer does not support NA, therefore, NA needs to be filled\n",
    "#             if not np.isfinite(props[col]).all(): \n",
    "#                 NAlist.append(col)\n",
    "#                 props[col].fillna(mn-1,inplace=True)  \n",
    "                   \n",
    "            # test if column dtype is int.\n",
    "            if 'int' in props[col].dtype.name:\n",
    "                IsInt = True\n",
    "\n",
    "            \n",
    "            # Make Integer/unsigned Integer datatypes\n",
    "            if IsInt:\n",
    "                if mn >= 0:\n",
    "                    if mx < 255:\n",
    "                        props[col] = props[col].astype(np.uint8)\n",
    "                    elif mx < 65535:\n",
    "                        props[col] = props[col].astype(np.uint16)\n",
    "                    elif mx < 4294967295:\n",
    "                        props[col] = props[col].astype(np.uint32)\n",
    "                    else:\n",
    "                        props[col] = props[col].astype(np.uint64)\n",
    "                else:\n",
    "                    if mn > np.iinfo(np.int8).min and mx < np.iinfo(np.int8).max:\n",
    "                        props[col] = props[col].astype(np.int8)\n",
    "                    elif mn > np.iinfo(np.int16).min and mx < np.iinfo(np.int16).max:\n",
    "                        props[col] = props[col].astype(np.int16)\n",
    "                    elif mn > np.iinfo(np.int32).min and mx < np.iinfo(np.int32).max:\n",
    "                        props[col] = props[col].astype(np.int32)\n",
    "                    elif mn > np.iinfo(np.int64).min and mx < np.iinfo(np.int64).max:\n",
    "                        props[col] = props[col].astype(np.int64)    \n",
    "            \n",
    "            # Make float datatypes 32 bit\n",
    "            else:\n",
    "                props[col] = props[col].astype(np.float32)\n",
    "            \n",
    "#             # Print new column type\n",
    "#             print(\"dtype after: \",props[col].dtype)\n",
    "#             print(\"******************************\")\n",
    "    \n",
    "#     # Print final result\n",
    "#     print(\"___MEMORY USAGE AFTER COMPLETION:___\")\n",
    "#     mem_usg = props.memory_usage().sum() / 1024**2 \n",
    "#     print(\"Memory usage is: \",mem_usg,\" MB\")\n",
    "#     print(\"This is \",100*mem_usg/start_mem_usg,\"% of the initial size\")\n",
    "#     return props, NAlist\n",
    "    return props"
   ]
  },
  {
   "cell_type": "code",
   "execution_count": 22,
   "id": "159feaa6",
   "metadata": {},
   "outputs": [],
   "source": [
    "def get_oof(config_name):\n",
    "    dfs = []\n",
    "    for i in [0,2,3,4]:#[0,1,2,3,4]\n",
    "#         df_pred = pd.read_csv(f'../cnn/outputs/{config_name}/oof_f{i}.csv')\n",
    "        df_pred = pd.read_csv(f'val_results/oof_{config_name}_f{i}.csv')        \n",
    "        dfs.append(df_pred)\n",
    "    df_pred = pd.concat(dfs).reset_index(drop=True)\n",
    "\n",
    "    pred_step_dict = {}\n",
    "    for i, row in df_pred.iterrows():\n",
    "        idx = row['path'].split('/')[-1]\n",
    "        step = int(idx.split('_')[-1])\n",
    "        root = '_'.join(idx.split('_')[:-2])\n",
    "        idx = f'{root}_{step}'\n",
    "        pred_step_dict[idx] = row['pred']\n",
    "\n",
    "    return pred_step_dict"
   ]
  },
  {
   "cell_type": "code",
   "execution_count": 23,
   "id": "ab0b3231",
   "metadata": {},
   "outputs": [],
   "source": [
    "def get_meta(path):\n",
    "    xgb_df = pd.read_csv(path)\n",
    "    xgb_dict = {}\n",
    "    for i, row in xgb_df.iterrows():\n",
    "        c_id = row['contact_id']\n",
    "        fr_id = int(row['frame'])\n",
    "        pred = row['pred']\n",
    "        gk, gp, st, idx1, idx2 = c_id.split('_')\n",
    "        idx = f'{gk}_{gp}_{idx1}_{idx2}_{st}'\n",
    "        xgb_dict[idx] = pred\n",
    "\n",
    "    return xgb_dict"
   ]
  },
  {
   "cell_type": "code",
   "execution_count": 27,
   "id": "8a617c04",
   "metadata": {
    "execution": {
     "iopub.execute_input": "2023-03-22T12:45:23.569540Z",
     "iopub.status.busy": "2023-03-22T12:45:23.569157Z",
     "iopub.status.idle": "2023-03-22T12:45:23.595286Z",
     "shell.execute_reply": "2023-03-22T12:45:23.593486Z",
     "shell.execute_reply.started": "2023-03-22T12:45:23.569508Z"
    }
   },
   "outputs": [],
   "source": [
    "def feature_engineering(train_df):    \n",
    "    \n",
    "    pred_step_dict1 = get_oof('r50ir_csn_c15_m1_d2_all')    \n",
    "    xgb_dict = get_meta('./xgb_pre_not_g/model/xgb_not_G_oof.csv')\n",
    "           \n",
    "    \n",
    "    results = []\n",
    "    for i, row in tqdm(train_df.iterrows()):\n",
    "        idx1 = row['nfl_player_id_1']\n",
    "        idx2 = row['nfl_player_id_2']\n",
    "        fr_id = int(row['frame'])\n",
    "        vid = row['vid']\n",
    "        idx = f'{vid}_{idx1}_{idx2}_{fr_id:04d}'\n",
    "        step = row['step']\n",
    "        idx = f'{idx}_{step}'\n",
    "\n",
    "        item = {'contact_id':row['contact_id'], 'contact':row['contact'], 'step':row['step'], 'frame': row['frame'], 'fold':row['fold']}\n",
    "        item['nfl_player_id_1'] = row['nfl_player_id_1']\n",
    "        item['nfl_player_id_2'] = row['nfl_player_id_2']\n",
    "        item['vid'] = row['vid']\n",
    "\n",
    "        for j in range(-10,10):\n",
    "            this_idx = f'{vid}_{idx1}_{idx2}_{step+j}'\n",
    "            prob = 0\n",
    "            weight = 0\n",
    "\n",
    "            if this_idx in pred_step_dict1:\n",
    "                prob += pred_step_dict1[this_idx]\n",
    "                weight += 1\n",
    "\n",
    "            if weight > 0:\n",
    "                item[f'prob_{j}'] = prob/weight\n",
    "            else:\n",
    "                item[f'prob_{j}'] = np.nan\n",
    "\n",
    "            if this_idx in xgb_dict:\n",
    "                item[f'prob1_{j}'] = xgb_dict[this_idx]\n",
    "            else:\n",
    "                item[f'prob1_{j}'] = np.nan\n",
    "\n",
    "        results.append(item) \n",
    "\n",
    "    train_df = pd.DataFrame(results)        \n",
    "\n",
    "    results = []\n",
    "    nan_val = np.nan\n",
    "    # window_size = 2\n",
    "    k=0\n",
    "    for i, row in tqdm(train_df.iterrows()):\n",
    "        vid = row['vid']\n",
    "        idx = row['nfl_player_id_1']\n",
    "        idx = f'{vid}_{idx}'\n",
    "\n",
    "        idx2 = row['nfl_player_id_2']\n",
    "        idx2 = f'{vid}_{idx2}'\n",
    "\n",
    "        step = row['step']\n",
    "\n",
    "\n",
    "        item = {}\n",
    "\n",
    "        for j in range(-10,10):\n",
    "            # the ensemble probability from the 20 neighboring steps.\n",
    "            item[f'prob4_{j}'] = 0.8*row[f'prob_{j}'] + 0.2*row[f'prob1_{j}']\n",
    "            \n",
    "        if k==0: feature_cols = list(item.keys())\n",
    "        k+=1\n",
    "                \n",
    "        # feature_cols =>\n",
    "        # ['prob4_-10', 'prob4_-9', 'prob4_-8', 'prob4_-7', 'prob4_-6', 'prob4_-5', 'prob4_-4', 'prob4_-3', 'prob4_-2', 'prob4_-1', 'prob4_0', 'prob4_1', 'prob4_2', 'prob4_3', 'prob4_4', 'prob4_5', 'prob4_6', 'prob4_7', 'prob4_8', 'prob4_9']\n",
    "\n",
    "        item['fold'] = row['fold']\n",
    "        item['contact'] = row['contact']\n",
    "        item['contact_id'] = row['contact_id']\n",
    "        item['frame'] = row['frame']\n",
    "        item['nfl_player_id_1'] = row['nfl_player_id_1']\n",
    "        item['nfl_player_id_2'] = row['nfl_player_id_2']\n",
    "\n",
    "        results.append(item)\n",
    "\n",
    "    train_df = pd.DataFrame(results)\n",
    "\n",
    "    return train_df, feature_cols "
   ]
  },
  {
   "cell_type": "code",
   "execution_count": null,
   "id": "d2ab29dc",
   "metadata": {},
   "outputs": [],
   "source": []
  },
  {
   "cell_type": "code",
   "execution_count": null,
   "id": "b89fc706",
   "metadata": {},
   "outputs": [],
   "source": []
  },
  {
   "cell_type": "code",
   "execution_count": 25,
   "id": "684e57fc",
   "metadata": {
    "execution": {
     "iopub.execute_input": "2023-03-22T12:45:23.597495Z",
     "iopub.status.busy": "2023-03-22T12:45:23.596688Z",
     "iopub.status.idle": "2023-03-22T12:45:23.610024Z",
     "shell.execute_reply": "2023-03-22T12:45:23.608283Z",
     "shell.execute_reply.started": "2023-03-22T12:45:23.597444Z"
    }
   },
   "outputs": [],
   "source": [
    "# shutil.copyfile(src, dst, *, follow_symlinks=True) => \n",
    "# Copy the contents (no metadata) of the file named src to a file named dst and return dst in the most efficient way possible. \n",
    "# copyfile(os.path.basename(__file__), os.path.join(cfg.EXP_MODEL, os.path.basename(__file__)))"
   ]
  },
  {
   "cell_type": "code",
   "execution_count": 28,
   "id": "5e765ac4",
   "metadata": {
    "execution": {
     "iopub.execute_input": "2023-03-22T12:45:26.906606Z",
     "iopub.status.busy": "2023-03-22T12:45:26.905455Z",
     "iopub.status.idle": "2023-03-22T12:49:05.294386Z",
     "shell.execute_reply": "2023-03-22T12:49:05.293014Z",
     "shell.execute_reply.started": "2023-03-22T12:45:26.906516Z"
    }
   },
   "outputs": [
    {
     "name": "stderr",
     "output_type": "stream",
     "text": [
      "711383it [01:00, 11742.46it/s]\n",
      "711383it [01:49, 6503.79it/s]\n"
     ]
    }
   ],
   "source": [
    "df_train_df, feature_cols = feature_engineering(df_train_df)\n"
   ]
  },
  {
   "cell_type": "code",
   "execution_count": 30,
   "id": "1cdc8247",
   "metadata": {
    "execution": {
     "iopub.execute_input": "2023-03-22T12:49:15.851236Z",
     "iopub.status.busy": "2023-03-22T12:49:15.850743Z",
     "iopub.status.idle": "2023-03-22T12:49:15.863214Z",
     "shell.execute_reply": "2023-03-22T12:49:15.861644Z",
     "shell.execute_reply.started": "2023-03-22T12:49:15.851194Z"
    }
   },
   "outputs": [],
   "source": [
    "# len(feature_cols)\n",
    "# ## 400"
   ]
  },
  {
   "cell_type": "code",
   "execution_count": 31,
   "id": "829888ad",
   "metadata": {
    "execution": {
     "iopub.execute_input": "2023-03-20T13:34:37.566095Z",
     "iopub.status.busy": "2023-03-20T13:34:37.565753Z",
     "iopub.status.idle": "2023-03-20T13:34:37.576712Z",
     "shell.execute_reply": "2023-03-20T13:34:37.575294Z",
     "shell.execute_reply.started": "2023-03-20T13:34:37.566063Z"
    }
   },
   "outputs": [],
   "source": [
    "# 58200_003925_61_42352_43388"
   ]
  },
  {
   "cell_type": "code",
   "execution_count": 32,
   "id": "a8c48ce9",
   "metadata": {
    "execution": {
     "iopub.execute_input": "2023-03-20T13:34:37.592077Z",
     "iopub.status.busy": "2023-03-20T13:34:37.591455Z",
     "iopub.status.idle": "2023-03-20T13:34:37.611107Z",
     "shell.execute_reply": "2023-03-20T13:34:37.609775Z",
     "shell.execute_reply.started": "2023-03-20T13:34:37.592027Z"
    }
   },
   "outputs": [],
   "source": [
    "def fit_xgboost(cfg, params, add_suffix=''):\n",
    "    oof_pred = []\n",
    "    for fold in [2,1,0,3,4]:\n",
    "        if fold == -1: continue\n",
    "\n",
    "        x_train = df_train_df[df_train_df.fold!=fold][feature_cols]\n",
    "        y_train = df_train_df[df_train_df.fold!=fold]['contact']\n",
    "\n",
    "        x_val = df_train_df[df_train_df.fold==fold]\n",
    "\n",
    "        x_valid = x_val[feature_cols]\n",
    "\n",
    "        y_valid = df_train_df[df_train_df.fold==fold]['contact']\n",
    "\n",
    "        print(x_train.shape, x_valid.shape)\n",
    "\n",
    "        xgb_train = xgb.DMatrix(x_train, label=y_train)\n",
    "        xgb_valid = xgb.DMatrix(x_valid, label=y_valid)\n",
    "        evals = [(xgb_train,'train'),(xgb_valid,'eval')]\n",
    "        \n",
    "        model = xgb.train(\n",
    "            params,\n",
    "            xgb_train,\n",
    "            num_boost_round=10_000,\n",
    "            early_stopping_rounds=300,\n",
    "            evals=evals,\n",
    "            verbose_eval=100,\n",
    "#             xgb_model='../input/dk-1st-data-1/kaggle_data_1/xgb_fold1_xgb_1st.model'\n",
    "        )\n",
    "\n",
    "#         model_path = os.path.join(cfg.EXP_MODEL, f'xgb_fold{fold}{add_suffix}.model')\n",
    "        model_path = f'xgb_not_fold{fold}{add_suffix}.model'\n",
    "        model.save_model(model_path)\n",
    "        model = xgb.Booster()\n",
    "        model.load_model(model_path)\n",
    "\n",
    "        dvalid = xgb.DMatrix(x_valid)\n",
    "\n",
    "        pred_i = model.predict(dvalid) \n",
    "        print(pred_i.shape)\n",
    "        # print(pred_i[:10], y_valid[:10])\n",
    "\n",
    "        x_val['pred'] = pred_i\n",
    "        #x_val = x_val[['contact_id', 'fold', 'contact', 'pred', 'frame']]\n",
    "        x_val = x_val[['contact_id', 'fold', 'contact', 'pred', 'frame', 'nfl_player_id_1', 'nfl_player_id_2']]\n",
    "        oof_pred.append(x_val)\n",
    "\n",
    "        gt = y_valid.values\n",
    "        all_pos = np.sum(gt==1)\n",
    "\n",
    "        for thres in [0.0002,0.001, 0.003, 0.005, 0.01, 0.02, 0.03, 0.04, 0.05,0.1,0.2,0.3, 0.4, 0.5]:\n",
    "            pred = 1*(pred_i > thres)\n",
    "            tp = np.sum((gt==1)*(pred==1))\n",
    "            pred_pos = np.sum(pred==1)\n",
    "\n",
    "            score = matthews_corrcoef(gt, pred > thres)\n",
    "\n",
    "            print(f'thres {thres:.4f} tp {tp} all_pos {all_pos:.4f} pred_pos {pred_pos:.4f}, score {score:.4f}')\n",
    "\n",
    "        score = round(roc_auc_score(y_valid, pred_i), 5)\n",
    "        print(f'Performance of the prediction: {score}\\n')\n",
    "        del model; gc.collect()\n",
    "\n",
    "    oof_df = pd.concat(oof_pred)\n",
    "#     oof_df.to_csv(f'{cfg.EXP_MODEL}/xgb_G_oof.csv', index=False)\n",
    "    oof_df.to_csv(f'xgb_post_not_G_oof.csv', index=False)    \n",
    "\n",
    "\n",
    "    gt = oof_df.contact.values\n",
    "    all_pos = np.sum(gt==1)\n",
    "    for thres in range(20,50):\n",
    "        thres = thres*0.01\n",
    "        pred = 1*(oof_df.pred.values > thres)\n",
    "        tp = np.sum((gt==1)*(pred==1))\n",
    "        pred_pos = np.sum(pred==1)\n",
    "\n",
    "        score = matthews_corrcoef(gt, pred > thres)\n",
    "\n",
    "        print(f'thres {thres:.4f} tp {tp} all_pos {all_pos:.4f} pred_pos {pred_pos:.4f}, score {score:.4f}')\n",
    "    return oof_df\n"
   ]
  },
  {
   "cell_type": "code",
   "execution_count": null,
   "id": "6956d8ad",
   "metadata": {
    "execution": {
     "iopub.execute_input": "2023-03-20T13:34:37.612808Z",
     "iopub.status.busy": "2023-03-20T13:34:37.612458Z",
     "iopub.status.idle": "2023-03-20T13:34:37.628323Z",
     "shell.execute_reply": "2023-03-20T13:34:37.627270Z",
     "shell.execute_reply.started": "2023-03-20T13:34:37.612774Z"
    }
   },
   "outputs": [],
   "source": []
  },
  {
   "cell_type": "code",
   "execution_count": 33,
   "id": "13f32e80",
   "metadata": {
    "execution": {
     "iopub.execute_input": "2023-03-20T13:34:37.630190Z",
     "iopub.status.busy": "2023-03-20T13:34:37.629701Z"
    }
   },
   "outputs": [
    {
     "name": "stdout",
     "output_type": "stream",
     "text": [
      "(580583, 20) (130800, 20)\n",
      "[0]\ttrain-auc:0.83587\teval-auc:0.98281\n",
      "[100]\ttrain-auc:0.84681\teval-auc:0.98341\n",
      "[200]\ttrain-auc:0.84944\teval-auc:0.98375\n",
      "[300]\ttrain-auc:0.85238\teval-auc:0.98422\n",
      "[400]\ttrain-auc:0.85371\teval-auc:0.98418\n",
      "[500]\ttrain-auc:0.85529\teval-auc:0.98414\n",
      "[540]\ttrain-auc:0.85582\teval-auc:0.98421\n",
      "(130800,)\n",
      "thres 0.0002 tp 8746 all_pos 8746.0000 pred_pos 130800.0000, score 0.0000\n",
      "thres 0.0010 tp 8746 all_pos 8746.0000 pred_pos 130800.0000, score 0.0000\n",
      "thres 0.0030 tp 8746 all_pos 8746.0000 pred_pos 130800.0000, score 0.0000\n",
      "thres 0.0050 tp 8746 all_pos 8746.0000 pred_pos 130800.0000, score 0.0000\n",
      "thres 0.0100 tp 8746 all_pos 8746.0000 pred_pos 130800.0000, score 0.0000\n",
      "thres 0.0200 tp 8746 all_pos 8746.0000 pred_pos 130800.0000, score 0.0000\n",
      "thres 0.0300 tp 8746 all_pos 8746.0000 pred_pos 130800.0000, score 0.0000\n",
      "thres 0.0400 tp 8744 all_pos 8746.0000 pred_pos 118519.0000, score 0.0860\n",
      "thres 0.0500 tp 8730 all_pos 8746.0000 pred_pos 111266.0000, score 0.1108\n",
      "thres 0.1000 tp 8650 all_pos 8746.0000 pred_pos 24463.0000, score 0.5506\n"
     ]
    },
    {
     "name": "stderr",
     "output_type": "stream",
     "text": [
      "/home/na/miniconda3/envs/base_2/lib/python3.7/site-packages/ipykernel_launcher.py:43: SettingWithCopyWarning: \n",
      "A value is trying to be set on a copy of a slice from a DataFrame.\n",
      "Try using .loc[row_indexer,col_indexer] = value instead\n",
      "\n",
      "See the caveats in the documentation: https://pandas.pydata.org/pandas-docs/stable/user_guide/indexing.html#returning-a-view-versus-a-copy\n"
     ]
    },
    {
     "name": "stdout",
     "output_type": "stream",
     "text": [
      "thres 0.2000 tp 8511 all_pos 8746.0000 pred_pos 19716.0000, score 0.6153\n",
      "thres 0.3000 tp 8339 all_pos 8746.0000 pred_pos 16445.0000, score 0.6683\n",
      "thres 0.4000 tp 8135 all_pos 8746.0000 pred_pos 14265.0000, score 0.7051\n",
      "thres 0.5000 tp 7844 all_pos 8746.0000 pred_pos 12412.0000, score 0.7325\n",
      "Performance of the prediction: 0.98421\n",
      "\n",
      "(550415, 20) (160968, 20)\n",
      "[0]\ttrain-auc:0.96560\teval-auc:0.50000\n",
      "[100]\ttrain-auc:0.96741\teval-auc:0.50000\n",
      "[200]\ttrain-auc:0.96779\teval-auc:0.50000\n",
      "[299]\ttrain-auc:0.96824\teval-auc:0.50000\n",
      "(160968,)\n",
      "thres 0.0002 tp 9984 all_pos 9984.0000 pred_pos 160968.0000, score 0.0000\n",
      "thres 0.0010 tp 9984 all_pos 9984.0000 pred_pos 160968.0000, score 0.0000\n",
      "thres 0.0030 tp 9984 all_pos 9984.0000 pred_pos 160968.0000, score 0.0000\n",
      "thres 0.0050 tp 9984 all_pos 9984.0000 pred_pos 160968.0000, score 0.0000\n",
      "thres 0.0100 tp 9984 all_pos 9984.0000 pred_pos 160968.0000, score 0.0000\n",
      "thres 0.0200 tp 9984 all_pos 9984.0000 pred_pos 160968.0000, score 0.0000\n",
      "thres 0.0300 tp 9984 all_pos 9984.0000 pred_pos 160968.0000, score 0.0000\n",
      "thres 0.0400 tp 9984 all_pos 9984.0000 pred_pos 160968.0000, score 0.0000\n"
     ]
    },
    {
     "name": "stderr",
     "output_type": "stream",
     "text": [
      "/home/na/miniconda3/envs/base_2/lib/python3.7/site-packages/ipykernel_launcher.py:43: SettingWithCopyWarning: \n",
      "A value is trying to be set on a copy of a slice from a DataFrame.\n",
      "Try using .loc[row_indexer,col_indexer] = value instead\n",
      "\n",
      "See the caveats in the documentation: https://pandas.pydata.org/pandas-docs/stable/user_guide/indexing.html#returning-a-view-versus-a-copy\n"
     ]
    },
    {
     "name": "stdout",
     "output_type": "stream",
     "text": [
      "thres 0.0500 tp 9984 all_pos 9984.0000 pred_pos 160968.0000, score 0.0000\n",
      "thres 0.1000 tp 9984 all_pos 9984.0000 pred_pos 160968.0000, score 0.0000\n",
      "thres 0.2000 tp 0 all_pos 9984.0000 pred_pos 0.0000, score 0.0000\n",
      "thres 0.3000 tp 0 all_pos 9984.0000 pred_pos 0.0000, score 0.0000\n",
      "thres 0.4000 tp 0 all_pos 9984.0000 pred_pos 0.0000, score 0.0000\n",
      "thres 0.5000 tp 0 all_pos 9984.0000 pred_pos 0.0000, score 0.0000\n",
      "Performance of the prediction: 0.5\n",
      "\n",
      "(574956, 20) (136427, 20)\n",
      "[0]\ttrain-auc:0.83000\teval-auc:0.94915\n",
      "[100]\ttrain-auc:0.84126\teval-auc:0.95743\n",
      "[200]\ttrain-auc:0.84795\teval-auc:0.95600\n",
      "[300]\ttrain-auc:0.85213\teval-auc:0.95712\n",
      "[400]\ttrain-auc:0.85350\teval-auc:0.95714\n",
      "[404]\ttrain-auc:0.85351\teval-auc:0.95708\n",
      "(136427,)\n",
      "thres 0.0002 tp 9501 all_pos 9501.0000 pred_pos 136427.0000, score 0.0000\n",
      "thres 0.0010 tp 9501 all_pos 9501.0000 pred_pos 136427.0000, score 0.0000\n",
      "thres 0.0030 tp 9501 all_pos 9501.0000 pred_pos 136427.0000, score 0.0000\n",
      "thres 0.0050 tp 9501 all_pos 9501.0000 pred_pos 136427.0000, score 0.0000\n",
      "thres 0.0100 tp 9501 all_pos 9501.0000 pred_pos 136427.0000, score 0.0000\n",
      "thres 0.0200 tp 9501 all_pos 9501.0000 pred_pos 136427.0000, score 0.0000\n",
      "thres 0.0300 tp 9501 all_pos 9501.0000 pred_pos 136427.0000, score 0.0000\n",
      "thres 0.0400 tp 9501 all_pos 9501.0000 pred_pos 136427.0000, score 0.0000\n",
      "thres 0.0500 tp 9501 all_pos 9501.0000 pred_pos 136427.0000, score 0.0000\n"
     ]
    },
    {
     "name": "stderr",
     "output_type": "stream",
     "text": [
      "/home/na/miniconda3/envs/base_2/lib/python3.7/site-packages/ipykernel_launcher.py:43: SettingWithCopyWarning: \n",
      "A value is trying to be set on a copy of a slice from a DataFrame.\n",
      "Try using .loc[row_indexer,col_indexer] = value instead\n",
      "\n",
      "See the caveats in the documentation: https://pandas.pydata.org/pandas-docs/stable/user_guide/indexing.html#returning-a-view-versus-a-copy\n"
     ]
    },
    {
     "name": "stdout",
     "output_type": "stream",
     "text": [
      "thres 0.1000 tp 8840 all_pos 9501.0000 pred_pos 20702.0000, score 0.5938\n",
      "thres 0.2000 tp 8414 all_pos 9501.0000 pred_pos 15141.0000, score 0.6747\n",
      "thres 0.3000 tp 7910 all_pos 9501.0000 pred_pos 11925.0000, score 0.7218\n",
      "thres 0.4000 tp 7324 all_pos 9501.0000 pred_pos 9874.0000, score 0.7375\n",
      "thres 0.5000 tp 6673 all_pos 9501.0000 pred_pos 8347.0000, score 0.7319\n",
      "Performance of the prediction: 0.95708\n",
      "\n",
      "(549981, 20) (161402, 20)\n",
      "[0]\ttrain-auc:0.83556\teval-auc:0.91175\n",
      "[100]\ttrain-auc:0.84499\teval-auc:0.92279\n",
      "[200]\ttrain-auc:0.84839\teval-auc:0.92670\n",
      "[300]\ttrain-auc:0.84943\teval-auc:0.92911\n",
      "[400]\ttrain-auc:0.85206\teval-auc:0.92982\n",
      "[500]\ttrain-auc:0.85347\teval-auc:0.93404\n",
      "[600]\ttrain-auc:0.85452\teval-auc:0.93465\n",
      "[700]\ttrain-auc:0.85550\teval-auc:0.93539\n",
      "[800]\ttrain-auc:0.85667\teval-auc:0.93604\n",
      "[900]\ttrain-auc:0.85722\teval-auc:0.93666\n",
      "[1000]\ttrain-auc:0.85789\teval-auc:0.93695\n",
      "[1100]\ttrain-auc:0.85832\teval-auc:0.93714\n",
      "[1200]\ttrain-auc:0.85895\teval-auc:0.93712\n",
      "[1300]\ttrain-auc:0.85940\teval-auc:0.93705\n",
      "[1400]\ttrain-auc:0.85959\teval-auc:0.93740\n",
      "[1500]\ttrain-auc:0.85971\teval-auc:0.93741\n",
      "[1600]\ttrain-auc:0.85994\teval-auc:0.93753\n",
      "[1700]\ttrain-auc:0.86015\teval-auc:0.93702\n",
      "[1800]\ttrain-auc:0.86039\teval-auc:0.93673\n",
      "[1878]\ttrain-auc:0.86048\teval-auc:0.93661\n",
      "(161402,)\n",
      "thres 0.0002 tp 11053 all_pos 11053.0000 pred_pos 161402.0000, score 0.0000\n",
      "thres 0.0010 tp 11049 all_pos 11053.0000 pred_pos 158426.0000, score 0.0364\n",
      "thres 0.0030 tp 10990 all_pos 11053.0000 pred_pos 140317.0000, score 0.1005\n",
      "thres 0.0050 tp 10933 all_pos 11053.0000 pred_pos 132705.0000, score 0.1184\n",
      "thres 0.0100 tp 10784 all_pos 11053.0000 pred_pos 123153.0000, score 0.1356\n",
      "thres 0.0200 tp 10567 all_pos 11053.0000 pred_pos 114415.0000, score 0.1475\n",
      "thres 0.0300 tp 10159 all_pos 11053.0000 pred_pos 23823.0000, score 0.5898\n"
     ]
    },
    {
     "name": "stderr",
     "output_type": "stream",
     "text": [
      "/home/na/miniconda3/envs/base_2/lib/python3.7/site-packages/ipykernel_launcher.py:43: SettingWithCopyWarning: \n",
      "A value is trying to be set on a copy of a slice from a DataFrame.\n",
      "Try using .loc[row_indexer,col_indexer] = value instead\n",
      "\n",
      "See the caveats in the documentation: https://pandas.pydata.org/pandas-docs/stable/user_guide/indexing.html#returning-a-view-versus-a-copy\n"
     ]
    },
    {
     "name": "stdout",
     "output_type": "stream",
     "text": [
      "thres 0.0400 tp 9980 all_pos 11053.0000 pred_pos 21550.0000, score 0.6133\n",
      "thres 0.0500 tp 9850 all_pos 11053.0000 pred_pos 20108.0000, score 0.6294\n",
      "thres 0.1000 tp 9313 all_pos 11053.0000 pred_pos 15995.0000, score 0.6747\n",
      "thres 0.2000 tp 8306 all_pos 11053.0000 pred_pos 11848.0000, score 0.7049\n",
      "thres 0.3000 tp 7444 all_pos 11053.0000 pred_pos 9642.0000, score 0.7021\n",
      "thres 0.4000 tp 6597 all_pos 11053.0000 pred_pos 8059.0000, score 0.6808\n",
      "thres 0.5000 tp 5806 all_pos 11053.0000 pred_pos 6801.0000, score 0.6521\n",
      "Performance of the prediction: 0.93661\n",
      "\n",
      "(589597, 20) (121786, 20)\n",
      "[0]\ttrain-auc:0.84310\teval-auc:0.94716\n",
      "[100]\ttrain-auc:0.85174\teval-auc:0.95595\n",
      "[200]\ttrain-auc:0.85330\teval-auc:0.95502\n",
      "[300]\ttrain-auc:0.85687\teval-auc:0.95696\n",
      "[400]\ttrain-auc:0.85802\teval-auc:0.95885\n",
      "[500]\ttrain-auc:0.85920\teval-auc:0.95859\n",
      "[600]\ttrain-auc:0.86042\teval-auc:0.95853\n",
      "[700]\ttrain-auc:0.86144\teval-auc:0.95910\n",
      "[800]\ttrain-auc:0.86243\teval-auc:0.95886\n",
      "[900]\ttrain-auc:0.86316\teval-auc:0.95910\n",
      "[1000]\ttrain-auc:0.86384\teval-auc:0.95937\n",
      "[1100]\ttrain-auc:0.86428\teval-auc:0.95948\n",
      "[1200]\ttrain-auc:0.86463\teval-auc:0.95954\n",
      "[1300]\ttrain-auc:0.86501\teval-auc:0.95916\n",
      "[1400]\ttrain-auc:0.86510\teval-auc:0.95909\n",
      "[1426]\ttrain-auc:0.86516\teval-auc:0.95896\n",
      "(121786,)\n",
      "thres 0.0002 tp 8383 all_pos 8383.0000 pred_pos 121786.0000, score 0.0000\n",
      "thres 0.0010 tp 8383 all_pos 8383.0000 pred_pos 121786.0000, score 0.0000\n",
      "thres 0.0030 tp 8379 all_pos 8383.0000 pred_pos 115498.0000, score 0.0629\n",
      "thres 0.0050 tp 8353 all_pos 8383.0000 pred_pos 107892.0000, score 0.0945\n",
      "thres 0.0100 tp 8323 all_pos 8383.0000 pred_pos 101012.0000, score 0.1181\n",
      "thres 0.0200 tp 8257 all_pos 8383.0000 pred_pos 94153.0000, score 0.1375\n",
      "thres 0.0300 tp 7983 all_pos 8383.0000 pred_pos 23401.0000, score 0.5246\n",
      "thres 0.0400 tp 7847 all_pos 8383.0000 pred_pos 19282.0000, score 0.5793\n",
      "thres 0.0500 tp 7709 all_pos 8383.0000 pred_pos 16616.0000, score 0.6203\n",
      "thres 0.1000 tp 7214 all_pos 8383.0000 pred_pos 12101.0000, score 0.6918\n"
     ]
    },
    {
     "name": "stderr",
     "output_type": "stream",
     "text": [
      "/home/na/miniconda3/envs/base_2/lib/python3.7/site-packages/ipykernel_launcher.py:43: SettingWithCopyWarning: \n",
      "A value is trying to be set on a copy of a slice from a DataFrame.\n",
      "Try using .loc[row_indexer,col_indexer] = value instead\n",
      "\n",
      "See the caveats in the documentation: https://pandas.pydata.org/pandas-docs/stable/user_guide/indexing.html#returning-a-view-versus-a-copy\n"
     ]
    },
    {
     "name": "stdout",
     "output_type": "stream",
     "text": [
      "thres 0.2000 tp 6350 all_pos 8383.0000 pred_pos 8764.0000, score 0.7212\n",
      "thres 0.3000 tp 5757 all_pos 8383.0000 pred_pos 7261.0000, score 0.7201\n",
      "thres 0.4000 tp 5114 all_pos 8383.0000 pred_pos 6057.0000, score 0.7007\n",
      "thres 0.5000 tp 4454 all_pos 8383.0000 pred_pos 4995.0000, score 0.6722\n",
      "Performance of the prediction: 0.95896\n",
      "\n",
      "thres 0.2000 tp 31581 all_pos 47667.0000 pred_pos 55469.0000, score 0.5843\n",
      "thres 0.2100 tp 31356 all_pos 47667.0000 pred_pos 54218.0000, score 0.5874\n",
      "thres 0.2200 tp 31140 all_pos 47667.0000 pred_pos 52990.0000, score 0.5908\n",
      "thres 0.2300 tp 30925 all_pos 47667.0000 pred_pos 51786.0000, score 0.5941\n",
      "thres 0.2400 tp 30704 all_pos 47667.0000 pred_pos 50666.0000, score 0.5970\n",
      "thres 0.2500 tp 30479 all_pos 47667.0000 pred_pos 49658.0000, score 0.5991\n",
      "thres 0.2600 tp 30268 all_pos 47667.0000 pred_pos 48652.0000, score 0.6016\n",
      "thres 0.2700 tp 30070 all_pos 47667.0000 pred_pos 47757.0000, score 0.6037\n",
      "thres 0.2800 tp 29858 all_pos 47667.0000 pred_pos 46895.0000, score 0.6053\n",
      "thres 0.2900 tp 29643 all_pos 47667.0000 pred_pos 46053.0000, score 0.6068\n",
      "thres 0.3000 tp 29450 all_pos 47667.0000 pred_pos 45273.0000, score 0.6084\n",
      "thres 0.3100 tp 29225 all_pos 47667.0000 pred_pos 44477.0000, score 0.6095\n",
      "thres 0.3200 tp 28995 all_pos 47667.0000 pred_pos 43665.0000, score 0.6106\n",
      "thres 0.3300 tp 28745 all_pos 47667.0000 pred_pos 42908.0000, score 0.6109\n",
      "thres 0.3400 tp 28511 all_pos 47667.0000 pred_pos 42127.0000, score 0.6119\n",
      "thres 0.3500 tp 28311 all_pos 47667.0000 pred_pos 41433.0000, score 0.6130\n",
      "thres 0.3600 tp 28095 all_pos 47667.0000 pred_pos 40798.0000, score 0.6132\n",
      "thres 0.3700 tp 27856 all_pos 47667.0000 pred_pos 40117.0000, score 0.6134\n",
      "thres 0.3800 tp 27609 all_pos 47667.0000 pred_pos 39457.0000, score 0.6132\n",
      "thres 0.3900 tp 27383 all_pos 47667.0000 pred_pos 38825.0000, score 0.6134\n",
      "thres 0.4000 tp 27170 all_pos 47667.0000 pred_pos 38255.0000, score 0.6133\n",
      "thres 0.4100 tp 26938 all_pos 47667.0000 pred_pos 37647.0000, score 0.6131\n",
      "thres 0.4200 tp 26719 all_pos 47667.0000 pred_pos 37052.0000, score 0.6132\n",
      "thres 0.4300 tp 26458 all_pos 47667.0000 pred_pos 36453.0000, score 0.6123\n",
      "thres 0.4400 tp 26220 all_pos 47667.0000 pred_pos 35875.0000, score 0.6119\n",
      "thres 0.4500 tp 26004 all_pos 47667.0000 pred_pos 35328.0000, score 0.6117\n",
      "thres 0.4600 tp 25752 all_pos 47667.0000 pred_pos 34762.0000, score 0.6108\n",
      "thres 0.4700 tp 25498 all_pos 47667.0000 pred_pos 34171.0000, score 0.6102\n",
      "thres 0.4800 tp 25266 all_pos 47667.0000 pred_pos 33643.0000, score 0.6095\n",
      "thres 0.4900 tp 25037 all_pos 47667.0000 pred_pos 33093.0000, score 0.6092\n"
     ]
    }
   ],
   "source": [
    "oof_pred = fit_xgboost(cfg, cfg.xgb_params, add_suffix=\"_xgb_2nd\")"
   ]
  },
  {
   "cell_type": "code",
   "execution_count": null,
   "id": "9c12ec95",
   "metadata": {},
   "outputs": [],
   "source": []
  },
  {
   "cell_type": "code",
   "execution_count": null,
   "id": "c4cea28a",
   "metadata": {},
   "outputs": [],
   "source": []
  }
 ],
 "metadata": {
  "kernelspec": {
   "display_name": "Python 3 (ipykernel)",
   "language": "python",
   "name": "python3"
  },
  "language_info": {
   "codemirror_mode": {
    "name": "ipython",
    "version": 3
   },
   "file_extension": ".py",
   "mimetype": "text/x-python",
   "name": "python",
   "nbconvert_exporter": "python",
   "pygments_lexer": "ipython3",
   "version": "3.7.12"
  }
 },
 "nbformat": 4,
 "nbformat_minor": 5
}
