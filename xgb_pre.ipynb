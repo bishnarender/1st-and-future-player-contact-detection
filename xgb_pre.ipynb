{
 "cells": [
  {
   "cell_type": "code",
   "execution_count": 1,
   "id": "2a5a29bc",
   "metadata": {
    "execution": {
     "iopub.execute_input": "2023-03-22T12:45:20.458315Z",
     "iopub.status.busy": "2023-03-22T12:45:20.457920Z",
     "iopub.status.idle": "2023-03-22T12:45:23.468872Z",
     "shell.execute_reply": "2023-03-22T12:45:23.467643Z",
     "shell.execute_reply.started": "2023-03-22T12:45:20.458282Z"
    }
   },
   "outputs": [],
   "source": [
    "import os\n",
    "import gc\n",
    "\n",
    "\n",
    "import numpy as np\n",
    "import pandas as pd\n",
    "import cv2\n",
    "\n",
    "\n",
    "import math\n",
    "import xgboost as xgb\n",
    "import torch\n",
    "import scipy.stats as sss\n",
    "\n",
    "\n",
    "from sklearn.metrics import roc_auc_score, matthews_corrcoef\n",
    "from glob import glob\n",
    "from tqdm import tqdm\n",
    "from shutil import copyfile"
   ]
  },
  {
   "cell_type": "code",
   "execution_count": 2,
   "id": "8e82afdf",
   "metadata": {
    "execution": {
     "iopub.execute_input": "2023-03-22T12:45:23.471536Z",
     "iopub.status.busy": "2023-03-22T12:45:23.470728Z",
     "iopub.status.idle": "2023-03-22T12:45:23.476643Z",
     "shell.execute_reply": "2023-03-22T12:45:23.475500Z",
     "shell.execute_reply.started": "2023-03-22T12:45:23.471496Z"
    }
   },
   "outputs": [],
   "source": [
    "import random"
   ]
  },
  {
   "cell_type": "code",
   "execution_count": 3,
   "id": "53a224a0",
   "metadata": {
    "execution": {
     "iopub.execute_input": "2023-03-22T12:45:23.477900Z",
     "iopub.status.busy": "2023-03-22T12:45:23.477572Z",
     "iopub.status.idle": "2023-03-22T12:45:23.487983Z",
     "shell.execute_reply": "2023-03-22T12:45:23.487055Z",
     "shell.execute_reply.started": "2023-03-22T12:45:23.477869Z"
    }
   },
   "outputs": [],
   "source": [
    "def seed_everything(random_seed):\n",
    "    random.seed(random_seed)\n",
    "    np.random.seed(random_seed)\n",
    "    torch.manual_seed(random_seed)\n",
    "    os.environ[\"PYTHONHASHSEED\"] = str(random_seed)\n",
    "#     if torch.cuda.is_available():\n",
    "    torch.cuda.manual_seed(random_seed)\n",
    "    torch.cuda.manual_seed_all(random_seed)\n",
    "    # torch.backends.cudnn.enabled = False\n",
    "    torch.backends.cudnn.benchmark = False        \n",
    "    torch.backends.cudnn.deterministic = True"
   ]
  },
  {
   "cell_type": "code",
   "execution_count": 4,
   "id": "fa6f5501",
   "metadata": {
    "execution": {
     "iopub.execute_input": "2023-03-22T12:45:23.491912Z",
     "iopub.status.busy": "2023-03-22T12:45:23.491520Z",
     "iopub.status.idle": "2023-03-22T12:45:23.500241Z",
     "shell.execute_reply": "2023-03-22T12:45:23.498883Z",
     "shell.execute_reply.started": "2023-03-22T12:45:23.491876Z"
    }
   },
   "outputs": [],
   "source": [
    "class Config:\n",
    "    NAME = \"xgb_pre\"\n",
    "\n",
    "    seed = 42\n",
    "    num_fold = 5\n",
    "    \n",
    "    xgb_params = {\n",
    "        'objective': 'binary:logistic',\n",
    "        'eval_metric': 'auc',\n",
    "        'learning_rate':0.005,\n",
    "        'tree_method':'hist' if not torch.cuda.is_available() else 'gpu_hist'\n",
    "    }"
   ]
  },
  {
   "cell_type": "code",
   "execution_count": 5,
   "id": "cafa5039",
   "metadata": {
    "execution": {
     "iopub.execute_input": "2023-03-22T12:45:23.505666Z",
     "iopub.status.busy": "2023-03-22T12:45:23.501755Z",
     "iopub.status.idle": "2023-03-22T12:45:23.514649Z",
     "shell.execute_reply": "2023-03-22T12:45:23.513289Z",
     "shell.execute_reply.started": "2023-03-22T12:45:23.505609Z"
    }
   },
   "outputs": [],
   "source": [
    "def setup(cfg):\n",
    "    cfg.device = torch.device('cuda' if torch.cuda.is_available() else 'cpu')\n",
    "    \n",
    "    # set dirs\n",
    "    cfg.EXP = cfg.NAME\n",
    "\n",
    "    cfg.EXP_MODEL = os.path.join(cfg.EXP, 'model')\n",
    "    cfg.EXP_FIG = os.path.join(cfg.EXP, 'fig')\n",
    "    cfg.EXP_PREDS = os.path.join(cfg.EXP, 'preds')\n",
    "\n",
    "    # make dirs\n",
    "    for d in [cfg.EXP_MODEL, cfg.EXP_FIG, cfg.EXP_PREDS]:\n",
    "        os.makedirs(d, exist_ok=True)\n",
    "        \n",
    "    return cfg\n"
   ]
  },
  {
   "cell_type": "code",
   "execution_count": 6,
   "id": "513cea80",
   "metadata": {
    "execution": {
     "iopub.execute_input": "2023-03-22T12:45:23.519009Z",
     "iopub.status.busy": "2023-03-22T12:45:23.515994Z",
     "iopub.status.idle": "2023-03-22T12:45:23.525312Z",
     "shell.execute_reply": "2023-03-22T12:45:23.524212Z",
     "shell.execute_reply.started": "2023-03-22T12:45:23.518961Z"
    }
   },
   "outputs": [],
   "source": [
    "cfg = setup(Config)"
   ]
  },
  {
   "cell_type": "code",
   "execution_count": 7,
   "id": "bc31ec47",
   "metadata": {
    "execution": {
     "iopub.execute_input": "2023-03-22T12:45:23.527447Z",
     "iopub.status.busy": "2023-03-22T12:45:23.527042Z",
     "iopub.status.idle": "2023-03-22T12:45:23.539358Z",
     "shell.execute_reply": "2023-03-22T12:45:23.537678Z",
     "shell.execute_reply.started": "2023-03-22T12:45:23.527370Z"
    }
   },
   "outputs": [],
   "source": [
    "seed_everything(cfg.seed)"
   ]
  },
  {
   "cell_type": "code",
   "execution_count": null,
   "id": "21e8893e",
   "metadata": {},
   "outputs": [],
   "source": []
  },
  {
   "cell_type": "markdown",
   "id": "ce339673",
   "metadata": {},
   "source": [
    "### Pre folds setup"
   ]
  },
  {
   "cell_type": "code",
   "execution_count": 8,
   "id": "346c7f25",
   "metadata": {
    "execution": {
     "iopub.execute_input": "2023-03-22T12:45:23.541023Z",
     "iopub.status.busy": "2023-03-22T12:45:23.540656Z",
     "iopub.status.idle": "2023-03-22T12:45:23.546639Z",
     "shell.execute_reply": "2023-03-22T12:45:23.545661Z",
     "shell.execute_reply.started": "2023-03-22T12:45:23.540985Z"
    }
   },
   "outputs": [],
   "source": [
    "# df_train_df = pd.read_csv('../input/dk-1st-data/kaggle_data/train_folds.csv') \n",
    "# df_train_df = df_train_df[df_train_df['nfl_player_id_2'] == 'G']\n",
    "#     # train_df['contact_id'][:2] =>\n",
    "#     # 0    58168_003392_0_38590_43854\n",
    "#     # 1    58168_003392_0_38590_41257\n",
    "#     # Name: contact_id, dtype: object\n",
    "# df_train_df['step'] = df_train_df['contact_id'].apply(lambda x: int(x.split('_')[2]))\n",
    "#     # train_df['step'][:2] =>    \n",
    "#     # 0    0\n",
    "#     # 1    0\n",
    "#     # Name: contact_id, dtype: int64 \n",
    "\n",
    "# df_train_df['vid'] = df_train_df['contact_id'].apply(lambda x: '_'.join(x.split('_')[:2]))\n",
    "#     # train_df['vid'][:2] =>    \n",
    "#     # 0    58168_003392\n",
    "#     # 1    58168_003392\n",
    "#     # Name: contact_id, dtype: object\n",
    "# df_train_df['nfl_player_id_1'] = df_train_df['contact_id'].apply(lambda x: int(x.split('_')[3]))\n",
    "#     # train_df['nfl_player_id_1'][:2] =>    \n",
    "#     # 0    38590\n",
    "#     # 1    38590\n",
    "#     # Name: contact_id, dtype: int64    \n",
    "\n",
    "# df_train_df.to_parquet(\"train_folds_G\", compression=\"gzip\", index=False)"
   ]
  },
  {
   "cell_type": "markdown",
   "id": "1f820e9c",
   "metadata": {},
   "source": [
    "### Train"
   ]
  },
  {
   "cell_type": "code",
   "execution_count": null,
   "id": "d0a91af0",
   "metadata": {},
   "outputs": [],
   "source": []
  },
  {
   "cell_type": "code",
   "execution_count": null,
   "id": "c2965005",
   "metadata": {},
   "outputs": [],
   "source": []
  },
  {
   "cell_type": "code",
   "execution_count": 9,
   "id": "dc6341c5",
   "metadata": {
    "execution": {
     "iopub.execute_input": "2023-03-22T12:45:23.548718Z",
     "iopub.status.busy": "2023-03-22T12:45:23.548039Z",
     "iopub.status.idle": "2023-03-22T12:45:23.564480Z",
     "shell.execute_reply": "2023-03-22T12:45:23.563041Z",
     "shell.execute_reply.started": "2023-03-22T12:45:23.548683Z"
    }
   },
   "outputs": [],
   "source": [
    "# https://www.kaggle.com/code/arjanso/reducing-dataframe-memory-size-by-65\n",
    "def reduce_mem_usage(props):\n",
    "#     start_mem_usg = props.memory_usage().sum() / 1024**2 \n",
    "#     print(\"Memory usage of properties dataframe is :\",start_mem_usg,\" MB\")\n",
    "#     NAlist = [] # Keeps track of columns that have missing values filled in. \n",
    "    for col in props.columns:\n",
    "        if props[col].dtype != object:  # Exclude strings\n",
    "            \n",
    "#             # Print current column type\n",
    "#             print(\"******************************\")\n",
    "#             print(\"Column: \",col)\n",
    "#             print(\"dtype before: \",props[col].dtype)\n",
    "            \n",
    "            # make variables for Int, max and min\n",
    "            IsInt = False\n",
    "            mx = props[col].max()\n",
    "            mn = props[col].min()\n",
    "            \n",
    "#             # Integer does not support NA, therefore, NA needs to be filled\n",
    "#             if not np.isfinite(props[col]).all(): \n",
    "#                 NAlist.append(col)\n",
    "#                 props[col].fillna(mn-1,inplace=True)  \n",
    "                   \n",
    "            # test if column dtype is int.\n",
    "            if 'int' in props[col].dtype.name:\n",
    "                IsInt = True\n",
    "\n",
    "            \n",
    "            # Make Integer/unsigned Integer datatypes\n",
    "            if IsInt:\n",
    "                if mn >= 0:\n",
    "                    if mx < 255:\n",
    "                        props[col] = props[col].astype(np.uint8)\n",
    "                    elif mx < 65535:\n",
    "                        props[col] = props[col].astype(np.uint16)\n",
    "                    elif mx < 4294967295:\n",
    "                        props[col] = props[col].astype(np.uint32)\n",
    "                    else:\n",
    "                        props[col] = props[col].astype(np.uint64)\n",
    "                else:\n",
    "                    if mn > np.iinfo(np.int8).min and mx < np.iinfo(np.int8).max:\n",
    "                        props[col] = props[col].astype(np.int8)\n",
    "                    elif mn > np.iinfo(np.int16).min and mx < np.iinfo(np.int16).max:\n",
    "                        props[col] = props[col].astype(np.int16)\n",
    "                    elif mn > np.iinfo(np.int32).min and mx < np.iinfo(np.int32).max:\n",
    "                        props[col] = props[col].astype(np.int32)\n",
    "                    elif mn > np.iinfo(np.int64).min and mx < np.iinfo(np.int64).max:\n",
    "                        props[col] = props[col].astype(np.int64)    \n",
    "            \n",
    "            # Make float datatypes 32 bit\n",
    "            else:\n",
    "                props[col] = props[col].astype(np.float32)\n",
    "            \n",
    "#             # Print new column type\n",
    "#             print(\"dtype after: \",props[col].dtype)\n",
    "#             print(\"******************************\")\n",
    "    \n",
    "#     # Print final result\n",
    "#     print(\"___MEMORY USAGE AFTER COMPLETION:___\")\n",
    "#     mem_usg = props.memory_usage().sum() / 1024**2 \n",
    "#     print(\"Memory usage is: \",mem_usg,\" MB\")\n",
    "#     print(\"This is \",100*mem_usg/start_mem_usg,\"% of the initial size\")\n",
    "#     return props, NAlist\n",
    "    return props"
   ]
  },
  {
   "cell_type": "code",
   "execution_count": 10,
   "id": "ce50d0bb",
   "metadata": {
    "execution": {
     "iopub.execute_input": "2023-03-22T12:45:23.569540Z",
     "iopub.status.busy": "2023-03-22T12:45:23.569157Z",
     "iopub.status.idle": "2023-03-22T12:45:23.595286Z",
     "shell.execute_reply": "2023-03-22T12:45:23.593486Z",
     "shell.execute_reply.started": "2023-03-22T12:45:23.569508Z"
    }
   },
   "outputs": [],
   "source": [
    "def feature_engineering(train_df, trk_dict):    \n",
    "    results = []\n",
    "    nan_val = 0\n",
    "    window_size = 25    \n",
    "    k = 0\n",
    "    l = 0    \n",
    "    for i, row in tqdm(train_df.iterrows()):\n",
    "        \n",
    "        vid = row['vid']\n",
    "        idx = row['nfl_player_id_1']\n",
    "        idx = f'{vid}_{idx}'\n",
    "        step = row['step']\n",
    "\n",
    "        agg_dict = {'s': [], 'dis': [], 'dir': [], 'o': [], 'a': [], 'sa': [], 'x': [], 'y': []}\n",
    "        \n",
    "            # idx => 58168_003392_38590\n",
    "        if idx not in trk_dict:\n",
    "            item = {'s': nan_val, 'dis': nan_val, 'dir': nan_val, 'o': nan_val, 'a': nan_val, 'sa': nan_val, 'x': nan_val, 'y': nan_val}\n",
    "            for j in range(-window_size,window_size):                \n",
    "                if j == 0:\n",
    "                    continue\n",
    "                    \n",
    "                item[f's_{j}'] = nan_val\n",
    "                item[f'dis_{j}'] = nan_val\n",
    "                item[f'dir_{j}'] = nan_val\n",
    "                item[f'o_{j}'] = nan_val\n",
    "                item[f'a_{j}'] = nan_val\n",
    "                item[f'sa_{j}'] = nan_val\n",
    "                item[f'x_{j}'] = nan_val\n",
    "                item[f'y_{j}'] = nan_val\n",
    "                \n",
    "            # item => \n",
    "            # {'s': 0, 'dis': 0, 'dir': 0, 'o': 0, 'a': 0, 'sa': 0, 'x': 0, 'y': 0, \n",
    "            #  's_-25': 0, 'dis_-25': 0, 'dir_-25': 0, 'o_-25': 0, 'a_-25': 0, 'sa_-25': 0, 'x_-25': 0, 'y_-25': 0, \n",
    "            #  's_-24': 0, 'dis_-24': 0, 'dir_-24': 0, 'o_-24': 0, 'a_-24': 0, 'sa_-24': 0, 'x_-24': 0, 'y_-24': 0, ...\n",
    "        else:\n",
    "            # idx => 58168_003392_38590\n",
    "            if step in trk_dict[idx]:\n",
    "                item = {'s': trk_dict[idx][step]['s'], 'dis': trk_dict[idx][step]['dis'], 'dir': trk_dict[idx][step]['dir'], 'o': trk_dict[idx][step]['o']} \n",
    "                item['a'] = trk_dict[idx][step]['a']\n",
    "                item['sa'] = trk_dict[idx][step]['sa']\n",
    "                item['x'] = trk_dict[idx][step]['x']\n",
    "                item['y'] = trk_dict[idx][step]['y']                      \n",
    "                    # item => {'s': 0.52, 'dis': 0.06, 'dir': 141.08, 'o': 100.37, 'a': 0.59, 'sa': 0.58, 'x': 40.33, 'y': 25.28}                 \n",
    "            else:\n",
    "                item = {'s': nan_val, 'dis': nan_val, 'dir': nan_val, 'o': nan_val, 'a': nan_val, 'sa': nan_val, 'x': nan_val, 'y': nan_val}\n",
    "                \n",
    "            for j in range(-window_size,window_size):\n",
    "                step1 = step + j \n",
    "\n",
    "                if j == 0:\n",
    "                    continue\n",
    "                \n",
    "                if step1 in trk_dict[idx]:\n",
    "                    item[f's_{j}'] = item[f's'] - trk_dict[idx][step1]['s']\n",
    "                    item[f'dis_{j}'] = item[f'dis'] - trk_dict[idx][step1]['dis']\n",
    "                    item[f'dir_{j}'] = item[f'dir'] - trk_dict[idx][step1]['dir']\n",
    "                    item[f'o_{j}'] = item[f'o'] - trk_dict[idx][step1]['o']\n",
    "                    item[f'a_{j}'] = item[f'a'] - trk_dict[idx][step1]['a']\n",
    "                    item[f'sa_{j}'] = item[f'sa'] - trk_dict[idx][step1]['sa']\n",
    "                    item[f'x_{j}'] = item[f'x'] - trk_dict[idx][step1]['x']\n",
    "                    item[f'y_{j}'] = item[f'y'] - trk_dict[idx][step1]['y']                          \n",
    "                else:\n",
    "                    item[f's_{j}'] = nan_val\n",
    "                    item[f'dis_{j}'] = nan_val\n",
    "                    item[f'dir_{j}'] = nan_val\n",
    "                    item[f'o_{j}'] = nan_val\n",
    "                    item[f'a_{j}'] = nan_val\n",
    "                    item[f'sa_{j}'] = nan_val\n",
    "                    item[f'x_{j}'] = nan_val\n",
    "                    item[f'y_{j}'] = nan_val\n",
    "                    \n",
    "            # item =>\n",
    "            # {'s': 0.52, 'dis': 0.06, 'dir': 141.08, 'o': 100.37, 'a': 0.59, 'sa': 0.58, 'x': 40.33, 'y': 25.28,\n",
    "            #  's_-25': 0.47, 'dis_-25': 0.06, 'dir_-25': -24.51, 'o_-25': 22.76, 'a_-25': 0.42, 'sa_-25': 0.41, 'x_-25': 0.079, 'y_-25': -0.059 ...\n",
    "        \n",
    "        # item['step'] = row['step']\n",
    "\n",
    "        if k==0: feature_cols = list(item.keys())\n",
    "            # feature_cols =>\n",
    "            # ['s', 'dis', 'dir', 'o', 'a', 'sa', 'x', 'y', \n",
    "            #  's_-25', 'dis_-25', 'dir_-25', 'o_-25', 'a_-25', 'sa_-25', 'x_-25', 'y_-25', \n",
    "            #  's_-24', 'dis_-24', 'dir_-24', 'o_-24', 'a_-24', 'sa_-24', 'x_-24', 'y_-24', ...                    \n",
    "            # len(feature_cols) => 409\n",
    "        k += 1\n",
    "        \n",
    "        item['step'] = row['step']\n",
    "        item['fold'] = row['fold']\n",
    "        item['contact'] = row['contact']\n",
    "        item['contact_id'] = row['contact_id']\n",
    "        item['frame'] = row['frame']\n",
    "\n",
    "        # item => \n",
    "        # {'s': 0, 'dis': 0, 'dir': 0, 'o': 0, 'a': 0, 'sa': 0, 'x': 0, 'y': 0, \n",
    "        #  's_-25': 0, 'dis_-25': 0, 'dir_-25': 0, 'o_-25': 0, 'a_-25': 0, 'sa_-25': 0, 'x_-25': 0, 'y_-25': 0, \n",
    "        #  's_-24': 0, 'dis_-24': 0, 'dir_-24': 0, 'o_-24': 0, 'a_-24': 0, 'sa_-24': 0, 'x_-24': 0, 'y_-24': 0,\n",
    "        # ...\n",
    "        # 's_24': 0, 'dis_24': 0, 'dir_24': 0, 'o_24': 0, 'a_24': 0, 'sa_24': 0, 'x_24': 0, 'y_24': 0,\n",
    "        # 'step': 0, 'fold': 0, 'contact': 0, 'contact_id': '58168_003392_0_38590_43854', 'frame': 294.665}  \n",
    "                                \n",
    "        results.append(item)\n",
    "        \n",
    "        if k==300000: \n",
    "            tmp = pd.DataFrame(results)\n",
    "            tmp = reduce_mem_usage(tmp) \n",
    "            tmp.to_parquet(\"tmp_{}\".format(l), compression=\"gzip\", index=False)            \n",
    "            results = []\n",
    "            tmp = np.NaN\n",
    "            _ = gc.collect()            \n",
    "            k=1\n",
    "            l += 1\n",
    "            \n",
    "    tmp = pd.DataFrame(results)\n",
    "    tmp = reduce_mem_usage(tmp) \n",
    "    tmp.to_parquet(\"tmp_{}\".format(l), compression=\"gzip\", index=False)            \n",
    "    results = []\n",
    "    tmp = np.NaN\n",
    "    _ = gc.collect()            \n",
    "\n",
    "    return feature_cols"
   ]
  },
  {
   "cell_type": "code",
   "execution_count": null,
   "id": "1615534e",
   "metadata": {},
   "outputs": [],
   "source": []
  },
  {
   "cell_type": "code",
   "execution_count": null,
   "id": "794b22c8",
   "metadata": {},
   "outputs": [],
   "source": []
  },
  {
   "cell_type": "code",
   "execution_count": 11,
   "id": "80e9f60a",
   "metadata": {
    "execution": {
     "iopub.execute_input": "2023-03-22T12:45:23.597495Z",
     "iopub.status.busy": "2023-03-22T12:45:23.596688Z",
     "iopub.status.idle": "2023-03-22T12:45:23.610024Z",
     "shell.execute_reply": "2023-03-22T12:45:23.608283Z",
     "shell.execute_reply.started": "2023-03-22T12:45:23.597444Z"
    }
   },
   "outputs": [],
   "source": [
    "# shutil.copyfile(src, dst, *, follow_symlinks=True) => \n",
    "# Copy the contents (no metadata) of the file named src to a file named dst and return dst in the most efficient way possible. \n",
    "# copyfile(os.path.basename(__file__), os.path.join(cfg.EXP_MODEL, os.path.basename(__file__)))"
   ]
  },
  {
   "cell_type": "code",
   "execution_count": 12,
   "id": "92e16d69",
   "metadata": {
    "execution": {
     "iopub.execute_input": "2023-03-22T12:45:23.612022Z",
     "iopub.status.busy": "2023-03-22T12:45:23.611462Z",
     "iopub.status.idle": "2023-03-22T12:45:26.879581Z",
     "shell.execute_reply": "2023-03-22T12:45:26.878838Z",
     "shell.execute_reply.started": "2023-03-22T12:45:23.611985Z"
    }
   },
   "outputs": [],
   "source": [
    "# df_train_df = pd.read_parquet('../input/dk-1st-data/kaggle_data/train_folds_G').reset_index(drop=True)\n",
    "# np_trk_dict = np.load('../input/dk-1st-data/kaggle_data/trk_dict.npy', allow_pickle=True).item()\n",
    "#     # allow_pickle=True; allow loading pickled object arrays stored in npy files.\n",
    "#     # .item(); Copy an element of an array to a standard Python scalar and return it.\n",
    "#     # .item() is necessary for loading dictionary type items.\n"
   ]
  },
  {
   "cell_type": "code",
   "execution_count": 13,
   "id": "ca6bd095",
   "metadata": {
    "execution": {
     "iopub.execute_input": "2023-03-22T12:45:26.881038Z",
     "iopub.status.busy": "2023-03-22T12:45:26.880680Z",
     "iopub.status.idle": "2023-03-22T12:45:26.884315Z",
     "shell.execute_reply": "2023-03-22T12:45:26.883737Z",
     "shell.execute_reply.started": "2023-03-22T12:45:26.881014Z"
    }
   },
   "outputs": [],
   "source": [
    "# df_train_df.groupby(by=['nfl_player_id_1','vid'])['step'].unique()\n",
    "#     # nfl_player_id_1  vid         \n",
    "#     # 25511            58224_000998    [0, 1, 2, 3, 4, 5, 6, 7, 8, 9, 10, 11, 12, 13,...\n",
    "#     #                  58224_002486    [0, 1, 2, 3, 4, 5, 6, 7, 8, 9, 10, 11, 12, 13,...\n",
    "#     #                  58368_003163    [0, 1, 2, 3, 4, 5, 6, 7, 8, 9, 10, 11, 12, 13,...\n",
    "#     #                  58418_000608    [0, 1, 2, 3, 4, 5, 6, 7, 8, 9, 10, 11, 12, 13,...\n",
    "#     #                  58418_000637    [0, 1, 2, 3, 4, 5, 6, 7, 8, 9, 10, 11, 12, 13,...\n",
    "#     #                                                        ...                        \n",
    "#     # 53930            58545_000874    [0, 1, 2, 3, 4, 5, 6, 7, 8, 9, 10, 11, 12, 13,...\n",
    "#     # 53946            58560_001856    [0, 1, 2, 3, 4, 5, 6, 7, 8, 9, 10, 11, 12, 13,...\n",
    "#     # 53953            58573_000445    [0, 1, 2, 3, 4, 5, 6, 7, 8, 9, 10, 11, 12, 13,...\n",
    "#     # Name: step, Length: 5279, dtype: object"
   ]
  },
  {
   "cell_type": "code",
   "execution_count": 14,
   "id": "488bd7a2",
   "metadata": {
    "execution": {
     "iopub.execute_input": "2023-03-22T12:45:26.885835Z",
     "iopub.status.busy": "2023-03-22T12:45:26.885408Z",
     "iopub.status.idle": "2023-03-22T12:45:26.895319Z",
     "shell.execute_reply": "2023-03-22T12:45:26.894650Z",
     "shell.execute_reply.started": "2023-03-22T12:45:26.885808Z"
    }
   },
   "outputs": [],
   "source": [
    "# df_train_df.info()\n",
    "# 4721617-302556"
   ]
  },
  {
   "cell_type": "code",
   "execution_count": null,
   "id": "c22fbe58",
   "metadata": {},
   "outputs": [],
   "source": []
  },
  {
   "cell_type": "code",
   "execution_count": 15,
   "id": "6c46b056",
   "metadata": {
    "execution": {
     "iopub.execute_input": "2023-03-22T12:45:26.896683Z",
     "iopub.status.busy": "2023-03-22T12:45:26.896253Z",
     "iopub.status.idle": "2023-03-22T12:45:26.904651Z",
     "shell.execute_reply": "2023-03-22T12:45:26.903981Z",
     "shell.execute_reply.started": "2023-03-22T12:45:26.896658Z"
    }
   },
   "outputs": [],
   "source": [
    "# np.info(np_trk_dict)\n",
    "#     # dict() -> new empty dictionary\n",
    "#     # dict(mapping) -> new dictionary initialized from a mapping object's\n",
    "#     #     (key, value) pairs\n",
    "#     # dict(iterable) -> new dictionary initialized as if via:\n",
    "#     #     d = {}\n",
    "#     #     for k, v in iterable:\n",
    "#     #         d[k] = v\n",
    "#     # dict(**kwargs) -> new dictionary initialized with the name=value pairs\n",
    "#     #     in the keyword argument list.  For example:  dict(one=1, two=2)"
   ]
  },
  {
   "cell_type": "code",
   "execution_count": 16,
   "id": "c43dfc2b",
   "metadata": {
    "execution": {
     "iopub.execute_input": "2023-03-22T12:45:26.906606Z",
     "iopub.status.busy": "2023-03-22T12:45:26.905455Z",
     "iopub.status.idle": "2023-03-22T12:49:05.294386Z",
     "shell.execute_reply": "2023-03-22T12:49:05.293014Z",
     "shell.execute_reply.started": "2023-03-22T12:45:26.906516Z"
    }
   },
   "outputs": [
    {
     "name": "stderr",
     "output_type": "stream",
     "text": [
      "410633it [03:10, 2160.39it/s]\n"
     ]
    }
   ],
   "source": [
    "# feature_cols = feature_engineering(df_train_df, np_trk_dict)\n"
   ]
  },
  {
   "cell_type": "code",
   "execution_count": 17,
   "id": "4bb973b2",
   "metadata": {
    "execution": {
     "iopub.execute_input": "2023-03-22T12:49:15.851236Z",
     "iopub.status.busy": "2023-03-22T12:49:15.850743Z",
     "iopub.status.idle": "2023-03-22T12:49:15.863214Z",
     "shell.execute_reply": "2023-03-22T12:49:15.861644Z",
     "shell.execute_reply.started": "2023-03-22T12:49:15.851194Z"
    }
   },
   "outputs": [
    {
     "data": {
      "text/plain": [
       "400"
      ]
     },
     "execution_count": 17,
     "metadata": {},
     "output_type": "execute_result"
    }
   ],
   "source": [
    "# len(feature_cols)\n",
    "# ## 400"
   ]
  },
  {
   "cell_type": "code",
   "execution_count": 18,
   "id": "9b04090b",
   "metadata": {
    "execution": {
     "iopub.execute_input": "2023-03-22T12:49:21.262106Z",
     "iopub.status.busy": "2023-03-22T12:49:21.261712Z",
     "iopub.status.idle": "2023-03-22T12:49:21.268619Z",
     "shell.execute_reply": "2023-03-22T12:49:21.267349Z",
     "shell.execute_reply.started": "2023-03-22T12:49:21.262075Z"
    }
   },
   "outputs": [],
   "source": [
    "# np.save('feature_cols_G.npy',feature_cols)"
   ]
  },
  {
   "cell_type": "code",
   "execution_count": 18,
   "id": "aa956408",
   "metadata": {
    "execution": {
     "iopub.execute_input": "2023-03-20T13:34:37.566095Z",
     "iopub.status.busy": "2023-03-20T13:34:37.565753Z",
     "iopub.status.idle": "2023-03-20T13:34:37.576712Z",
     "shell.execute_reply": "2023-03-20T13:34:37.575294Z",
     "shell.execute_reply.started": "2023-03-20T13:34:37.566063Z"
    }
   },
   "outputs": [],
   "source": [
    "# 58200_003925_61_42352_43388"
   ]
  },
  {
   "cell_type": "code",
   "execution_count": 19,
   "id": "73bbd8fe",
   "metadata": {
    "execution": {
     "iopub.execute_input": "2023-03-22T12:49:31.308791Z",
     "iopub.status.busy": "2023-03-22T12:49:31.308338Z",
     "iopub.status.idle": "2023-03-22T12:49:51.381458Z",
     "shell.execute_reply": "2023-03-22T12:49:51.379560Z",
     "shell.execute_reply.started": "2023-03-22T12:49:31.308751Z"
    }
   },
   "outputs": [],
   "source": [
    "# df_train_df = pd.read_parquet(f'/kaggle/working/tmp_0')\n",
    "# for i in [1]:\n",
    "#     df_train_df = pd.concat([df_train_df,pd.read_parquet('/kaggle/working/tmp_{}'.format(i))])\n",
    "# df_train_df.to_parquet(f\"df_xgb_pre_g\", compression=\"gzip\", index=False)"
   ]
  },
  {
   "cell_type": "code",
   "execution_count": 36,
   "id": "4018688c",
   "metadata": {
    "execution": {
     "iopub.execute_input": "2023-03-22T11:53:09.596261Z",
     "iopub.status.busy": "2023-03-22T11:53:09.595818Z",
     "iopub.status.idle": "2023-03-22T11:53:09.606343Z",
     "shell.execute_reply": "2023-03-22T11:53:09.605001Z",
     "shell.execute_reply.started": "2023-03-22T11:53:09.596222Z"
    }
   },
   "outputs": [
    {
     "data": {
      "text/plain": [
       "0         0.47\n",
       "1         0.67\n",
       "2        -1.10\n",
       "3         0.65\n",
       "4         0.50\n",
       "          ... \n",
       "110628    0.56\n",
       "110629    0.54\n",
       "110630    1.44\n",
       "110631   -4.01\n",
       "110632   -3.54\n",
       "Name: s_-25, Length: 410633, dtype: float32"
      ]
     },
     "execution_count": 36,
     "metadata": {},
     "output_type": "execute_result"
    }
   ],
   "source": []
  },
  {
   "cell_type": "code",
   "execution_count": 20,
   "id": "315233fb",
   "metadata": {
    "execution": {
     "iopub.execute_input": "2023-03-20T13:34:37.592077Z",
     "iopub.status.busy": "2023-03-20T13:34:37.591455Z",
     "iopub.status.idle": "2023-03-20T13:34:37.611107Z",
     "shell.execute_reply": "2023-03-20T13:34:37.609775Z",
     "shell.execute_reply.started": "2023-03-20T13:34:37.592027Z"
    }
   },
   "outputs": [],
   "source": [
    "def fit_xgboost(cfg, params, add_suffix=''):\n",
    "    oof_pred = []\n",
    "    for fold in [2,1,0,3,4]:\n",
    "        if fold == -1: continue\n",
    "\n",
    "        x_train = df_train_df[df_train_df.fold!=fold][feature_cols]\n",
    "        y_train = df_train_df[df_train_df.fold!=fold]['contact']\n",
    "\n",
    "        x_val = df_train_df[df_train_df.fold==fold]\n",
    "\n",
    "        x_valid = x_val[feature_cols]\n",
    "\n",
    "        y_valid = df_train_df[df_train_df.fold==fold]['contact']\n",
    "\n",
    "        print(x_train.shape, x_valid.shape)\n",
    "\n",
    "        xgb_train = xgb.DMatrix(x_train, label=y_train)\n",
    "        xgb_valid = xgb.DMatrix(x_valid, label=y_valid)\n",
    "        evals = [(xgb_train,'train'),(xgb_valid,'eval')]\n",
    "        \n",
    "        model = xgb.train(\n",
    "            params,\n",
    "            xgb_train,\n",
    "            num_boost_round=1000,#10_000,\n",
    "            early_stopping_rounds=300,\n",
    "            evals=evals,\n",
    "            verbose_eval=100,\n",
    "#             xgb_model='../input/dk-1st-data-1/kaggle_data_1/xgb_fold1_xgb_1st.model'\n",
    "        )\n",
    "\n",
    "#         model_path = os.path.join(cfg.EXP_MODEL, f'xgb_fold{fold}{add_suffix}.model')\n",
    "        model_path = f'xgb_fold{fold}{add_suffix}.model'\n",
    "        model.save_model(model_path)\n",
    "        model = xgb.Booster()\n",
    "        model.load_model(model_path)\n",
    "\n",
    "        dvalid = xgb.DMatrix(x_valid)\n",
    "\n",
    "        pred_i = model.predict(dvalid) \n",
    "        print(pred_i.shape)\n",
    "        # print(pred_i[:10], y_valid[:10])\n",
    "\n",
    "        x_val['pred'] = pred_i\n",
    "        x_val = x_val[['contact_id', 'fold', 'contact', 'pred', 'frame']]\n",
    "        oof_pred.append(x_val)\n",
    "\n",
    "        gt = y_valid.values\n",
    "        all_pos = np.sum(gt==1)\n",
    "\n",
    "        for thres in [0.0002,0.001, 0.003, 0.005, 0.01, 0.02, 0.03, 0.04, 0.05,0.1,0.2,0.3, 0.4, 0.5]:\n",
    "            pred = 1*(pred_i > thres)\n",
    "            tp = np.sum((gt==1)*(pred==1))\n",
    "            pred_pos = np.sum(pred==1)\n",
    "\n",
    "            score = matthews_corrcoef(gt, pred > thres)\n",
    "\n",
    "            print(f'thres {thres:.4f} tp {tp} all_pos {all_pos:.4f} pred_pos {pred_pos:.4f}, score {score:.4f}')\n",
    "\n",
    "        score = round(roc_auc_score(y_valid, pred_i), 5)\n",
    "        print(f'Performance of the prediction: {score}\\n')\n",
    "        del model; gc.collect()\n",
    "\n",
    "    oof_df = pd.concat(oof_pred)\n",
    "#     oof_df.to_csv(f'{cfg.EXP_MODEL}/xgb_G_oof.csv', index=False)\n",
    "    oof_df.to_csv(f'xgb_G_oof.csv', index=False)    \n",
    "\n",
    "    gt = oof_df.contact.values\n",
    "    all_pos = np.sum(gt==1)\n",
    "    for thres in [0.001, 0.002, 0.01, 0.02, 0.03, 0.04, 0.05,0.1,0.2,0.3,0.4,0.5,0.6,0.7]:\n",
    "        pred = 1*(oof_df.pred.values > thres)\n",
    "        tp = np.sum((gt==1)*(pred==1))\n",
    "        pred_pos = np.sum(pred==1)\n",
    "\n",
    "        score = matthews_corrcoef(gt, pred > thres)\n",
    "\n",
    "        print(f'thres {thres:.4f} tp {tp} all_pos {all_pos:.4f} pred_pos {pred_pos:.4f}, score {score:.4f}')\n",
    "\n"
   ]
  },
  {
   "cell_type": "code",
   "execution_count": 21,
   "id": "d86c3465",
   "metadata": {
    "execution": {
     "iopub.execute_input": "2023-03-20T13:34:37.612808Z",
     "iopub.status.busy": "2023-03-20T13:34:37.612458Z",
     "iopub.status.idle": "2023-03-20T13:34:37.628323Z",
     "shell.execute_reply": "2023-03-20T13:34:37.627270Z",
     "shell.execute_reply.started": "2023-03-20T13:34:37.612774Z"
    }
   },
   "outputs": [],
   "source": [
    "def get_oof(config_name):\n",
    "    dfs = []\n",
    "    for i in [0,1,2,3,4]:\n",
    "#         df_pred = pd.read_csv(f'../cnn/outputs/{config_name}/oof_f{i}.csv')\n",
    "        df_pred = pd.read_csv(f'{config_name}_oof_f{i}.csv')        \n",
    "        dfs.append(df_pred)\n",
    "    df_pred = pd.concat(dfs).reset_index(drop=True)\n",
    "\n",
    "    pred_step_dict = {}\n",
    "    for i, row in df_pred.iterrows():\n",
    "        idx = row['path'].split('/')[-1]\n",
    "        step = int(idx.split('_')[-1])\n",
    "        root = '_'.join(idx.split('_')[:-2])\n",
    "        idx = f'{root}_{step}'\n",
    "        pred_step_dict[idx] = row['pred']\n",
    "\n",
    "    return pred_step_dict"
   ]
  },
  {
   "cell_type": "code",
   "execution_count": null,
   "id": "be9d54b0",
   "metadata": {
    "execution": {
     "iopub.execute_input": "2023-03-20T13:34:37.630190Z",
     "iopub.status.busy": "2023-03-20T13:34:37.629701Z"
    }
   },
   "outputs": [
    {
     "name": "stdout",
     "output_type": "stream",
     "text": [
      "(328397, 401) (82236, 401)\n"
     ]
    }
   ],
   "source": [
    "df_train_df = pd.read_parquet(\"../input/dk-1st-data-1/kaggle_data_1/df_xgb_pre_g\").reset_index(drop=True)\n",
    "feature_cols = np.load('../input/dk-1st-data-1/kaggle_data_1/feature_cols_G.npy', allow_pickle=True)#.item()\n",
    "oof_pred = fit_xgboost(cfg, cfg.xgb_params, add_suffix=\"_xgb_1st\")"
   ]
  },
  {
   "cell_type": "code",
   "execution_count": null,
   "id": "a8dd9c96",
   "metadata": {},
   "outputs": [],
   "source": [
    "# fold2 =>\n",
    "# thres 0.2000 tp 1881 all_pos 2619.0000 pred_pos 3668.0000, score 0.5918\n",
    "# thres 0.3000 tp 1556 all_pos 2619.0000 pred_pos 2466.0000, score 0.5999\n",
    "# thres 0.4000 tp 1245 all_pos 2619.0000 pred_pos 1719.0000, score 0.5762\n",
    "# thres 0.5000 tp 926 all_pos 2619.0000 pred_pos 1173.0000, score 0.5190\n",
    "\n",
    "# fold1 =>\n",
    "# thres 0.2000 tp 2809 all_pos 3992.0000 pred_pos 4935.0000, score 0.6121\n",
    "# thres 0.3000 tp 2277 all_pos 3992.0000 pred_pos 3512.0000, score 0.5895\n",
    "# thres 0.4000 tp 1754 all_pos 3992.0000 pred_pos 2494.0000, score 0.5388\n",
    "# thres 0.5000 tp 1354 all_pos 3992.0000 pred_pos 1819.0000, score 0.4869"
   ]
  },
  {
   "cell_type": "code",
   "execution_count": null,
   "id": "030c3067",
   "metadata": {},
   "outputs": [],
   "source": []
  }
 ],
 "metadata": {
  "kernelspec": {
   "display_name": "Python 3 (ipykernel)",
   "language": "python",
   "name": "python3"
  },
  "language_info": {
   "codemirror_mode": {
    "name": "ipython",
    "version": 3
   },
   "file_extension": ".py",
   "mimetype": "text/x-python",
   "name": "python",
   "nbconvert_exporter": "python",
   "pygments_lexer": "ipython3",
   "version": "3.7.12"
  }
 },
 "nbformat": 4,
 "nbformat_minor": 5
}
