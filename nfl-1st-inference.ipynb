{
 "cells": [
  {
   "cell_type": "code",
   "execution_count": 1,
   "id": "eddaafb0",
   "metadata": {
    "_cell_guid": "b1076dfc-b9ad-4769-8c92-a6c4dae69d19",
    "_uuid": "8f2839f25d086af736a60e9eeb907d3b93b6e0e5",
    "execution": {
     "iopub.execute_input": "2023-05-16T02:15:09.453497Z",
     "iopub.status.busy": "2023-05-16T02:15:09.452242Z",
     "iopub.status.idle": "2023-05-16T02:15:09.466682Z",
     "shell.execute_reply": "2023-05-16T02:15:09.465698Z"
    },
    "papermill": {
     "duration": 0.036729,
     "end_time": "2023-05-16T02:15:09.469350",
     "exception": false,
     "start_time": "2023-05-16T02:15:09.432621",
     "status": "completed"
    },
    "tags": []
   },
   "outputs": [],
   "source": [
    "import numpy as np  \n",
    "import pandas as pd  \n",
    "import os\n",
    "import sys\n",
    "sys.path.append(\"/kaggle/input/nfl-data/nfl_inference_scripts/nfl_inference_scripts\")"
   ]
  },
  {
   "cell_type": "markdown",
   "id": "7d060512",
   "metadata": {
    "papermill": {
     "duration": 0.017893,
     "end_time": "2023-05-16T02:15:09.504262",
     "exception": false,
     "start_time": "2023-05-16T02:15:09.486369",
     "status": "completed"
    },
    "tags": []
   },
   "source": [
    "**XGB preprocessing step**"
   ]
  },
  {
   "cell_type": "code",
   "execution_count": 2,
   "id": "975d9aa1",
   "metadata": {
    "_kg_hide-output": true,
    "execution": {
     "iopub.execute_input": "2023-05-16T02:15:09.538660Z",
     "iopub.status.busy": "2023-05-16T02:15:09.537619Z",
     "iopub.status.idle": "2023-05-16T02:15:33.348099Z",
     "shell.execute_reply": "2023-05-16T02:15:33.346641Z"
    },
    "papermill": {
     "duration": 23.830528,
     "end_time": "2023-05-16T02:15:33.350861",
     "exception": false,
     "start_time": "2023-05-16T02:15:09.520333",
     "status": "completed"
    },
    "tags": []
   },
   "outputs": [
    {
     "name": "stdout",
     "output_type": "stream",
     "text": [
      "47330it [00:05, 8514.51it/s]\r\n",
      "(7414, 17)\r\n",
      "7414it [00:00, 11600.71it/s]\r\n",
      "(7414, 17)\r\n",
      "7414it [00:00, 7698.26it/s]\r\n",
      "4312it [00:01, 2831.55it/s]\r\n"
     ]
    }
   ],
   "source": [
    "!python /kaggle/input/nfl-data/nfl_inference_scripts/nfl_inference_scripts/xgb_preprocess.py"
   ]
  },
  {
   "cell_type": "code",
   "execution_count": 3,
   "id": "053b2830",
   "metadata": {
    "_kg_hide-output": true,
    "execution": {
     "iopub.execute_input": "2023-05-16T02:15:33.397630Z",
     "iopub.status.busy": "2023-05-16T02:15:33.397260Z",
     "iopub.status.idle": "2023-05-16T02:15:50.033390Z",
     "shell.execute_reply": "2023-05-16T02:15:50.032182Z"
    },
    "papermill": {
     "duration": 16.662767,
     "end_time": "2023-05-16T02:15:50.036509",
     "exception": false,
     "start_time": "2023-05-16T02:15:33.373742",
     "status": "completed"
    },
    "tags": []
   },
   "outputs": [
    {
     "name": "stdout",
     "output_type": "stream",
     "text": [
      "(7163, 12)\r\n",
      "7163it [00:05, 1414.88it/s]\r\n"
     ]
    }
   ],
   "source": [
    "!python /kaggle/input/nfl-data/nfl_inference_scripts/nfl_inference_scripts/xgb_pair_v1.py"
   ]
  },
  {
   "cell_type": "markdown",
   "id": "1863529c",
   "metadata": {
    "papermill": {
     "duration": 0.026052,
     "end_time": "2023-05-16T02:15:50.088382",
     "exception": false,
     "start_time": "2023-05-16T02:15:50.062330",
     "status": "completed"
    },
    "tags": []
   },
   "source": [
    "**Install libraries for mmaction2 model**"
   ]
  },
  {
   "cell_type": "code",
   "execution_count": 4,
   "id": "ad214ce9",
   "metadata": {
    "_kg_hide-output": true,
    "execution": {
     "iopub.execute_input": "2023-05-16T02:15:50.142415Z",
     "iopub.status.busy": "2023-05-16T02:15:50.141652Z",
     "iopub.status.idle": "2023-05-16T02:17:21.354794Z",
     "shell.execute_reply": "2023-05-16T02:17:21.353516Z"
    },
    "papermill": {
     "duration": 91.243646,
     "end_time": "2023-05-16T02:17:21.358191",
     "exception": false,
     "start_time": "2023-05-16T02:15:50.114545",
     "status": "completed"
    },
    "tags": []
   },
   "outputs": [
    {
     "name": "stdout",
     "output_type": "stream",
     "text": [
      "Processing /kaggle/input/nfl-libs/nfl_libs/addict-2.4.0-py3-none-any.whl\r\n",
      "Installing collected packages: addict\r\n",
      "Successfully installed addict-2.4.0\r\n",
      "\u001b[33mWARNING: Running pip as the 'root' user can result in broken permissions and conflicting behaviour with the system package manager. It is recommended to use a virtual environment instead: https://pip.pypa.io/warnings/venv\u001b[0m\u001b[33m\r\n",
      "\u001b[0m\u001b[33mWARNING: There was an error checking the latest version of pip.\u001b[0m\u001b[33m\r\n",
      "\u001b[0mProcessing /kaggle/input/nfl-libs/nfl_libs/yapf-0.33.0-py2.py3-none-any.whl\r\n",
      "Installing collected packages: yapf\r\n",
      "  Attempting uninstall: yapf\r\n",
      "    Found existing installation: yapf 0.32.0\r\n",
      "    Uninstalling yapf-0.32.0:\r\n",
      "      Successfully uninstalled yapf-0.32.0\r\n",
      "Successfully installed yapf-0.33.0\r\n",
      "\u001b[33mWARNING: Running pip as the 'root' user can result in broken permissions and conflicting behaviour with the system package manager. It is recommended to use a virtual environment instead: https://pip.pypa.io/warnings/venv\u001b[0m\u001b[33m\r\n",
      "\u001b[0m\u001b[33mWARNING: There was an error checking the latest version of pip.\u001b[0m\u001b[33m\r\n",
      "\u001b[0mProcessing /kaggle/input/nfl-libs/nfl_libs/pytest_runner-6.0.0-py3-none-any.whl\r\n",
      "Installing collected packages: pytest-runner\r\n",
      "Successfully installed pytest-runner-6.0.0\r\n",
      "\u001b[33mWARNING: Running pip as the 'root' user can result in broken permissions and conflicting behaviour with the system package manager. It is recommended to use a virtual environment instead: https://pip.pypa.io/warnings/venv\u001b[0m\u001b[33m\r\n",
      "\u001b[0m\u001b[33mWARNING: There was an error checking the latest version of pip.\u001b[0m\u001b[33m\r\n",
      "\u001b[0mProcessing /kaggle/input/nfl-libs/nfl_libs/mmcv_full-1.7.1-py2.py3-none-any.whl\r\n",
      "Installing collected packages: mmcv-full\r\n",
      "Successfully installed mmcv-full-1.7.1\r\n",
      "\u001b[33mWARNING: Running pip as the 'root' user can result in broken permissions and conflicting behaviour with the system package manager. It is recommended to use a virtual environment instead: https://pip.pypa.io/warnings/venv\u001b[0m\u001b[33m\r\n",
      "\u001b[0m\u001b[33mWARNING: There was an error checking the latest version of pip.\u001b[0m\u001b[33m\r\n",
      "\u001b[0m"
     ]
    }
   ],
   "source": [
    "!pip install /kaggle/input/nfl-libs/nfl_libs/addict-2.4.0-py3-none-any.whl --no-deps\n",
    "!pip install /kaggle/input/nfl-libs/nfl_libs/yapf-0.33.0-py2.py3-none-any.whl --no-deps\n",
    "!pip install /kaggle/input/nfl-libs/nfl_libs/pytest_runner-6.0.0-py3-none-any.whl --no-deps\n",
    "# !pip install /kaggle/input/nfl-libs/nfl_libs/mmengine-0.7.3-py3-none-any.whl --no-deps\n",
    "!pip install /kaggle/input/nfl-libs/nfl_libs/mmcv_full-1.7.1-py2.py3-none-any.whl --no-deps"
   ]
  },
  {
   "cell_type": "code",
   "execution_count": null,
   "id": "7c8867d4",
   "metadata": {
    "papermill": {
     "duration": 0.03915,
     "end_time": "2023-05-16T02:17:21.436730",
     "exception": false,
     "start_time": "2023-05-16T02:17:21.397580",
     "status": "completed"
    },
    "tags": []
   },
   "outputs": [],
   "source": []
  },
  {
   "cell_type": "code",
   "execution_count": 5,
   "id": "06c68b97",
   "metadata": {
    "execution": {
     "iopub.execute_input": "2023-05-16T02:17:21.516387Z",
     "iopub.status.busy": "2023-05-16T02:17:21.515907Z",
     "iopub.status.idle": "2023-05-16T02:17:27.480380Z",
     "shell.execute_reply": "2023-05-16T02:17:27.479253Z"
    },
    "papermill": {
     "duration": 6.007639,
     "end_time": "2023-05-16T02:17:27.483356",
     "exception": false,
     "start_time": "2023-05-16T02:17:21.475717",
     "status": "completed"
    },
    "tags": []
   },
   "outputs": [
    {
     "name": "stderr",
     "output_type": "stream",
     "text": [
      "/opt/conda/lib/python3.7/site-packages/mmcv/__init__.py:21: UserWarning: On January 1, 2023, MMCV will release v2.0.0, in which it will remove components related to the training process and add a data transformation module. In addition, it will rename the package names mmcv to mmcv-lite and mmcv-full to mmcv. See https://github.com/open-mmlab/mmcv/blob/master/docs/en/compatibility.md for more details.\n",
      "  'On January 1, 2023, MMCV will release v2.0.0, in which it will remove '\n"
     ]
    }
   ],
   "source": [
    "import torch\n",
    "from model_csn1 import NModel\n",
    "import cv2\n",
    "import albumentations as A\n",
    "from tqdm.notebook import tqdm\n",
    "import time\n",
    "import gc"
   ]
  },
  {
   "cell_type": "markdown",
   "id": "bc732ffb",
   "metadata": {
    "papermill": {
     "duration": 0.026627,
     "end_time": "2023-05-16T02:17:27.537207",
     "exception": false,
     "start_time": "2023-05-16T02:17:27.510580",
     "status": "completed"
    },
    "tags": []
   },
   "source": [
    "**Crop endzone, sideline for player-player function**"
   ]
  },
  {
   "cell_type": "code",
   "execution_count": 6,
   "id": "5890d6db",
   "metadata": {
    "execution": {
     "iopub.execute_input": "2023-05-16T02:17:27.593923Z",
     "iopub.status.busy": "2023-05-16T02:17:27.593505Z",
     "iopub.status.idle": "2023-05-16T02:17:27.634837Z",
     "shell.execute_reply": "2023-05-16T02:17:27.633813Z"
    },
    "papermill": {
     "duration": 0.073124,
     "end_time": "2023-05-16T02:17:27.637631",
     "exception": false,
     "start_time": "2023-05-16T02:17:27.564507",
     "status": "completed"
    },
    "tags": []
   },
   "outputs": [],
   "source": [
    "def get_sample(vid, fr_id, idx1, idx2, window_size = 20, out_size = 128):\n",
    "    ws = []\n",
    "    hs = []\n",
    "    for fr in range(fr_id + window_size[0], fr_id + window_size[-1] + 1):\n",
    "        if fr in det_dict[vid]:\n",
    "            if idx1 in det_dict[vid][fr] and idx2 in det_dict[vid][fr]: \n",
    "                x, y, w, h = det_dict[vid][fr][idx1]['box']\n",
    "                ws.append(w)\n",
    "                hs.append(h)\n",
    "                x, y, w, h = det_dict[vid][fr][idx2]['box']\n",
    "                ws.append(w)\n",
    "                hs.append(h)\n",
    "\n",
    "    if len(ws)>0:\n",
    "        crop_size = int(4*max(np.mean(ws), np.mean(hs)))# 5*...\n",
    "    else:\n",
    "        crop_size = out_size\n",
    "\n",
    "    bboxes = []\n",
    "    for fr in range(fr_id + window_size[0], fr_id + window_size[-1] + 1):\n",
    "        if fr in det_dict[vid]:\n",
    "            if idx1 in det_dict[vid][fr] and idx2 in det_dict[vid][fr]: \n",
    "                x, y, w, h = det_dict[vid][fr][idx1]['box']\n",
    "                x1 = x + w/2\n",
    "                y1 = y + h/2\n",
    "\n",
    "                x, y, w, h = det_dict[vid][fr][idx2]['box']\n",
    "                x2 = x + w/2\n",
    "                y2 = y + h/2\n",
    "\n",
    "                xc = 0.5*x1 + 0.5*x2\n",
    "                yc = 0.5*y1 + 0.5*y2\n",
    "\n",
    "                bboxes.append([xc-crop_size, yc-crop_size, xc+crop_size, yc+crop_size])\n",
    "            else:\n",
    "                bboxes.append([np.nan, np.nan, np.nan, np.nan])\n",
    "        else:\n",
    "            bboxes.append([np.nan, np.nan, np.nan, np.nan])\n",
    "\n",
    "    bboxes = pd.DataFrame(bboxes).interpolate(limit_direction='both').values\n",
    "    images = []\n",
    "    masks1 = []\n",
    "    masks2 = []\n",
    "    empty_count = 0\n",
    "    \n",
    "    if bboxes.sum() > 0:    \n",
    "        for i, ii in enumerate(window_size):\n",
    "            fr = ii + fr_id\n",
    "            path = f'{vid}_{fr}'\n",
    "            \n",
    "            if path in image_dict:\n",
    "                image = image_dict[path]\n",
    "            else:\n",
    "                image = np.ones((720, 1280,3), dtype = np.uint8)\n",
    "                empty_count +=1\n",
    "\n",
    "            mask1 = np.ones((720, 1280), dtype = np.uint8)\n",
    "            mask2 = np.ones((720, 1280), dtype = np.uint8)\n",
    "\n",
    "            x1, y1, x2, y2 = list(map(int, bboxes[ii-window_size[0]]))\n",
    "\n",
    "            y1 = y1 + int(0.2*crop_size)\n",
    "            x2 = x1 + crop_size*2\n",
    "            y2 = y1 + crop_size*2\n",
    "\n",
    "            if fr in det_dict[vid]:\n",
    "                if idx1 in det_dict[vid][fr]: \n",
    "                    x, y, w, h = det_dict[vid][fr][idx1]['box']\n",
    "                    # mask1[y:y+h, x:x+w] = 255\n",
    "                    cv2.circle(mask1, (x+w//2, y+h//2), int(0.3*h+0.3*w), 255, thickness=-1)# int(0.25*h+0.25*w)\n",
    "\n",
    "                if idx2 in det_dict[vid][fr]:\n",
    "                    x, y, w, h = det_dict[vid][fr][idx2]['box']\n",
    "                    # mask2[y:y+h, x:x+w] = 255\n",
    "                    cv2.circle(mask2, (x+w//2, y+h//2), int(0.25*h+0.25*w), 255, thickness=-1)\n",
    "\n",
    "            crop = image[y1:y2, x1:x2]\n",
    "            crop_mask1 = mask1[y1:y2, x1:x2]\n",
    "            crop_mask2 = mask2[y1:y2, x1:x2]\n",
    "\n",
    "            cr_y, cr_x = crop.shape[:2]\n",
    "            if cr_x == crop_size*2 and cr_y == crop_size*2:\n",
    "                crop = cv2.resize(crop, (out_size*2,out_size*2))\n",
    "                crop_mask1 = cv2.resize(crop_mask1, (out_size*2,out_size*2))\n",
    "                crop_mask2 = cv2.resize(crop_mask2, (out_size*2,out_size*2))\n",
    "                images.append(crop)\n",
    "                masks1.append(crop_mask1)\n",
    "                masks2.append(crop_mask2)\n",
    "            else:\n",
    "                tmp_crop =  np.ones((crop_size*2, crop_size*2,3), dtype = np.uint8)\n",
    "                tmp_mask1 =  np.ones((crop_size*2, crop_size*2), dtype = np.uint8)\n",
    "                tmp_mask2 =  np.ones((crop_size*2, crop_size*2), dtype = np.uint8)\n",
    "                if x1 < 0:\n",
    "                    if y2>=720:\n",
    "                        tmp_crop[crop_size*2-cr_y:,:cr_x] = crop\n",
    "                        tmp_mask1[crop_size*2-cr_y:,:cr_x] = crop_mask1\n",
    "                        tmp_mask2[crop_size*2-cr_y:,:cr_x] = crop_mask2\n",
    "                    else:\n",
    "                        tmp_crop[:cr_y,:cr_x] = crop\n",
    "                        tmp_mask1[:cr_y,:cr_x] = crop_mask1\n",
    "                        tmp_mask2[:cr_y,:cr_x] = crop_mask2\n",
    "\n",
    "                elif x2> 1280:\n",
    "                    if y2>=720:\n",
    "                        tmp_crop[crop_size*2-cr_y:,crop_size*2-cr_x:] = crop\n",
    "                        tmp_mask1[crop_size*2-cr_y:,crop_size*2-cr_x:] = crop_mask1\n",
    "                        tmp_mask2[crop_size*2-cr_y:,crop_size*2-cr_x:] = crop_mask2\n",
    "                    else:\n",
    "                        tmp_crop[:cr_y,crop_size*2-cr_x:] = crop\n",
    "                        tmp_mask1[:cr_y,crop_size*2-cr_x:] = crop_mask1\n",
    "                        tmp_mask2[:cr_y,crop_size*2-cr_x:] = crop_mask2\n",
    "\n",
    "                tmp_crop = cv2.resize(tmp_crop, (out_size*2,out_size*2))\n",
    "                tmp_mask1 = cv2.resize(tmp_mask1, (out_size*2,out_size*2))\n",
    "                tmp_mask2 = cv2.resize(tmp_mask2, (out_size*2,out_size*2))\n",
    "                images.append(tmp_crop)\n",
    "                masks1.append(tmp_mask1)\n",
    "                masks2.append(tmp_mask2)\n",
    "    else:\n",
    "        for i, ii in enumerate(window_size):            \n",
    "            empty_count +=1\n",
    "            crop =  np.ones((out_size*2, out_size*2,3), dtype = np.uint8)\n",
    "            crop_mask1 =  np.ones((out_size*2, out_size*2), dtype = np.uint8)\n",
    "            crop_mask2 =  np.ones((out_size*2, out_size*2), dtype = np.uint8)\n",
    "            images.append(crop)\n",
    "            masks1.append(crop_mask1)\n",
    "            masks2.append(crop_mask2)\n",
    "            \n",
    "    return images, masks1, masks2"
   ]
  },
  {
   "cell_type": "markdown",
   "id": "c226eb9f",
   "metadata": {
    "papermill": {
     "duration": 0.026506,
     "end_time": "2023-05-16T02:17:27.691136",
     "exception": false,
     "start_time": "2023-05-16T02:17:27.664630",
     "status": "completed"
    },
    "tags": []
   },
   "source": [
    "**Crop endzone, sideline for player-ground function**\n"
   ]
  },
  {
   "cell_type": "code",
   "execution_count": 7,
   "id": "a1a55df9",
   "metadata": {
    "execution": {
     "iopub.execute_input": "2023-05-16T02:17:27.748242Z",
     "iopub.status.busy": "2023-05-16T02:17:27.747852Z",
     "iopub.status.idle": "2023-05-16T02:17:27.781095Z",
     "shell.execute_reply": "2023-05-16T02:17:27.780087Z"
    },
    "papermill": {
     "duration": 0.065442,
     "end_time": "2023-05-16T02:17:27.783957",
     "exception": false,
     "start_time": "2023-05-16T02:17:27.718515",
     "status": "completed"
    },
    "tags": []
   },
   "outputs": [],
   "source": [
    "def get_sample_G(vid, fr_id, idx1, idx2, window_size = 20, out_size = 128, scale=4):\n",
    "    ws = []\n",
    "    hs = []\n",
    "    for fr in range(fr_id + window_size[0], fr_id + window_size[-1] + 1):\n",
    "        if fr in det_dict[vid]:\n",
    "            if idx1 in det_dict[vid][fr]: \n",
    "                x, y, w, h = det_dict[vid][fr][idx1]['box']\n",
    "                ws.append(w)\n",
    "                hs.append(h)\n",
    "    \n",
    "    if len(ws)>0:\n",
    "        crop_size = int(scale*max(np.mean(ws), np.mean(hs)))\n",
    "    else:\n",
    "        crop_size = out_size\n",
    "\n",
    "    bboxes = []\n",
    "    for fr in range(fr_id + window_size[0], fr_id + window_size[-1] + 1):\n",
    "        if fr in det_dict[vid]:\n",
    "            if idx1 in det_dict[vid][fr]: \n",
    "                x, y, w, h = det_dict[vid][fr][idx1]['box']\n",
    "                xc = x + w/2\n",
    "                yc = y + h/2\n",
    "\n",
    "                bboxes.append([xc-crop_size, yc-crop_size, xc+crop_size, yc+crop_size])\n",
    "            else:\n",
    "                bboxes.append([np.nan, np.nan, np.nan, np.nan])\n",
    "        else:\n",
    "            bboxes.append([np.nan, np.nan, np.nan, np.nan])\n",
    "\n",
    "    bboxes = pd.DataFrame(bboxes).interpolate(limit_direction='both').values\n",
    "    images = []\n",
    "    masks1 = []\n",
    "    empty_count = 0\n",
    "    if bboxes.sum() > 0:\n",
    "        for i, ii in enumerate(window_size):        \n",
    "            fr = ii + fr_id\n",
    "            path = f'{vid}_{fr}'\n",
    "\n",
    "            if path in image_dict:\n",
    "                if scale != 4:\n",
    "                    image = image_dict1[path]\n",
    "                    p_path = f'{vid}_{fr-2}'\n",
    "                    if p_path in image_dict1:\n",
    "                        p_img = image_dict1[p_path]\n",
    "                    else:\n",
    "                        p_img = image\n",
    "\n",
    "                    n_path = f'{vid}_{fr+2}'\n",
    "                    if n_path in image_dict1:\n",
    "                        n_img = image_dict1[n_path]\n",
    "                    else:\n",
    "                        n_img = image\n",
    "\n",
    "                    image = np.stack([p_img, image, n_img], -1) #.transpose(1,2,0)\n",
    "                else:\n",
    "                    image = image_dict[path]\n",
    "            else:\n",
    "                image = np.ones((720, 1280,3), dtype = np.uint8)\n",
    "                empty_count +=1\n",
    "\n",
    "            mask1 = np.ones((720, 1280), dtype = np.uint8)\n",
    "\n",
    "            x1, y1, x2, y2 = list(map(int, bboxes[ii-window_size[0]]))\n",
    "\n",
    "            y1 = y1 + int(0.2*crop_size)\n",
    "            x2 = x1 + crop_size*2\n",
    "            y2 = y1 + crop_size*2\n",
    "\n",
    "            if fr in det_dict[vid]:\n",
    "                if idx1 in det_dict[vid][fr]: \n",
    "                    x, y, w, h = det_dict[vid][fr][idx1]['box']\n",
    "                    # cv2.rectangle(image, (x, y), (x+w, y+h), (0,0,255), 2)\n",
    "                    # mask1[y:y+h, x:x+w] = 255\n",
    "                    cv2.circle(mask1, (x+w//2, y+h//2), int(0.3*h+0.3*w), 255, thickness=-1)\n",
    "\n",
    "\n",
    "            crop = image[y1:y2, x1:x2]\n",
    "            crop_mask1 = mask1[y1:y2, x1:x2]\n",
    "\n",
    "            cr_y, cr_x = crop.shape[:2]\n",
    "            if cr_x == crop_size*2 and cr_y == crop_size*2:\n",
    "                crop = cv2.resize(crop, (out_size*2,out_size*2))\n",
    "                crop_mask1 = cv2.resize(crop_mask1, (out_size*2,out_size*2))\n",
    "                images.append(crop)\n",
    "                masks1.append(crop_mask1)\n",
    "            else:\n",
    "                tmp_crop =  np.ones((crop_size*2, crop_size*2,3), dtype = np.uint8)\n",
    "                tmp_mask1 =  np.ones((crop_size*2, crop_size*2), dtype = np.uint8)\n",
    "                if x1 < 0:\n",
    "                    if y2>=720:\n",
    "                        tmp_crop[crop_size*2-cr_y:,:cr_x] = crop\n",
    "                        tmp_mask1[crop_size*2-cr_y:,:cr_x] = crop_mask1\n",
    "                    else:\n",
    "                        tmp_crop[:cr_y,:cr_x] = crop\n",
    "                        tmp_mask1[:cr_y,:cr_x] = crop_mask1\n",
    "\n",
    "                elif x2> 1280:\n",
    "                    if y2>=720:\n",
    "                        tmp_crop[crop_size*2-cr_y:,crop_size*2-cr_x:] = crop\n",
    "                        tmp_mask1[crop_size*2-cr_y:,crop_size*2-cr_x:] = crop_mask1\n",
    "                    else:\n",
    "                        tmp_crop[:cr_y,crop_size*2-cr_x:] = crop\n",
    "                        tmp_mask1[:cr_y,crop_size*2-cr_x:] = crop_mask1\n",
    "\n",
    "                tmp_crop = cv2.resize(tmp_crop, (out_size*2,out_size*2))\n",
    "                tmp_mask1 = cv2.resize(tmp_mask1, (out_size*2,out_size*2))\n",
    "                images.append(tmp_crop)\n",
    "                masks1.append(tmp_mask1)\n",
    "    else:\n",
    "        for i, ii in enumerate(window_size):        \n",
    "            empty_count +=1\n",
    "            # crop =  np.ones((crop_size*2, crop_size*2,3))\n",
    "            crop =  np.ones((out_size*2, out_size*2, 3), dtype = np.uint8)\n",
    "            crop_mask1 =  np.ones((out_size*2, out_size*2), dtype = np.uint8)\n",
    "            images.append(crop)\n",
    "            masks1.append(crop_mask1)\n",
    "    return images, masks1, empty_count"
   ]
  },
  {
   "cell_type": "markdown",
   "id": "b17a469d",
   "metadata": {
    "papermill": {
     "duration": 0.027127,
     "end_time": "2023-05-16T02:17:27.837755",
     "exception": false,
     "start_time": "2023-05-16T02:17:27.810628",
     "status": "completed"
    },
    "tags": []
   },
   "source": [
    "**Test dataset**"
   ]
  },
  {
   "cell_type": "code",
   "execution_count": 8,
   "id": "61a7bb74",
   "metadata": {
    "execution": {
     "iopub.execute_input": "2023-05-16T02:17:27.894931Z",
     "iopub.status.busy": "2023-05-16T02:17:27.894080Z",
     "iopub.status.idle": "2023-05-16T02:17:27.929461Z",
     "shell.execute_reply": "2023-05-16T02:17:27.928447Z"
    },
    "papermill": {
     "duration": 0.067149,
     "end_time": "2023-05-16T02:17:27.932156",
     "exception": false,
     "start_time": "2023-05-16T02:17:27.865007",
     "status": "completed"
    },
    "tags": []
   },
   "outputs": [],
   "source": [
    "class TestDataset(torch.utils.data.Dataset):\n",
    "    def __init__(self, df, image_dict, tfms=None, cfg=None):\n",
    "        self.df = df.reset_index(drop=True)\n",
    "        self.image_dict = image_dict\n",
    "        self.transform = A.ReplayCompose([ A.Resize(cfg.img_size, cfg.img_size, interpolation=cv2.INTER_AREA, p=1.),])\n",
    "        self.cfg = cfg\n",
    "        \n",
    "        self.trk_step = 0\n",
    "\n",
    "    def __len__(self):\n",
    "        return len(self.df)\n",
    "\n",
    "    def __getitem__(self, index):\n",
    "        row = self.df.loc[index]\n",
    "        idx1 = int(row['nfl_player_id_1'])\n",
    "        if self.cfg.is_G:\n",
    "            idx2 = row['nfl_player_id_2']\n",
    "        else:\n",
    "            idx2 = int(row['nfl_player_id_2'])\n",
    "        fr_id = int(row['frame'])\n",
    "        step = int(row['step'])\n",
    "        \n",
    "        if self.cfg.is_G:\n",
    "            e_images, e_masks1, _ = get_sample_G(e_vid, fr_id, idx1, idx2, window_size = cfg.window_size, scale=cfg.scale)\n",
    "            s_images, s_masks1, _ = get_sample_G(s_vid, fr_id, idx1, idx2, window_size = cfg.window_size, out_size = 128, scale=cfg.scale)\n",
    "        else:\n",
    "            e_images, e_masks1, e_masks2 = get_sample(e_vid, fr_id, idx1, idx2, window_size = cfg.window_size)\n",
    "            s_images, s_masks1, s_masks2 = get_sample(s_vid, fr_id, idx1, idx2, window_size = cfg.window_size, out_size = 128)\n",
    "        \n",
    "        images_e = []\n",
    "        images_s = []\n",
    "        for ii in range(len(e_images)):\n",
    "            e_img = e_images[ii]\n",
    "            e_img[e_masks1[ii]>100] = 255\n",
    "            if not  self.cfg.is_G:\n",
    "                e_img[e_masks2[ii]>100] = 0\n",
    "\n",
    "            s_img = s_images[ii]\n",
    "            s_img[s_masks1[ii]>100] = 255\n",
    "            if not self.cfg.is_G:\n",
    "                s_img[s_masks2[ii]>100] = 0\n",
    "\n",
    "            images_e.append(e_img)\n",
    "            images_s.append(s_img)\n",
    "\n",
    "        e_images = np.array(images_e)\n",
    "        s_images = np.array(images_s)\n",
    "                \n",
    "        num_empty = 0\n",
    "        for img in e_images:\n",
    "            h, w, c = img.shape \n",
    "            if np.sum(img<2)/(h*w*c) > 0.9:\n",
    "                num_empty += 1\n",
    "        if len(e_images) - num_empty < 2:\n",
    "            # print('e empty')\n",
    "            e_images = s_images.copy()\n",
    "\n",
    "        num_empty = 0\n",
    "        for img in s_images:\n",
    "            h, w, c = img.shape \n",
    "            if np.sum(img<2)/(h*w*c) > 0.9:\n",
    "                num_empty += 1\n",
    "        if len(s_images) - num_empty < 2:\n",
    "            # print('s empty')\n",
    "            s_images = e_images.copy()            \n",
    "        \n",
    "        if self.trk_step == 0:\n",
    "            self.trk_step = len(e_images)//2\n",
    "\n",
    "        if not self.cfg.is_G:\n",
    "            trk_images = self.render_trk(vid, step, idx1, idx2)\n",
    "            \n",
    "        images = []\n",
    "        for i in range(len(s_images)):\n",
    "            if not self.cfg.is_G:\n",
    "                trk_img = trk_images[i]\n",
    "                img = np.hstack([e_images[i], trk_img, s_images[i]])\n",
    "            else:\n",
    "                img = np.hstack([e_images[i], s_images[i]])\n",
    "            images.append(img)\n",
    "        img = np.array(images)\n",
    "        img = img.transpose(3,0,1,2) #C T H W\n",
    "\n",
    "        img = img/255.\n",
    "\n",
    "        return torch.tensor(img, dtype=torch.float)\n",
    "    \n",
    "    def render_trk(self, vid, step, idx1, idx2):\n",
    "        # simulate tracking data as image 128x256x3\n",
    "        shift_x = 0\n",
    "        shift_y = 0\n",
    "\n",
    "        d_x = 5\n",
    "        scale = 60/d_x\n",
    "\n",
    "        idx = f'{vid}_{step}'\n",
    "        images = []\n",
    "        x1 = trk_dict[idx][idx1]['x']\n",
    "        y1 = trk_dict[idx][idx1]['y']\n",
    "\n",
    "        x2 = trk_dict[idx][idx2]['x']\n",
    "        y2 = trk_dict[idx][idx2]['y']\n",
    "\n",
    "        xc = 0.5*x1 + 0.5*x2\n",
    "        yc = 0.5*y1 + 0.5*y2\n",
    "\n",
    "        for st in range(step-self.trk_step, step + self.trk_step + 1):\n",
    "            #print('=======',step, self.trk_step)\n",
    "            this_idx = f'{vid}_{st}'\n",
    "            img = np.ones((3, self.cfg.img_size, 128), dtype=np.uint8)\n",
    "            if this_idx in trk_dict:\n",
    "                for p_id, meta in trk_dict[this_idx].items():\n",
    "                    x = meta['x']\n",
    "                    y = meta['y']\n",
    "                    t = meta['t']\n",
    "\n",
    "                    x = x - xc + d_x\n",
    "                    y = y - yc + (2*d_x)\n",
    "\n",
    "                    x = round(x*scale) + shift_x\n",
    "                    y = round(y*scale) + shift_y\n",
    "\n",
    "                    if x>0 and y>0 and x<128 and y<self.cfg.img_size:\n",
    "                        radius = 3\n",
    "                        val = 125\n",
    "                        if p_id in [idx1, idx2]:\n",
    "                            radius = 5\n",
    "                            val = 255\n",
    "\n",
    "                        cv2.circle(img[0], (x, y), radius, val, thickness=-1)\n",
    "                        if t == 'home':\n",
    "                            cv2.circle(img[1], (x, y), radius, val, thickness=-1)\n",
    "                        else:\n",
    "                            cv2.circle(img[2], (x, y), radius, val, thickness=-1)\n",
    "\n",
    "\n",
    "            img = img.transpose(1,2,0)\n",
    "            images.append(img)\n",
    "\n",
    "        return images"
   ]
  },
  {
   "cell_type": "markdown",
   "id": "742d0e67",
   "metadata": {
    "papermill": {
     "duration": 0.027767,
     "end_time": "2023-05-16T02:17:27.987855",
     "exception": false,
     "start_time": "2023-05-16T02:17:27.960088",
     "status": "completed"
    },
    "tags": []
   },
   "source": [
    "**Function to run inference for player-player contact**"
   ]
  },
  {
   "cell_type": "code",
   "execution_count": 9,
   "id": "6fcf040f",
   "metadata": {
    "execution": {
     "iopub.execute_input": "2023-05-16T02:17:28.045655Z",
     "iopub.status.busy": "2023-05-16T02:17:28.045287Z",
     "iopub.status.idle": "2023-05-16T02:17:28.057914Z",
     "shell.execute_reply": "2023-05-16T02:17:28.056905Z"
    },
    "papermill": {
     "duration": 0.044277,
     "end_time": "2023-05-16T02:17:28.060166",
     "exception": false,
     "start_time": "2023-05-16T02:17:28.015889",
     "status": "completed"
    },
    "tags": []
   },
   "outputs": [],
   "source": [
    "def predict_pair(window_size, df_p, models):\n",
    "    if df_p.shape[0] == 0:\n",
    "        return df_p, 0\n",
    "    cfg.is_G = 0\n",
    "    cfg.window_size = window_size\n",
    "    \n",
    "    test_dataset = TestDataset(df_p, image_dict, cfg=cfg)\n",
    "    test_loader = torch.utils.data.DataLoader(test_dataset,\n",
    "            batch_size=8,#8\n",
    "            num_workers=4,#4\n",
    "            shuffle=False)\n",
    "    \n",
    "    y_preds = []\n",
    "    with torch.no_grad():\n",
    "        bar = tqdm(test_loader)\n",
    "        for batch_idx, images in enumerate(bar):\n",
    "            images = images.float().to(device)\n",
    "            for ii, model in enumerate(models):\n",
    "                with torch.cuda.amp.autocast():\n",
    "                    if ii%2==0:\n",
    "                        pred = model(images)\n",
    "                    else:\n",
    "                        pred = model(images.flip(-1))\n",
    "                    logit = pred['out1'].sigmoid().detach().cpu().numpy()\n",
    "                if ii == 0:\n",
    "                    out = logit\n",
    "                else:\n",
    "                    out += logit\n",
    "            out = out/len(models)\n",
    "            y_preds.append(out)\n",
    "    y_preds = np.concatenate(y_preds)\n",
    "    print(y_preds.shape, df_p.shape)\n",
    "    df_p['pred'] = y_preds\n",
    "    return df_p, 1"
   ]
  },
  {
   "cell_type": "markdown",
   "id": "5d7a1998",
   "metadata": {
    "papermill": {
     "duration": 0.02704,
     "end_time": "2023-05-16T02:17:28.115270",
     "exception": false,
     "start_time": "2023-05-16T02:17:28.088230",
     "status": "completed"
    },
    "tags": []
   },
   "source": [
    "**Function to run inference for player-ground contact**"
   ]
  },
  {
   "cell_type": "code",
   "execution_count": 10,
   "id": "66c7430a",
   "metadata": {
    "execution": {
     "iopub.execute_input": "2023-05-16T02:17:28.170243Z",
     "iopub.status.busy": "2023-05-16T02:17:28.169877Z",
     "iopub.status.idle": "2023-05-16T02:17:28.182074Z",
     "shell.execute_reply": "2023-05-16T02:17:28.180954Z"
    },
    "papermill": {
     "duration": 0.042308,
     "end_time": "2023-05-16T02:17:28.184356",
     "exception": false,
     "start_time": "2023-05-16T02:17:28.142048",
     "status": "completed"
    },
    "tags": []
   },
   "outputs": [],
   "source": [
    "def predict_g(window_size, df_g, models, scale):\n",
    "    if df_g.shape[0] == 0:\n",
    "        return df_g, 0\n",
    "    cfg.is_G = 1\n",
    "    cfg.window_size = window_size\n",
    "    cfg.scale = scale \n",
    "    \n",
    "    test_dataset = TestDataset(df_g, image_dict, cfg=cfg)\n",
    "    test_loader = torch.utils.data.DataLoader(test_dataset,\n",
    "            batch_size=8,#8\n",
    "            num_workers=4,#4\n",
    "            shuffle=False)\n",
    "    y_preds = []\n",
    "    with torch.no_grad():\n",
    "        bar = tqdm(test_loader)\n",
    "        for batch_idx, images in enumerate(bar):\n",
    "            images = images.float().to(device)\n",
    "            for ii, model in enumerate(models):\n",
    "                with torch.cuda.amp.autocast():\n",
    "                    if ii%2==0:\n",
    "                        pred = model(images)\n",
    "                    else:\n",
    "                        pred = model(images.flip(-1))\n",
    "                    logit = pred['out1'].sigmoid().detach().cpu().numpy()\n",
    "                if ii == 0:\n",
    "                    out = logit\n",
    "                else:\n",
    "                    out += logit\n",
    "            out = out/len(models)\n",
    "            y_preds.append(out)\n",
    "    y_preds = np.concatenate(y_preds)\n",
    "    print(y_preds.shape, df_g.shape)\n",
    "    df_g['pred'] = y_preds\n",
    "    return df_g, 1"
   ]
  },
  {
   "cell_type": "markdown",
   "id": "2090e0fb",
   "metadata": {
    "papermill": {
     "duration": 0.026551,
     "end_time": "2023-05-16T02:17:28.237265",
     "exception": false,
     "start_time": "2023-05-16T02:17:28.210714",
     "status": "completed"
    },
    "tags": []
   },
   "source": [
    "**Load trained models**"
   ]
  },
  {
   "cell_type": "code",
   "execution_count": 11,
   "id": "15869703",
   "metadata": {
    "execution": {
     "iopub.execute_input": "2023-05-16T02:17:28.293623Z",
     "iopub.status.busy": "2023-05-16T02:17:28.293259Z",
     "iopub.status.idle": "2023-05-16T02:17:28.298180Z",
     "shell.execute_reply": "2023-05-16T02:17:28.297136Z"
    },
    "papermill": {
     "duration": 0.035716,
     "end_time": "2023-05-16T02:17:28.300383",
     "exception": false,
     "start_time": "2023-05-16T02:17:28.264667",
     "status": "completed"
    },
    "tags": []
   },
   "outputs": [],
   "source": [
    "class config:\n",
    "    model_name = 'r50ir' \n",
    "    pool_type = 'avg'\n",
    "    is_G = 0\n",
    "    img_size = 256"
   ]
  },
  {
   "cell_type": "code",
   "execution_count": 12,
   "id": "26ebab0a",
   "metadata": {
    "execution": {
     "iopub.execute_input": "2023-05-16T02:17:28.359300Z",
     "iopub.status.busy": "2023-05-16T02:17:28.358281Z",
     "iopub.status.idle": "2023-05-16T02:17:28.363915Z",
     "shell.execute_reply": "2023-05-16T02:17:28.362921Z"
    },
    "papermill": {
     "duration": 0.037849,
     "end_time": "2023-05-16T02:17:28.366223",
     "exception": false,
     "start_time": "2023-05-16T02:17:28.328374",
     "status": "completed"
    },
    "tags": []
   },
   "outputs": [],
   "source": [
    "cfg = config"
   ]
  },
  {
   "cell_type": "code",
   "execution_count": 13,
   "id": "9d6c7f11",
   "metadata": {
    "execution": {
     "iopub.execute_input": "2023-05-16T02:17:28.424978Z",
     "iopub.status.busy": "2023-05-16T02:17:28.423958Z",
     "iopub.status.idle": "2023-05-16T02:17:28.428993Z",
     "shell.execute_reply": "2023-05-16T02:17:28.427832Z"
    },
    "papermill": {
     "duration": 0.036537,
     "end_time": "2023-05-16T02:17:28.431196",
     "exception": false,
     "start_time": "2023-05-16T02:17:28.394659",
     "status": "completed"
    },
    "tags": []
   },
   "outputs": [],
   "source": [
    "device = \"cuda\""
   ]
  },
  {
   "cell_type": "markdown",
   "id": "c309ff84",
   "metadata": {
    "papermill": {
     "duration": 0.027369,
     "end_time": "2023-05-16T02:17:28.486740",
     "exception": false,
     "start_time": "2023-05-16T02:17:28.459371",
     "status": "completed"
    },
    "tags": []
   },
   "source": [
    "**player-player models, single model train 4 seeds with all data**"
   ]
  },
  {
   "cell_type": "code",
   "execution_count": 14,
   "id": "0715814a",
   "metadata": {
    "execution": {
     "iopub.execute_input": "2023-05-16T02:17:28.545294Z",
     "iopub.status.busy": "2023-05-16T02:17:28.544251Z",
     "iopub.status.idle": "2023-05-16T02:17:38.188471Z",
     "shell.execute_reply": "2023-05-16T02:17:38.187430Z"
    },
    "papermill": {
     "duration": 9.676622,
     "end_time": "2023-05-16T02:17:38.191047",
     "exception": false,
     "start_time": "2023-05-16T02:17:28.514425",
     "status": "completed"
    },
    "tags": []
   },
   "outputs": [],
   "source": [
    "models_pair = []\n",
    "for fold in [0,2,3,4]:#[5,6,7,8]\n",
    "    ckpt_path = f'/kaggle/input/nfl-data/kaggle/kaggle/r50ir_csn_c15_m1_d2_all_last_f{fold}.pth'\n",
    "    model = NModel(cfg)\n",
    "    checkpoint = torch.load(ckpt_path, map_location=\"cpu\")\n",
    "    model.load_state_dict(checkpoint)\n",
    "    model.to(device)\n",
    "    model.eval()\n",
    "    models_pair.append(model)"
   ]
  },
  {
   "cell_type": "markdown",
   "id": "c1c0f2ff",
   "metadata": {
    "papermill": {
     "duration": 0.026885,
     "end_time": "2023-05-16T02:17:38.245339",
     "exception": false,
     "start_time": "2023-05-16T02:17:38.218454",
     "status": "completed"
    },
    "tags": []
   },
   "source": [
    "**player-ground, single model train 3 seeds with all data (config 11)**"
   ]
  },
  {
   "cell_type": "code",
   "execution_count": 15,
   "id": "80692a21",
   "metadata": {
    "execution": {
     "iopub.execute_input": "2023-05-16T02:17:38.302776Z",
     "iopub.status.busy": "2023-05-16T02:17:38.302360Z",
     "iopub.status.idle": "2023-05-16T02:17:42.116313Z",
     "shell.execute_reply": "2023-05-16T02:17:42.115280Z"
    },
    "papermill": {
     "duration": 3.846717,
     "end_time": "2023-05-16T02:17:42.119267",
     "exception": false,
     "start_time": "2023-05-16T02:17:38.272550",
     "status": "completed"
    },
    "tags": []
   },
   "outputs": [],
   "source": [
    "models_g_base = []\n",
    "for fold in [0,1,2]:#[6,7,8]\n",
    "    ckpt_path = f'/kaggle/input/nfl-data/kaggle/kaggle/r50ir_csn_c11_m1_d2_G_all_last_f{fold}.pth'\n",
    "    model = NModel(cfg)\n",
    "    checkpoint = torch.load(ckpt_path, map_location=\"cpu\")\n",
    "    model.load_state_dict(checkpoint)\n",
    "    model.to(device)\n",
    "    model.eval()\n",
    "    models_g_base.append(model)"
   ]
  },
  {
   "cell_type": "markdown",
   "id": "d63574ac",
   "metadata": {
    "papermill": {
     "duration": 0.026779,
     "end_time": "2023-05-16T02:17:42.174345",
     "exception": false,
     "start_time": "2023-05-16T02:17:42.147566",
     "status": "completed"
    },
    "tags": []
   },
   "source": [
    "**player-ground, single model train 3 seeds with all data (config 15)**"
   ]
  },
  {
   "cell_type": "code",
   "execution_count": 16,
   "id": "215f29f1",
   "metadata": {
    "execution": {
     "iopub.execute_input": "2023-05-16T02:17:42.230383Z",
     "iopub.status.busy": "2023-05-16T02:17:42.229668Z",
     "iopub.status.idle": "2023-05-16T02:17:46.184291Z",
     "shell.execute_reply": "2023-05-16T02:17:46.183080Z"
    },
    "papermill": {
     "duration": 3.985447,
     "end_time": "2023-05-16T02:17:46.186901",
     "exception": false,
     "start_time": "2023-05-16T02:17:42.201454",
     "status": "completed"
    },
    "tags": []
   },
   "outputs": [],
   "source": [
    "models_g = []\n",
    "for fold in [0,1,2]:\n",
    "    ckpt_path = f'/kaggle/input/nfl-data/kaggle/kaggle/r50ir_csn_c15_m1_d2_G_all_last_f{fold}.pth'\n",
    "    model_g = NModel(cfg)\n",
    "    checkpoint = torch.load(ckpt_path, map_location=\"cpu\")\n",
    "    model_g.load_state_dict(checkpoint)\n",
    "    model_g.to(device)\n",
    "    model_g.eval()\n",
    "    models_g.append(model_g)"
   ]
  },
  {
   "cell_type": "markdown",
   "id": "271856f8",
   "metadata": {
    "papermill": {
     "duration": 0.026563,
     "end_time": "2023-05-16T02:17:46.240741",
     "exception": false,
     "start_time": "2023-05-16T02:17:46.214178",
     "status": "completed"
    },
    "tags": []
   },
   "source": [
    "**Load results of xgb preprocessing step and filter easy negative samples**"
   ]
  },
  {
   "cell_type": "code",
   "execution_count": 17,
   "id": "7e132e42",
   "metadata": {
    "execution": {
     "iopub.execute_input": "2023-05-16T02:17:46.299066Z",
     "iopub.status.busy": "2023-05-16T02:17:46.297039Z",
     "iopub.status.idle": "2023-05-16T02:17:46.320552Z",
     "shell.execute_reply": "2023-05-16T02:17:46.318668Z"
    },
    "papermill": {
     "duration": 0.057602,
     "end_time": "2023-05-16T02:17:46.325728",
     "exception": false,
     "start_time": "2023-05-16T02:17:46.268126",
     "status": "completed"
    },
    "tags": []
   },
   "outputs": [],
   "source": [
    "df = pd.read_csv('test_pair_xgb_v1.csv')\n",
    "#filter easy negative player-player so that notebook would take less than 9 hours to run.\n",
    "p_df = df[df.pred>0.002][['contact_id', 'frame']]#0.002"
   ]
  },
  {
   "cell_type": "code",
   "execution_count": 18,
   "id": "059861e5",
   "metadata": {
    "execution": {
     "iopub.execute_input": "2023-05-16T02:17:46.382118Z",
     "iopub.status.busy": "2023-05-16T02:17:46.381700Z",
     "iopub.status.idle": "2023-05-16T02:17:46.396318Z",
     "shell.execute_reply": "2023-05-16T02:17:46.395285Z"
    },
    "papermill": {
     "duration": 0.045644,
     "end_time": "2023-05-16T02:17:46.399060",
     "exception": false,
     "start_time": "2023-05-16T02:17:46.353416",
     "status": "completed"
    },
    "tags": []
   },
   "outputs": [],
   "source": [
    "g_df = pd.read_csv('test_G.csv')\n",
    "#filter easy negative player-ground \n",
    "g_df = g_df[g_df.pred>0.003][['contact_id', 'frame']]#0.0005 #0.002"
   ]
  },
  {
   "cell_type": "code",
   "execution_count": 19,
   "id": "cc1d84fb",
   "metadata": {
    "execution": {
     "iopub.execute_input": "2023-05-16T02:17:46.455557Z",
     "iopub.status.busy": "2023-05-16T02:17:46.455186Z",
     "iopub.status.idle": "2023-05-16T02:17:46.463654Z",
     "shell.execute_reply": "2023-05-16T02:17:46.462518Z"
    },
    "papermill": {
     "duration": 0.040131,
     "end_time": "2023-05-16T02:17:46.466156",
     "exception": false,
     "start_time": "2023-05-16T02:17:46.426025",
     "status": "completed"
    },
    "tags": []
   },
   "outputs": [],
   "source": [
    "df = pd.concat([p_df, g_df])"
   ]
  },
  {
   "cell_type": "code",
   "execution_count": 20,
   "id": "437989b7",
   "metadata": {
    "execution": {
     "iopub.execute_input": "2023-05-16T02:17:46.523110Z",
     "iopub.status.busy": "2023-05-16T02:17:46.522116Z",
     "iopub.status.idle": "2023-05-16T02:17:46.548328Z",
     "shell.execute_reply": "2023-05-16T02:17:46.547340Z"
    },
    "papermill": {
     "duration": 0.056933,
     "end_time": "2023-05-16T02:17:46.550867",
     "exception": false,
     "start_time": "2023-05-16T02:17:46.493934",
     "status": "completed"
    },
    "tags": []
   },
   "outputs": [],
   "source": [
    "df['vid'] = df['contact_id'].apply(lambda x: '_'.join(x.split('_')[:2]))\n",
    "df['step'] = df['contact_id'].apply(lambda x: int(x.split('_')[2]))\n",
    "df['nfl_player_id_1'] = df['contact_id'].apply(lambda x: int(x.split('_')[3]))\n",
    "df['nfl_player_id_2'] = df['contact_id'].apply(lambda x: x.split('_')[4])\n",
    "vids = df.vid.unique()"
   ]
  },
  {
   "cell_type": "code",
   "execution_count": 21,
   "id": "fa3156e2",
   "metadata": {
    "execution": {
     "iopub.execute_input": "2023-05-16T02:17:46.607468Z",
     "iopub.status.busy": "2023-05-16T02:17:46.607095Z",
     "iopub.status.idle": "2023-05-16T02:17:46.628052Z",
     "shell.execute_reply": "2023-05-16T02:17:46.626963Z"
    },
    "papermill": {
     "duration": 0.052082,
     "end_time": "2023-05-16T02:17:46.630633",
     "exception": false,
     "start_time": "2023-05-16T02:17:46.578551",
     "status": "completed"
    },
    "tags": []
   },
   "outputs": [
    {
     "data": {
      "text/html": [
       "<div>\n",
       "<style scoped>\n",
       "    .dataframe tbody tr th:only-of-type {\n",
       "        vertical-align: middle;\n",
       "    }\n",
       "\n",
       "    .dataframe tbody tr th {\n",
       "        vertical-align: top;\n",
       "    }\n",
       "\n",
       "    .dataframe thead th {\n",
       "        text-align: right;\n",
       "    }\n",
       "</style>\n",
       "<table border=\"1\" class=\"dataframe\">\n",
       "  <thead>\n",
       "    <tr style=\"text-align: right;\">\n",
       "      <th></th>\n",
       "      <th>contact_id</th>\n",
       "      <th>frame</th>\n",
       "      <th>vid</th>\n",
       "      <th>step</th>\n",
       "      <th>nfl_player_id_1</th>\n",
       "      <th>nfl_player_id_2</th>\n",
       "    </tr>\n",
       "  </thead>\n",
       "  <tbody>\n",
       "    <tr>\n",
       "      <th>4307</th>\n",
       "      <td>58172_003247_125_40656_G</td>\n",
       "      <td>1045.114</td>\n",
       "      <td>58172_003247</td>\n",
       "      <td>125</td>\n",
       "      <td>40656</td>\n",
       "      <td>G</td>\n",
       "    </tr>\n",
       "    <tr>\n",
       "      <th>4308</th>\n",
       "      <td>58172_003247_125_52521_G</td>\n",
       "      <td>1045.114</td>\n",
       "      <td>58172_003247</td>\n",
       "      <td>125</td>\n",
       "      <td>52521</td>\n",
       "      <td>G</td>\n",
       "    </tr>\n",
       "    <tr>\n",
       "      <th>4309</th>\n",
       "      <td>58172_003247_125_52939_G</td>\n",
       "      <td>1045.114</td>\n",
       "      <td>58172_003247</td>\n",
       "      <td>125</td>\n",
       "      <td>52939</td>\n",
       "      <td>G</td>\n",
       "    </tr>\n",
       "    <tr>\n",
       "      <th>4310</th>\n",
       "      <td>58172_003247_125_39008_G</td>\n",
       "      <td>1045.114</td>\n",
       "      <td>58172_003247</td>\n",
       "      <td>125</td>\n",
       "      <td>39008</td>\n",
       "      <td>G</td>\n",
       "    </tr>\n",
       "    <tr>\n",
       "      <th>4311</th>\n",
       "      <td>58172_003247_125_47912_G</td>\n",
       "      <td>1045.114</td>\n",
       "      <td>58172_003247</td>\n",
       "      <td>125</td>\n",
       "      <td>47912</td>\n",
       "      <td>G</td>\n",
       "    </tr>\n",
       "  </tbody>\n",
       "</table>\n",
       "</div>"
      ],
      "text/plain": [
       "                    contact_id     frame           vid  step  nfl_player_id_1  \\\n",
       "4307  58172_003247_125_40656_G  1045.114  58172_003247   125            40656   \n",
       "4308  58172_003247_125_52521_G  1045.114  58172_003247   125            52521   \n",
       "4309  58172_003247_125_52939_G  1045.114  58172_003247   125            52939   \n",
       "4310  58172_003247_125_39008_G  1045.114  58172_003247   125            39008   \n",
       "4311  58172_003247_125_47912_G  1045.114  58172_003247   125            47912   \n",
       "\n",
       "     nfl_player_id_2  \n",
       "4307               G  \n",
       "4308               G  \n",
       "4309               G  \n",
       "4310               G  \n",
       "4311               G  "
      ]
     },
     "execution_count": 21,
     "metadata": {},
     "output_type": "execute_result"
    }
   ],
   "source": [
    "df.tail()"
   ]
  },
  {
   "cell_type": "code",
   "execution_count": 22,
   "id": "572a319c",
   "metadata": {
    "execution": {
     "iopub.execute_input": "2023-05-16T02:17:46.690284Z",
     "iopub.status.busy": "2023-05-16T02:17:46.689230Z",
     "iopub.status.idle": "2023-05-16T02:17:46.976930Z",
     "shell.execute_reply": "2023-05-16T02:17:46.975814Z"
    },
    "papermill": {
     "duration": 0.32031,
     "end_time": "2023-05-16T02:17:46.979817",
     "exception": false,
     "start_time": "2023-05-16T02:17:46.659507",
     "status": "completed"
    },
    "tags": []
   },
   "outputs": [],
   "source": [
    "#baseline helmet bboxes and tracking position is stored in dictionary for converience.\n",
    "det_dict = np.load('det_dict.npy', allow_pickle=True).item()\n",
    "trk_dict = np.load('trk_pos.npy', allow_pickle=True).item()"
   ]
  },
  {
   "cell_type": "code",
   "execution_count": 23,
   "id": "2a6eae23",
   "metadata": {
    "execution": {
     "iopub.execute_input": "2023-05-16T02:17:47.038440Z",
     "iopub.status.busy": "2023-05-16T02:17:47.037413Z",
     "iopub.status.idle": "2023-05-16T02:17:47.047485Z",
     "shell.execute_reply": "2023-05-16T02:17:47.046460Z"
    },
    "papermill": {
     "duration": 0.042154,
     "end_time": "2023-05-16T02:17:47.050135",
     "exception": false,
     "start_time": "2023-05-16T02:17:47.007981",
     "status": "completed"
    },
    "tags": []
   },
   "outputs": [],
   "source": [
    "#define list of frame in each config\n",
    "window_size_g = [-54, -48, -42, -36, -30, -24, -18, -13, -8, -4, -2, 0, 2, 4, 8, 13, 18, 24, 30, 36, 42, 48, 54]\n",
    "\n",
    "# window_size_g_c15 = [-72, -66, -60, -54, -48, -42, -36, -30, -24, -18, -13, -8, -4, -2, 0, 2, 4, 8, 13, 18, 24, 30, 36]\n",
    "# window_size_g_c15 = [x+6 for x in window_size_g_c15]\n",
    "window_size_g_c15 = [-54, -48, -42, -36, -30, -24, -18, -13, -8, -4, -2, 0, 2, 4, 8, 13, 18, 24, 30, 36, 42, 48, 54]\n",
    "\n",
    "frame_shift = 6\n",
    "window_size_p = [-44, -37, -30, -24, -18, -13, -8, -4, -2, 0, 2, 4, 8, 13, 18, 24, 30, 37]\n",
    "window_size_p = [x+frame_shift for x in window_size_p]"
   ]
  },
  {
   "cell_type": "markdown",
   "id": "349897c3",
   "metadata": {
    "papermill": {
     "duration": 0.027938,
     "end_time": "2023-05-16T02:17:47.106449",
     "exception": false,
     "start_time": "2023-05-16T02:17:47.078511",
     "status": "completed"
    },
    "tags": []
   },
   "source": [
    "**Main inference code**"
   ]
  },
  {
   "cell_type": "code",
   "execution_count": 24,
   "id": "399dd1f5",
   "metadata": {
    "execution": {
     "iopub.execute_input": "2023-05-16T02:17:47.164818Z",
     "iopub.status.busy": "2023-05-16T02:17:47.163701Z",
     "iopub.status.idle": "2023-05-16T02:36:47.587074Z",
     "shell.execute_reply": "2023-05-16T02:36:47.585465Z"
    },
    "papermill": {
     "duration": 1140.456829,
     "end_time": "2023-05-16T02:36:47.591118",
     "exception": false,
     "start_time": "2023-05-16T02:17:47.134289",
     "status": "completed"
    },
    "tags": []
   },
   "outputs": [
    {
     "data": {
      "application/vnd.jupyter.widget-view+json": {
       "model_id": "79b2f43d7955418fa70919d48e29ac7c",
       "version_major": 2,
       "version_minor": 0
      },
      "text/plain": [
       "  0%|          | 0/2 [00:00<?, ?it/s]"
      ]
     },
     "metadata": {},
     "output_type": "display_data"
    },
    {
     "name": "stdout",
     "output_type": "stream",
     "text": [
      "process vid 58168_003392\n"
     ]
    },
    {
     "name": "stderr",
     "output_type": "stream",
     "text": [
      "/opt/conda/lib/python3.7/site-packages/torch/utils/data/dataloader.py:490: UserWarning: This DataLoader will create 4 worker processes in total. Our suggested max number of worker in current system is 2, which is smaller than what this DataLoader is going to create. Please be aware that excessive worker creation might get DataLoader running slow or even freeze, lower the worker number to avoid potential slowness/freeze if necessary.\n",
      "  cpuset_checked))\n"
     ]
    },
    {
     "data": {
      "application/vnd.jupyter.widget-view+json": {
       "model_id": "536dc7e8e2c943fda35c7df7e5762810",
       "version_major": 2,
       "version_minor": 0
      },
      "text/plain": [
       "  0%|          | 0/105 [00:00<?, ?it/s]"
      ]
     },
     "metadata": {},
     "output_type": "display_data"
    },
    {
     "name": "stdout",
     "output_type": "stream",
     "text": [
      "(834, 1) (834, 6)\n"
     ]
    },
    {
     "name": "stderr",
     "output_type": "stream",
     "text": [
      "/opt/conda/lib/python3.7/site-packages/ipykernel_launcher.py:33: SettingWithCopyWarning: \n",
      "A value is trying to be set on a copy of a slice from a DataFrame.\n",
      "Try using .loc[row_indexer,col_indexer] = value instead\n",
      "\n",
      "See the caveats in the documentation: https://pandas.pydata.org/pandas-docs/stable/user_guide/indexing.html#returning-a-view-versus-a-copy\n"
     ]
    },
    {
     "data": {
      "application/vnd.jupyter.widget-view+json": {
       "model_id": "7cc7d693ca2a4664baa54776a906ac4d",
       "version_major": 2,
       "version_minor": 0
      },
      "text/plain": [
       "  0%|          | 0/48 [00:00<?, ?it/s]"
      ]
     },
     "metadata": {},
     "output_type": "display_data"
    },
    {
     "name": "stdout",
     "output_type": "stream",
     "text": [
      "(382, 1) (382, 7)\n"
     ]
    },
    {
     "data": {
      "application/vnd.jupyter.widget-view+json": {
       "model_id": "a7129b6fc78d4426abe6a89cff735346",
       "version_major": 2,
       "version_minor": 0
      },
      "text/plain": [
       "  0%|          | 0/96 [00:00<?, ?it/s]"
      ]
     },
     "metadata": {},
     "output_type": "display_data"
    },
    {
     "name": "stdout",
     "output_type": "stream",
     "text": [
      "(764, 1) (764, 6)\n",
      "process vid 58172_003247\n"
     ]
    },
    {
     "data": {
      "application/vnd.jupyter.widget-view+json": {
       "model_id": "28cd08730206496695174163f6e97168",
       "version_major": 2,
       "version_minor": 0
      },
      "text/plain": [
       "  0%|          | 0/111 [00:00<?, ?it/s]"
      ]
     },
     "metadata": {},
     "output_type": "display_data"
    },
    {
     "name": "stdout",
     "output_type": "stream",
     "text": [
      "(884, 1) (884, 6)\n"
     ]
    },
    {
     "data": {
      "application/vnd.jupyter.widget-view+json": {
       "model_id": "99f43e20ac7f423c87b917be818482b9",
       "version_major": 2,
       "version_minor": 0
      },
      "text/plain": [
       "  0%|          | 0/80 [00:00<?, ?it/s]"
      ]
     },
     "metadata": {},
     "output_type": "display_data"
    },
    {
     "name": "stdout",
     "output_type": "stream",
     "text": [
      "(639, 1) (639, 7)\n"
     ]
    },
    {
     "data": {
      "application/vnd.jupyter.widget-view+json": {
       "model_id": "5112514f021e443b9241028724181845",
       "version_major": 2,
       "version_minor": 0
      },
      "text/plain": [
       "  0%|          | 0/148 [00:00<?, ?it/s]"
      ]
     },
     "metadata": {},
     "output_type": "display_data"
    },
    {
     "name": "stdout",
     "output_type": "stream",
     "text": [
      "(1178, 1) (1178, 6)\n"
     ]
    }
   ],
   "source": [
    "vid_dir = '/kaggle/input/nfl-player-contact-detection/test/'\n",
    "results_g_base = []\n",
    "results_g_pred = []\n",
    "results_p_base = []\n",
    "results_p_pred = []\n",
    "for vid in tqdm(vids):\n",
    "    print(f'process vid {vid}')\n",
    "    #vid = vids[0]\n",
    "    e_vid = vid + f'_Endzone'\n",
    "    s_vid = vid + f'_Sideline'\n",
    "    e_vid_path = f'{vid_dir}/{e_vid}.mp4'\n",
    "    s_vid_path = f'{vid_dir}/{s_vid}.mp4'\n",
    "    \n",
    "    image_dict = {}\n",
    "    image_dict1 = {}\n",
    "    \n",
    "    cap = cv2.VideoCapture(e_vid_path)\n",
    "    cap.set(cv2.CAP_PROP_POS_FRAMES,230)\n",
    "    frame_count = 230\n",
    "    while 1:\n",
    "        ret, frame = cap.read()\n",
    "        if not ret:\n",
    "            break\n",
    "        kk = f'{e_vid}_{frame_count}'\n",
    "        image_dict[kk] = frame\n",
    "        image_dict1[kk] = cv2.cvtColor(frame, cv2.COLOR_BGR2GRAY)\n",
    "        frame_count +=1\n",
    "\n",
    "    cap = cv2.VideoCapture(s_vid_path)\n",
    "    cap.set(cv2.CAP_PROP_POS_FRAMES, 230)\n",
    "    frame_count = 230\n",
    "    while 1:\n",
    "        ret, frame = cap.read()\n",
    "        if not ret:\n",
    "            break\n",
    "        kk = f'{s_vid}_{frame_count}'\n",
    "        image_dict[kk] = frame\n",
    "        image_dict1[kk] = cv2.cvtColor(frame, cv2.COLOR_BGR2GRAY)\n",
    "        frame_count +=1\n",
    "        \n",
    "    df_g = df[(df.vid==vid)&(df.nfl_player_id_2=='G')]\n",
    "    df_p = df[(df.vid==vid)&(df.nfl_player_id_2!='G')]\n",
    "    \n",
    "    df_g_base, nona_g_base = predict_g(window_size_g, df_g, models_g_base, scale=4)\n",
    "    if nona_g_base:\n",
    "        #filter easy negative player-player so that notebook would take less than 9 hours to run.        \n",
    "        df_g = df_g_base[df_g_base.pred>0.25]#0.01\n",
    "    #df_g_base, nona_g_base = predict_g(window_size_g, df_g, models_g_base, scale=4)\n",
    "        \n",
    "    df_g_pred, nona_g_pred = predict_g(window_size_g_c15, df_g, models_g, scale=4.1)# 4.5    \n",
    "    \n",
    "    #df_p_base, nona_p_base = predict_pair(window_size_p, df_p, models_pair_base)\n",
    "    #if nona_p_base:\n",
    "    #    df_p = df_p_base[df_p_base.pred>0.01]\n",
    "    df_p_pred, nona_p_pred = predict_pair(window_size_p, df_p, models_pair)\n",
    "    \n",
    "    if nona_p_pred:\n",
    "        results_p_pred.append(df_p_pred)\n",
    "        \n",
    "    if nona_g_base:\n",
    "        results_g_base.append(df_g_base)\n",
    "    if nona_g_pred:\n",
    "        results_g_pred.append(df_g_pred)\n",
    "        \n",
    "    gc.collect()"
   ]
  },
  {
   "cell_type": "code",
   "execution_count": 25,
   "id": "7bf5eb16",
   "metadata": {
    "execution": {
     "iopub.execute_input": "2023-05-16T02:36:47.651185Z",
     "iopub.status.busy": "2023-05-16T02:36:47.650692Z",
     "iopub.status.idle": "2023-05-16T02:36:47.664871Z",
     "shell.execute_reply": "2023-05-16T02:36:47.663816Z"
    },
    "papermill": {
     "duration": 0.047513,
     "end_time": "2023-05-16T02:36:47.667655",
     "exception": false,
     "start_time": "2023-05-16T02:36:47.620142",
     "status": "completed"
    },
    "tags": []
   },
   "outputs": [],
   "source": [
    "df_g_base = pd.concat(results_g_base)\n",
    "df_g_pred = pd.concat(results_g_pred)\n",
    "\n",
    "#df_p_base = pd.concat(results_p_base)\n",
    "df_p_pred = pd.concat(results_p_pred)"
   ]
  },
  {
   "cell_type": "markdown",
   "id": "05f05306",
   "metadata": {
    "papermill": {
     "duration": 0.028601,
     "end_time": "2023-05-16T02:36:47.725912",
     "exception": false,
     "start_time": "2023-05-16T02:36:47.697311",
     "status": "completed"
    },
    "tags": []
   },
   "source": [
    "**XGB post processing player-ground**"
   ]
  },
  {
   "cell_type": "code",
   "execution_count": 26,
   "id": "9f2751d6",
   "metadata": {
    "execution": {
     "iopub.execute_input": "2023-05-16T02:36:47.786674Z",
     "iopub.status.busy": "2023-05-16T02:36:47.785808Z",
     "iopub.status.idle": "2023-05-16T02:36:47.831274Z",
     "shell.execute_reply": "2023-05-16T02:36:47.830187Z"
    },
    "papermill": {
     "duration": 0.079093,
     "end_time": "2023-05-16T02:36:47.833911",
     "exception": false,
     "start_time": "2023-05-16T02:36:47.754818",
     "status": "completed"
    },
    "tags": []
   },
   "outputs": [],
   "source": [
    "import xgboost as xgb"
   ]
  },
  {
   "cell_type": "code",
   "execution_count": 27,
   "id": "2f865ab8",
   "metadata": {
    "execution": {
     "iopub.execute_input": "2023-05-16T02:36:47.894167Z",
     "iopub.status.busy": "2023-05-16T02:36:47.893341Z",
     "iopub.status.idle": "2023-05-16T02:36:52.310504Z",
     "shell.execute_reply": "2023-05-16T02:36:52.309409Z"
    },
    "papermill": {
     "duration": 4.450715,
     "end_time": "2023-05-16T02:36:52.313342",
     "exception": false,
     "start_time": "2023-05-16T02:36:47.862627",
     "status": "completed"
    },
    "tags": []
   },
   "outputs": [
    {
     "data": {
      "application/vnd.jupyter.widget-view+json": {
       "model_id": "70799bb945514baf9d1ede99292b9b0e",
       "version_major": 2,
       "version_minor": 0
      },
      "text/plain": [
       "0it [00:00, ?it/s]"
      ]
     },
     "metadata": {},
     "output_type": "display_data"
    },
    {
     "data": {
      "application/vnd.jupyter.widget-view+json": {
       "model_id": "4aaf6d34c24f424faeeee566fe7acc46",
       "version_major": 2,
       "version_minor": 0
      },
      "text/plain": [
       "0it [00:00, ?it/s]"
      ]
     },
     "metadata": {},
     "output_type": "display_data"
    }
   ],
   "source": [
    "def get_oof(df_pred):\n",
    "    pred_step_dict = {}\n",
    "    for i, row in df_pred.iterrows():\n",
    "        c_id = row['contact_id']\n",
    "        pred = row['pred']\n",
    "        gk, gp, st, idx1, idx2 = c_id.split('_')\n",
    "        idx = f'{gk}_{gp}_{idx1}_{idx2}_{st}'\n",
    "        pred_step_dict[idx] = row['pred']\n",
    "\n",
    "    return pred_step_dict\n",
    "\n",
    "def feature_engineering_G():\n",
    "    train_df = pd.read_csv('test_G.csv')\n",
    "    train_df['step'] = train_df['contact_id'].apply(lambda x: int(x.split('_')[2]))\n",
    "    train_df['vid'] = train_df['contact_id'].apply(lambda x: '_'.join(x.split('_')[:2]))\n",
    "    train_df['nfl_player_id_1'] = train_df['contact_id'].apply(lambda x: int(x.split('_')[3]))\n",
    "    train_df['nfl_player_id_2'] = 'G'\n",
    "\n",
    "    pred_step_dict1 = get_oof(train_df)\n",
    "\n",
    "    pred_step_dict = get_oof(df_g_base)\n",
    "    pred_step_dict2 = get_oof(df_g_pred)\n",
    "    \n",
    "    results = []\n",
    "    for _, row in tqdm(train_df.iterrows()):\n",
    "        idx1 = row['nfl_player_id_1']\n",
    "        idx2 = row['nfl_player_id_2']\n",
    "        vid = row['vid']\n",
    "        step = row['step']\n",
    "\n",
    "        item = {'contact_id':row['contact_id'], 'step':row['step'], 'frame': row['frame']}\n",
    "        item['nfl_player_id_1'] = row['nfl_player_id_1']\n",
    "        item['nfl_player_id_2'] = row['nfl_player_id_2']\n",
    "        item['vid'] = row['vid']\n",
    "\n",
    "        for i in range(-15,15):\n",
    "            this_idx = f'{vid}_{idx1}_{idx2}_{step+i}'\n",
    "            prob = 0\n",
    "            weight = 0\n",
    "            if this_idx in pred_step_dict:\n",
    "                prob += pred_step_dict[this_idx]\n",
    "                weight += 1\n",
    "\n",
    "            if this_idx in pred_step_dict2:\n",
    "                prob += pred_step_dict2[this_idx]\n",
    "                weight += 1\n",
    "\n",
    "            if weight > 0:\n",
    "                item[f'prob_{i}'] = prob/weight\n",
    "            else:\n",
    "                item[f'prob_{i}'] = np.nan\n",
    "\n",
    "            if this_idx in pred_step_dict1:\n",
    "                item[f'prob1_{i}'] = pred_step_dict1[this_idx]\n",
    "            else:\n",
    "                item[f'prob1_{i}'] = np.nan\n",
    "\n",
    "        results.append(item) \n",
    "\n",
    "    train_df = pd.DataFrame(results)\n",
    "\n",
    "    results = []\n",
    "    k=0\n",
    "    for _, row in tqdm(train_df.iterrows()):\n",
    "        item = {}\n",
    "        for i in range(-15,15):\n",
    "            if i>-10 and i < 10:\n",
    "                item[f'prob_{i}'] = row[f'prob_{i}']\n",
    "                item[f'prob1_{i}'] = row[f'prob1_{i}']\n",
    "            item[f'prob3_{i}'] = 0.85*row[f'prob_{i}']  + 0.15*row[f'prob1_{i}']\n",
    "\n",
    "        if k==0: feature_cols = list(item.keys())\n",
    "        k+=1\n",
    "\n",
    "        item['contact_id'] = row['contact_id']    \n",
    "\n",
    "        results.append(item)\n",
    "\n",
    "    train_df = pd.DataFrame(results)\n",
    "    return train_df, feature_cols\n",
    "\n",
    "train_df_g, feature_cols = feature_engineering_G()"
   ]
  },
  {
   "cell_type": "code",
   "execution_count": 28,
   "id": "93861f62",
   "metadata": {
    "execution": {
     "iopub.execute_input": "2023-05-16T02:36:52.376077Z",
     "iopub.status.busy": "2023-05-16T02:36:52.374325Z",
     "iopub.status.idle": "2023-05-16T02:36:53.970502Z",
     "shell.execute_reply": "2023-05-16T02:36:53.968647Z"
    },
    "papermill": {
     "duration": 1.630775,
     "end_time": "2023-05-16T02:36:53.974645",
     "exception": false,
     "start_time": "2023-05-16T02:36:52.343870",
     "status": "completed"
    },
    "tags": []
   },
   "outputs": [
    {
     "name": "stdout",
     "output_type": "stream",
     "text": [
      "(4312,)\n",
      "(4312,)\n",
      "(4312,)\n"
     ]
    }
   ],
   "source": [
    "x_valid = train_df_g[feature_cols]\n",
    "dvalid = xgb.DMatrix(x_valid)\n",
    "for fold in [0,1,2]:# [0,1,2,3,4]\n",
    "    model_path = f'/kaggle/input/nfl-data/xgb_models/xgb_models/xgb_fold{fold}_xgb_2nd.model'\n",
    "    model = xgb.Booster()\n",
    "    model.load_model(model_path)\n",
    "    \n",
    "    if fold==0:\n",
    "        pred_i = model.predict(dvalid) \n",
    "    else:\n",
    "        pred_i += model.predict(dvalid)\n",
    "    print(pred_i.shape)\n",
    "    \n",
    "pred_i = pred_i/3#5"
   ]
  },
  {
   "cell_type": "code",
   "execution_count": 29,
   "id": "9c603fe1",
   "metadata": {
    "execution": {
     "iopub.execute_input": "2023-05-16T02:36:54.044361Z",
     "iopub.status.busy": "2023-05-16T02:36:54.043976Z",
     "iopub.status.idle": "2023-05-16T02:36:54.051156Z",
     "shell.execute_reply": "2023-05-16T02:36:54.049899Z"
    },
    "papermill": {
     "duration": 0.042959,
     "end_time": "2023-05-16T02:36:54.054225",
     "exception": false,
     "start_time": "2023-05-16T02:36:54.011266",
     "status": "completed"
    },
    "tags": []
   },
   "outputs": [],
   "source": [
    "train_df_g['pred'] = pred_i\n",
    "train_df_g = train_df_g[['contact_id', 'pred']]"
   ]
  },
  {
   "cell_type": "code",
   "execution_count": 30,
   "id": "621a735d",
   "metadata": {
    "execution": {
     "iopub.execute_input": "2023-05-16T02:36:54.118382Z",
     "iopub.status.busy": "2023-05-16T02:36:54.117987Z",
     "iopub.status.idle": "2023-05-16T02:36:54.128088Z",
     "shell.execute_reply": "2023-05-16T02:36:54.127067Z"
    },
    "papermill": {
     "duration": 0.045341,
     "end_time": "2023-05-16T02:36:54.130455",
     "exception": false,
     "start_time": "2023-05-16T02:36:54.085114",
     "status": "completed"
    },
    "tags": []
   },
   "outputs": [
    {
     "data": {
      "text/plain": [
       "(281, 2)"
      ]
     },
     "execution_count": 30,
     "metadata": {},
     "output_type": "execute_result"
    }
   ],
   "source": [
    "train_df_g[train_df_g.pred>0.5].shape"
   ]
  },
  {
   "cell_type": "markdown",
   "id": "00a878ec",
   "metadata": {
    "papermill": {
     "duration": 0.029183,
     "end_time": "2023-05-16T02:36:54.191044",
     "exception": false,
     "start_time": "2023-05-16T02:36:54.161861",
     "status": "completed"
    },
    "tags": []
   },
   "source": [
    "**XGB post processing player-player**"
   ]
  },
  {
   "cell_type": "code",
   "execution_count": 31,
   "id": "51a239b3",
   "metadata": {
    "execution": {
     "iopub.execute_input": "2023-05-16T02:36:54.252545Z",
     "iopub.status.busy": "2023-05-16T02:36:54.251511Z",
     "iopub.status.idle": "2023-05-16T02:36:58.418695Z",
     "shell.execute_reply": "2023-05-16T02:36:58.417623Z"
    },
    "papermill": {
     "duration": 4.200977,
     "end_time": "2023-05-16T02:36:58.421529",
     "exception": false,
     "start_time": "2023-05-16T02:36:54.220552",
     "status": "completed"
    },
    "tags": []
   },
   "outputs": [
    {
     "name": "stdout",
     "output_type": "stream",
     "text": [
      "(7163, 8)\n"
     ]
    },
    {
     "data": {
      "application/vnd.jupyter.widget-view+json": {
       "model_id": "64839f7fe93344b0ade60caa0796c99a",
       "version_major": 2,
       "version_minor": 0
      },
      "text/plain": [
       "0it [00:00, ?it/s]"
      ]
     },
     "metadata": {},
     "output_type": "display_data"
    },
    {
     "data": {
      "application/vnd.jupyter.widget-view+json": {
       "model_id": "a25afe9319b542e3b0480323a869f839",
       "version_major": 2,
       "version_minor": 0
      },
      "text/plain": [
       "0it [00:00, ?it/s]"
      ]
     },
     "metadata": {},
     "output_type": "display_data"
    }
   ],
   "source": [
    "def feature_engineering_p():\n",
    "    train_df = pd.read_csv('test_pair_xgb_v1.csv')\n",
    "    train_df['step'] = train_df['contact_id'].apply(lambda x: int(x.split('_')[2]))\n",
    "    train_df['vid'] = train_df['contact_id'].apply(lambda x: '_'.join(x.split('_')[:2]))\n",
    "    train_df['nfl_player_id_1'] = train_df['contact_id'].apply(lambda x: int(x.split('_')[3]))\n",
    "    train_df['nfl_player_id_2'] = train_df['contact_id'].apply(lambda x: int(x.split('_')[4]))\n",
    "    \n",
    "    print(train_df.shape)\n",
    "\n",
    "    #pred_step_dict = get_oof(df_p_base)\n",
    "    pred_step_dict2 = get_oof(df_p_pred)\n",
    "    \n",
    "    xgb_df = pd.read_csv('test_pair_xgb_v1.csv')\n",
    "    xgb_dict = get_oof(xgb_df)\n",
    "\n",
    "    results = []\n",
    "    for _, row in tqdm(train_df.iterrows()):\n",
    "        idx1 = row['nfl_player_id_1']\n",
    "        idx2 = row['nfl_player_id_2']\n",
    "        step = row['step']\n",
    "        vid = row['vid']\n",
    "\n",
    "        item = {'contact_id':row['contact_id']}\n",
    "        item['nfl_player_id_1'] = row['nfl_player_id_1']\n",
    "        item['nfl_player_id_2'] = row['nfl_player_id_2']\n",
    "\n",
    "        for i in range(-10,10):\n",
    "            this_idx = f'{vid}_{idx1}_{idx2}_{step+i}'\n",
    "            prob = 0\n",
    "            weight = 0\n",
    "            if this_idx in pred_step_dict2:\n",
    "                prob += pred_step_dict2[this_idx]\n",
    "                weight += 1\n",
    "\n",
    "            if weight > 0:\n",
    "                item[f'prob_{i}'] = prob/weight\n",
    "            else:\n",
    "                item[f'prob_{i}'] = np.nan\n",
    "\n",
    "            if this_idx in xgb_dict:\n",
    "                item[f'prob1_{i}'] = xgb_dict[this_idx]\n",
    "            else:\n",
    "                item[f'prob1_{i}'] = np.nan\n",
    "\n",
    "        results.append(item) \n",
    "\n",
    "    train_df = pd.DataFrame(results)\n",
    "\n",
    "    results = []\n",
    "    k=0\n",
    "    for _, row in tqdm(train_df.iterrows()):\n",
    "        item = {}\n",
    "        for i in range(-10,10):\n",
    "            item[f'prob4_{i}'] = 0.8*row[f'prob_{i}'] + 0.2*row[f'prob1_{i}']\n",
    "\n",
    "        if k==0: feature_cols = list(item.keys())\n",
    "        k+=1\n",
    "\n",
    "        item['contact_id'] = row['contact_id']\n",
    "\n",
    "        results.append(item)\n",
    "\n",
    "    train_df = pd.DataFrame(results)\n",
    "    return train_df, feature_cols\n",
    "\n",
    "train_df_p, feature_cols = feature_engineering_p()"
   ]
  },
  {
   "cell_type": "code",
   "execution_count": 32,
   "id": "a924d6b4",
   "metadata": {
    "execution": {
     "iopub.execute_input": "2023-05-16T02:36:58.484488Z",
     "iopub.status.busy": "2023-05-16T02:36:58.484085Z",
     "iopub.status.idle": "2023-05-16T02:37:01.326986Z",
     "shell.execute_reply": "2023-05-16T02:37:01.325746Z"
    },
    "papermill": {
     "duration": 2.87688,
     "end_time": "2023-05-16T02:37:01.329453",
     "exception": false,
     "start_time": "2023-05-16T02:36:58.452573",
     "status": "completed"
    },
    "tags": []
   },
   "outputs": [
    {
     "name": "stdout",
     "output_type": "stream",
     "text": [
      "(7163,)\n",
      "(7163,)\n",
      "(7163,)\n",
      "(7163,)\n"
     ]
    }
   ],
   "source": [
    "x_valid = train_df_p[feature_cols]\n",
    "dvalid = xgb.DMatrix(x_valid)\n",
    "for fold in [0,2,3,4]:#[0,1,2,3,4]\n",
    "    model_path = f'/kaggle/input/nfl-data/xgb_models/xgb_models/xgb_not_fold{fold}_xgb_2nd.model'\n",
    "    model = xgb.Booster()\n",
    "    model.load_model(model_path)\n",
    "    \n",
    "    if fold==0:\n",
    "        pred_i = model.predict(dvalid) \n",
    "    else:\n",
    "        pred_i += model.predict(dvalid)\n",
    "    print(pred_i.shape)\n",
    "pred_i = pred_i/4#5\n"
   ]
  },
  {
   "cell_type": "code",
   "execution_count": 33,
   "id": "b8c8c26b",
   "metadata": {
    "execution": {
     "iopub.execute_input": "2023-05-16T02:37:01.395152Z",
     "iopub.status.busy": "2023-05-16T02:37:01.394204Z",
     "iopub.status.idle": "2023-05-16T02:37:01.402622Z",
     "shell.execute_reply": "2023-05-16T02:37:01.401479Z"
    },
    "papermill": {
     "duration": 0.042557,
     "end_time": "2023-05-16T02:37:01.405162",
     "exception": false,
     "start_time": "2023-05-16T02:37:01.362605",
     "status": "completed"
    },
    "tags": []
   },
   "outputs": [],
   "source": [
    "train_df_p['pred'] = pred_i*0.95# keep 95% of predictions\n",
    "train_df_p = train_df_p[['contact_id', 'pred']]"
   ]
  },
  {
   "cell_type": "code",
   "execution_count": 34,
   "id": "0496602f",
   "metadata": {
    "execution": {
     "iopub.execute_input": "2023-05-16T02:37:01.468963Z",
     "iopub.status.busy": "2023-05-16T02:37:01.467664Z",
     "iopub.status.idle": "2023-05-16T02:37:01.477521Z",
     "shell.execute_reply": "2023-05-16T02:37:01.476506Z"
    },
    "papermill": {
     "duration": 0.044475,
     "end_time": "2023-05-16T02:37:01.480198",
     "exception": false,
     "start_time": "2023-05-16T02:37:01.435723",
     "status": "completed"
    },
    "tags": []
   },
   "outputs": [
    {
     "name": "stdout",
     "output_type": "stream",
     "text": [
      "(7163, 2)\n",
      "(595, 2)\n"
     ]
    }
   ],
   "source": [
    "print(train_df_p.shape)\n",
    "print(train_df_p[train_df_p.pred>0.38].shape)"
   ]
  },
  {
   "cell_type": "markdown",
   "id": "362d2c93",
   "metadata": {
    "papermill": {
     "duration": 0.030861,
     "end_time": "2023-05-16T02:37:01.541500",
     "exception": false,
     "start_time": "2023-05-16T02:37:01.510639",
     "status": "completed"
    },
    "tags": []
   },
   "source": [
    "**Merge results and save to submission.csv**"
   ]
  },
  {
   "cell_type": "code",
   "execution_count": 35,
   "id": "5aebd037",
   "metadata": {
    "execution": {
     "iopub.execute_input": "2023-05-16T02:37:01.605594Z",
     "iopub.status.busy": "2023-05-16T02:37:01.605174Z",
     "iopub.status.idle": "2023-05-16T02:37:01.612575Z",
     "shell.execute_reply": "2023-05-16T02:37:01.611172Z"
    },
    "papermill": {
     "duration": 0.042948,
     "end_time": "2023-05-16T02:37:01.615373",
     "exception": false,
     "start_time": "2023-05-16T02:37:01.572425",
     "status": "completed"
    },
    "tags": []
   },
   "outputs": [],
   "source": [
    "df = pd.concat([train_df_p, train_df_g])"
   ]
  },
  {
   "cell_type": "code",
   "execution_count": 36,
   "id": "fd3cc5c7",
   "metadata": {
    "execution": {
     "iopub.execute_input": "2023-05-16T02:37:01.682211Z",
     "iopub.status.busy": "2023-05-16T02:37:01.680144Z",
     "iopub.status.idle": "2023-05-16T02:37:01.690803Z",
     "shell.execute_reply": "2023-05-16T02:37:01.689739Z"
    },
    "papermill": {
     "duration": 0.045873,
     "end_time": "2023-05-16T02:37:01.693219",
     "exception": false,
     "start_time": "2023-05-16T02:37:01.647346",
     "status": "completed"
    },
    "tags": []
   },
   "outputs": [],
   "source": [
    "# at threshold 0.38 xgb models shown best score.\n",
    "df['contact'] = 1*(df['pred']>0.38)\n",
    "df = df[['contact_id', 'contact']].reset_index(drop=True)"
   ]
  },
  {
   "cell_type": "code",
   "execution_count": 37,
   "id": "6e47003e",
   "metadata": {
    "execution": {
     "iopub.execute_input": "2023-05-16T02:37:01.755289Z",
     "iopub.status.busy": "2023-05-16T02:37:01.754895Z",
     "iopub.status.idle": "2023-05-16T02:37:01.802723Z",
     "shell.execute_reply": "2023-05-16T02:37:01.801666Z"
    },
    "papermill": {
     "duration": 0.082084,
     "end_time": "2023-05-16T02:37:01.805367",
     "exception": false,
     "start_time": "2023-05-16T02:37:01.723283",
     "status": "completed"
    },
    "tags": []
   },
   "outputs": [],
   "source": [
    "sub = pd.read_csv('/kaggle/input/nfl-player-contact-detection/sample_submission.csv')"
   ]
  },
  {
   "cell_type": "code",
   "execution_count": 38,
   "id": "386fe3e6",
   "metadata": {
    "execution": {
     "iopub.execute_input": "2023-05-16T02:37:01.870711Z",
     "iopub.status.busy": "2023-05-16T02:37:01.869684Z",
     "iopub.status.idle": "2023-05-16T02:37:01.878122Z",
     "shell.execute_reply": "2023-05-16T02:37:01.877059Z"
    },
    "papermill": {
     "duration": 0.043991,
     "end_time": "2023-05-16T02:37:01.880929",
     "exception": false,
     "start_time": "2023-05-16T02:37:01.836938",
     "status": "completed"
    },
    "tags": []
   },
   "outputs": [],
   "source": [
    "df1 = pd.concat([df, sub])"
   ]
  },
  {
   "cell_type": "code",
   "execution_count": 39,
   "id": "a3b59c45",
   "metadata": {
    "execution": {
     "iopub.execute_input": "2023-05-16T02:37:01.942986Z",
     "iopub.status.busy": "2023-05-16T02:37:01.942577Z",
     "iopub.status.idle": "2023-05-16T02:37:01.952913Z",
     "shell.execute_reply": "2023-05-16T02:37:01.951845Z"
    },
    "papermill": {
     "duration": 0.044733,
     "end_time": "2023-05-16T02:37:01.955639",
     "exception": false,
     "start_time": "2023-05-16T02:37:01.910906",
     "status": "completed"
    },
    "tags": []
   },
   "outputs": [
    {
     "data": {
      "text/html": [
       "<div>\n",
       "<style scoped>\n",
       "    .dataframe tbody tr th:only-of-type {\n",
       "        vertical-align: middle;\n",
       "    }\n",
       "\n",
       "    .dataframe tbody tr th {\n",
       "        vertical-align: top;\n",
       "    }\n",
       "\n",
       "    .dataframe thead th {\n",
       "        text-align: right;\n",
       "    }\n",
       "</style>\n",
       "<table border=\"1\" class=\"dataframe\">\n",
       "  <thead>\n",
       "    <tr style=\"text-align: right;\">\n",
       "      <th></th>\n",
       "      <th>contact_id</th>\n",
       "      <th>contact</th>\n",
       "    </tr>\n",
       "  </thead>\n",
       "  <tbody>\n",
       "    <tr>\n",
       "      <th>0</th>\n",
       "      <td>58168_003392_0_38590_41944</td>\n",
       "      <td>0</td>\n",
       "    </tr>\n",
       "    <tr>\n",
       "      <th>1</th>\n",
       "      <td>58168_003392_0_38590_47944</td>\n",
       "      <td>0</td>\n",
       "    </tr>\n",
       "    <tr>\n",
       "      <th>2</th>\n",
       "      <td>58168_003392_0_38590_44822</td>\n",
       "      <td>0</td>\n",
       "    </tr>\n",
       "  </tbody>\n",
       "</table>\n",
       "</div>"
      ],
      "text/plain": [
       "                   contact_id  contact\n",
       "0  58168_003392_0_38590_41944        0\n",
       "1  58168_003392_0_38590_47944        0\n",
       "2  58168_003392_0_38590_44822        0"
      ]
     },
     "execution_count": 39,
     "metadata": {},
     "output_type": "execute_result"
    }
   ],
   "source": [
    "df1.head(3)"
   ]
  },
  {
   "cell_type": "code",
   "execution_count": 40,
   "id": "a4775a9a",
   "metadata": {
    "execution": {
     "iopub.execute_input": "2023-05-16T02:37:02.019105Z",
     "iopub.status.busy": "2023-05-16T02:37:02.018132Z",
     "iopub.status.idle": "2023-05-16T02:37:02.042730Z",
     "shell.execute_reply": "2023-05-16T02:37:02.041666Z"
    },
    "papermill": {
     "duration": 0.059506,
     "end_time": "2023-05-16T02:37:02.045511",
     "exception": false,
     "start_time": "2023-05-16T02:37:01.986005",
     "status": "completed"
    },
    "tags": []
   },
   "outputs": [],
   "source": [
    "# column ['contact_id'] for identifying duplicates. keep: {‘first’, ‘last’, False}, default ‘first’\n",
    "df1 = df1.drop_duplicates(subset=['contact_id'])"
   ]
  },
  {
   "cell_type": "code",
   "execution_count": 41,
   "id": "4872ba75",
   "metadata": {
    "execution": {
     "iopub.execute_input": "2023-05-16T02:37:02.107160Z",
     "iopub.status.busy": "2023-05-16T02:37:02.106731Z",
     "iopub.status.idle": "2023-05-16T02:37:02.216686Z",
     "shell.execute_reply": "2023-05-16T02:37:02.215676Z"
    },
    "papermill": {
     "duration": 0.143652,
     "end_time": "2023-05-16T02:37:02.219256",
     "exception": false,
     "start_time": "2023-05-16T02:37:02.075604",
     "status": "completed"
    },
    "tags": []
   },
   "outputs": [],
   "source": [
    "df1.to_csv('submission.csv', index=False)"
   ]
  },
  {
   "cell_type": "code",
   "execution_count": 42,
   "id": "b5aaa073",
   "metadata": {
    "execution": {
     "iopub.execute_input": "2023-05-16T02:37:02.281577Z",
     "iopub.status.busy": "2023-05-16T02:37:02.280814Z",
     "iopub.status.idle": "2023-05-16T02:37:02.285488Z",
     "shell.execute_reply": "2023-05-16T02:37:02.284465Z"
    },
    "papermill": {
     "duration": 0.038603,
     "end_time": "2023-05-16T02:37:02.287717",
     "exception": false,
     "start_time": "2023-05-16T02:37:02.249114",
     "status": "completed"
    },
    "tags": []
   },
   "outputs": [],
   "source": [
    "#EOF"
   ]
  }
 ],
 "metadata": {
  "kernelspec": {
   "display_name": "Python 3 (ipykernel)",
   "language": "python",
   "name": "python3"
  },
  "language_info": {
   "codemirror_mode": {
    "name": "ipython",
    "version": 3
   },
   "file_extension": ".py",
   "mimetype": "text/x-python",
   "name": "python",
   "nbconvert_exporter": "python",
   "pygments_lexer": "ipython3",
   "version": "3.7.12"
  },
  "papermill": {
   "default_parameters": {},
   "duration": 1326.380813,
   "end_time": "2023-05-16T02:37:05.644363",
   "environment_variables": {},
   "exception": null,
   "input_path": "__notebook__.ipynb",
   "output_path": "__notebook__.ipynb",
   "parameters": {},
   "start_time": "2023-05-16T02:14:59.263550",
   "version": "2.3.4"
  },
  "widgets": {
   "application/vnd.jupyter.widget-state+json": {
    "state": {
     "032218263feb4b7d9a02f90dbcc7f0d1": {
      "model_module": "@jupyter-widgets/base",
      "model_module_version": "1.2.0",
      "model_name": "LayoutModel",
      "state": {
       "_model_module": "@jupyter-widgets/base",
       "_model_module_version": "1.2.0",
       "_model_name": "LayoutModel",
       "_view_count": null,
       "_view_module": "@jupyter-widgets/base",
       "_view_module_version": "1.2.0",
       "_view_name": "LayoutView",
       "align_content": null,
       "align_items": null,
       "align_self": null,
       "border": null,
       "bottom": null,
       "display": null,
       "flex": null,
       "flex_flow": null,
       "grid_area": null,
       "grid_auto_columns": null,
       "grid_auto_flow": null,
       "grid_auto_rows": null,
       "grid_column": null,
       "grid_gap": null,
       "grid_row": null,
       "grid_template_areas": null,
       "grid_template_columns": null,
       "grid_template_rows": null,
       "height": null,
       "justify_content": null,
       "justify_items": null,
       "left": null,
       "margin": null,
       "max_height": null,
       "max_width": null,
       "min_height": null,
       "min_width": null,
       "object_fit": null,
       "object_position": null,
       "order": null,
       "overflow": null,
       "overflow_x": null,
       "overflow_y": null,
       "padding": null,
       "right": null,
       "top": null,
       "visibility": null,
       "width": null
      }
     },
     "044bf4390eb44adfae0442e10ef1562c": {
      "model_module": "@jupyter-widgets/controls",
      "model_module_version": "1.5.0",
      "model_name": "HTMLModel",
      "state": {
       "_dom_classes": [],
       "_model_module": "@jupyter-widgets/controls",
       "_model_module_version": "1.5.0",
       "_model_name": "HTMLModel",
       "_view_count": null,
       "_view_module": "@jupyter-widgets/controls",
       "_view_module_version": "1.5.0",
       "_view_name": "HTMLView",
       "description": "",
       "description_tooltip": null,
       "layout": "IPY_MODEL_6e639493024a41f79b865c4db8bd57da",
       "placeholder": "​",
       "style": "IPY_MODEL_ebb6d740247949708f9247b9895c332d",
       "value": " 148/148 [04:55&lt;00:00,  1.52s/it]"
      }
     },
     "046d28004763420d9cfd7d2d1c44affb": {
      "model_module": "@jupyter-widgets/controls",
      "model_module_version": "1.5.0",
      "model_name": "HTMLModel",
      "state": {
       "_dom_classes": [],
       "_model_module": "@jupyter-widgets/controls",
       "_model_module_version": "1.5.0",
       "_model_name": "HTMLModel",
       "_view_count": null,
       "_view_module": "@jupyter-widgets/controls",
       "_view_module_version": "1.5.0",
       "_view_name": "HTMLView",
       "description": "",
       "description_tooltip": null,
       "layout": "IPY_MODEL_032218263feb4b7d9a02f90dbcc7f0d1",
       "placeholder": "​",
       "style": "IPY_MODEL_646883fa8b214ba984add046062a6c56",
       "value": ""
      }
     },
     "063bc5d59eb3414b96c527616bc6edcb": {
      "model_module": "@jupyter-widgets/controls",
      "model_module_version": "1.5.0",
      "model_name": "FloatProgressModel",
      "state": {
       "_dom_classes": [],
       "_model_module": "@jupyter-widgets/controls",
       "_model_module_version": "1.5.0",
       "_model_name": "FloatProgressModel",
       "_view_count": null,
       "_view_module": "@jupyter-widgets/controls",
       "_view_module_version": "1.5.0",
       "_view_name": "ProgressView",
       "bar_style": "success",
       "description": "",
       "description_tooltip": null,
       "layout": "IPY_MODEL_881723a001c04626ae62881694b1d027",
       "max": 1,
       "min": 0,
       "orientation": "horizontal",
       "style": "IPY_MODEL_97a89c5b53064ba294f907a975930fae",
       "value": 1
      }
     },
     "0866733d771b446499649736ab994309": {
      "model_module": "@jupyter-widgets/controls",
      "model_module_version": "1.5.0",
      "model_name": "DescriptionStyleModel",
      "state": {
       "_model_module": "@jupyter-widgets/controls",
       "_model_module_version": "1.5.0",
       "_model_name": "DescriptionStyleModel",
       "_view_count": null,
       "_view_module": "@jupyter-widgets/base",
       "_view_module_version": "1.2.0",
       "_view_name": "StyleView",
       "description_width": ""
      }
     },
     "09880fb9751a4b37b5b106a0da5713b9": {
      "model_module": "@jupyter-widgets/controls",
      "model_module_version": "1.5.0",
      "model_name": "FloatProgressModel",
      "state": {
       "_dom_classes": [],
       "_model_module": "@jupyter-widgets/controls",
       "_model_module_version": "1.5.0",
       "_model_name": "FloatProgressModel",
       "_view_count": null,
       "_view_module": "@jupyter-widgets/controls",
       "_view_module_version": "1.5.0",
       "_view_name": "ProgressView",
       "bar_style": "success",
       "description": "",
       "description_tooltip": null,
       "layout": "IPY_MODEL_ea68bf732ebc47bdac70741d6621baba",
       "max": 1,
       "min": 0,
       "orientation": "horizontal",
       "style": "IPY_MODEL_432d9b9ccc6f485186fd1f9c4b875693",
       "value": 1
      }
     },
     "0d6de84515594b079a3fd21cc60ccc2e": {
      "model_module": "@jupyter-widgets/controls",
      "model_module_version": "1.5.0",
      "model_name": "ProgressStyleModel",
      "state": {
       "_model_module": "@jupyter-widgets/controls",
       "_model_module_version": "1.5.0",
       "_model_name": "ProgressStyleModel",
       "_view_count": null,
       "_view_module": "@jupyter-widgets/base",
       "_view_module_version": "1.2.0",
       "_view_name": "StyleView",
       "bar_color": null,
       "description_width": ""
      }
     },
     "12376021dcea402eb03c26ab9afff6ea": {
      "model_module": "@jupyter-widgets/base",
      "model_module_version": "1.2.0",
      "model_name": "LayoutModel",
      "state": {
       "_model_module": "@jupyter-widgets/base",
       "_model_module_version": "1.2.0",
       "_model_name": "LayoutModel",
       "_view_count": null,
       "_view_module": "@jupyter-widgets/base",
       "_view_module_version": "1.2.0",
       "_view_name": "LayoutView",
       "align_content": null,
       "align_items": null,
       "align_self": null,
       "border": null,
       "bottom": null,
       "display": null,
       "flex": null,
       "flex_flow": null,
       "grid_area": null,
       "grid_auto_columns": null,
       "grid_auto_flow": null,
       "grid_auto_rows": null,
       "grid_column": null,
       "grid_gap": null,
       "grid_row": null,
       "grid_template_areas": null,
       "grid_template_columns": null,
       "grid_template_rows": null,
       "height": null,
       "justify_content": null,
       "justify_items": null,
       "left": null,
       "margin": null,
       "max_height": null,
       "max_width": null,
       "min_height": null,
       "min_width": null,
       "object_fit": null,
       "object_position": null,
       "order": null,
       "overflow": null,
       "overflow_x": null,
       "overflow_y": null,
       "padding": null,
       "right": null,
       "top": null,
       "visibility": null,
       "width": null
      }
     },
     "12f6be0368cd483b8d94d066fc0e5e00": {
      "model_module": "@jupyter-widgets/controls",
      "model_module_version": "1.5.0",
      "model_name": "DescriptionStyleModel",
      "state": {
       "_model_module": "@jupyter-widgets/controls",
       "_model_module_version": "1.5.0",
       "_model_name": "DescriptionStyleModel",
       "_view_count": null,
       "_view_module": "@jupyter-widgets/base",
       "_view_module_version": "1.2.0",
       "_view_name": "StyleView",
       "description_width": ""
      }
     },
     "14d02bdbe58544889a3dca5b12a20c3f": {
      "model_module": "@jupyter-widgets/controls",
      "model_module_version": "1.5.0",
      "model_name": "FloatProgressModel",
      "state": {
       "_dom_classes": [],
       "_model_module": "@jupyter-widgets/controls",
       "_model_module_version": "1.5.0",
       "_model_name": "FloatProgressModel",
       "_view_count": null,
       "_view_module": "@jupyter-widgets/controls",
       "_view_module_version": "1.5.0",
       "_view_name": "ProgressView",
       "bar_style": "success",
       "description": "",
       "description_tooltip": null,
       "layout": "IPY_MODEL_387e8852b0214000abc14fb4b70bd78c",
       "max": 1,
       "min": 0,
       "orientation": "horizontal",
       "style": "IPY_MODEL_c2f59ef8bf344de5ac594b4fb417af9f",
       "value": 1
      }
     },
     "18ddff30901b4da08f87ddca2e6a8c38": {
      "model_module": "@jupyter-widgets/controls",
      "model_module_version": "1.5.0",
      "model_name": "HTMLModel",
      "state": {
       "_dom_classes": [],
       "_model_module": "@jupyter-widgets/controls",
       "_model_module_version": "1.5.0",
       "_model_name": "HTMLModel",
       "_view_count": null,
       "_view_module": "@jupyter-widgets/controls",
       "_view_module_version": "1.5.0",
       "_view_name": "HTMLView",
       "description": "",
       "description_tooltip": null,
       "layout": "IPY_MODEL_b36af9d243fa43a8b382904fd802b3fd",
       "placeholder": "​",
       "style": "IPY_MODEL_466c4b4d641446c2bdde71ea1f636c2b",
       "value": ""
      }
     },
     "206e9fc75cf04f1b8a3206866900cd1c": {
      "model_module": "@jupyter-widgets/base",
      "model_module_version": "1.2.0",
      "model_name": "LayoutModel",
      "state": {
       "_model_module": "@jupyter-widgets/base",
       "_model_module_version": "1.2.0",
       "_model_name": "LayoutModel",
       "_view_count": null,
       "_view_module": "@jupyter-widgets/base",
       "_view_module_version": "1.2.0",
       "_view_name": "LayoutView",
       "align_content": null,
       "align_items": null,
       "align_self": null,
       "border": null,
       "bottom": null,
       "display": null,
       "flex": null,
       "flex_flow": null,
       "grid_area": null,
       "grid_auto_columns": null,
       "grid_auto_flow": null,
       "grid_auto_rows": null,
       "grid_column": null,
       "grid_gap": null,
       "grid_row": null,
       "grid_template_areas": null,
       "grid_template_columns": null,
       "grid_template_rows": null,
       "height": null,
       "justify_content": null,
       "justify_items": null,
       "left": null,
       "margin": null,
       "max_height": null,
       "max_width": null,
       "min_height": null,
       "min_width": null,
       "object_fit": null,
       "object_position": null,
       "order": null,
       "overflow": null,
       "overflow_x": null,
       "overflow_y": null,
       "padding": null,
       "right": null,
       "top": null,
       "visibility": null,
       "width": null
      }
     },
     "236a506613614f928c07fa71acc36f0f": {
      "model_module": "@jupyter-widgets/controls",
      "model_module_version": "1.5.0",
      "model_name": "HTMLModel",
      "state": {
       "_dom_classes": [],
       "_model_module": "@jupyter-widgets/controls",
       "_model_module_version": "1.5.0",
       "_model_name": "HTMLModel",
       "_view_count": null,
       "_view_module": "@jupyter-widgets/controls",
       "_view_module_version": "1.5.0",
       "_view_name": "HTMLView",
       "description": "",
       "description_tooltip": null,
       "layout": "IPY_MODEL_315af18f43f7473687fe579acd6d101f",
       "placeholder": "​",
       "style": "IPY_MODEL_b1b4980e203a4c89a0458d5bd3f05e8e",
       "value": " 80/80 [02:49&lt;00:00,  1.62s/it]"
      }
     },
     "276d351bb3d745deac91ddaa1bd7ca05": {
      "model_module": "@jupyter-widgets/controls",
      "model_module_version": "1.5.0",
      "model_name": "DescriptionStyleModel",
      "state": {
       "_model_module": "@jupyter-widgets/controls",
       "_model_module_version": "1.5.0",
       "_model_name": "DescriptionStyleModel",
       "_view_count": null,
       "_view_module": "@jupyter-widgets/base",
       "_view_module_version": "1.2.0",
       "_view_name": "StyleView",
       "description_width": ""
      }
     },
     "28cd08730206496695174163f6e97168": {
      "model_module": "@jupyter-widgets/controls",
      "model_module_version": "1.5.0",
      "model_name": "HBoxModel",
      "state": {
       "_dom_classes": [],
       "_model_module": "@jupyter-widgets/controls",
       "_model_module_version": "1.5.0",
       "_model_name": "HBoxModel",
       "_view_count": null,
       "_view_module": "@jupyter-widgets/controls",
       "_view_module_version": "1.5.0",
       "_view_name": "HBoxView",
       "box_style": "",
       "children": [
        "IPY_MODEL_6851f4b1cb2f4d498a879c3ad77b7723",
        "IPY_MODEL_a375202876b74c37a3fcd340f083ac2e",
        "IPY_MODEL_36c9160e8a764efaa5927f0dc677e8dc"
       ],
       "layout": "IPY_MODEL_b0f46857444e47b6abe551b11882ddb9"
      }
     },
     "315af18f43f7473687fe579acd6d101f": {
      "model_module": "@jupyter-widgets/base",
      "model_module_version": "1.2.0",
      "model_name": "LayoutModel",
      "state": {
       "_model_module": "@jupyter-widgets/base",
       "_model_module_version": "1.2.0",
       "_model_name": "LayoutModel",
       "_view_count": null,
       "_view_module": "@jupyter-widgets/base",
       "_view_module_version": "1.2.0",
       "_view_name": "LayoutView",
       "align_content": null,
       "align_items": null,
       "align_self": null,
       "border": null,
       "bottom": null,
       "display": null,
       "flex": null,
       "flex_flow": null,
       "grid_area": null,
       "grid_auto_columns": null,
       "grid_auto_flow": null,
       "grid_auto_rows": null,
       "grid_column": null,
       "grid_gap": null,
       "grid_row": null,
       "grid_template_areas": null,
       "grid_template_columns": null,
       "grid_template_rows": null,
       "height": null,
       "justify_content": null,
       "justify_items": null,
       "left": null,
       "margin": null,
       "max_height": null,
       "max_width": null,
       "min_height": null,
       "min_width": null,
       "object_fit": null,
       "object_position": null,
       "order": null,
       "overflow": null,
       "overflow_x": null,
       "overflow_y": null,
       "padding": null,
       "right": null,
       "top": null,
       "visibility": null,
       "width": null
      }
     },
     "34ae85edc28645d1838db02abb6fbd01": {
      "model_module": "@jupyter-widgets/controls",
      "model_module_version": "1.5.0",
      "model_name": "HTMLModel",
      "state": {
       "_dom_classes": [],
       "_model_module": "@jupyter-widgets/controls",
       "_model_module_version": "1.5.0",
       "_model_name": "HTMLModel",
       "_view_count": null,
       "_view_module": "@jupyter-widgets/controls",
       "_view_module_version": "1.5.0",
       "_view_name": "HTMLView",
       "description": "",
       "description_tooltip": null,
       "layout": "IPY_MODEL_6a2786bbf3a24243a7eb17c266b29921",
       "placeholder": "​",
       "style": "IPY_MODEL_44178b2d179e48d49b75522161c24d93",
       "value": "100%"
      }
     },
     "369d348e9e034cc2ab94afa2161bf343": {
      "model_module": "@jupyter-widgets/controls",
      "model_module_version": "1.5.0",
      "model_name": "HTMLModel",
      "state": {
       "_dom_classes": [],
       "_model_module": "@jupyter-widgets/controls",
       "_model_module_version": "1.5.0",
       "_model_name": "HTMLModel",
       "_view_count": null,
       "_view_module": "@jupyter-widgets/controls",
       "_view_module_version": "1.5.0",
       "_view_name": "HTMLView",
       "description": "",
       "description_tooltip": null,
       "layout": "IPY_MODEL_9327a3c9f8024387974f7a1b590d2269",
       "placeholder": "​",
       "style": "IPY_MODEL_9fde2ada29ad4421a0a512ffc8041334",
       "value": "100%"
      }
     },
     "36c9160e8a764efaa5927f0dc677e8dc": {
      "model_module": "@jupyter-widgets/controls",
      "model_module_version": "1.5.0",
      "model_name": "HTMLModel",
      "state": {
       "_dom_classes": [],
       "_model_module": "@jupyter-widgets/controls",
       "_model_module_version": "1.5.0",
       "_model_name": "HTMLModel",
       "_view_count": null,
       "_view_module": "@jupyter-widgets/controls",
       "_view_module_version": "1.5.0",
       "_view_name": "HTMLView",
       "description": "",
       "description_tooltip": null,
       "layout": "IPY_MODEL_c433fc12c3de4f95ad8541ab128bcd25",
       "placeholder": "​",
       "style": "IPY_MODEL_276d351bb3d745deac91ddaa1bd7ca05",
       "value": " 111/111 [03:00&lt;00:00,  1.29s/it]"
      }
     },
     "380b6ab475514d8aaf43119c48443502": {
      "model_module": "@jupyter-widgets/base",
      "model_module_version": "1.2.0",
      "model_name": "LayoutModel",
      "state": {
       "_model_module": "@jupyter-widgets/base",
       "_model_module_version": "1.2.0",
       "_model_name": "LayoutModel",
       "_view_count": null,
       "_view_module": "@jupyter-widgets/base",
       "_view_module_version": "1.2.0",
       "_view_name": "LayoutView",
       "align_content": null,
       "align_items": null,
       "align_self": null,
       "border": null,
       "bottom": null,
       "display": null,
       "flex": null,
       "flex_flow": null,
       "grid_area": null,
       "grid_auto_columns": null,
       "grid_auto_flow": null,
       "grid_auto_rows": null,
       "grid_column": null,
       "grid_gap": null,
       "grid_row": null,
       "grid_template_areas": null,
       "grid_template_columns": null,
       "grid_template_rows": null,
       "height": null,
       "justify_content": null,
       "justify_items": null,
       "left": null,
       "margin": null,
       "max_height": null,
       "max_width": null,
       "min_height": null,
       "min_width": null,
       "object_fit": null,
       "object_position": null,
       "order": null,
       "overflow": null,
       "overflow_x": null,
       "overflow_y": null,
       "padding": null,
       "right": null,
       "top": null,
       "visibility": null,
       "width": null
      }
     },
     "387e8852b0214000abc14fb4b70bd78c": {
      "model_module": "@jupyter-widgets/base",
      "model_module_version": "1.2.0",
      "model_name": "LayoutModel",
      "state": {
       "_model_module": "@jupyter-widgets/base",
       "_model_module_version": "1.2.0",
       "_model_name": "LayoutModel",
       "_view_count": null,
       "_view_module": "@jupyter-widgets/base",
       "_view_module_version": "1.2.0",
       "_view_name": "LayoutView",
       "align_content": null,
       "align_items": null,
       "align_self": null,
       "border": null,
       "bottom": null,
       "display": null,
       "flex": null,
       "flex_flow": null,
       "grid_area": null,
       "grid_auto_columns": null,
       "grid_auto_flow": null,
       "grid_auto_rows": null,
       "grid_column": null,
       "grid_gap": null,
       "grid_row": null,
       "grid_template_areas": null,
       "grid_template_columns": null,
       "grid_template_rows": null,
       "height": null,
       "justify_content": null,
       "justify_items": null,
       "left": null,
       "margin": null,
       "max_height": null,
       "max_width": null,
       "min_height": null,
       "min_width": null,
       "object_fit": null,
       "object_position": null,
       "order": null,
       "overflow": null,
       "overflow_x": null,
       "overflow_y": null,
       "padding": null,
       "right": null,
       "top": null,
       "visibility": null,
       "width": "20px"
      }
     },
     "40f91f013e904299944edc25064c1daa": {
      "model_module": "@jupyter-widgets/base",
      "model_module_version": "1.2.0",
      "model_name": "LayoutModel",
      "state": {
       "_model_module": "@jupyter-widgets/base",
       "_model_module_version": "1.2.0",
       "_model_name": "LayoutModel",
       "_view_count": null,
       "_view_module": "@jupyter-widgets/base",
       "_view_module_version": "1.2.0",
       "_view_name": "LayoutView",
       "align_content": null,
       "align_items": null,
       "align_self": null,
       "border": null,
       "bottom": null,
       "display": null,
       "flex": null,
       "flex_flow": null,
       "grid_area": null,
       "grid_auto_columns": null,
       "grid_auto_flow": null,
       "grid_auto_rows": null,
       "grid_column": null,
       "grid_gap": null,
       "grid_row": null,
       "grid_template_areas": null,
       "grid_template_columns": null,
       "grid_template_rows": null,
       "height": null,
       "justify_content": null,
       "justify_items": null,
       "left": null,
       "margin": null,
       "max_height": null,
       "max_width": null,
       "min_height": null,
       "min_width": null,
       "object_fit": null,
       "object_position": null,
       "order": null,
       "overflow": null,
       "overflow_x": null,
       "overflow_y": null,
       "padding": null,
       "right": null,
       "top": null,
       "visibility": null,
       "width": null
      }
     },
     "415bef7cb2ea49d7a0ef1a8007eb0637": {
      "model_module": "@jupyter-widgets/controls",
      "model_module_version": "1.5.0",
      "model_name": "HTMLModel",
      "state": {
       "_dom_classes": [],
       "_model_module": "@jupyter-widgets/controls",
       "_model_module_version": "1.5.0",
       "_model_name": "HTMLModel",
       "_view_count": null,
       "_view_module": "@jupyter-widgets/controls",
       "_view_module_version": "1.5.0",
       "_view_name": "HTMLView",
       "description": "",
       "description_tooltip": null,
       "layout": "IPY_MODEL_206e9fc75cf04f1b8a3206866900cd1c",
       "placeholder": "​",
       "style": "IPY_MODEL_d4d4be808837466bae2a7adfaf4196fc",
       "value": " 7163/? [00:00&lt;00:00, 7724.98it/s]"
      }
     },
     "432d9b9ccc6f485186fd1f9c4b875693": {
      "model_module": "@jupyter-widgets/controls",
      "model_module_version": "1.5.0",
      "model_name": "ProgressStyleModel",
      "state": {
       "_model_module": "@jupyter-widgets/controls",
       "_model_module_version": "1.5.0",
       "_model_name": "ProgressStyleModel",
       "_view_count": null,
       "_view_module": "@jupyter-widgets/base",
       "_view_module_version": "1.2.0",
       "_view_name": "StyleView",
       "bar_color": null,
       "description_width": ""
      }
     },
     "44178b2d179e48d49b75522161c24d93": {
      "model_module": "@jupyter-widgets/controls",
      "model_module_version": "1.5.0",
      "model_name": "DescriptionStyleModel",
      "state": {
       "_model_module": "@jupyter-widgets/controls",
       "_model_module_version": "1.5.0",
       "_model_name": "DescriptionStyleModel",
       "_view_count": null,
       "_view_module": "@jupyter-widgets/base",
       "_view_module_version": "1.2.0",
       "_view_name": "StyleView",
       "description_width": ""
      }
     },
     "4478e6319e114557a6e38d6fabe20c85": {
      "model_module": "@jupyter-widgets/base",
      "model_module_version": "1.2.0",
      "model_name": "LayoutModel",
      "state": {
       "_model_module": "@jupyter-widgets/base",
       "_model_module_version": "1.2.0",
       "_model_name": "LayoutModel",
       "_view_count": null,
       "_view_module": "@jupyter-widgets/base",
       "_view_module_version": "1.2.0",
       "_view_name": "LayoutView",
       "align_content": null,
       "align_items": null,
       "align_self": null,
       "border": null,
       "bottom": null,
       "display": null,
       "flex": null,
       "flex_flow": null,
       "grid_area": null,
       "grid_auto_columns": null,
       "grid_auto_flow": null,
       "grid_auto_rows": null,
       "grid_column": null,
       "grid_gap": null,
       "grid_row": null,
       "grid_template_areas": null,
       "grid_template_columns": null,
       "grid_template_rows": null,
       "height": null,
       "justify_content": null,
       "justify_items": null,
       "left": null,
       "margin": null,
       "max_height": null,
       "max_width": null,
       "min_height": null,
       "min_width": null,
       "object_fit": null,
       "object_position": null,
       "order": null,
       "overflow": null,
       "overflow_x": null,
       "overflow_y": null,
       "padding": null,
       "right": null,
       "top": null,
       "visibility": null,
       "width": null
      }
     },
     "466c4b4d641446c2bdde71ea1f636c2b": {
      "model_module": "@jupyter-widgets/controls",
      "model_module_version": "1.5.0",
      "model_name": "DescriptionStyleModel",
      "state": {
       "_model_module": "@jupyter-widgets/controls",
       "_model_module_version": "1.5.0",
       "_model_name": "DescriptionStyleModel",
       "_view_count": null,
       "_view_module": "@jupyter-widgets/base",
       "_view_module_version": "1.2.0",
       "_view_name": "StyleView",
       "description_width": ""
      }
     },
     "475dda0b21f94d2ea2ceed9ca7ce0269": {
      "model_module": "@jupyter-widgets/base",
      "model_module_version": "1.2.0",
      "model_name": "LayoutModel",
      "state": {
       "_model_module": "@jupyter-widgets/base",
       "_model_module_version": "1.2.0",
       "_model_name": "LayoutModel",
       "_view_count": null,
       "_view_module": "@jupyter-widgets/base",
       "_view_module_version": "1.2.0",
       "_view_name": "LayoutView",
       "align_content": null,
       "align_items": null,
       "align_self": null,
       "border": null,
       "bottom": null,
       "display": null,
       "flex": null,
       "flex_flow": null,
       "grid_area": null,
       "grid_auto_columns": null,
       "grid_auto_flow": null,
       "grid_auto_rows": null,
       "grid_column": null,
       "grid_gap": null,
       "grid_row": null,
       "grid_template_areas": null,
       "grid_template_columns": null,
       "grid_template_rows": null,
       "height": null,
       "justify_content": null,
       "justify_items": null,
       "left": null,
       "margin": null,
       "max_height": null,
       "max_width": null,
       "min_height": null,
       "min_width": null,
       "object_fit": null,
       "object_position": null,
       "order": null,
       "overflow": null,
       "overflow_x": null,
       "overflow_y": null,
       "padding": null,
       "right": null,
       "top": null,
       "visibility": null,
       "width": null
      }
     },
     "4828f6dfbb814233bcfb532b6fc330bb": {
      "model_module": "@jupyter-widgets/controls",
      "model_module_version": "1.5.0",
      "model_name": "HTMLModel",
      "state": {
       "_dom_classes": [],
       "_model_module": "@jupyter-widgets/controls",
       "_model_module_version": "1.5.0",
       "_model_name": "HTMLModel",
       "_view_count": null,
       "_view_module": "@jupyter-widgets/controls",
       "_view_module_version": "1.5.0",
       "_view_name": "HTMLView",
       "description": "",
       "description_tooltip": null,
       "layout": "IPY_MODEL_d0c0bea80f614b9e926fb6aef7b15b7f",
       "placeholder": "​",
       "style": "IPY_MODEL_d4ae02905fed4eea83487188aa96011a",
       "value": " 4312/? [00:02&lt;00:00, 1497.79it/s]"
      }
     },
     "4995f7c1387c4ea99d31c718877274c3": {
      "model_module": "@jupyter-widgets/controls",
      "model_module_version": "1.5.0",
      "model_name": "ProgressStyleModel",
      "state": {
       "_model_module": "@jupyter-widgets/controls",
       "_model_module_version": "1.5.0",
       "_model_name": "ProgressStyleModel",
       "_view_count": null,
       "_view_module": "@jupyter-widgets/base",
       "_view_module_version": "1.2.0",
       "_view_name": "StyleView",
       "bar_color": null,
       "description_width": ""
      }
     },
     "4aaf6d34c24f424faeeee566fe7acc46": {
      "model_module": "@jupyter-widgets/controls",
      "model_module_version": "1.5.0",
      "model_name": "HBoxModel",
      "state": {
       "_dom_classes": [],
       "_model_module": "@jupyter-widgets/controls",
       "_model_module_version": "1.5.0",
       "_model_name": "HBoxModel",
       "_view_count": null,
       "_view_module": "@jupyter-widgets/controls",
       "_view_module_version": "1.5.0",
       "_view_name": "HBoxView",
       "box_style": "",
       "children": [
        "IPY_MODEL_85cd7f010567430fa5f02aaf649d8778",
        "IPY_MODEL_8ac2e7e1a9084b4ebd37269d8d7fc075",
        "IPY_MODEL_4828f6dfbb814233bcfb532b6fc330bb"
       ],
       "layout": "IPY_MODEL_714eb4a146cf4362a69ed1bf3799d0c1"
      }
     },
     "4b79a396445b47bbac6c3cc9448fed51": {
      "model_module": "@jupyter-widgets/base",
      "model_module_version": "1.2.0",
      "model_name": "LayoutModel",
      "state": {
       "_model_module": "@jupyter-widgets/base",
       "_model_module_version": "1.2.0",
       "_model_name": "LayoutModel",
       "_view_count": null,
       "_view_module": "@jupyter-widgets/base",
       "_view_module_version": "1.2.0",
       "_view_name": "LayoutView",
       "align_content": null,
       "align_items": null,
       "align_self": null,
       "border": null,
       "bottom": null,
       "display": null,
       "flex": null,
       "flex_flow": null,
       "grid_area": null,
       "grid_auto_columns": null,
       "grid_auto_flow": null,
       "grid_auto_rows": null,
       "grid_column": null,
       "grid_gap": null,
       "grid_row": null,
       "grid_template_areas": null,
       "grid_template_columns": null,
       "grid_template_rows": null,
       "height": null,
       "justify_content": null,
       "justify_items": null,
       "left": null,
       "margin": null,
       "max_height": null,
       "max_width": null,
       "min_height": null,
       "min_width": null,
       "object_fit": null,
       "object_position": null,
       "order": null,
       "overflow": null,
       "overflow_x": null,
       "overflow_y": null,
       "padding": null,
       "right": null,
       "top": null,
       "visibility": null,
       "width": null
      }
     },
     "5112514f021e443b9241028724181845": {
      "model_module": "@jupyter-widgets/controls",
      "model_module_version": "1.5.0",
      "model_name": "HBoxModel",
      "state": {
       "_dom_classes": [],
       "_model_module": "@jupyter-widgets/controls",
       "_model_module_version": "1.5.0",
       "_model_name": "HBoxModel",
       "_view_count": null,
       "_view_module": "@jupyter-widgets/controls",
       "_view_module_version": "1.5.0",
       "_view_name": "HBoxView",
       "box_style": "",
       "children": [
        "IPY_MODEL_c7e5926d526444158488b1081a2abf77",
        "IPY_MODEL_ca99433258fe442c82e06deccf1f883f",
        "IPY_MODEL_044bf4390eb44adfae0442e10ef1562c"
       ],
       "layout": "IPY_MODEL_97606d0d983347d299cfbf7b036a670c"
      }
     },
     "536dc7e8e2c943fda35c7df7e5762810": {
      "model_module": "@jupyter-widgets/controls",
      "model_module_version": "1.5.0",
      "model_name": "HBoxModel",
      "state": {
       "_dom_classes": [],
       "_model_module": "@jupyter-widgets/controls",
       "_model_module_version": "1.5.0",
       "_model_name": "HBoxModel",
       "_view_count": null,
       "_view_module": "@jupyter-widgets/controls",
       "_view_module_version": "1.5.0",
       "_view_name": "HBoxView",
       "box_style": "",
       "children": [
        "IPY_MODEL_5c6d4576a0cb446b9c73d6b5c7c510df",
        "IPY_MODEL_948d4b8704c744b59f4bb1de7389cb5b",
        "IPY_MODEL_c2b592ed6cba4ac79e063f788e43a3f1"
       ],
       "layout": "IPY_MODEL_d0c5b06f003148d58177ff8ff02498be"
      }
     },
     "55ddd2533dc640b8a08dd72ddcd6a160": {
      "model_module": "@jupyter-widgets/base",
      "model_module_version": "1.2.0",
      "model_name": "LayoutModel",
      "state": {
       "_model_module": "@jupyter-widgets/base",
       "_model_module_version": "1.2.0",
       "_model_name": "LayoutModel",
       "_view_count": null,
       "_view_module": "@jupyter-widgets/base",
       "_view_module_version": "1.2.0",
       "_view_name": "LayoutView",
       "align_content": null,
       "align_items": null,
       "align_self": null,
       "border": null,
       "bottom": null,
       "display": null,
       "flex": null,
       "flex_flow": null,
       "grid_area": null,
       "grid_auto_columns": null,
       "grid_auto_flow": null,
       "grid_auto_rows": null,
       "grid_column": null,
       "grid_gap": null,
       "grid_row": null,
       "grid_template_areas": null,
       "grid_template_columns": null,
       "grid_template_rows": null,
       "height": null,
       "justify_content": null,
       "justify_items": null,
       "left": null,
       "margin": null,
       "max_height": null,
       "max_width": null,
       "min_height": null,
       "min_width": null,
       "object_fit": null,
       "object_position": null,
       "order": null,
       "overflow": null,
       "overflow_x": null,
       "overflow_y": null,
       "padding": null,
       "right": null,
       "top": null,
       "visibility": null,
       "width": null
      }
     },
     "5c6d4576a0cb446b9c73d6b5c7c510df": {
      "model_module": "@jupyter-widgets/controls",
      "model_module_version": "1.5.0",
      "model_name": "HTMLModel",
      "state": {
       "_dom_classes": [],
       "_model_module": "@jupyter-widgets/controls",
       "_model_module_version": "1.5.0",
       "_model_name": "HTMLModel",
       "_view_count": null,
       "_view_module": "@jupyter-widgets/controls",
       "_view_module_version": "1.5.0",
       "_view_name": "HTMLView",
       "description": "",
       "description_tooltip": null,
       "layout": "IPY_MODEL_6e1fd309a227426cb324bfed6d9fa6a0",
       "placeholder": "​",
       "style": "IPY_MODEL_d2f713741fc34a218d5cb9781a802362",
       "value": "100%"
      }
     },
     "5d683cc7002d4a1ba55f85b8a86f7f0c": {
      "model_module": "@jupyter-widgets/base",
      "model_module_version": "1.2.0",
      "model_name": "LayoutModel",
      "state": {
       "_model_module": "@jupyter-widgets/base",
       "_model_module_version": "1.2.0",
       "_model_name": "LayoutModel",
       "_view_count": null,
       "_view_module": "@jupyter-widgets/base",
       "_view_module_version": "1.2.0",
       "_view_name": "LayoutView",
       "align_content": null,
       "align_items": null,
       "align_self": null,
       "border": null,
       "bottom": null,
       "display": null,
       "flex": null,
       "flex_flow": null,
       "grid_area": null,
       "grid_auto_columns": null,
       "grid_auto_flow": null,
       "grid_auto_rows": null,
       "grid_column": null,
       "grid_gap": null,
       "grid_row": null,
       "grid_template_areas": null,
       "grid_template_columns": null,
       "grid_template_rows": null,
       "height": null,
       "justify_content": null,
       "justify_items": null,
       "left": null,
       "margin": null,
       "max_height": null,
       "max_width": null,
       "min_height": null,
       "min_width": null,
       "object_fit": null,
       "object_position": null,
       "order": null,
       "overflow": null,
       "overflow_x": null,
       "overflow_y": null,
       "padding": null,
       "right": null,
       "top": null,
       "visibility": null,
       "width": null
      }
     },
     "5f573296f74046009651c8d28512db95": {
      "model_module": "@jupyter-widgets/controls",
      "model_module_version": "1.5.0",
      "model_name": "FloatProgressModel",
      "state": {
       "_dom_classes": [],
       "_model_module": "@jupyter-widgets/controls",
       "_model_module_version": "1.5.0",
       "_model_name": "FloatProgressModel",
       "_view_count": null,
       "_view_module": "@jupyter-widgets/controls",
       "_view_module_version": "1.5.0",
       "_view_name": "ProgressView",
       "bar_style": "success",
       "description": "",
       "description_tooltip": null,
       "layout": "IPY_MODEL_d0d45ab2407e4eb68a8cafda256485c5",
       "max": 2,
       "min": 0,
       "orientation": "horizontal",
       "style": "IPY_MODEL_f64a72fbb22d434f95c3e72f4d506aa2",
       "value": 2
      }
     },
     "60cfaa95bb6340f0ada267bb8f792c6b": {
      "model_module": "@jupyter-widgets/controls",
      "model_module_version": "1.5.0",
      "model_name": "FloatProgressModel",
      "state": {
       "_dom_classes": [],
       "_model_module": "@jupyter-widgets/controls",
       "_model_module_version": "1.5.0",
       "_model_name": "FloatProgressModel",
       "_view_count": null,
       "_view_module": "@jupyter-widgets/controls",
       "_view_module_version": "1.5.0",
       "_view_name": "ProgressView",
       "bar_style": "success",
       "description": "",
       "description_tooltip": null,
       "layout": "IPY_MODEL_c73b455dbd6f4b12b812d35d9e180126",
       "max": 80,
       "min": 0,
       "orientation": "horizontal",
       "style": "IPY_MODEL_c6342b0edb5d4935afce4982a755d2b9",
       "value": 80
      }
     },
     "628ac0757c494916820178e81cd182fc": {
      "model_module": "@jupyter-widgets/controls",
      "model_module_version": "1.5.0",
      "model_name": "ProgressStyleModel",
      "state": {
       "_model_module": "@jupyter-widgets/controls",
       "_model_module_version": "1.5.0",
       "_model_name": "ProgressStyleModel",
       "_view_count": null,
       "_view_module": "@jupyter-widgets/base",
       "_view_module_version": "1.2.0",
       "_view_name": "StyleView",
       "bar_color": null,
       "description_width": ""
      }
     },
     "646883fa8b214ba984add046062a6c56": {
      "model_module": "@jupyter-widgets/controls",
      "model_module_version": "1.5.0",
      "model_name": "DescriptionStyleModel",
      "state": {
       "_model_module": "@jupyter-widgets/controls",
       "_model_module_version": "1.5.0",
       "_model_name": "DescriptionStyleModel",
       "_view_count": null,
       "_view_module": "@jupyter-widgets/base",
       "_view_module_version": "1.2.0",
       "_view_name": "StyleView",
       "description_width": ""
      }
     },
     "64839f7fe93344b0ade60caa0796c99a": {
      "model_module": "@jupyter-widgets/controls",
      "model_module_version": "1.5.0",
      "model_name": "HBoxModel",
      "state": {
       "_dom_classes": [],
       "_model_module": "@jupyter-widgets/controls",
       "_model_module_version": "1.5.0",
       "_model_name": "HBoxModel",
       "_view_count": null,
       "_view_module": "@jupyter-widgets/controls",
       "_view_module_version": "1.5.0",
       "_view_name": "HBoxView",
       "box_style": "",
       "children": [
        "IPY_MODEL_18ddff30901b4da08f87ddca2e6a8c38",
        "IPY_MODEL_063bc5d59eb3414b96c527616bc6edcb",
        "IPY_MODEL_415bef7cb2ea49d7a0ef1a8007eb0637"
       ],
       "layout": "IPY_MODEL_7b609e94496b4e19bcacb900f84af483"
      }
     },
     "6851f4b1cb2f4d498a879c3ad77b7723": {
      "model_module": "@jupyter-widgets/controls",
      "model_module_version": "1.5.0",
      "model_name": "HTMLModel",
      "state": {
       "_dom_classes": [],
       "_model_module": "@jupyter-widgets/controls",
       "_model_module_version": "1.5.0",
       "_model_name": "HTMLModel",
       "_view_count": null,
       "_view_module": "@jupyter-widgets/controls",
       "_view_module_version": "1.5.0",
       "_view_name": "HTMLView",
       "description": "",
       "description_tooltip": null,
       "layout": "IPY_MODEL_40f91f013e904299944edc25064c1daa",
       "placeholder": "​",
       "style": "IPY_MODEL_cd00fb7548f343d99b1c6ce24b459bc7",
       "value": "100%"
      }
     },
     "68ce4aa00b9f4a7bb9a78729c1500180": {
      "model_module": "@jupyter-widgets/controls",
      "model_module_version": "1.5.0",
      "model_name": "DescriptionStyleModel",
      "state": {
       "_model_module": "@jupyter-widgets/controls",
       "_model_module_version": "1.5.0",
       "_model_name": "DescriptionStyleModel",
       "_view_count": null,
       "_view_module": "@jupyter-widgets/base",
       "_view_module_version": "1.2.0",
       "_view_name": "StyleView",
       "description_width": ""
      }
     },
     "6a2786bbf3a24243a7eb17c266b29921": {
      "model_module": "@jupyter-widgets/base",
      "model_module_version": "1.2.0",
      "model_name": "LayoutModel",
      "state": {
       "_model_module": "@jupyter-widgets/base",
       "_model_module_version": "1.2.0",
       "_model_name": "LayoutModel",
       "_view_count": null,
       "_view_module": "@jupyter-widgets/base",
       "_view_module_version": "1.2.0",
       "_view_name": "LayoutView",
       "align_content": null,
       "align_items": null,
       "align_self": null,
       "border": null,
       "bottom": null,
       "display": null,
       "flex": null,
       "flex_flow": null,
       "grid_area": null,
       "grid_auto_columns": null,
       "grid_auto_flow": null,
       "grid_auto_rows": null,
       "grid_column": null,
       "grid_gap": null,
       "grid_row": null,
       "grid_template_areas": null,
       "grid_template_columns": null,
       "grid_template_rows": null,
       "height": null,
       "justify_content": null,
       "justify_items": null,
       "left": null,
       "margin": null,
       "max_height": null,
       "max_width": null,
       "min_height": null,
       "min_width": null,
       "object_fit": null,
       "object_position": null,
       "order": null,
       "overflow": null,
       "overflow_x": null,
       "overflow_y": null,
       "padding": null,
       "right": null,
       "top": null,
       "visibility": null,
       "width": null
      }
     },
     "6b1d479e70434af488511a66dbcdecac": {
      "model_module": "@jupyter-widgets/controls",
      "model_module_version": "1.5.0",
      "model_name": "HTMLModel",
      "state": {
       "_dom_classes": [],
       "_model_module": "@jupyter-widgets/controls",
       "_model_module_version": "1.5.0",
       "_model_name": "HTMLModel",
       "_view_count": null,
       "_view_module": "@jupyter-widgets/controls",
       "_view_module_version": "1.5.0",
       "_view_name": "HTMLView",
       "description": "",
       "description_tooltip": null,
       "layout": "IPY_MODEL_b8f04cfe8d76402d973732792a3453a2",
       "placeholder": "​",
       "style": "IPY_MODEL_0866733d771b446499649736ab994309",
       "value": " 7163/? [00:02&lt;00:00, 3232.75it/s]"
      }
     },
     "6bfd4b2bbc2f472faefee5e6d2f676f0": {
      "model_module": "@jupyter-widgets/controls",
      "model_module_version": "1.5.0",
      "model_name": "DescriptionStyleModel",
      "state": {
       "_model_module": "@jupyter-widgets/controls",
       "_model_module_version": "1.5.0",
       "_model_name": "DescriptionStyleModel",
       "_view_count": null,
       "_view_module": "@jupyter-widgets/base",
       "_view_module_version": "1.2.0",
       "_view_name": "StyleView",
       "description_width": ""
      }
     },
     "6e1fd309a227426cb324bfed6d9fa6a0": {
      "model_module": "@jupyter-widgets/base",
      "model_module_version": "1.2.0",
      "model_name": "LayoutModel",
      "state": {
       "_model_module": "@jupyter-widgets/base",
       "_model_module_version": "1.2.0",
       "_model_name": "LayoutModel",
       "_view_count": null,
       "_view_module": "@jupyter-widgets/base",
       "_view_module_version": "1.2.0",
       "_view_name": "LayoutView",
       "align_content": null,
       "align_items": null,
       "align_self": null,
       "border": null,
       "bottom": null,
       "display": null,
       "flex": null,
       "flex_flow": null,
       "grid_area": null,
       "grid_auto_columns": null,
       "grid_auto_flow": null,
       "grid_auto_rows": null,
       "grid_column": null,
       "grid_gap": null,
       "grid_row": null,
       "grid_template_areas": null,
       "grid_template_columns": null,
       "grid_template_rows": null,
       "height": null,
       "justify_content": null,
       "justify_items": null,
       "left": null,
       "margin": null,
       "max_height": null,
       "max_width": null,
       "min_height": null,
       "min_width": null,
       "object_fit": null,
       "object_position": null,
       "order": null,
       "overflow": null,
       "overflow_x": null,
       "overflow_y": null,
       "padding": null,
       "right": null,
       "top": null,
       "visibility": null,
       "width": null
      }
     },
     "6e639493024a41f79b865c4db8bd57da": {
      "model_module": "@jupyter-widgets/base",
      "model_module_version": "1.2.0",
      "model_name": "LayoutModel",
      "state": {
       "_model_module": "@jupyter-widgets/base",
       "_model_module_version": "1.2.0",
       "_model_name": "LayoutModel",
       "_view_count": null,
       "_view_module": "@jupyter-widgets/base",
       "_view_module_version": "1.2.0",
       "_view_name": "LayoutView",
       "align_content": null,
       "align_items": null,
       "align_self": null,
       "border": null,
       "bottom": null,
       "display": null,
       "flex": null,
       "flex_flow": null,
       "grid_area": null,
       "grid_auto_columns": null,
       "grid_auto_flow": null,
       "grid_auto_rows": null,
       "grid_column": null,
       "grid_gap": null,
       "grid_row": null,
       "grid_template_areas": null,
       "grid_template_columns": null,
       "grid_template_rows": null,
       "height": null,
       "justify_content": null,
       "justify_items": null,
       "left": null,
       "margin": null,
       "max_height": null,
       "max_width": null,
       "min_height": null,
       "min_width": null,
       "object_fit": null,
       "object_position": null,
       "order": null,
       "overflow": null,
       "overflow_x": null,
       "overflow_y": null,
       "padding": null,
       "right": null,
       "top": null,
       "visibility": null,
       "width": null
      }
     },
     "6f64272aab6c4ad29346667c888fae79": {
      "model_module": "@jupyter-widgets/base",
      "model_module_version": "1.2.0",
      "model_name": "LayoutModel",
      "state": {
       "_model_module": "@jupyter-widgets/base",
       "_model_module_version": "1.2.0",
       "_model_name": "LayoutModel",
       "_view_count": null,
       "_view_module": "@jupyter-widgets/base",
       "_view_module_version": "1.2.0",
       "_view_name": "LayoutView",
       "align_content": null,
       "align_items": null,
       "align_self": null,
       "border": null,
       "bottom": null,
       "display": null,
       "flex": null,
       "flex_flow": null,
       "grid_area": null,
       "grid_auto_columns": null,
       "grid_auto_flow": null,
       "grid_auto_rows": null,
       "grid_column": null,
       "grid_gap": null,
       "grid_row": null,
       "grid_template_areas": null,
       "grid_template_columns": null,
       "grid_template_rows": null,
       "height": null,
       "justify_content": null,
       "justify_items": null,
       "left": null,
       "margin": null,
       "max_height": null,
       "max_width": null,
       "min_height": null,
       "min_width": null,
       "object_fit": null,
       "object_position": null,
       "order": null,
       "overflow": null,
       "overflow_x": null,
       "overflow_y": null,
       "padding": null,
       "right": null,
       "top": null,
       "visibility": null,
       "width": null
      }
     },
     "70311cc7a2d949ecb3e5b657ce4cc21a": {
      "model_module": "@jupyter-widgets/controls",
      "model_module_version": "1.5.0",
      "model_name": "HTMLModel",
      "state": {
       "_dom_classes": [],
       "_model_module": "@jupyter-widgets/controls",
       "_model_module_version": "1.5.0",
       "_model_name": "HTMLModel",
       "_view_count": null,
       "_view_module": "@jupyter-widgets/controls",
       "_view_module_version": "1.5.0",
       "_view_name": "HTMLView",
       "description": "",
       "description_tooltip": null,
       "layout": "IPY_MODEL_75cde17d210449f6be13280669dcad53",
       "placeholder": "​",
       "style": "IPY_MODEL_8f4e1bc21e964dd6a41cee4fa52111d2",
       "value": " 2/2 [19:00&lt;00:00, 585.77s/it]"
      }
     },
     "70799bb945514baf9d1ede99292b9b0e": {
      "model_module": "@jupyter-widgets/controls",
      "model_module_version": "1.5.0",
      "model_name": "HBoxModel",
      "state": {
       "_dom_classes": [],
       "_model_module": "@jupyter-widgets/controls",
       "_model_module_version": "1.5.0",
       "_model_name": "HBoxModel",
       "_view_count": null,
       "_view_module": "@jupyter-widgets/controls",
       "_view_module_version": "1.5.0",
       "_view_name": "HBoxView",
       "box_style": "",
       "children": [
        "IPY_MODEL_046d28004763420d9cfd7d2d1c44affb",
        "IPY_MODEL_09880fb9751a4b37b5b106a0da5713b9",
        "IPY_MODEL_9d53ba1ed9c54d9c90dd89b8d8c355e7"
       ],
       "layout": "IPY_MODEL_4b79a396445b47bbac6c3cc9448fed51"
      }
     },
     "70ef504bd8d247c7845c8d89a5b66aa7": {
      "model_module": "@jupyter-widgets/base",
      "model_module_version": "1.2.0",
      "model_name": "LayoutModel",
      "state": {
       "_model_module": "@jupyter-widgets/base",
       "_model_module_version": "1.2.0",
       "_model_name": "LayoutModel",
       "_view_count": null,
       "_view_module": "@jupyter-widgets/base",
       "_view_module_version": "1.2.0",
       "_view_name": "LayoutView",
       "align_content": null,
       "align_items": null,
       "align_self": null,
       "border": null,
       "bottom": null,
       "display": null,
       "flex": null,
       "flex_flow": null,
       "grid_area": null,
       "grid_auto_columns": null,
       "grid_auto_flow": null,
       "grid_auto_rows": null,
       "grid_column": null,
       "grid_gap": null,
       "grid_row": null,
       "grid_template_areas": null,
       "grid_template_columns": null,
       "grid_template_rows": null,
       "height": null,
       "justify_content": null,
       "justify_items": null,
       "left": null,
       "margin": null,
       "max_height": null,
       "max_width": null,
       "min_height": null,
       "min_width": null,
       "object_fit": null,
       "object_position": null,
       "order": null,
       "overflow": null,
       "overflow_x": null,
       "overflow_y": null,
       "padding": null,
       "right": null,
       "top": null,
       "visibility": null,
       "width": null
      }
     },
     "714eb4a146cf4362a69ed1bf3799d0c1": {
      "model_module": "@jupyter-widgets/base",
      "model_module_version": "1.2.0",
      "model_name": "LayoutModel",
      "state": {
       "_model_module": "@jupyter-widgets/base",
       "_model_module_version": "1.2.0",
       "_model_name": "LayoutModel",
       "_view_count": null,
       "_view_module": "@jupyter-widgets/base",
       "_view_module_version": "1.2.0",
       "_view_name": "LayoutView",
       "align_content": null,
       "align_items": null,
       "align_self": null,
       "border": null,
       "bottom": null,
       "display": null,
       "flex": null,
       "flex_flow": null,
       "grid_area": null,
       "grid_auto_columns": null,
       "grid_auto_flow": null,
       "grid_auto_rows": null,
       "grid_column": null,
       "grid_gap": null,
       "grid_row": null,
       "grid_template_areas": null,
       "grid_template_columns": null,
       "grid_template_rows": null,
       "height": null,
       "justify_content": null,
       "justify_items": null,
       "left": null,
       "margin": null,
       "max_height": null,
       "max_width": null,
       "min_height": null,
       "min_width": null,
       "object_fit": null,
       "object_position": null,
       "order": null,
       "overflow": null,
       "overflow_x": null,
       "overflow_y": null,
       "padding": null,
       "right": null,
       "top": null,
       "visibility": null,
       "width": null
      }
     },
     "73425b8e53a24d7ea452e636768f7076": {
      "model_module": "@jupyter-widgets/controls",
      "model_module_version": "1.5.0",
      "model_name": "DescriptionStyleModel",
      "state": {
       "_model_module": "@jupyter-widgets/controls",
       "_model_module_version": "1.5.0",
       "_model_name": "DescriptionStyleModel",
       "_view_count": null,
       "_view_module": "@jupyter-widgets/base",
       "_view_module_version": "1.2.0",
       "_view_name": "StyleView",
       "description_width": ""
      }
     },
     "75cde17d210449f6be13280669dcad53": {
      "model_module": "@jupyter-widgets/base",
      "model_module_version": "1.2.0",
      "model_name": "LayoutModel",
      "state": {
       "_model_module": "@jupyter-widgets/base",
       "_model_module_version": "1.2.0",
       "_model_name": "LayoutModel",
       "_view_count": null,
       "_view_module": "@jupyter-widgets/base",
       "_view_module_version": "1.2.0",
       "_view_name": "LayoutView",
       "align_content": null,
       "align_items": null,
       "align_self": null,
       "border": null,
       "bottom": null,
       "display": null,
       "flex": null,
       "flex_flow": null,
       "grid_area": null,
       "grid_auto_columns": null,
       "grid_auto_flow": null,
       "grid_auto_rows": null,
       "grid_column": null,
       "grid_gap": null,
       "grid_row": null,
       "grid_template_areas": null,
       "grid_template_columns": null,
       "grid_template_rows": null,
       "height": null,
       "justify_content": null,
       "justify_items": null,
       "left": null,
       "margin": null,
       "max_height": null,
       "max_width": null,
       "min_height": null,
       "min_width": null,
       "object_fit": null,
       "object_position": null,
       "order": null,
       "overflow": null,
       "overflow_x": null,
       "overflow_y": null,
       "padding": null,
       "right": null,
       "top": null,
       "visibility": null,
       "width": null
      }
     },
     "79b2f43d7955418fa70919d48e29ac7c": {
      "model_module": "@jupyter-widgets/controls",
      "model_module_version": "1.5.0",
      "model_name": "HBoxModel",
      "state": {
       "_dom_classes": [],
       "_model_module": "@jupyter-widgets/controls",
       "_model_module_version": "1.5.0",
       "_model_name": "HBoxModel",
       "_view_count": null,
       "_view_module": "@jupyter-widgets/controls",
       "_view_module_version": "1.5.0",
       "_view_name": "HBoxView",
       "box_style": "",
       "children": [
        "IPY_MODEL_34ae85edc28645d1838db02abb6fbd01",
        "IPY_MODEL_5f573296f74046009651c8d28512db95",
        "IPY_MODEL_70311cc7a2d949ecb3e5b657ce4cc21a"
       ],
       "layout": "IPY_MODEL_5d683cc7002d4a1ba55f85b8a86f7f0c"
      }
     },
     "7b609e94496b4e19bcacb900f84af483": {
      "model_module": "@jupyter-widgets/base",
      "model_module_version": "1.2.0",
      "model_name": "LayoutModel",
      "state": {
       "_model_module": "@jupyter-widgets/base",
       "_model_module_version": "1.2.0",
       "_model_name": "LayoutModel",
       "_view_count": null,
       "_view_module": "@jupyter-widgets/base",
       "_view_module_version": "1.2.0",
       "_view_name": "LayoutView",
       "align_content": null,
       "align_items": null,
       "align_self": null,
       "border": null,
       "bottom": null,
       "display": null,
       "flex": null,
       "flex_flow": null,
       "grid_area": null,
       "grid_auto_columns": null,
       "grid_auto_flow": null,
       "grid_auto_rows": null,
       "grid_column": null,
       "grid_gap": null,
       "grid_row": null,
       "grid_template_areas": null,
       "grid_template_columns": null,
       "grid_template_rows": null,
       "height": null,
       "justify_content": null,
       "justify_items": null,
       "left": null,
       "margin": null,
       "max_height": null,
       "max_width": null,
       "min_height": null,
       "min_width": null,
       "object_fit": null,
       "object_position": null,
       "order": null,
       "overflow": null,
       "overflow_x": null,
       "overflow_y": null,
       "padding": null,
       "right": null,
       "top": null,
       "visibility": null,
       "width": null
      }
     },
     "7c75730b7f594c60a40e0ec803fd8a85": {
      "model_module": "@jupyter-widgets/controls",
      "model_module_version": "1.5.0",
      "model_name": "DescriptionStyleModel",
      "state": {
       "_model_module": "@jupyter-widgets/controls",
       "_model_module_version": "1.5.0",
       "_model_name": "DescriptionStyleModel",
       "_view_count": null,
       "_view_module": "@jupyter-widgets/base",
       "_view_module_version": "1.2.0",
       "_view_name": "StyleView",
       "description_width": ""
      }
     },
     "7cc7d693ca2a4664baa54776a906ac4d": {
      "model_module": "@jupyter-widgets/controls",
      "model_module_version": "1.5.0",
      "model_name": "HBoxModel",
      "state": {
       "_dom_classes": [],
       "_model_module": "@jupyter-widgets/controls",
       "_model_module_version": "1.5.0",
       "_model_name": "HBoxModel",
       "_view_count": null,
       "_view_module": "@jupyter-widgets/controls",
       "_view_module_version": "1.5.0",
       "_view_name": "HBoxView",
       "box_style": "",
       "children": [
        "IPY_MODEL_369d348e9e034cc2ab94afa2161bf343",
        "IPY_MODEL_832b309808be41a1a064e99852988795",
        "IPY_MODEL_bd4072e6cf9f47ed8ae40b09b5fe94f1"
       ],
       "layout": "IPY_MODEL_a100be48aa6a45cab2312669fcd10fad"
      }
     },
     "832b309808be41a1a064e99852988795": {
      "model_module": "@jupyter-widgets/controls",
      "model_module_version": "1.5.0",
      "model_name": "FloatProgressModel",
      "state": {
       "_dom_classes": [],
       "_model_module": "@jupyter-widgets/controls",
       "_model_module_version": "1.5.0",
       "_model_name": "FloatProgressModel",
       "_view_count": null,
       "_view_module": "@jupyter-widgets/controls",
       "_view_module_version": "1.5.0",
       "_view_name": "ProgressView",
       "bar_style": "success",
       "description": "",
       "description_tooltip": null,
       "layout": "IPY_MODEL_380b6ab475514d8aaf43119c48443502",
       "max": 48,
       "min": 0,
       "orientation": "horizontal",
       "style": "IPY_MODEL_ab1405709d074ff7ad9004589152b04d",
       "value": 48
      }
     },
     "84da563154e646998021b45c6d14a2fd": {
      "model_module": "@jupyter-widgets/controls",
      "model_module_version": "1.5.0",
      "model_name": "ProgressStyleModel",
      "state": {
       "_model_module": "@jupyter-widgets/controls",
       "_model_module_version": "1.5.0",
       "_model_name": "ProgressStyleModel",
       "_view_count": null,
       "_view_module": "@jupyter-widgets/base",
       "_view_module_version": "1.2.0",
       "_view_name": "StyleView",
       "bar_color": null,
       "description_width": ""
      }
     },
     "85cd7f010567430fa5f02aaf649d8778": {
      "model_module": "@jupyter-widgets/controls",
      "model_module_version": "1.5.0",
      "model_name": "HTMLModel",
      "state": {
       "_dom_classes": [],
       "_model_module": "@jupyter-widgets/controls",
       "_model_module_version": "1.5.0",
       "_model_name": "HTMLModel",
       "_view_count": null,
       "_view_module": "@jupyter-widgets/controls",
       "_view_module_version": "1.5.0",
       "_view_name": "HTMLView",
       "description": "",
       "description_tooltip": null,
       "layout": "IPY_MODEL_cdc766a79b814002a38ce6ac982da9ae",
       "placeholder": "​",
       "style": "IPY_MODEL_ce54eaa734cb40a29fa7723ffb4aadf4",
       "value": ""
      }
     },
     "881723a001c04626ae62881694b1d027": {
      "model_module": "@jupyter-widgets/base",
      "model_module_version": "1.2.0",
      "model_name": "LayoutModel",
      "state": {
       "_model_module": "@jupyter-widgets/base",
       "_model_module_version": "1.2.0",
       "_model_name": "LayoutModel",
       "_view_count": null,
       "_view_module": "@jupyter-widgets/base",
       "_view_module_version": "1.2.0",
       "_view_name": "LayoutView",
       "align_content": null,
       "align_items": null,
       "align_self": null,
       "border": null,
       "bottom": null,
       "display": null,
       "flex": null,
       "flex_flow": null,
       "grid_area": null,
       "grid_auto_columns": null,
       "grid_auto_flow": null,
       "grid_auto_rows": null,
       "grid_column": null,
       "grid_gap": null,
       "grid_row": null,
       "grid_template_areas": null,
       "grid_template_columns": null,
       "grid_template_rows": null,
       "height": null,
       "justify_content": null,
       "justify_items": null,
       "left": null,
       "margin": null,
       "max_height": null,
       "max_width": null,
       "min_height": null,
       "min_width": null,
       "object_fit": null,
       "object_position": null,
       "order": null,
       "overflow": null,
       "overflow_x": null,
       "overflow_y": null,
       "padding": null,
       "right": null,
       "top": null,
       "visibility": null,
       "width": "20px"
      }
     },
     "8ac2e7e1a9084b4ebd37269d8d7fc075": {
      "model_module": "@jupyter-widgets/controls",
      "model_module_version": "1.5.0",
      "model_name": "FloatProgressModel",
      "state": {
       "_dom_classes": [],
       "_model_module": "@jupyter-widgets/controls",
       "_model_module_version": "1.5.0",
       "_model_name": "FloatProgressModel",
       "_view_count": null,
       "_view_module": "@jupyter-widgets/controls",
       "_view_module_version": "1.5.0",
       "_view_name": "ProgressView",
       "bar_style": "success",
       "description": "",
       "description_tooltip": null,
       "layout": "IPY_MODEL_e6e8733cf0394a7ebcf47085394a3ddc",
       "max": 1,
       "min": 0,
       "orientation": "horizontal",
       "style": "IPY_MODEL_84da563154e646998021b45c6d14a2fd",
       "value": 1
      }
     },
     "8f4e1bc21e964dd6a41cee4fa52111d2": {
      "model_module": "@jupyter-widgets/controls",
      "model_module_version": "1.5.0",
      "model_name": "DescriptionStyleModel",
      "state": {
       "_model_module": "@jupyter-widgets/controls",
       "_model_module_version": "1.5.0",
       "_model_name": "DescriptionStyleModel",
       "_view_count": null,
       "_view_module": "@jupyter-widgets/base",
       "_view_module_version": "1.2.0",
       "_view_name": "StyleView",
       "description_width": ""
      }
     },
     "9327a3c9f8024387974f7a1b590d2269": {
      "model_module": "@jupyter-widgets/base",
      "model_module_version": "1.2.0",
      "model_name": "LayoutModel",
      "state": {
       "_model_module": "@jupyter-widgets/base",
       "_model_module_version": "1.2.0",
       "_model_name": "LayoutModel",
       "_view_count": null,
       "_view_module": "@jupyter-widgets/base",
       "_view_module_version": "1.2.0",
       "_view_name": "LayoutView",
       "align_content": null,
       "align_items": null,
       "align_self": null,
       "border": null,
       "bottom": null,
       "display": null,
       "flex": null,
       "flex_flow": null,
       "grid_area": null,
       "grid_auto_columns": null,
       "grid_auto_flow": null,
       "grid_auto_rows": null,
       "grid_column": null,
       "grid_gap": null,
       "grid_row": null,
       "grid_template_areas": null,
       "grid_template_columns": null,
       "grid_template_rows": null,
       "height": null,
       "justify_content": null,
       "justify_items": null,
       "left": null,
       "margin": null,
       "max_height": null,
       "max_width": null,
       "min_height": null,
       "min_width": null,
       "object_fit": null,
       "object_position": null,
       "order": null,
       "overflow": null,
       "overflow_x": null,
       "overflow_y": null,
       "padding": null,
       "right": null,
       "top": null,
       "visibility": null,
       "width": null
      }
     },
     "948d4b8704c744b59f4bb1de7389cb5b": {
      "model_module": "@jupyter-widgets/controls",
      "model_module_version": "1.5.0",
      "model_name": "FloatProgressModel",
      "state": {
       "_dom_classes": [],
       "_model_module": "@jupyter-widgets/controls",
       "_model_module_version": "1.5.0",
       "_model_name": "FloatProgressModel",
       "_view_count": null,
       "_view_module": "@jupyter-widgets/controls",
       "_view_module_version": "1.5.0",
       "_view_name": "ProgressView",
       "bar_style": "success",
       "description": "",
       "description_tooltip": null,
       "layout": "IPY_MODEL_4478e6319e114557a6e38d6fabe20c85",
       "max": 105,
       "min": 0,
       "orientation": "horizontal",
       "style": "IPY_MODEL_628ac0757c494916820178e81cd182fc",
       "value": 105
      }
     },
     "97606d0d983347d299cfbf7b036a670c": {
      "model_module": "@jupyter-widgets/base",
      "model_module_version": "1.2.0",
      "model_name": "LayoutModel",
      "state": {
       "_model_module": "@jupyter-widgets/base",
       "_model_module_version": "1.2.0",
       "_model_name": "LayoutModel",
       "_view_count": null,
       "_view_module": "@jupyter-widgets/base",
       "_view_module_version": "1.2.0",
       "_view_name": "LayoutView",
       "align_content": null,
       "align_items": null,
       "align_self": null,
       "border": null,
       "bottom": null,
       "display": null,
       "flex": null,
       "flex_flow": null,
       "grid_area": null,
       "grid_auto_columns": null,
       "grid_auto_flow": null,
       "grid_auto_rows": null,
       "grid_column": null,
       "grid_gap": null,
       "grid_row": null,
       "grid_template_areas": null,
       "grid_template_columns": null,
       "grid_template_rows": null,
       "height": null,
       "justify_content": null,
       "justify_items": null,
       "left": null,
       "margin": null,
       "max_height": null,
       "max_width": null,
       "min_height": null,
       "min_width": null,
       "object_fit": null,
       "object_position": null,
       "order": null,
       "overflow": null,
       "overflow_x": null,
       "overflow_y": null,
       "padding": null,
       "right": null,
       "top": null,
       "visibility": null,
       "width": null
      }
     },
     "97a89c5b53064ba294f907a975930fae": {
      "model_module": "@jupyter-widgets/controls",
      "model_module_version": "1.5.0",
      "model_name": "ProgressStyleModel",
      "state": {
       "_model_module": "@jupyter-widgets/controls",
       "_model_module_version": "1.5.0",
       "_model_name": "ProgressStyleModel",
       "_view_count": null,
       "_view_module": "@jupyter-widgets/base",
       "_view_module_version": "1.2.0",
       "_view_name": "StyleView",
       "bar_color": null,
       "description_width": ""
      }
     },
     "99f43e20ac7f423c87b917be818482b9": {
      "model_module": "@jupyter-widgets/controls",
      "model_module_version": "1.5.0",
      "model_name": "HBoxModel",
      "state": {
       "_dom_classes": [],
       "_model_module": "@jupyter-widgets/controls",
       "_model_module_version": "1.5.0",
       "_model_name": "HBoxModel",
       "_view_count": null,
       "_view_module": "@jupyter-widgets/controls",
       "_view_module_version": "1.5.0",
       "_view_name": "HBoxView",
       "box_style": "",
       "children": [
        "IPY_MODEL_ea7fdf1d4358432fad26432d8c12b691",
        "IPY_MODEL_60cfaa95bb6340f0ada267bb8f792c6b",
        "IPY_MODEL_236a506613614f928c07fa71acc36f0f"
       ],
       "layout": "IPY_MODEL_e4c9b935024b4235aee19c0b6599b20c"
      }
     },
     "9d53ba1ed9c54d9c90dd89b8d8c355e7": {
      "model_module": "@jupyter-widgets/controls",
      "model_module_version": "1.5.0",
      "model_name": "HTMLModel",
      "state": {
       "_dom_classes": [],
       "_model_module": "@jupyter-widgets/controls",
       "_model_module_version": "1.5.0",
       "_model_name": "HTMLModel",
       "_view_count": null,
       "_view_module": "@jupyter-widgets/controls",
       "_view_module_version": "1.5.0",
       "_view_name": "HTMLView",
       "description": "",
       "description_tooltip": null,
       "layout": "IPY_MODEL_caf33d40e43e4c19a38a4524d20f34cb",
       "placeholder": "​",
       "style": "IPY_MODEL_cebc0b6628d04729bb6f34e278a17dca",
       "value": " 4312/? [00:00&lt;00:00, 5874.75it/s]"
      }
     },
     "9fde2ada29ad4421a0a512ffc8041334": {
      "model_module": "@jupyter-widgets/controls",
      "model_module_version": "1.5.0",
      "model_name": "DescriptionStyleModel",
      "state": {
       "_model_module": "@jupyter-widgets/controls",
       "_model_module_version": "1.5.0",
       "_model_name": "DescriptionStyleModel",
       "_view_count": null,
       "_view_module": "@jupyter-widgets/base",
       "_view_module_version": "1.2.0",
       "_view_name": "StyleView",
       "description_width": ""
      }
     },
     "a100be48aa6a45cab2312669fcd10fad": {
      "model_module": "@jupyter-widgets/base",
      "model_module_version": "1.2.0",
      "model_name": "LayoutModel",
      "state": {
       "_model_module": "@jupyter-widgets/base",
       "_model_module_version": "1.2.0",
       "_model_name": "LayoutModel",
       "_view_count": null,
       "_view_module": "@jupyter-widgets/base",
       "_view_module_version": "1.2.0",
       "_view_name": "LayoutView",
       "align_content": null,
       "align_items": null,
       "align_self": null,
       "border": null,
       "bottom": null,
       "display": null,
       "flex": null,
       "flex_flow": null,
       "grid_area": null,
       "grid_auto_columns": null,
       "grid_auto_flow": null,
       "grid_auto_rows": null,
       "grid_column": null,
       "grid_gap": null,
       "grid_row": null,
       "grid_template_areas": null,
       "grid_template_columns": null,
       "grid_template_rows": null,
       "height": null,
       "justify_content": null,
       "justify_items": null,
       "left": null,
       "margin": null,
       "max_height": null,
       "max_width": null,
       "min_height": null,
       "min_width": null,
       "object_fit": null,
       "object_position": null,
       "order": null,
       "overflow": null,
       "overflow_x": null,
       "overflow_y": null,
       "padding": null,
       "right": null,
       "top": null,
       "visibility": null,
       "width": null
      }
     },
     "a25afe9319b542e3b0480323a869f839": {
      "model_module": "@jupyter-widgets/controls",
      "model_module_version": "1.5.0",
      "model_name": "HBoxModel",
      "state": {
       "_dom_classes": [],
       "_model_module": "@jupyter-widgets/controls",
       "_model_module_version": "1.5.0",
       "_model_name": "HBoxModel",
       "_view_count": null,
       "_view_module": "@jupyter-widgets/controls",
       "_view_module_version": "1.5.0",
       "_view_name": "HBoxView",
       "box_style": "",
       "children": [
        "IPY_MODEL_a55b697034ef4b88a3b9afb37b03d9e4",
        "IPY_MODEL_14d02bdbe58544889a3dca5b12a20c3f",
        "IPY_MODEL_6b1d479e70434af488511a66dbcdecac"
       ],
       "layout": "IPY_MODEL_a565bffb5581463792337195c32ba00d"
      }
     },
     "a375202876b74c37a3fcd340f083ac2e": {
      "model_module": "@jupyter-widgets/controls",
      "model_module_version": "1.5.0",
      "model_name": "FloatProgressModel",
      "state": {
       "_dom_classes": [],
       "_model_module": "@jupyter-widgets/controls",
       "_model_module_version": "1.5.0",
       "_model_name": "FloatProgressModel",
       "_view_count": null,
       "_view_module": "@jupyter-widgets/controls",
       "_view_module_version": "1.5.0",
       "_view_name": "ProgressView",
       "bar_style": "success",
       "description": "",
       "description_tooltip": null,
       "layout": "IPY_MODEL_475dda0b21f94d2ea2ceed9ca7ce0269",
       "max": 111,
       "min": 0,
       "orientation": "horizontal",
       "style": "IPY_MODEL_0d6de84515594b079a3fd21cc60ccc2e",
       "value": 111
      }
     },
     "a4d34b94425e49ceaaa815d5e77ab22b": {
      "model_module": "@jupyter-widgets/base",
      "model_module_version": "1.2.0",
      "model_name": "LayoutModel",
      "state": {
       "_model_module": "@jupyter-widgets/base",
       "_model_module_version": "1.2.0",
       "_model_name": "LayoutModel",
       "_view_count": null,
       "_view_module": "@jupyter-widgets/base",
       "_view_module_version": "1.2.0",
       "_view_name": "LayoutView",
       "align_content": null,
       "align_items": null,
       "align_self": null,
       "border": null,
       "bottom": null,
       "display": null,
       "flex": null,
       "flex_flow": null,
       "grid_area": null,
       "grid_auto_columns": null,
       "grid_auto_flow": null,
       "grid_auto_rows": null,
       "grid_column": null,
       "grid_gap": null,
       "grid_row": null,
       "grid_template_areas": null,
       "grid_template_columns": null,
       "grid_template_rows": null,
       "height": null,
       "justify_content": null,
       "justify_items": null,
       "left": null,
       "margin": null,
       "max_height": null,
       "max_width": null,
       "min_height": null,
       "min_width": null,
       "object_fit": null,
       "object_position": null,
       "order": null,
       "overflow": null,
       "overflow_x": null,
       "overflow_y": null,
       "padding": null,
       "right": null,
       "top": null,
       "visibility": null,
       "width": null
      }
     },
     "a55b697034ef4b88a3b9afb37b03d9e4": {
      "model_module": "@jupyter-widgets/controls",
      "model_module_version": "1.5.0",
      "model_name": "HTMLModel",
      "state": {
       "_dom_classes": [],
       "_model_module": "@jupyter-widgets/controls",
       "_model_module_version": "1.5.0",
       "_model_name": "HTMLModel",
       "_view_count": null,
       "_view_module": "@jupyter-widgets/controls",
       "_view_module_version": "1.5.0",
       "_view_name": "HTMLView",
       "description": "",
       "description_tooltip": null,
       "layout": "IPY_MODEL_a4d34b94425e49ceaaa815d5e77ab22b",
       "placeholder": "​",
       "style": "IPY_MODEL_12f6be0368cd483b8d94d066fc0e5e00",
       "value": ""
      }
     },
     "a565bffb5581463792337195c32ba00d": {
      "model_module": "@jupyter-widgets/base",
      "model_module_version": "1.2.0",
      "model_name": "LayoutModel",
      "state": {
       "_model_module": "@jupyter-widgets/base",
       "_model_module_version": "1.2.0",
       "_model_name": "LayoutModel",
       "_view_count": null,
       "_view_module": "@jupyter-widgets/base",
       "_view_module_version": "1.2.0",
       "_view_name": "LayoutView",
       "align_content": null,
       "align_items": null,
       "align_self": null,
       "border": null,
       "bottom": null,
       "display": null,
       "flex": null,
       "flex_flow": null,
       "grid_area": null,
       "grid_auto_columns": null,
       "grid_auto_flow": null,
       "grid_auto_rows": null,
       "grid_column": null,
       "grid_gap": null,
       "grid_row": null,
       "grid_template_areas": null,
       "grid_template_columns": null,
       "grid_template_rows": null,
       "height": null,
       "justify_content": null,
       "justify_items": null,
       "left": null,
       "margin": null,
       "max_height": null,
       "max_width": null,
       "min_height": null,
       "min_width": null,
       "object_fit": null,
       "object_position": null,
       "order": null,
       "overflow": null,
       "overflow_x": null,
       "overflow_y": null,
       "padding": null,
       "right": null,
       "top": null,
       "visibility": null,
       "width": null
      }
     },
     "a7129b6fc78d4426abe6a89cff735346": {
      "model_module": "@jupyter-widgets/controls",
      "model_module_version": "1.5.0",
      "model_name": "HBoxModel",
      "state": {
       "_dom_classes": [],
       "_model_module": "@jupyter-widgets/controls",
       "_model_module_version": "1.5.0",
       "_model_name": "HBoxModel",
       "_view_count": null,
       "_view_module": "@jupyter-widgets/controls",
       "_view_module_version": "1.5.0",
       "_view_name": "HBoxView",
       "box_style": "",
       "children": [
        "IPY_MODEL_f70eb0a8f577449285443ef62d8df3a0",
        "IPY_MODEL_f34ee7f6d6924261882a825e2ffb8ed5",
        "IPY_MODEL_ebcad47010ed47e185d54fd174301adc"
       ],
       "layout": "IPY_MODEL_ce8525457209462ba49269a8dfb8f669"
      }
     },
     "aab94e1bbacf4ebe94e0ce6c4d9e1464": {
      "model_module": "@jupyter-widgets/controls",
      "model_module_version": "1.5.0",
      "model_name": "DescriptionStyleModel",
      "state": {
       "_model_module": "@jupyter-widgets/controls",
       "_model_module_version": "1.5.0",
       "_model_name": "DescriptionStyleModel",
       "_view_count": null,
       "_view_module": "@jupyter-widgets/base",
       "_view_module_version": "1.2.0",
       "_view_name": "StyleView",
       "description_width": ""
      }
     },
     "ab1405709d074ff7ad9004589152b04d": {
      "model_module": "@jupyter-widgets/controls",
      "model_module_version": "1.5.0",
      "model_name": "ProgressStyleModel",
      "state": {
       "_model_module": "@jupyter-widgets/controls",
       "_model_module_version": "1.5.0",
       "_model_name": "ProgressStyleModel",
       "_view_count": null,
       "_view_module": "@jupyter-widgets/base",
       "_view_module_version": "1.2.0",
       "_view_name": "StyleView",
       "bar_color": null,
       "description_width": ""
      }
     },
     "b0f46857444e47b6abe551b11882ddb9": {
      "model_module": "@jupyter-widgets/base",
      "model_module_version": "1.2.0",
      "model_name": "LayoutModel",
      "state": {
       "_model_module": "@jupyter-widgets/base",
       "_model_module_version": "1.2.0",
       "_model_name": "LayoutModel",
       "_view_count": null,
       "_view_module": "@jupyter-widgets/base",
       "_view_module_version": "1.2.0",
       "_view_name": "LayoutView",
       "align_content": null,
       "align_items": null,
       "align_self": null,
       "border": null,
       "bottom": null,
       "display": null,
       "flex": null,
       "flex_flow": null,
       "grid_area": null,
       "grid_auto_columns": null,
       "grid_auto_flow": null,
       "grid_auto_rows": null,
       "grid_column": null,
       "grid_gap": null,
       "grid_row": null,
       "grid_template_areas": null,
       "grid_template_columns": null,
       "grid_template_rows": null,
       "height": null,
       "justify_content": null,
       "justify_items": null,
       "left": null,
       "margin": null,
       "max_height": null,
       "max_width": null,
       "min_height": null,
       "min_width": null,
       "object_fit": null,
       "object_position": null,
       "order": null,
       "overflow": null,
       "overflow_x": null,
       "overflow_y": null,
       "padding": null,
       "right": null,
       "top": null,
       "visibility": null,
       "width": null
      }
     },
     "b1b4980e203a4c89a0458d5bd3f05e8e": {
      "model_module": "@jupyter-widgets/controls",
      "model_module_version": "1.5.0",
      "model_name": "DescriptionStyleModel",
      "state": {
       "_model_module": "@jupyter-widgets/controls",
       "_model_module_version": "1.5.0",
       "_model_name": "DescriptionStyleModel",
       "_view_count": null,
       "_view_module": "@jupyter-widgets/base",
       "_view_module_version": "1.2.0",
       "_view_name": "StyleView",
       "description_width": ""
      }
     },
     "b36af9d243fa43a8b382904fd802b3fd": {
      "model_module": "@jupyter-widgets/base",
      "model_module_version": "1.2.0",
      "model_name": "LayoutModel",
      "state": {
       "_model_module": "@jupyter-widgets/base",
       "_model_module_version": "1.2.0",
       "_model_name": "LayoutModel",
       "_view_count": null,
       "_view_module": "@jupyter-widgets/base",
       "_view_module_version": "1.2.0",
       "_view_name": "LayoutView",
       "align_content": null,
       "align_items": null,
       "align_self": null,
       "border": null,
       "bottom": null,
       "display": null,
       "flex": null,
       "flex_flow": null,
       "grid_area": null,
       "grid_auto_columns": null,
       "grid_auto_flow": null,
       "grid_auto_rows": null,
       "grid_column": null,
       "grid_gap": null,
       "grid_row": null,
       "grid_template_areas": null,
       "grid_template_columns": null,
       "grid_template_rows": null,
       "height": null,
       "justify_content": null,
       "justify_items": null,
       "left": null,
       "margin": null,
       "max_height": null,
       "max_width": null,
       "min_height": null,
       "min_width": null,
       "object_fit": null,
       "object_position": null,
       "order": null,
       "overflow": null,
       "overflow_x": null,
       "overflow_y": null,
       "padding": null,
       "right": null,
       "top": null,
       "visibility": null,
       "width": null
      }
     },
     "b8f04cfe8d76402d973732792a3453a2": {
      "model_module": "@jupyter-widgets/base",
      "model_module_version": "1.2.0",
      "model_name": "LayoutModel",
      "state": {
       "_model_module": "@jupyter-widgets/base",
       "_model_module_version": "1.2.0",
       "_model_name": "LayoutModel",
       "_view_count": null,
       "_view_module": "@jupyter-widgets/base",
       "_view_module_version": "1.2.0",
       "_view_name": "LayoutView",
       "align_content": null,
       "align_items": null,
       "align_self": null,
       "border": null,
       "bottom": null,
       "display": null,
       "flex": null,
       "flex_flow": null,
       "grid_area": null,
       "grid_auto_columns": null,
       "grid_auto_flow": null,
       "grid_auto_rows": null,
       "grid_column": null,
       "grid_gap": null,
       "grid_row": null,
       "grid_template_areas": null,
       "grid_template_columns": null,
       "grid_template_rows": null,
       "height": null,
       "justify_content": null,
       "justify_items": null,
       "left": null,
       "margin": null,
       "max_height": null,
       "max_width": null,
       "min_height": null,
       "min_width": null,
       "object_fit": null,
       "object_position": null,
       "order": null,
       "overflow": null,
       "overflow_x": null,
       "overflow_y": null,
       "padding": null,
       "right": null,
       "top": null,
       "visibility": null,
       "width": null
      }
     },
     "bd4072e6cf9f47ed8ae40b09b5fe94f1": {
      "model_module": "@jupyter-widgets/controls",
      "model_module_version": "1.5.0",
      "model_name": "HTMLModel",
      "state": {
       "_dom_classes": [],
       "_model_module": "@jupyter-widgets/controls",
       "_model_module_version": "1.5.0",
       "_model_name": "HTMLModel",
       "_view_count": null,
       "_view_module": "@jupyter-widgets/controls",
       "_view_module_version": "1.5.0",
       "_view_name": "HTMLView",
       "description": "",
       "description_tooltip": null,
       "layout": "IPY_MODEL_55ddd2533dc640b8a08dd72ddcd6a160",
       "placeholder": "​",
       "style": "IPY_MODEL_6bfd4b2bbc2f472faefee5e6d2f676f0",
       "value": " 48/48 [01:45&lt;00:00,  1.51s/it]"
      }
     },
     "c2b592ed6cba4ac79e063f788e43a3f1": {
      "model_module": "@jupyter-widgets/controls",
      "model_module_version": "1.5.0",
      "model_name": "HTMLModel",
      "state": {
       "_dom_classes": [],
       "_model_module": "@jupyter-widgets/controls",
       "_model_module_version": "1.5.0",
       "_model_name": "HTMLModel",
       "_view_count": null,
       "_view_module": "@jupyter-widgets/controls",
       "_view_module_version": "1.5.0",
       "_view_name": "HTMLView",
       "description": "",
       "description_tooltip": null,
       "layout": "IPY_MODEL_6f64272aab6c4ad29346667c888fae79",
       "placeholder": "​",
       "style": "IPY_MODEL_7c75730b7f594c60a40e0ec803fd8a85",
       "value": " 105/105 [02:55&lt;00:00,  1.19s/it]"
      }
     },
     "c2f59ef8bf344de5ac594b4fb417af9f": {
      "model_module": "@jupyter-widgets/controls",
      "model_module_version": "1.5.0",
      "model_name": "ProgressStyleModel",
      "state": {
       "_model_module": "@jupyter-widgets/controls",
       "_model_module_version": "1.5.0",
       "_model_name": "ProgressStyleModel",
       "_view_count": null,
       "_view_module": "@jupyter-widgets/base",
       "_view_module_version": "1.2.0",
       "_view_name": "StyleView",
       "bar_color": null,
       "description_width": ""
      }
     },
     "c433fc12c3de4f95ad8541ab128bcd25": {
      "model_module": "@jupyter-widgets/base",
      "model_module_version": "1.2.0",
      "model_name": "LayoutModel",
      "state": {
       "_model_module": "@jupyter-widgets/base",
       "_model_module_version": "1.2.0",
       "_model_name": "LayoutModel",
       "_view_count": null,
       "_view_module": "@jupyter-widgets/base",
       "_view_module_version": "1.2.0",
       "_view_name": "LayoutView",
       "align_content": null,
       "align_items": null,
       "align_self": null,
       "border": null,
       "bottom": null,
       "display": null,
       "flex": null,
       "flex_flow": null,
       "grid_area": null,
       "grid_auto_columns": null,
       "grid_auto_flow": null,
       "grid_auto_rows": null,
       "grid_column": null,
       "grid_gap": null,
       "grid_row": null,
       "grid_template_areas": null,
       "grid_template_columns": null,
       "grid_template_rows": null,
       "height": null,
       "justify_content": null,
       "justify_items": null,
       "left": null,
       "margin": null,
       "max_height": null,
       "max_width": null,
       "min_height": null,
       "min_width": null,
       "object_fit": null,
       "object_position": null,
       "order": null,
       "overflow": null,
       "overflow_x": null,
       "overflow_y": null,
       "padding": null,
       "right": null,
       "top": null,
       "visibility": null,
       "width": null
      }
     },
     "c6342b0edb5d4935afce4982a755d2b9": {
      "model_module": "@jupyter-widgets/controls",
      "model_module_version": "1.5.0",
      "model_name": "ProgressStyleModel",
      "state": {
       "_model_module": "@jupyter-widgets/controls",
       "_model_module_version": "1.5.0",
       "_model_name": "ProgressStyleModel",
       "_view_count": null,
       "_view_module": "@jupyter-widgets/base",
       "_view_module_version": "1.2.0",
       "_view_name": "StyleView",
       "bar_color": null,
       "description_width": ""
      }
     },
     "c73b455dbd6f4b12b812d35d9e180126": {
      "model_module": "@jupyter-widgets/base",
      "model_module_version": "1.2.0",
      "model_name": "LayoutModel",
      "state": {
       "_model_module": "@jupyter-widgets/base",
       "_model_module_version": "1.2.0",
       "_model_name": "LayoutModel",
       "_view_count": null,
       "_view_module": "@jupyter-widgets/base",
       "_view_module_version": "1.2.0",
       "_view_name": "LayoutView",
       "align_content": null,
       "align_items": null,
       "align_self": null,
       "border": null,
       "bottom": null,
       "display": null,
       "flex": null,
       "flex_flow": null,
       "grid_area": null,
       "grid_auto_columns": null,
       "grid_auto_flow": null,
       "grid_auto_rows": null,
       "grid_column": null,
       "grid_gap": null,
       "grid_row": null,
       "grid_template_areas": null,
       "grid_template_columns": null,
       "grid_template_rows": null,
       "height": null,
       "justify_content": null,
       "justify_items": null,
       "left": null,
       "margin": null,
       "max_height": null,
       "max_width": null,
       "min_height": null,
       "min_width": null,
       "object_fit": null,
       "object_position": null,
       "order": null,
       "overflow": null,
       "overflow_x": null,
       "overflow_y": null,
       "padding": null,
       "right": null,
       "top": null,
       "visibility": null,
       "width": null
      }
     },
     "c7e5926d526444158488b1081a2abf77": {
      "model_module": "@jupyter-widgets/controls",
      "model_module_version": "1.5.0",
      "model_name": "HTMLModel",
      "state": {
       "_dom_classes": [],
       "_model_module": "@jupyter-widgets/controls",
       "_model_module_version": "1.5.0",
       "_model_name": "HTMLModel",
       "_view_count": null,
       "_view_module": "@jupyter-widgets/controls",
       "_view_module_version": "1.5.0",
       "_view_name": "HTMLView",
       "description": "",
       "description_tooltip": null,
       "layout": "IPY_MODEL_d2828cc5f74044848d5b55e6afd63bfe",
       "placeholder": "​",
       "style": "IPY_MODEL_73425b8e53a24d7ea452e636768f7076",
       "value": "100%"
      }
     },
     "ca99433258fe442c82e06deccf1f883f": {
      "model_module": "@jupyter-widgets/controls",
      "model_module_version": "1.5.0",
      "model_name": "FloatProgressModel",
      "state": {
       "_dom_classes": [],
       "_model_module": "@jupyter-widgets/controls",
       "_model_module_version": "1.5.0",
       "_model_name": "FloatProgressModel",
       "_view_count": null,
       "_view_module": "@jupyter-widgets/controls",
       "_view_module_version": "1.5.0",
       "_view_name": "ProgressView",
       "bar_style": "success",
       "description": "",
       "description_tooltip": null,
       "layout": "IPY_MODEL_d41238ab3d78431391586d9bc4856f20",
       "max": 148,
       "min": 0,
       "orientation": "horizontal",
       "style": "IPY_MODEL_4995f7c1387c4ea99d31c718877274c3",
       "value": 148
      }
     },
     "caf33d40e43e4c19a38a4524d20f34cb": {
      "model_module": "@jupyter-widgets/base",
      "model_module_version": "1.2.0",
      "model_name": "LayoutModel",
      "state": {
       "_model_module": "@jupyter-widgets/base",
       "_model_module_version": "1.2.0",
       "_model_name": "LayoutModel",
       "_view_count": null,
       "_view_module": "@jupyter-widgets/base",
       "_view_module_version": "1.2.0",
       "_view_name": "LayoutView",
       "align_content": null,
       "align_items": null,
       "align_self": null,
       "border": null,
       "bottom": null,
       "display": null,
       "flex": null,
       "flex_flow": null,
       "grid_area": null,
       "grid_auto_columns": null,
       "grid_auto_flow": null,
       "grid_auto_rows": null,
       "grid_column": null,
       "grid_gap": null,
       "grid_row": null,
       "grid_template_areas": null,
       "grid_template_columns": null,
       "grid_template_rows": null,
       "height": null,
       "justify_content": null,
       "justify_items": null,
       "left": null,
       "margin": null,
       "max_height": null,
       "max_width": null,
       "min_height": null,
       "min_width": null,
       "object_fit": null,
       "object_position": null,
       "order": null,
       "overflow": null,
       "overflow_x": null,
       "overflow_y": null,
       "padding": null,
       "right": null,
       "top": null,
       "visibility": null,
       "width": null
      }
     },
     "cb89312d9aaa4a12b903e4ea2df1f2d7": {
      "model_module": "@jupyter-widgets/controls",
      "model_module_version": "1.5.0",
      "model_name": "ProgressStyleModel",
      "state": {
       "_model_module": "@jupyter-widgets/controls",
       "_model_module_version": "1.5.0",
       "_model_name": "ProgressStyleModel",
       "_view_count": null,
       "_view_module": "@jupyter-widgets/base",
       "_view_module_version": "1.2.0",
       "_view_name": "StyleView",
       "bar_color": null,
       "description_width": ""
      }
     },
     "cd00fb7548f343d99b1c6ce24b459bc7": {
      "model_module": "@jupyter-widgets/controls",
      "model_module_version": "1.5.0",
      "model_name": "DescriptionStyleModel",
      "state": {
       "_model_module": "@jupyter-widgets/controls",
       "_model_module_version": "1.5.0",
       "_model_name": "DescriptionStyleModel",
       "_view_count": null,
       "_view_module": "@jupyter-widgets/base",
       "_view_module_version": "1.2.0",
       "_view_name": "StyleView",
       "description_width": ""
      }
     },
     "cdc766a79b814002a38ce6ac982da9ae": {
      "model_module": "@jupyter-widgets/base",
      "model_module_version": "1.2.0",
      "model_name": "LayoutModel",
      "state": {
       "_model_module": "@jupyter-widgets/base",
       "_model_module_version": "1.2.0",
       "_model_name": "LayoutModel",
       "_view_count": null,
       "_view_module": "@jupyter-widgets/base",
       "_view_module_version": "1.2.0",
       "_view_name": "LayoutView",
       "align_content": null,
       "align_items": null,
       "align_self": null,
       "border": null,
       "bottom": null,
       "display": null,
       "flex": null,
       "flex_flow": null,
       "grid_area": null,
       "grid_auto_columns": null,
       "grid_auto_flow": null,
       "grid_auto_rows": null,
       "grid_column": null,
       "grid_gap": null,
       "grid_row": null,
       "grid_template_areas": null,
       "grid_template_columns": null,
       "grid_template_rows": null,
       "height": null,
       "justify_content": null,
       "justify_items": null,
       "left": null,
       "margin": null,
       "max_height": null,
       "max_width": null,
       "min_height": null,
       "min_width": null,
       "object_fit": null,
       "object_position": null,
       "order": null,
       "overflow": null,
       "overflow_x": null,
       "overflow_y": null,
       "padding": null,
       "right": null,
       "top": null,
       "visibility": null,
       "width": null
      }
     },
     "ce54eaa734cb40a29fa7723ffb4aadf4": {
      "model_module": "@jupyter-widgets/controls",
      "model_module_version": "1.5.0",
      "model_name": "DescriptionStyleModel",
      "state": {
       "_model_module": "@jupyter-widgets/controls",
       "_model_module_version": "1.5.0",
       "_model_name": "DescriptionStyleModel",
       "_view_count": null,
       "_view_module": "@jupyter-widgets/base",
       "_view_module_version": "1.2.0",
       "_view_name": "StyleView",
       "description_width": ""
      }
     },
     "ce8525457209462ba49269a8dfb8f669": {
      "model_module": "@jupyter-widgets/base",
      "model_module_version": "1.2.0",
      "model_name": "LayoutModel",
      "state": {
       "_model_module": "@jupyter-widgets/base",
       "_model_module_version": "1.2.0",
       "_model_name": "LayoutModel",
       "_view_count": null,
       "_view_module": "@jupyter-widgets/base",
       "_view_module_version": "1.2.0",
       "_view_name": "LayoutView",
       "align_content": null,
       "align_items": null,
       "align_self": null,
       "border": null,
       "bottom": null,
       "display": null,
       "flex": null,
       "flex_flow": null,
       "grid_area": null,
       "grid_auto_columns": null,
       "grid_auto_flow": null,
       "grid_auto_rows": null,
       "grid_column": null,
       "grid_gap": null,
       "grid_row": null,
       "grid_template_areas": null,
       "grid_template_columns": null,
       "grid_template_rows": null,
       "height": null,
       "justify_content": null,
       "justify_items": null,
       "left": null,
       "margin": null,
       "max_height": null,
       "max_width": null,
       "min_height": null,
       "min_width": null,
       "object_fit": null,
       "object_position": null,
       "order": null,
       "overflow": null,
       "overflow_x": null,
       "overflow_y": null,
       "padding": null,
       "right": null,
       "top": null,
       "visibility": null,
       "width": null
      }
     },
     "cebc0b6628d04729bb6f34e278a17dca": {
      "model_module": "@jupyter-widgets/controls",
      "model_module_version": "1.5.0",
      "model_name": "DescriptionStyleModel",
      "state": {
       "_model_module": "@jupyter-widgets/controls",
       "_model_module_version": "1.5.0",
       "_model_name": "DescriptionStyleModel",
       "_view_count": null,
       "_view_module": "@jupyter-widgets/base",
       "_view_module_version": "1.2.0",
       "_view_name": "StyleView",
       "description_width": ""
      }
     },
     "d0c0bea80f614b9e926fb6aef7b15b7f": {
      "model_module": "@jupyter-widgets/base",
      "model_module_version": "1.2.0",
      "model_name": "LayoutModel",
      "state": {
       "_model_module": "@jupyter-widgets/base",
       "_model_module_version": "1.2.0",
       "_model_name": "LayoutModel",
       "_view_count": null,
       "_view_module": "@jupyter-widgets/base",
       "_view_module_version": "1.2.0",
       "_view_name": "LayoutView",
       "align_content": null,
       "align_items": null,
       "align_self": null,
       "border": null,
       "bottom": null,
       "display": null,
       "flex": null,
       "flex_flow": null,
       "grid_area": null,
       "grid_auto_columns": null,
       "grid_auto_flow": null,
       "grid_auto_rows": null,
       "grid_column": null,
       "grid_gap": null,
       "grid_row": null,
       "grid_template_areas": null,
       "grid_template_columns": null,
       "grid_template_rows": null,
       "height": null,
       "justify_content": null,
       "justify_items": null,
       "left": null,
       "margin": null,
       "max_height": null,
       "max_width": null,
       "min_height": null,
       "min_width": null,
       "object_fit": null,
       "object_position": null,
       "order": null,
       "overflow": null,
       "overflow_x": null,
       "overflow_y": null,
       "padding": null,
       "right": null,
       "top": null,
       "visibility": null,
       "width": null
      }
     },
     "d0c5b06f003148d58177ff8ff02498be": {
      "model_module": "@jupyter-widgets/base",
      "model_module_version": "1.2.0",
      "model_name": "LayoutModel",
      "state": {
       "_model_module": "@jupyter-widgets/base",
       "_model_module_version": "1.2.0",
       "_model_name": "LayoutModel",
       "_view_count": null,
       "_view_module": "@jupyter-widgets/base",
       "_view_module_version": "1.2.0",
       "_view_name": "LayoutView",
       "align_content": null,
       "align_items": null,
       "align_self": null,
       "border": null,
       "bottom": null,
       "display": null,
       "flex": null,
       "flex_flow": null,
       "grid_area": null,
       "grid_auto_columns": null,
       "grid_auto_flow": null,
       "grid_auto_rows": null,
       "grid_column": null,
       "grid_gap": null,
       "grid_row": null,
       "grid_template_areas": null,
       "grid_template_columns": null,
       "grid_template_rows": null,
       "height": null,
       "justify_content": null,
       "justify_items": null,
       "left": null,
       "margin": null,
       "max_height": null,
       "max_width": null,
       "min_height": null,
       "min_width": null,
       "object_fit": null,
       "object_position": null,
       "order": null,
       "overflow": null,
       "overflow_x": null,
       "overflow_y": null,
       "padding": null,
       "right": null,
       "top": null,
       "visibility": null,
       "width": null
      }
     },
     "d0d45ab2407e4eb68a8cafda256485c5": {
      "model_module": "@jupyter-widgets/base",
      "model_module_version": "1.2.0",
      "model_name": "LayoutModel",
      "state": {
       "_model_module": "@jupyter-widgets/base",
       "_model_module_version": "1.2.0",
       "_model_name": "LayoutModel",
       "_view_count": null,
       "_view_module": "@jupyter-widgets/base",
       "_view_module_version": "1.2.0",
       "_view_name": "LayoutView",
       "align_content": null,
       "align_items": null,
       "align_self": null,
       "border": null,
       "bottom": null,
       "display": null,
       "flex": null,
       "flex_flow": null,
       "grid_area": null,
       "grid_auto_columns": null,
       "grid_auto_flow": null,
       "grid_auto_rows": null,
       "grid_column": null,
       "grid_gap": null,
       "grid_row": null,
       "grid_template_areas": null,
       "grid_template_columns": null,
       "grid_template_rows": null,
       "height": null,
       "justify_content": null,
       "justify_items": null,
       "left": null,
       "margin": null,
       "max_height": null,
       "max_width": null,
       "min_height": null,
       "min_width": null,
       "object_fit": null,
       "object_position": null,
       "order": null,
       "overflow": null,
       "overflow_x": null,
       "overflow_y": null,
       "padding": null,
       "right": null,
       "top": null,
       "visibility": null,
       "width": null
      }
     },
     "d2828cc5f74044848d5b55e6afd63bfe": {
      "model_module": "@jupyter-widgets/base",
      "model_module_version": "1.2.0",
      "model_name": "LayoutModel",
      "state": {
       "_model_module": "@jupyter-widgets/base",
       "_model_module_version": "1.2.0",
       "_model_name": "LayoutModel",
       "_view_count": null,
       "_view_module": "@jupyter-widgets/base",
       "_view_module_version": "1.2.0",
       "_view_name": "LayoutView",
       "align_content": null,
       "align_items": null,
       "align_self": null,
       "border": null,
       "bottom": null,
       "display": null,
       "flex": null,
       "flex_flow": null,
       "grid_area": null,
       "grid_auto_columns": null,
       "grid_auto_flow": null,
       "grid_auto_rows": null,
       "grid_column": null,
       "grid_gap": null,
       "grid_row": null,
       "grid_template_areas": null,
       "grid_template_columns": null,
       "grid_template_rows": null,
       "height": null,
       "justify_content": null,
       "justify_items": null,
       "left": null,
       "margin": null,
       "max_height": null,
       "max_width": null,
       "min_height": null,
       "min_width": null,
       "object_fit": null,
       "object_position": null,
       "order": null,
       "overflow": null,
       "overflow_x": null,
       "overflow_y": null,
       "padding": null,
       "right": null,
       "top": null,
       "visibility": null,
       "width": null
      }
     },
     "d2f713741fc34a218d5cb9781a802362": {
      "model_module": "@jupyter-widgets/controls",
      "model_module_version": "1.5.0",
      "model_name": "DescriptionStyleModel",
      "state": {
       "_model_module": "@jupyter-widgets/controls",
       "_model_module_version": "1.5.0",
       "_model_name": "DescriptionStyleModel",
       "_view_count": null,
       "_view_module": "@jupyter-widgets/base",
       "_view_module_version": "1.2.0",
       "_view_name": "StyleView",
       "description_width": ""
      }
     },
     "d38c9156ad584600bb89a707e1c19b7c": {
      "model_module": "@jupyter-widgets/controls",
      "model_module_version": "1.5.0",
      "model_name": "DescriptionStyleModel",
      "state": {
       "_model_module": "@jupyter-widgets/controls",
       "_model_module_version": "1.5.0",
       "_model_name": "DescriptionStyleModel",
       "_view_count": null,
       "_view_module": "@jupyter-widgets/base",
       "_view_module_version": "1.2.0",
       "_view_name": "StyleView",
       "description_width": ""
      }
     },
     "d41238ab3d78431391586d9bc4856f20": {
      "model_module": "@jupyter-widgets/base",
      "model_module_version": "1.2.0",
      "model_name": "LayoutModel",
      "state": {
       "_model_module": "@jupyter-widgets/base",
       "_model_module_version": "1.2.0",
       "_model_name": "LayoutModel",
       "_view_count": null,
       "_view_module": "@jupyter-widgets/base",
       "_view_module_version": "1.2.0",
       "_view_name": "LayoutView",
       "align_content": null,
       "align_items": null,
       "align_self": null,
       "border": null,
       "bottom": null,
       "display": null,
       "flex": null,
       "flex_flow": null,
       "grid_area": null,
       "grid_auto_columns": null,
       "grid_auto_flow": null,
       "grid_auto_rows": null,
       "grid_column": null,
       "grid_gap": null,
       "grid_row": null,
       "grid_template_areas": null,
       "grid_template_columns": null,
       "grid_template_rows": null,
       "height": null,
       "justify_content": null,
       "justify_items": null,
       "left": null,
       "margin": null,
       "max_height": null,
       "max_width": null,
       "min_height": null,
       "min_width": null,
       "object_fit": null,
       "object_position": null,
       "order": null,
       "overflow": null,
       "overflow_x": null,
       "overflow_y": null,
       "padding": null,
       "right": null,
       "top": null,
       "visibility": null,
       "width": null
      }
     },
     "d4ae02905fed4eea83487188aa96011a": {
      "model_module": "@jupyter-widgets/controls",
      "model_module_version": "1.5.0",
      "model_name": "DescriptionStyleModel",
      "state": {
       "_model_module": "@jupyter-widgets/controls",
       "_model_module_version": "1.5.0",
       "_model_name": "DescriptionStyleModel",
       "_view_count": null,
       "_view_module": "@jupyter-widgets/base",
       "_view_module_version": "1.2.0",
       "_view_name": "StyleView",
       "description_width": ""
      }
     },
     "d4d4be808837466bae2a7adfaf4196fc": {
      "model_module": "@jupyter-widgets/controls",
      "model_module_version": "1.5.0",
      "model_name": "DescriptionStyleModel",
      "state": {
       "_model_module": "@jupyter-widgets/controls",
       "_model_module_version": "1.5.0",
       "_model_name": "DescriptionStyleModel",
       "_view_count": null,
       "_view_module": "@jupyter-widgets/base",
       "_view_module_version": "1.2.0",
       "_view_name": "StyleView",
       "description_width": ""
      }
     },
     "e4c9b935024b4235aee19c0b6599b20c": {
      "model_module": "@jupyter-widgets/base",
      "model_module_version": "1.2.0",
      "model_name": "LayoutModel",
      "state": {
       "_model_module": "@jupyter-widgets/base",
       "_model_module_version": "1.2.0",
       "_model_name": "LayoutModel",
       "_view_count": null,
       "_view_module": "@jupyter-widgets/base",
       "_view_module_version": "1.2.0",
       "_view_name": "LayoutView",
       "align_content": null,
       "align_items": null,
       "align_self": null,
       "border": null,
       "bottom": null,
       "display": null,
       "flex": null,
       "flex_flow": null,
       "grid_area": null,
       "grid_auto_columns": null,
       "grid_auto_flow": null,
       "grid_auto_rows": null,
       "grid_column": null,
       "grid_gap": null,
       "grid_row": null,
       "grid_template_areas": null,
       "grid_template_columns": null,
       "grid_template_rows": null,
       "height": null,
       "justify_content": null,
       "justify_items": null,
       "left": null,
       "margin": null,
       "max_height": null,
       "max_width": null,
       "min_height": null,
       "min_width": null,
       "object_fit": null,
       "object_position": null,
       "order": null,
       "overflow": null,
       "overflow_x": null,
       "overflow_y": null,
       "padding": null,
       "right": null,
       "top": null,
       "visibility": null,
       "width": null
      }
     },
     "e6e8733cf0394a7ebcf47085394a3ddc": {
      "model_module": "@jupyter-widgets/base",
      "model_module_version": "1.2.0",
      "model_name": "LayoutModel",
      "state": {
       "_model_module": "@jupyter-widgets/base",
       "_model_module_version": "1.2.0",
       "_model_name": "LayoutModel",
       "_view_count": null,
       "_view_module": "@jupyter-widgets/base",
       "_view_module_version": "1.2.0",
       "_view_name": "LayoutView",
       "align_content": null,
       "align_items": null,
       "align_self": null,
       "border": null,
       "bottom": null,
       "display": null,
       "flex": null,
       "flex_flow": null,
       "grid_area": null,
       "grid_auto_columns": null,
       "grid_auto_flow": null,
       "grid_auto_rows": null,
       "grid_column": null,
       "grid_gap": null,
       "grid_row": null,
       "grid_template_areas": null,
       "grid_template_columns": null,
       "grid_template_rows": null,
       "height": null,
       "justify_content": null,
       "justify_items": null,
       "left": null,
       "margin": null,
       "max_height": null,
       "max_width": null,
       "min_height": null,
       "min_width": null,
       "object_fit": null,
       "object_position": null,
       "order": null,
       "overflow": null,
       "overflow_x": null,
       "overflow_y": null,
       "padding": null,
       "right": null,
       "top": null,
       "visibility": null,
       "width": "20px"
      }
     },
     "ea68bf732ebc47bdac70741d6621baba": {
      "model_module": "@jupyter-widgets/base",
      "model_module_version": "1.2.0",
      "model_name": "LayoutModel",
      "state": {
       "_model_module": "@jupyter-widgets/base",
       "_model_module_version": "1.2.0",
       "_model_name": "LayoutModel",
       "_view_count": null,
       "_view_module": "@jupyter-widgets/base",
       "_view_module_version": "1.2.0",
       "_view_name": "LayoutView",
       "align_content": null,
       "align_items": null,
       "align_self": null,
       "border": null,
       "bottom": null,
       "display": null,
       "flex": null,
       "flex_flow": null,
       "grid_area": null,
       "grid_auto_columns": null,
       "grid_auto_flow": null,
       "grid_auto_rows": null,
       "grid_column": null,
       "grid_gap": null,
       "grid_row": null,
       "grid_template_areas": null,
       "grid_template_columns": null,
       "grid_template_rows": null,
       "height": null,
       "justify_content": null,
       "justify_items": null,
       "left": null,
       "margin": null,
       "max_height": null,
       "max_width": null,
       "min_height": null,
       "min_width": null,
       "object_fit": null,
       "object_position": null,
       "order": null,
       "overflow": null,
       "overflow_x": null,
       "overflow_y": null,
       "padding": null,
       "right": null,
       "top": null,
       "visibility": null,
       "width": "20px"
      }
     },
     "ea7fdf1d4358432fad26432d8c12b691": {
      "model_module": "@jupyter-widgets/controls",
      "model_module_version": "1.5.0",
      "model_name": "HTMLModel",
      "state": {
       "_dom_classes": [],
       "_model_module": "@jupyter-widgets/controls",
       "_model_module_version": "1.5.0",
       "_model_name": "HTMLModel",
       "_view_count": null,
       "_view_module": "@jupyter-widgets/controls",
       "_view_module_version": "1.5.0",
       "_view_name": "HTMLView",
       "description": "",
       "description_tooltip": null,
       "layout": "IPY_MODEL_ec8afd4b59c843f9a0733ab53fc9b267",
       "placeholder": "​",
       "style": "IPY_MODEL_68ce4aa00b9f4a7bb9a78729c1500180",
       "value": "100%"
      }
     },
     "ebb6d740247949708f9247b9895c332d": {
      "model_module": "@jupyter-widgets/controls",
      "model_module_version": "1.5.0",
      "model_name": "DescriptionStyleModel",
      "state": {
       "_model_module": "@jupyter-widgets/controls",
       "_model_module_version": "1.5.0",
       "_model_name": "DescriptionStyleModel",
       "_view_count": null,
       "_view_module": "@jupyter-widgets/base",
       "_view_module_version": "1.2.0",
       "_view_name": "StyleView",
       "description_width": ""
      }
     },
     "ebcad47010ed47e185d54fd174301adc": {
      "model_module": "@jupyter-widgets/controls",
      "model_module_version": "1.5.0",
      "model_name": "HTMLModel",
      "state": {
       "_dom_classes": [],
       "_model_module": "@jupyter-widgets/controls",
       "_model_module_version": "1.5.0",
       "_model_name": "HTMLModel",
       "_view_count": null,
       "_view_module": "@jupyter-widgets/controls",
       "_view_module_version": "1.5.0",
       "_view_name": "HTMLView",
       "description": "",
       "description_tooltip": null,
       "layout": "IPY_MODEL_12376021dcea402eb03c26ab9afff6ea",
       "placeholder": "​",
       "style": "IPY_MODEL_aab94e1bbacf4ebe94e0ce6c4d9e1464",
       "value": " 96/96 [03:13&lt;00:00,  1.65s/it]"
      }
     },
     "ec8afd4b59c843f9a0733ab53fc9b267": {
      "model_module": "@jupyter-widgets/base",
      "model_module_version": "1.2.0",
      "model_name": "LayoutModel",
      "state": {
       "_model_module": "@jupyter-widgets/base",
       "_model_module_version": "1.2.0",
       "_model_name": "LayoutModel",
       "_view_count": null,
       "_view_module": "@jupyter-widgets/base",
       "_view_module_version": "1.2.0",
       "_view_name": "LayoutView",
       "align_content": null,
       "align_items": null,
       "align_self": null,
       "border": null,
       "bottom": null,
       "display": null,
       "flex": null,
       "flex_flow": null,
       "grid_area": null,
       "grid_auto_columns": null,
       "grid_auto_flow": null,
       "grid_auto_rows": null,
       "grid_column": null,
       "grid_gap": null,
       "grid_row": null,
       "grid_template_areas": null,
       "grid_template_columns": null,
       "grid_template_rows": null,
       "height": null,
       "justify_content": null,
       "justify_items": null,
       "left": null,
       "margin": null,
       "max_height": null,
       "max_width": null,
       "min_height": null,
       "min_width": null,
       "object_fit": null,
       "object_position": null,
       "order": null,
       "overflow": null,
       "overflow_x": null,
       "overflow_y": null,
       "padding": null,
       "right": null,
       "top": null,
       "visibility": null,
       "width": null
      }
     },
     "f34ee7f6d6924261882a825e2ffb8ed5": {
      "model_module": "@jupyter-widgets/controls",
      "model_module_version": "1.5.0",
      "model_name": "FloatProgressModel",
      "state": {
       "_dom_classes": [],
       "_model_module": "@jupyter-widgets/controls",
       "_model_module_version": "1.5.0",
       "_model_name": "FloatProgressModel",
       "_view_count": null,
       "_view_module": "@jupyter-widgets/controls",
       "_view_module_version": "1.5.0",
       "_view_name": "ProgressView",
       "bar_style": "success",
       "description": "",
       "description_tooltip": null,
       "layout": "IPY_MODEL_f9796e7b453a400fb52143ee2f8e6bbb",
       "max": 96,
       "min": 0,
       "orientation": "horizontal",
       "style": "IPY_MODEL_cb89312d9aaa4a12b903e4ea2df1f2d7",
       "value": 96
      }
     },
     "f64a72fbb22d434f95c3e72f4d506aa2": {
      "model_module": "@jupyter-widgets/controls",
      "model_module_version": "1.5.0",
      "model_name": "ProgressStyleModel",
      "state": {
       "_model_module": "@jupyter-widgets/controls",
       "_model_module_version": "1.5.0",
       "_model_name": "ProgressStyleModel",
       "_view_count": null,
       "_view_module": "@jupyter-widgets/base",
       "_view_module_version": "1.2.0",
       "_view_name": "StyleView",
       "bar_color": null,
       "description_width": ""
      }
     },
     "f70eb0a8f577449285443ef62d8df3a0": {
      "model_module": "@jupyter-widgets/controls",
      "model_module_version": "1.5.0",
      "model_name": "HTMLModel",
      "state": {
       "_dom_classes": [],
       "_model_module": "@jupyter-widgets/controls",
       "_model_module_version": "1.5.0",
       "_model_name": "HTMLModel",
       "_view_count": null,
       "_view_module": "@jupyter-widgets/controls",
       "_view_module_version": "1.5.0",
       "_view_name": "HTMLView",
       "description": "",
       "description_tooltip": null,
       "layout": "IPY_MODEL_70ef504bd8d247c7845c8d89a5b66aa7",
       "placeholder": "​",
       "style": "IPY_MODEL_d38c9156ad584600bb89a707e1c19b7c",
       "value": "100%"
      }
     },
     "f9796e7b453a400fb52143ee2f8e6bbb": {
      "model_module": "@jupyter-widgets/base",
      "model_module_version": "1.2.0",
      "model_name": "LayoutModel",
      "state": {
       "_model_module": "@jupyter-widgets/base",
       "_model_module_version": "1.2.0",
       "_model_name": "LayoutModel",
       "_view_count": null,
       "_view_module": "@jupyter-widgets/base",
       "_view_module_version": "1.2.0",
       "_view_name": "LayoutView",
       "align_content": null,
       "align_items": null,
       "align_self": null,
       "border": null,
       "bottom": null,
       "display": null,
       "flex": null,
       "flex_flow": null,
       "grid_area": null,
       "grid_auto_columns": null,
       "grid_auto_flow": null,
       "grid_auto_rows": null,
       "grid_column": null,
       "grid_gap": null,
       "grid_row": null,
       "grid_template_areas": null,
       "grid_template_columns": null,
       "grid_template_rows": null,
       "height": null,
       "justify_content": null,
       "justify_items": null,
       "left": null,
       "margin": null,
       "max_height": null,
       "max_width": null,
       "min_height": null,
       "min_width": null,
       "object_fit": null,
       "object_position": null,
       "order": null,
       "overflow": null,
       "overflow_x": null,
       "overflow_y": null,
       "padding": null,
       "right": null,
       "top": null,
       "visibility": null,
       "width": null
      }
     }
    },
    "version_major": 2,
    "version_minor": 0
   }
  }
 },
 "nbformat": 4,
 "nbformat_minor": 5
}
